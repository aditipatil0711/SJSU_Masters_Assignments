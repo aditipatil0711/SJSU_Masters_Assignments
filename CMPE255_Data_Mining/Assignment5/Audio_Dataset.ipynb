{
  "nbformat": 4,
  "nbformat_minor": 0,
  "metadata": {
    "colab": {
      "provenance": [],
      "authorship_tag": "ABX9TyPmAo6a0RsrTY0tCjVBtaYS",
      "include_colab_link": true
    },
    "kernelspec": {
      "name": "python3",
      "display_name": "Python 3"
    },
    "language_info": {
      "name": "python"
    },
    "widgets": {
      "application/vnd.jupyter.widget-state+json": {
        "1ab650e28f184dffa2f52fe3daba01dc": {
          "model_module": "@jupyter-widgets/controls",
          "model_name": "HBoxModel",
          "model_module_version": "1.5.0",
          "state": {
            "_dom_classes": [],
            "_model_module": "@jupyter-widgets/controls",
            "_model_module_version": "1.5.0",
            "_model_name": "HBoxModel",
            "_view_count": null,
            "_view_module": "@jupyter-widgets/controls",
            "_view_module_version": "1.5.0",
            "_view_name": "HBoxView",
            "box_style": "",
            "children": [
              "IPY_MODEL_0013c05137ce43178cc6129e81956234",
              "IPY_MODEL_49374cb44a2c404c9b6151d648dfbce3",
              "IPY_MODEL_8d8c9a112af444c6b14be81429782865"
            ],
            "layout": "IPY_MODEL_32ee5a08b7f24daa834b7e3c72abe462"
          }
        },
        "0013c05137ce43178cc6129e81956234": {
          "model_module": "@jupyter-widgets/controls",
          "model_name": "HTMLModel",
          "model_module_version": "1.5.0",
          "state": {
            "_dom_classes": [],
            "_model_module": "@jupyter-widgets/controls",
            "_model_module_version": "1.5.0",
            "_model_name": "HTMLModel",
            "_view_count": null,
            "_view_module": "@jupyter-widgets/controls",
            "_view_module_version": "1.5.0",
            "_view_name": "HTMLView",
            "description": "",
            "description_tooltip": null,
            "layout": "IPY_MODEL_6bda8d9e88cf433683d1e7d3a1099a83",
            "placeholder": "​",
            "style": "IPY_MODEL_3b597f51c9d24988b2b5f6b945b11ae9",
            "value": "Done! Use &#x27;show&#x27; commands to display/save.   "
          }
        },
        "49374cb44a2c404c9b6151d648dfbce3": {
          "model_module": "@jupyter-widgets/controls",
          "model_name": "FloatProgressModel",
          "model_module_version": "1.5.0",
          "state": {
            "_dom_classes": [],
            "_model_module": "@jupyter-widgets/controls",
            "_model_module_version": "1.5.0",
            "_model_name": "FloatProgressModel",
            "_view_count": null,
            "_view_module": "@jupyter-widgets/controls",
            "_view_module_version": "1.5.0",
            "_view_name": "ProgressView",
            "bar_style": "success",
            "description": "",
            "description_tooltip": null,
            "layout": "IPY_MODEL_ba191e0c74ce4f488c6b25cda2662f79",
            "max": 1,
            "min": 0,
            "orientation": "horizontal",
            "style": "IPY_MODEL_c955bbde59754dc28e50bfff3ede1354",
            "value": 1
          }
        },
        "8d8c9a112af444c6b14be81429782865": {
          "model_module": "@jupyter-widgets/controls",
          "model_name": "HTMLModel",
          "model_module_version": "1.5.0",
          "state": {
            "_dom_classes": [],
            "_model_module": "@jupyter-widgets/controls",
            "_model_module_version": "1.5.0",
            "_model_name": "HTMLModel",
            "_view_count": null,
            "_view_module": "@jupyter-widgets/controls",
            "_view_module_version": "1.5.0",
            "_view_name": "HTMLView",
            "description": "",
            "description_tooltip": null,
            "layout": "IPY_MODEL_1ba3a0b9b7f943a297929066c3092cf3",
            "placeholder": "​",
            "style": "IPY_MODEL_d3be082f2d2b4dc8a5249d3fd3f431b6",
            "value": " [100%]   00:01 -&gt; (00:00 left)"
          }
        },
        "32ee5a08b7f24daa834b7e3c72abe462": {
          "model_module": "@jupyter-widgets/base",
          "model_name": "LayoutModel",
          "model_module_version": "1.2.0",
          "state": {
            "_model_module": "@jupyter-widgets/base",
            "_model_module_version": "1.2.0",
            "_model_name": "LayoutModel",
            "_view_count": null,
            "_view_module": "@jupyter-widgets/base",
            "_view_module_version": "1.2.0",
            "_view_name": "LayoutView",
            "align_content": null,
            "align_items": null,
            "align_self": null,
            "border": null,
            "bottom": null,
            "display": "inline-flex",
            "flex": null,
            "flex_flow": "row wrap",
            "grid_area": null,
            "grid_auto_columns": null,
            "grid_auto_flow": null,
            "grid_auto_rows": null,
            "grid_column": null,
            "grid_gap": null,
            "grid_row": null,
            "grid_template_areas": null,
            "grid_template_columns": null,
            "grid_template_rows": null,
            "height": null,
            "justify_content": null,
            "justify_items": null,
            "left": null,
            "margin": null,
            "max_height": null,
            "max_width": null,
            "min_height": null,
            "min_width": null,
            "object_fit": null,
            "object_position": null,
            "order": null,
            "overflow": null,
            "overflow_x": null,
            "overflow_y": null,
            "padding": null,
            "right": null,
            "top": null,
            "visibility": null,
            "width": "100%"
          }
        },
        "6bda8d9e88cf433683d1e7d3a1099a83": {
          "model_module": "@jupyter-widgets/base",
          "model_name": "LayoutModel",
          "model_module_version": "1.2.0",
          "state": {
            "_model_module": "@jupyter-widgets/base",
            "_model_module_version": "1.2.0",
            "_model_name": "LayoutModel",
            "_view_count": null,
            "_view_module": "@jupyter-widgets/base",
            "_view_module_version": "1.2.0",
            "_view_name": "LayoutView",
            "align_content": null,
            "align_items": null,
            "align_self": null,
            "border": null,
            "bottom": null,
            "display": null,
            "flex": null,
            "flex_flow": null,
            "grid_area": null,
            "grid_auto_columns": null,
            "grid_auto_flow": null,
            "grid_auto_rows": null,
            "grid_column": null,
            "grid_gap": null,
            "grid_row": null,
            "grid_template_areas": null,
            "grid_template_columns": null,
            "grid_template_rows": null,
            "height": null,
            "justify_content": null,
            "justify_items": null,
            "left": null,
            "margin": null,
            "max_height": null,
            "max_width": null,
            "min_height": null,
            "min_width": null,
            "object_fit": null,
            "object_position": null,
            "order": null,
            "overflow": null,
            "overflow_x": null,
            "overflow_y": null,
            "padding": null,
            "right": null,
            "top": null,
            "visibility": null,
            "width": null
          }
        },
        "3b597f51c9d24988b2b5f6b945b11ae9": {
          "model_module": "@jupyter-widgets/controls",
          "model_name": "DescriptionStyleModel",
          "model_module_version": "1.5.0",
          "state": {
            "_model_module": "@jupyter-widgets/controls",
            "_model_module_version": "1.5.0",
            "_model_name": "DescriptionStyleModel",
            "_view_count": null,
            "_view_module": "@jupyter-widgets/base",
            "_view_module_version": "1.2.0",
            "_view_name": "StyleView",
            "description_width": ""
          }
        },
        "ba191e0c74ce4f488c6b25cda2662f79": {
          "model_module": "@jupyter-widgets/base",
          "model_name": "LayoutModel",
          "model_module_version": "1.2.0",
          "state": {
            "_model_module": "@jupyter-widgets/base",
            "_model_module_version": "1.2.0",
            "_model_name": "LayoutModel",
            "_view_count": null,
            "_view_module": "@jupyter-widgets/base",
            "_view_module_version": "1.2.0",
            "_view_name": "LayoutView",
            "align_content": null,
            "align_items": null,
            "align_self": null,
            "border": null,
            "bottom": null,
            "display": null,
            "flex": "2",
            "flex_flow": null,
            "grid_area": null,
            "grid_auto_columns": null,
            "grid_auto_flow": null,
            "grid_auto_rows": null,
            "grid_column": null,
            "grid_gap": null,
            "grid_row": null,
            "grid_template_areas": null,
            "grid_template_columns": null,
            "grid_template_rows": null,
            "height": null,
            "justify_content": null,
            "justify_items": null,
            "left": null,
            "margin": null,
            "max_height": null,
            "max_width": null,
            "min_height": null,
            "min_width": null,
            "object_fit": null,
            "object_position": null,
            "order": null,
            "overflow": null,
            "overflow_x": null,
            "overflow_y": null,
            "padding": null,
            "right": null,
            "top": null,
            "visibility": null,
            "width": null
          }
        },
        "c955bbde59754dc28e50bfff3ede1354": {
          "model_module": "@jupyter-widgets/controls",
          "model_name": "ProgressStyleModel",
          "model_module_version": "1.5.0",
          "state": {
            "_model_module": "@jupyter-widgets/controls",
            "_model_module_version": "1.5.0",
            "_model_name": "ProgressStyleModel",
            "_view_count": null,
            "_view_module": "@jupyter-widgets/base",
            "_view_module_version": "1.2.0",
            "_view_name": "StyleView",
            "bar_color": null,
            "description_width": ""
          }
        },
        "1ba3a0b9b7f943a297929066c3092cf3": {
          "model_module": "@jupyter-widgets/base",
          "model_name": "LayoutModel",
          "model_module_version": "1.2.0",
          "state": {
            "_model_module": "@jupyter-widgets/base",
            "_model_module_version": "1.2.0",
            "_model_name": "LayoutModel",
            "_view_count": null,
            "_view_module": "@jupyter-widgets/base",
            "_view_module_version": "1.2.0",
            "_view_name": "LayoutView",
            "align_content": null,
            "align_items": null,
            "align_self": null,
            "border": null,
            "bottom": null,
            "display": null,
            "flex": null,
            "flex_flow": null,
            "grid_area": null,
            "grid_auto_columns": null,
            "grid_auto_flow": null,
            "grid_auto_rows": null,
            "grid_column": null,
            "grid_gap": null,
            "grid_row": null,
            "grid_template_areas": null,
            "grid_template_columns": null,
            "grid_template_rows": null,
            "height": null,
            "justify_content": null,
            "justify_items": null,
            "left": null,
            "margin": null,
            "max_height": null,
            "max_width": null,
            "min_height": null,
            "min_width": null,
            "object_fit": null,
            "object_position": null,
            "order": null,
            "overflow": null,
            "overflow_x": null,
            "overflow_y": null,
            "padding": null,
            "right": null,
            "top": null,
            "visibility": null,
            "width": null
          }
        },
        "d3be082f2d2b4dc8a5249d3fd3f431b6": {
          "model_module": "@jupyter-widgets/controls",
          "model_name": "DescriptionStyleModel",
          "model_module_version": "1.5.0",
          "state": {
            "_model_module": "@jupyter-widgets/controls",
            "_model_module_version": "1.5.0",
            "_model_name": "DescriptionStyleModel",
            "_view_count": null,
            "_view_module": "@jupyter-widgets/base",
            "_view_module_version": "1.2.0",
            "_view_name": "StyleView",
            "description_width": ""
          }
        }
      }
    }
  },
  "cells": [
    {
      "cell_type": "markdown",
      "metadata": {
        "id": "view-in-github",
        "colab_type": "text"
      },
      "source": [
        "<a href=\"https://colab.research.google.com/github/aditipatil0711/SJSU_Masters_Assignments/blob/main/CMPE255_Data_Mining/Assignment5/Audio_Dataset.ipynb\" target=\"_parent\"><img src=\"https://colab.research.google.com/assets/colab-badge.svg\" alt=\"Open In Colab\"/></a>"
      ]
    },
    {
      "cell_type": "markdown",
      "source": [
        "# EDA on Audio  Dataset\n",
        "\n",
        "In this execution, we will do EDA Analysis on Audio Dataset:\n",
        "\n",
        "The dataset we have used is : Chord Classification Dataset\n",
        "\n",
        "### Runtime Setup: Installing Auto-sklearn (For AutoML: Last step)\n"
      ],
      "metadata": {
        "id": "He2yQGL91-lV"
      }
    },
    {
      "cell_type": "code",
      "execution_count": null,
      "metadata": {
        "colab": {
          "base_uri": "https://localhost:8080/",
          "height": 739
        },
        "id": "5Wr87H3sVsN3",
        "outputId": "e596e836-ca58-4c94-b536-d0de1b3277c0"
      },
      "outputs": [
        {
          "output_type": "stream",
          "name": "stdout",
          "text": [
            "Collecting Cython==0.29.36\n",
            "  Downloading Cython-0.29.36-cp310-cp310-manylinux_2_17_x86_64.manylinux2014_x86_64.manylinux_2_24_x86_64.whl (1.9 MB)\n",
            "\u001b[?25l     \u001b[90m━━━━━━━━━━━━━━━━━━━━━━━━━━━━━━━━━━━━━━━━\u001b[0m \u001b[32m0.0/1.9 MB\u001b[0m \u001b[31m?\u001b[0m eta \u001b[36m-:--:--\u001b[0m\r\u001b[2K     \u001b[91m━━\u001b[0m\u001b[91m╸\u001b[0m\u001b[90m━━━━━━━━━━━━━━━━━━━━━━━━━━━━━━━━━━━━━\u001b[0m \u001b[32m0.1/1.9 MB\u001b[0m \u001b[31m4.1 MB/s\u001b[0m eta \u001b[36m0:00:01\u001b[0m\r\u001b[2K     \u001b[91m━━━━━━━━━━━━━━━━━━━━━━━━━━━\u001b[0m\u001b[90m╺\u001b[0m\u001b[90m━━━━━━━━━━━━\u001b[0m \u001b[32m1.3/1.9 MB\u001b[0m \u001b[31m19.6 MB/s\u001b[0m eta \u001b[36m0:00:01\u001b[0m\r\u001b[2K     \u001b[90m━━━━━━━━━━━━━━━━━━━━━━━━━━━━━━━━━━━━━━━━\u001b[0m \u001b[32m1.9/1.9 MB\u001b[0m \u001b[31m20.9 MB/s\u001b[0m eta \u001b[36m0:00:00\u001b[0m\n",
            "\u001b[?25hInstalling collected packages: Cython\n",
            "  Attempting uninstall: Cython\n",
            "    Found existing installation: Cython 3.0.4\n",
            "    Uninstalling Cython-3.0.4:\n",
            "      Successfully uninstalled Cython-3.0.4\n",
            "Successfully installed Cython-0.29.36\n",
            "Found existing installation: scipy 1.11.3\n",
            "Uninstalling scipy-1.11.3:\n",
            "  Successfully uninstalled scipy-1.11.3\n",
            "Collecting scipy==1.9\n",
            "  Downloading scipy-1.9.0-cp310-cp310-manylinux_2_17_x86_64.manylinux2014_x86_64.whl (43.9 MB)\n",
            "\u001b[2K     \u001b[90m━━━━━━━━━━━━━━━━━━━━━━━━━━━━━━━━━━━━━━━━\u001b[0m \u001b[32m43.9/43.9 MB\u001b[0m \u001b[31m13.9 MB/s\u001b[0m eta \u001b[36m0:00:00\u001b[0m\n",
            "\u001b[?25hRequirement already satisfied: numpy<1.25.0,>=1.18.5 in /usr/local/lib/python3.10/dist-packages (from scipy==1.9) (1.23.5)\n",
            "Installing collected packages: scipy\n",
            "\u001b[31mERROR: pip's dependency resolver does not currently take into account all the packages that are installed. This behaviour is the source of the following dependency conflicts.\n",
            "lida 0.0.10 requires fastapi, which is not installed.\n",
            "lida 0.0.10 requires kaleido, which is not installed.\n",
            "lida 0.0.10 requires python-multipart, which is not installed.\n",
            "lida 0.0.10 requires uvicorn, which is not installed.\u001b[0m\u001b[31m\n",
            "\u001b[0mSuccessfully installed scipy-1.9.0\n",
            "Found existing installation: pyparsing 3.1.1\n",
            "Uninstalling pyparsing-3.1.1:\n",
            "  Successfully uninstalled pyparsing-3.1.1\n",
            "Collecting pyparsing==2.4\n",
            "  Downloading pyparsing-2.4.0-py2.py3-none-any.whl (62 kB)\n",
            "\u001b[2K     \u001b[90m━━━━━━━━━━━━━━━━━━━━━━━━━━━━━━━━━━━━━━━━\u001b[0m \u001b[32m62.3/62.3 kB\u001b[0m \u001b[31m1.5 MB/s\u001b[0m eta \u001b[36m0:00:00\u001b[0m\n",
            "\u001b[?25hInstalling collected packages: pyparsing\n",
            "\u001b[31mERROR: pip's dependency resolver does not currently take into account all the packages that are installed. This behaviour is the source of the following dependency conflicts.\n",
            "httplib2 0.22.0 requires pyparsing!=3.0.0,!=3.0.1,!=3.0.2,!=3.0.3,<4,>=2.4.2; python_version > \"3.0\", but you have pyparsing 2.4.0 which is incompatible.\u001b[0m\u001b[31m\n",
            "\u001b[0mSuccessfully installed pyparsing-2.4.0\n"
          ]
        },
        {
          "output_type": "display_data",
          "data": {
            "application/vnd.colab-display-data+json": {
              "pip_warning": {
                "packages": [
                  "pyparsing"
                ]
              }
            }
          },
          "metadata": {}
        },
        {
          "output_type": "stream",
          "name": "stdout",
          "text": [
            "Found existing installation: scikit-learn 1.2.2\n",
            "Uninstalling scikit-learn-1.2.2:\n",
            "  Successfully uninstalled scikit-learn-1.2.2\n"
          ]
        }
      ],
      "source": [
        "!pip install Cython==0.29.36\n",
        "!pip uninstall scipy -y\n",
        "!pip install scipy==1.9\n",
        "!pip uninstall pyparsing -y\n",
        "!pip install pyparsing==2.4\n",
        "!pip uninstall scikit_learn -y"
      ]
    },
    {
      "cell_type": "code",
      "source": [
        "!pip uninstall imbalanced-learn -y\n",
        "!pip uninstall mlxtend -y\n",
        "!pip uninstall yellowbrick -y"
      ],
      "metadata": {
        "colab": {
          "base_uri": "https://localhost:8080/"
        },
        "id": "_jykLaZfVw1h",
        "outputId": "96e18c3e-d1dc-43ce-f9da-79f9fef4e4a2"
      },
      "execution_count": null,
      "outputs": [
        {
          "output_type": "stream",
          "name": "stdout",
          "text": [
            "Found existing installation: imbalanced-learn 0.10.1\n",
            "Uninstalling imbalanced-learn-0.10.1:\n",
            "  Successfully uninstalled imbalanced-learn-0.10.1\n",
            "Found existing installation: mlxtend 0.22.0\n",
            "Uninstalling mlxtend-0.22.0:\n",
            "  Successfully uninstalled mlxtend-0.22.0\n",
            "Found existing installation: yellowbrick 1.5\n",
            "Uninstalling yellowbrick-1.5:\n",
            "  Successfully uninstalled yellowbrick-1.5\n"
          ]
        }
      ]
    },
    {
      "cell_type": "code",
      "source": [
        "!pip install scikit-learn==0.24.2 --no-build-isolation"
      ],
      "metadata": {
        "colab": {
          "base_uri": "https://localhost:8080/"
        },
        "id": "KFwiNkbXVzLX",
        "outputId": "cb64dd26-bd0e-42ec-8d7c-1dd1aaf4551a"
      },
      "execution_count": null,
      "outputs": [
        {
          "output_type": "stream",
          "name": "stdout",
          "text": [
            "Collecting scikit-learn==0.24.2\n",
            "  Downloading scikit-learn-0.24.2.tar.gz (7.5 MB)\n",
            "\u001b[2K     \u001b[90m━━━━━━━━━━━━━━━━━━━━━━━━━━━━━━━━━━━━━━━━\u001b[0m \u001b[32m7.5/7.5 MB\u001b[0m \u001b[31m42.7 MB/s\u001b[0m eta \u001b[36m0:00:00\u001b[0m\n",
            "\u001b[?25h  Preparing metadata (pyproject.toml) ... \u001b[?25l\u001b[?25hdone\n",
            "Requirement already satisfied: numpy>=1.13.3 in /usr/local/lib/python3.10/dist-packages (from scikit-learn==0.24.2) (1.23.5)\n",
            "Requirement already satisfied: scipy>=0.19.1 in /usr/local/lib/python3.10/dist-packages (from scikit-learn==0.24.2) (1.9.0)\n",
            "Requirement already satisfied: joblib>=0.11 in /usr/local/lib/python3.10/dist-packages (from scikit-learn==0.24.2) (1.3.2)\n",
            "Requirement already satisfied: threadpoolctl>=2.0.0 in /usr/local/lib/python3.10/dist-packages (from scikit-learn==0.24.2) (3.2.0)\n",
            "Building wheels for collected packages: scikit-learn\n",
            "  Building wheel for scikit-learn (pyproject.toml) ... \u001b[?25l\u001b[?25hdone\n",
            "  Created wheel for scikit-learn: filename=scikit_learn-0.24.2-cp310-cp310-linux_x86_64.whl size=22231913 sha256=b99e04b37e2e9ca8cdc62c95f68cc65167817e5f3a3949a669c2aa0e3e6919a0\n",
            "  Stored in directory: /root/.cache/pip/wheels/13/a4/68/4e78865652fa14db4a162b491e5138565f97646f9e1f2ab8cc\n",
            "Successfully built scikit-learn\n",
            "Installing collected packages: scikit-learn\n",
            "\u001b[31mERROR: pip's dependency resolver does not currently take into account all the packages that are installed. This behaviour is the source of the following dependency conflicts.\n",
            "bigframes 0.10.0 requires scikit-learn>=1.2.2, but you have scikit-learn 0.24.2 which is incompatible.\u001b[0m\u001b[31m\n",
            "\u001b[0mSuccessfully installed scikit-learn-0.24.2\n"
          ]
        }
      ]
    },
    {
      "cell_type": "code",
      "source": [
        "!pip install auto-sklearn"
      ],
      "metadata": {
        "colab": {
          "base_uri": "https://localhost:8080/"
        },
        "id": "NzYTp9AuV1wr",
        "outputId": "2d35349b-7e92-4161-f4d5-f35ba531fc71"
      },
      "execution_count": null,
      "outputs": [
        {
          "output_type": "stream",
          "name": "stdout",
          "text": [
            "Collecting auto-sklearn\n",
            "  Downloading auto-sklearn-0.15.0.tar.gz (6.5 MB)\n",
            "\u001b[2K     \u001b[90m━━━━━━━━━━━━━━━━━━━━━━━━━━━━━━━━━━━━━━━━\u001b[0m \u001b[32m6.5/6.5 MB\u001b[0m \u001b[31m10.1 MB/s\u001b[0m eta \u001b[36m0:00:00\u001b[0m\n",
            "\u001b[?25h  Installing build dependencies ... \u001b[?25l\u001b[?25hdone\n",
            "  Getting requirements to build wheel ... \u001b[?25l\u001b[?25hdone\n",
            "  Preparing metadata (pyproject.toml) ... \u001b[?25l\u001b[?25hdone\n",
            "Requirement already satisfied: setuptools in /usr/local/lib/python3.10/dist-packages (from auto-sklearn) (67.7.2)\n",
            "Requirement already satisfied: typing-extensions in /usr/local/lib/python3.10/dist-packages (from auto-sklearn) (4.5.0)\n",
            "Requirement already satisfied: distro in /usr/lib/python3/dist-packages (from auto-sklearn) (1.7.0)\n",
            "Requirement already satisfied: numpy>=1.9.0 in /usr/local/lib/python3.10/dist-packages (from auto-sklearn) (1.23.5)\n",
            "Requirement already satisfied: scipy>=1.7.0 in /usr/local/lib/python3.10/dist-packages (from auto-sklearn) (1.9.0)\n",
            "Requirement already satisfied: joblib in /usr/local/lib/python3.10/dist-packages (from auto-sklearn) (1.3.2)\n",
            "Requirement already satisfied: scikit-learn<0.25.0,>=0.24.0 in /usr/local/lib/python3.10/dist-packages (from auto-sklearn) (0.24.2)\n",
            "Requirement already satisfied: dask>=2021.12 in /usr/local/lib/python3.10/dist-packages (from auto-sklearn) (2023.8.1)\n",
            "Requirement already satisfied: distributed>=2012.12 in /usr/local/lib/python3.10/dist-packages (from auto-sklearn) (2023.8.1)\n",
            "Requirement already satisfied: pyyaml in /usr/local/lib/python3.10/dist-packages (from auto-sklearn) (6.0.1)\n",
            "Requirement already satisfied: pandas>=1.0 in /usr/local/lib/python3.10/dist-packages (from auto-sklearn) (1.5.3)\n",
            "Collecting liac-arff (from auto-sklearn)\n",
            "  Downloading liac-arff-2.5.0.tar.gz (13 kB)\n",
            "  Preparing metadata (setup.py) ... \u001b[?25l\u001b[?25hdone\n",
            "Requirement already satisfied: threadpoolctl in /usr/local/lib/python3.10/dist-packages (from auto-sklearn) (3.2.0)\n",
            "Collecting ConfigSpace<0.5,>=0.4.21 (from auto-sklearn)\n",
            "  Downloading ConfigSpace-0.4.21-cp310-cp310-manylinux_2_17_x86_64.manylinux2014_x86_64.whl (4.8 MB)\n",
            "\u001b[2K     \u001b[90m━━━━━━━━━━━━━━━━━━━━━━━━━━━━━━━━━━━━━━━━\u001b[0m \u001b[32m4.8/4.8 MB\u001b[0m \u001b[31m36.8 MB/s\u001b[0m eta \u001b[36m0:00:00\u001b[0m\n",
            "\u001b[?25hCollecting pynisher<0.7,>=0.6.3 (from auto-sklearn)\n",
            "  Downloading pynisher-0.6.4.tar.gz (11 kB)\n",
            "  Preparing metadata (setup.py) ... \u001b[?25l\u001b[?25hdone\n",
            "Collecting pyrfr<0.9,>=0.8.1 (from auto-sklearn)\n",
            "  Downloading pyrfr-0.8.3-cp310-cp310-manylinux_2_17_x86_64.manylinux2014_x86_64.whl (4.5 MB)\n",
            "\u001b[2K     \u001b[90m━━━━━━━━━━━━━━━━━━━━━━━━━━━━━━━━━━━━━━━━\u001b[0m \u001b[32m4.5/4.5 MB\u001b[0m \u001b[31m51.7 MB/s\u001b[0m eta \u001b[36m0:00:00\u001b[0m\n",
            "\u001b[?25hCollecting smac<1.3,>=1.2 (from auto-sklearn)\n",
            "  Downloading smac-1.2.tar.gz (260 kB)\n",
            "\u001b[2K     \u001b[90m━━━━━━━━━━━━━━━━━━━━━━━━━━━━━━━━━━━━━━━━\u001b[0m \u001b[32m260.9/260.9 kB\u001b[0m \u001b[31m31.2 MB/s\u001b[0m eta \u001b[36m0:00:00\u001b[0m\n",
            "\u001b[?25h  Preparing metadata (setup.py) ... \u001b[?25l\u001b[?25hdone\n",
            "Requirement already satisfied: cython in /usr/local/lib/python3.10/dist-packages (from ConfigSpace<0.5,>=0.4.21->auto-sklearn) (0.29.36)\n",
            "Requirement already satisfied: pyparsing in /usr/local/lib/python3.10/dist-packages (from ConfigSpace<0.5,>=0.4.21->auto-sklearn) (2.4.0)\n",
            "Requirement already satisfied: click>=8.0 in /usr/local/lib/python3.10/dist-packages (from dask>=2021.12->auto-sklearn) (8.1.7)\n",
            "Requirement already satisfied: cloudpickle>=1.5.0 in /usr/local/lib/python3.10/dist-packages (from dask>=2021.12->auto-sklearn) (2.2.1)\n",
            "Requirement already satisfied: fsspec>=2021.09.0 in /usr/local/lib/python3.10/dist-packages (from dask>=2021.12->auto-sklearn) (2023.6.0)\n",
            "Requirement already satisfied: packaging>=20.0 in /usr/local/lib/python3.10/dist-packages (from dask>=2021.12->auto-sklearn) (23.2)\n",
            "Requirement already satisfied: partd>=1.2.0 in /usr/local/lib/python3.10/dist-packages (from dask>=2021.12->auto-sklearn) (1.4.1)\n",
            "Requirement already satisfied: toolz>=0.10.0 in /usr/local/lib/python3.10/dist-packages (from dask>=2021.12->auto-sklearn) (0.12.0)\n",
            "Requirement already satisfied: importlib-metadata>=4.13.0 in /usr/local/lib/python3.10/dist-packages (from dask>=2021.12->auto-sklearn) (6.8.0)\n",
            "Requirement already satisfied: jinja2>=2.10.3 in /usr/local/lib/python3.10/dist-packages (from distributed>=2012.12->auto-sklearn) (3.1.2)\n",
            "Requirement already satisfied: locket>=1.0.0 in /usr/local/lib/python3.10/dist-packages (from distributed>=2012.12->auto-sklearn) (1.0.0)\n",
            "Requirement already satisfied: msgpack>=1.0.0 in /usr/local/lib/python3.10/dist-packages (from distributed>=2012.12->auto-sklearn) (1.0.7)\n",
            "Requirement already satisfied: psutil>=5.7.2 in /usr/local/lib/python3.10/dist-packages (from distributed>=2012.12->auto-sklearn) (5.9.5)\n",
            "Requirement already satisfied: sortedcontainers>=2.0.5 in /usr/local/lib/python3.10/dist-packages (from distributed>=2012.12->auto-sklearn) (2.4.0)\n",
            "Requirement already satisfied: tblib>=1.6.0 in /usr/local/lib/python3.10/dist-packages (from distributed>=2012.12->auto-sklearn) (3.0.0)\n",
            "Requirement already satisfied: tornado>=6.0.4 in /usr/local/lib/python3.10/dist-packages (from distributed>=2012.12->auto-sklearn) (6.3.2)\n",
            "Requirement already satisfied: urllib3>=1.24.3 in /usr/local/lib/python3.10/dist-packages (from distributed>=2012.12->auto-sklearn) (2.0.7)\n",
            "Requirement already satisfied: zict>=2.2.0 in /usr/local/lib/python3.10/dist-packages (from distributed>=2012.12->auto-sklearn) (3.0.0)\n",
            "Requirement already satisfied: python-dateutil>=2.8.1 in /usr/local/lib/python3.10/dist-packages (from pandas>=1.0->auto-sklearn) (2.8.2)\n",
            "Requirement already satisfied: pytz>=2020.1 in /usr/local/lib/python3.10/dist-packages (from pandas>=1.0->auto-sklearn) (2023.3.post1)\n",
            "Collecting emcee>=3.0.0 (from smac<1.3,>=1.2->auto-sklearn)\n",
            "  Downloading emcee-3.1.4-py2.py3-none-any.whl (46 kB)\n",
            "\u001b[2K     \u001b[90m━━━━━━━━━━━━━━━━━━━━━━━━━━━━━━━━━━━━━━━━\u001b[0m \u001b[32m46.2/46.2 kB\u001b[0m \u001b[31m5.8 MB/s\u001b[0m eta \u001b[36m0:00:00\u001b[0m\n",
            "\u001b[?25hRequirement already satisfied: zipp>=0.5 in /usr/local/lib/python3.10/dist-packages (from importlib-metadata>=4.13.0->dask>=2021.12->auto-sklearn) (3.17.0)\n",
            "Requirement already satisfied: MarkupSafe>=2.0 in /usr/local/lib/python3.10/dist-packages (from jinja2>=2.10.3->distributed>=2012.12->auto-sklearn) (2.1.3)\n",
            "Requirement already satisfied: six>=1.5 in /usr/local/lib/python3.10/dist-packages (from python-dateutil>=2.8.1->pandas>=1.0->auto-sklearn) (1.16.0)\n",
            "Building wheels for collected packages: auto-sklearn, pynisher, smac, liac-arff\n",
            "  Building wheel for auto-sklearn (pyproject.toml) ... \u001b[?25l\u001b[?25hdone\n",
            "  Created wheel for auto-sklearn: filename=auto_sklearn-0.15.0-py3-none-any.whl size=6641936 sha256=4936f6753e1162a69cea1343dcba6e6df92d6abc3084790f5773b41d816dacb0\n",
            "  Stored in directory: /root/.cache/pip/wheels/4d/0a/f9/8c1a06bcc36bc16b467b044b5bb03a90f92a5c5e6cd443414b\n",
            "  Building wheel for pynisher (setup.py) ... \u001b[?25l\u001b[?25hdone\n",
            "  Created wheel for pynisher: filename=pynisher-0.6.4-py3-none-any.whl size=7027 sha256=83ef5f2257bfe61fbb0014942b868d784a2b92460276f278b8f7d2f5bfc9757b\n",
            "  Stored in directory: /root/.cache/pip/wheels/90/7b/53/b21d6b41910f43c7f1557262e579598f83e75e44c659c1bcce\n",
            "  Building wheel for smac (setup.py) ... \u001b[?25l\u001b[?25hdone\n",
            "  Created wheel for smac: filename=smac-1.2-py3-none-any.whl size=215905 sha256=4cec7cd6e077af6e0ec56107d24210a3be0bb4523a54a9a2302aa49f4eb98773\n",
            "  Stored in directory: /root/.cache/pip/wheels/66/2e/d9/2db14bdfcdc36bf12e202b44201df03f194367fcfd85ce2778\n",
            "  Building wheel for liac-arff (setup.py) ... \u001b[?25l\u001b[?25hdone\n",
            "  Created wheel for liac-arff: filename=liac_arff-2.5.0-py3-none-any.whl size=11717 sha256=44b22c2796adeabb6bcac8fc1027855d245094ce2c4a6f429786dbad7ebe08aa\n",
            "  Stored in directory: /root/.cache/pip/wheels/5d/2a/9c/3895d9617f8f49a0883ba686326d598e78a1c2f54fe3cae86d\n",
            "Successfully built auto-sklearn pynisher smac liac-arff\n",
            "Installing collected packages: pyrfr, pynisher, liac-arff, emcee, ConfigSpace, smac, auto-sklearn\n",
            "Successfully installed ConfigSpace-0.4.21 auto-sklearn-0.15.0 emcee-3.1.4 liac-arff-2.5.0 pynisher-0.6.4 pyrfr-0.8.3 smac-1.2\n"
          ]
        }
      ]
    },
    {
      "cell_type": "code",
      "source": [
        "!pip uninstall scipy -y\n",
        "!pip install scipy==1.9\n",
        "!pip uninstall pyparsing -y\n",
        "!pip install pyparsing==2.4\n"
      ],
      "metadata": {
        "colab": {
          "base_uri": "https://localhost:8080/",
          "height": 496
        },
        "id": "Vw_B7bQRV7Te",
        "outputId": "38125021-f7bf-4feb-eb70-06c7b9eee58f"
      },
      "execution_count": null,
      "outputs": [
        {
          "output_type": "stream",
          "name": "stdout",
          "text": [
            "Found existing installation: scipy 1.9.0\n",
            "Uninstalling scipy-1.9.0:\n",
            "  Successfully uninstalled scipy-1.9.0\n",
            "Collecting scipy==1.9\n",
            "  Using cached scipy-1.9.0-cp310-cp310-manylinux_2_17_x86_64.manylinux2014_x86_64.whl (43.9 MB)\n",
            "Requirement already satisfied: numpy<1.25.0,>=1.18.5 in /usr/local/lib/python3.10/dist-packages (from scipy==1.9) (1.23.5)\n",
            "Installing collected packages: scipy\n",
            "\u001b[31mERROR: pip's dependency resolver does not currently take into account all the packages that are installed. This behaviour is the source of the following dependency conflicts.\n",
            "lida 0.0.10 requires fastapi, which is not installed.\n",
            "lida 0.0.10 requires kaleido, which is not installed.\n",
            "lida 0.0.10 requires python-multipart, which is not installed.\n",
            "lida 0.0.10 requires uvicorn, which is not installed.\u001b[0m\u001b[31m\n",
            "\u001b[0mSuccessfully installed scipy-1.9.0\n",
            "Found existing installation: pyparsing 2.4.0\n",
            "Uninstalling pyparsing-2.4.0:\n",
            "  Successfully uninstalled pyparsing-2.4.0\n",
            "Collecting pyparsing==2.4\n",
            "  Using cached pyparsing-2.4.0-py2.py3-none-any.whl (62 kB)\n",
            "Installing collected packages: pyparsing\n",
            "\u001b[31mERROR: pip's dependency resolver does not currently take into account all the packages that are installed. This behaviour is the source of the following dependency conflicts.\n",
            "httplib2 0.22.0 requires pyparsing!=3.0.0,!=3.0.1,!=3.0.2,!=3.0.3,<4,>=2.4.2; python_version > \"3.0\", but you have pyparsing 2.4.0 which is incompatible.\u001b[0m\u001b[31m\n",
            "\u001b[0mSuccessfully installed pyparsing-2.4.0\n"
          ]
        },
        {
          "output_type": "display_data",
          "data": {
            "application/vnd.colab-display-data+json": {
              "pip_warning": {
                "packages": [
                  "pyparsing"
                ]
              }
            }
          },
          "metadata": {}
        }
      ]
    },
    {
      "cell_type": "markdown",
      "source": [
        "Let's begin by working through the Exploratory Data Analysis (EDA) steps for the Chord Classification Audio Dataset. We'll start by unpacking the dataset and inspecting its contents.\n",
        "\n",
        "## Step 1: Dataset Unpacking and Initial Inspection\n",
        "First, we'll unzip the provided file and see what files it contains. Then, we'll load the data and perform an initial inspection to understand its structure.\n"
      ],
      "metadata": {
        "id": "c9jsUNDq2Y8O"
      }
    },
    {
      "cell_type": "code",
      "source": [
        "import pandas as pd\n",
        "import os\n",
        "from google.colab import files"
      ],
      "metadata": {
        "id": "r-QgMhvtV-Or"
      },
      "execution_count": null,
      "outputs": []
    },
    {
      "cell_type": "code",
      "source": [
        "uploaded = files.upload()"
      ],
      "metadata": {
        "colab": {
          "base_uri": "https://localhost:8080/",
          "height": 71
        },
        "id": "TFqH3ACfWAyY",
        "outputId": "5c7f146b-7c4b-49b5-e57d-f7de7ca9f7c2"
      },
      "execution_count": null,
      "outputs": [
        {
          "output_type": "display_data",
          "data": {
            "text/plain": [
              "<IPython.core.display.HTML object>"
            ],
            "text/html": [
              "\n",
              "     <input type=\"file\" id=\"files-63559dda-dc58-460d-9683-105d3f5152fd\" name=\"files[]\" multiple disabled\n",
              "        style=\"border:none\" />\n",
              "     <output id=\"result-63559dda-dc58-460d-9683-105d3f5152fd\">\n",
              "      Upload widget is only available when the cell has been executed in the\n",
              "      current browser session. Please rerun this cell to enable.\n",
              "      </output>\n",
              "      <script>// Copyright 2017 Google LLC\n",
              "//\n",
              "// Licensed under the Apache License, Version 2.0 (the \"License\");\n",
              "// you may not use this file except in compliance with the License.\n",
              "// You may obtain a copy of the License at\n",
              "//\n",
              "//      http://www.apache.org/licenses/LICENSE-2.0\n",
              "//\n",
              "// Unless required by applicable law or agreed to in writing, software\n",
              "// distributed under the License is distributed on an \"AS IS\" BASIS,\n",
              "// WITHOUT WARRANTIES OR CONDITIONS OF ANY KIND, either express or implied.\n",
              "// See the License for the specific language governing permissions and\n",
              "// limitations under the License.\n",
              "\n",
              "/**\n",
              " * @fileoverview Helpers for google.colab Python module.\n",
              " */\n",
              "(function(scope) {\n",
              "function span(text, styleAttributes = {}) {\n",
              "  const element = document.createElement('span');\n",
              "  element.textContent = text;\n",
              "  for (const key of Object.keys(styleAttributes)) {\n",
              "    element.style[key] = styleAttributes[key];\n",
              "  }\n",
              "  return element;\n",
              "}\n",
              "\n",
              "// Max number of bytes which will be uploaded at a time.\n",
              "const MAX_PAYLOAD_SIZE = 100 * 1024;\n",
              "\n",
              "function _uploadFiles(inputId, outputId) {\n",
              "  const steps = uploadFilesStep(inputId, outputId);\n",
              "  const outputElement = document.getElementById(outputId);\n",
              "  // Cache steps on the outputElement to make it available for the next call\n",
              "  // to uploadFilesContinue from Python.\n",
              "  outputElement.steps = steps;\n",
              "\n",
              "  return _uploadFilesContinue(outputId);\n",
              "}\n",
              "\n",
              "// This is roughly an async generator (not supported in the browser yet),\n",
              "// where there are multiple asynchronous steps and the Python side is going\n",
              "// to poll for completion of each step.\n",
              "// This uses a Promise to block the python side on completion of each step,\n",
              "// then passes the result of the previous step as the input to the next step.\n",
              "function _uploadFilesContinue(outputId) {\n",
              "  const outputElement = document.getElementById(outputId);\n",
              "  const steps = outputElement.steps;\n",
              "\n",
              "  const next = steps.next(outputElement.lastPromiseValue);\n",
              "  return Promise.resolve(next.value.promise).then((value) => {\n",
              "    // Cache the last promise value to make it available to the next\n",
              "    // step of the generator.\n",
              "    outputElement.lastPromiseValue = value;\n",
              "    return next.value.response;\n",
              "  });\n",
              "}\n",
              "\n",
              "/**\n",
              " * Generator function which is called between each async step of the upload\n",
              " * process.\n",
              " * @param {string} inputId Element ID of the input file picker element.\n",
              " * @param {string} outputId Element ID of the output display.\n",
              " * @return {!Iterable<!Object>} Iterable of next steps.\n",
              " */\n",
              "function* uploadFilesStep(inputId, outputId) {\n",
              "  const inputElement = document.getElementById(inputId);\n",
              "  inputElement.disabled = false;\n",
              "\n",
              "  const outputElement = document.getElementById(outputId);\n",
              "  outputElement.innerHTML = '';\n",
              "\n",
              "  const pickedPromise = new Promise((resolve) => {\n",
              "    inputElement.addEventListener('change', (e) => {\n",
              "      resolve(e.target.files);\n",
              "    });\n",
              "  });\n",
              "\n",
              "  const cancel = document.createElement('button');\n",
              "  inputElement.parentElement.appendChild(cancel);\n",
              "  cancel.textContent = 'Cancel upload';\n",
              "  const cancelPromise = new Promise((resolve) => {\n",
              "    cancel.onclick = () => {\n",
              "      resolve(null);\n",
              "    };\n",
              "  });\n",
              "\n",
              "  // Wait for the user to pick the files.\n",
              "  const files = yield {\n",
              "    promise: Promise.race([pickedPromise, cancelPromise]),\n",
              "    response: {\n",
              "      action: 'starting',\n",
              "    }\n",
              "  };\n",
              "\n",
              "  cancel.remove();\n",
              "\n",
              "  // Disable the input element since further picks are not allowed.\n",
              "  inputElement.disabled = true;\n",
              "\n",
              "  if (!files) {\n",
              "    return {\n",
              "      response: {\n",
              "        action: 'complete',\n",
              "      }\n",
              "    };\n",
              "  }\n",
              "\n",
              "  for (const file of files) {\n",
              "    const li = document.createElement('li');\n",
              "    li.append(span(file.name, {fontWeight: 'bold'}));\n",
              "    li.append(span(\n",
              "        `(${file.type || 'n/a'}) - ${file.size} bytes, ` +\n",
              "        `last modified: ${\n",
              "            file.lastModifiedDate ? file.lastModifiedDate.toLocaleDateString() :\n",
              "                                    'n/a'} - `));\n",
              "    const percent = span('0% done');\n",
              "    li.appendChild(percent);\n",
              "\n",
              "    outputElement.appendChild(li);\n",
              "\n",
              "    const fileDataPromise = new Promise((resolve) => {\n",
              "      const reader = new FileReader();\n",
              "      reader.onload = (e) => {\n",
              "        resolve(e.target.result);\n",
              "      };\n",
              "      reader.readAsArrayBuffer(file);\n",
              "    });\n",
              "    // Wait for the data to be ready.\n",
              "    let fileData = yield {\n",
              "      promise: fileDataPromise,\n",
              "      response: {\n",
              "        action: 'continue',\n",
              "      }\n",
              "    };\n",
              "\n",
              "    // Use a chunked sending to avoid message size limits. See b/62115660.\n",
              "    let position = 0;\n",
              "    do {\n",
              "      const length = Math.min(fileData.byteLength - position, MAX_PAYLOAD_SIZE);\n",
              "      const chunk = new Uint8Array(fileData, position, length);\n",
              "      position += length;\n",
              "\n",
              "      const base64 = btoa(String.fromCharCode.apply(null, chunk));\n",
              "      yield {\n",
              "        response: {\n",
              "          action: 'append',\n",
              "          file: file.name,\n",
              "          data: base64,\n",
              "        },\n",
              "      };\n",
              "\n",
              "      let percentDone = fileData.byteLength === 0 ?\n",
              "          100 :\n",
              "          Math.round((position / fileData.byteLength) * 100);\n",
              "      percent.textContent = `${percentDone}% done`;\n",
              "\n",
              "    } while (position < fileData.byteLength);\n",
              "  }\n",
              "\n",
              "  // All done.\n",
              "  yield {\n",
              "    response: {\n",
              "      action: 'complete',\n",
              "    }\n",
              "  };\n",
              "}\n",
              "\n",
              "scope.google = scope.google || {};\n",
              "scope.google.colab = scope.google.colab || {};\n",
              "scope.google.colab._files = {\n",
              "  _uploadFiles,\n",
              "  _uploadFilesContinue,\n",
              "};\n",
              "})(self);\n",
              "</script> "
            ]
          },
          "metadata": {}
        },
        {
          "output_type": "stream",
          "name": "stdout",
          "text": [
            "Saving archive.zip to archive.zip\n"
          ]
        }
      ]
    },
    {
      "cell_type": "code",
      "source": [
        "import os\n",
        "import zipfile\n",
        "\n",
        "# Define the path for the uploaded zip file and the extraction directory\n",
        "zip_file_path = 'archive.zip'\n",
        "extraction_path = 'chord_classification_dataset'\n",
        "\n",
        "# Unzip the dataset\n",
        "with zipfile.ZipFile(zip_file_path, 'r') as zip_ref:\n",
        "    zip_ref.extractall(extraction_path)\n",
        "\n",
        "# List the files in the extracted folder\n",
        "extracted_files = os.listdir(extraction_path)\n",
        "extracted_files\n"
      ],
      "metadata": {
        "id": "XTiZW66xiUOw",
        "colab": {
          "base_uri": "https://localhost:8080/"
        },
        "outputId": "5cef0efb-6c12-4f0b-88cf-33f6cd7e239b"
      },
      "execution_count": null,
      "outputs": [
        {
          "output_type": "execute_result",
          "data": {
            "text/plain": [
              "['Audio_Files']"
            ]
          },
          "metadata": {},
          "execution_count": 1
        }
      ]
    },
    {
      "cell_type": "code",
      "source": [
        "# Define the path for the Audio_Files directory\n",
        "audio_files_path = os.path.join(extraction_path, 'Audio_Files')\n",
        "\n",
        "# List the first few files in the Audio_Files directory\n",
        "audio_files = os.listdir(audio_files_path)\n",
        "audio_files[:10]  # Displaying only the first 10 file names for brevity\n"
      ],
      "metadata": {
        "colab": {
          "base_uri": "https://localhost:8080/"
        },
        "id": "Wy2iC1M8zqMf",
        "outputId": "ac704134-dc6b-47e7-92d1-bd71b7848e29"
      },
      "execution_count": null,
      "outputs": [
        {
          "output_type": "execute_result",
          "data": {
            "text/plain": [
              "['Minor', 'Major']"
            ]
          },
          "metadata": {},
          "execution_count": 2
        }
      ]
    },
    {
      "cell_type": "code",
      "source": [
        "# Define the paths for the Major and Minor subdirectories\n",
        "major_files_path = os.path.join(audio_files_path, 'Major')\n",
        "minor_files_path = os.path.join(audio_files_path, 'Minor')\n",
        "\n",
        "# List the files in the Major and Minor directories\n",
        "major_files = os.listdir(major_files_path)\n",
        "minor_files = os.listdir(minor_files_path)\n",
        "\n",
        "# Count the number of files in each category and display some file names as samples\n",
        "major_files_count = len(major_files)\n",
        "minor_files_count = len(minor_files)\n",
        "major_files_sample = major_files[:5]  # Sample of 5 file names from Major\n",
        "minor_files_sample = minor_files[:5]  # Sample of 5 file names from Minor\n",
        "\n",
        "(major_files_count, minor_files_sample, minor_files_count, minor_files_sample)\n"
      ],
      "metadata": {
        "colab": {
          "base_uri": "https://localhost:8080/"
        },
        "id": "4pztZHgIzuYk",
        "outputId": "757dd220-82a2-4093-e8e8-f8fe09fc2f2a"
      },
      "execution_count": null,
      "outputs": [
        {
          "output_type": "execute_result",
          "data": {
            "text/plain": [
              "(502,\n",
              " ['Minor_6.wav',\n",
              "  'Minor_124.wav',\n",
              "  'Minor_41.wav',\n",
              "  'Minor_95.wav',\n",
              "  'Minor_342.wav'],\n",
              " 357,\n",
              " ['Minor_6.wav',\n",
              "  'Minor_124.wav',\n",
              "  'Minor_41.wav',\n",
              "  'Minor_95.wav',\n",
              "  'Minor_342.wav'])"
            ]
          },
          "metadata": {},
          "execution_count": 3
        }
      ]
    },
    {
      "cell_type": "markdown",
      "source": [
        "\n",
        "## Step 2: Audio File Properties Inspection\n",
        "Next, we should inspect the properties of the audio files such as sampling rate, duration, and channels to better understand the data we're working with. I will load a sample file from each category and display its properties.\n",
        "\n",
        "\n"
      ],
      "metadata": {
        "id": "Dn9YqHMR4JMB"
      }
    },
    {
      "cell_type": "code",
      "source": [
        "import librosa\n",
        "\n",
        "# Function to load an audio file and extract properties\n",
        "def inspect_audio_properties(file_path):\n",
        "    # Load the audio file\n",
        "    audio, sample_rate = librosa.load(file_path, sr=None)  # sr=None ensures original sample rate is used\n",
        "    duration = librosa.get_duration(y=audio, sr=sample_rate)\n",
        "    return {\n",
        "        'Sample Rate': sample_rate,\n",
        "        'Duration (seconds)': duration,\n",
        "        'Number of Samples': len(audio),\n",
        "        'Channels': 'Mono' if audio.ndim == 1 else 'Stereo'\n",
        "    }\n",
        "\n",
        "# Inspect a sample file from each category (Major and Minor)\n",
        "major_sample_properties = inspect_audio_properties(os.path.join(major_files_path, major_files_sample[0]))\n",
        "minor_sample_properties = inspect_audio_properties(os.path.join(minor_files_path, minor_files_sample[0]))\n",
        "\n",
        "(major_sample_properties, minor_sample_properties)\n"
      ],
      "metadata": {
        "colab": {
          "base_uri": "https://localhost:8080/"
        },
        "id": "DWGcfPPxzwMd",
        "outputId": "f3bd8623-2023-4262-c77d-3cfeec44efc2"
      },
      "execution_count": null,
      "outputs": [
        {
          "output_type": "execute_result",
          "data": {
            "text/plain": [
              "({'Sample Rate': 44100,\n",
              "  'Duration (seconds)': 2.25,\n",
              "  'Number of Samples': 99225,\n",
              "  'Channels': 'Mono'},\n",
              " {'Sample Rate': 44100,\n",
              "  'Duration (seconds)': 2.2999773242630384,\n",
              "  'Number of Samples': 101429,\n",
              "  'Channels': 'Mono'})"
            ]
          },
          "metadata": {},
          "execution_count": 4
        }
      ]
    },
    {
      "cell_type": "code",
      "source": [
        "import wave\n",
        "import contextlib\n",
        "\n",
        "# Function to inspect properties of a WAV file\n",
        "def inspect_wav_properties(file_path):\n",
        "    with contextlib.closing(wave.open(file_path, 'rb')) as f:\n",
        "        frames = f.getnframes()\n",
        "        rate = f.getframerate()\n",
        "        duration = frames / float(rate)\n",
        "        channels = f.getnchannels()\n",
        "    return {\n",
        "        'Sample Rate': rate,\n",
        "        'Duration (seconds)': duration,\n",
        "        'Number of Samples': frames,\n",
        "        'Channels': channels\n",
        "    }\n",
        "\n",
        "# Inspect properties of a sample WAV file from Major and Minor categories\n",
        "major_wav_properties = inspect_wav_properties(os.path.join(major_files_path, major_files_sample[0]))\n",
        "minor_wav_properties = inspect_wav_properties(os.path.join(minor_files_path, minor_files_sample[0]))\n",
        "\n",
        "(major_wav_properties, minor_wav_properties)\n"
      ],
      "metadata": {
        "colab": {
          "base_uri": "https://localhost:8080/"
        },
        "id": "ojW-IJbVzyDU",
        "outputId": "5d8d8546-036a-46c2-894f-ca3045ca6b23"
      },
      "execution_count": null,
      "outputs": [
        {
          "output_type": "execute_result",
          "data": {
            "text/plain": [
              "({'Sample Rate': 44100,\n",
              "  'Duration (seconds)': 2.25,\n",
              "  'Number of Samples': 99225,\n",
              "  'Channels': 1},\n",
              " {'Sample Rate': 44100,\n",
              "  'Duration (seconds)': 2.2999773242630384,\n",
              "  'Number of Samples': 101429,\n",
              "  'Channels': 1})"
            ]
          },
          "metadata": {},
          "execution_count": 5
        }
      ]
    },
    {
      "cell_type": "markdown",
      "source": [
        "Absolutely, I will ensure that the data and results we produce in this session are maintained in memory.\n",
        "\n",
        "To continue with the detailed EDA, we will:\n",
        "\n",
        "1. Analyze the distribution of audio durations and sample rates for all the audio files in the dataset. This will help us understand if the dataset is consistent in these dimensions or if there are any outliers or anomalies.\n",
        "\n",
        "2. Visualize the data to help identify patterns or issues that may require cleaning or transformation.\n"
      ],
      "metadata": {
        "id": "HF0-uwsC4Skk"
      }
    },
    {
      "cell_type": "code",
      "source": [
        "import pandas as pd\n",
        "\n",
        "# Function to create a dataframe with properties of all audio files in a given directory\n",
        "def create_audio_properties_df(files_path, label):\n",
        "    properties_list = []\n",
        "    for file_name in os.listdir(files_path):\n",
        "        file_path = os.path.join(files_path, file_name)\n",
        "        properties = inspect_wav_properties(file_path)\n",
        "        properties['Label'] = label\n",
        "        properties['File Name'] = file_name\n",
        "        properties_list.append(properties)\n",
        "    return pd.DataFrame(properties_list)\n",
        "\n",
        "# Create dataframes for both Major and Minor categories\n",
        "df_major_properties = create_audio_properties_df(major_files_path, 'Major')\n",
        "df_minor_properties = create_audio_properties_df(minor_files_path, 'Minor')\n",
        "\n",
        "# Combine the dataframes into one for analysis\n",
        "df_audio_properties = pd.concat([df_major_properties, df_minor_properties], ignore_index=True)\n",
        "\n",
        "df_audio_properties.head()\n"
      ],
      "metadata": {
        "colab": {
          "base_uri": "https://localhost:8080/",
          "height": 206
        },
        "id": "1mbbfLBwz2I8",
        "outputId": "6b474029-1c7c-4c28-fede-68cd51bafcfd"
      },
      "execution_count": null,
      "outputs": [
        {
          "output_type": "execute_result",
          "data": {
            "text/plain": [
              "   Sample Rate  Duration (seconds)  Number of Samples  Channels  Label  \\\n",
              "0        44100                2.25              99225         1  Major   \n",
              "1        44100                2.20              97020         1  Major   \n",
              "2        44100                2.20              97020         1  Major   \n",
              "3        44100                2.25              99225         1  Major   \n",
              "4        44100                2.20              97020         1  Major   \n",
              "\n",
              "       File Name  \n",
              "0  Major_187.wav  \n",
              "1  Major_152.wav  \n",
              "2  Major_293.wav  \n",
              "3  Major_160.wav  \n",
              "4  Major_314.wav  "
            ],
            "text/html": [
              "\n",
              "  <div id=\"df-c2a4caf2-d4a8-4185-b65d-a3a6799e20a1\" class=\"colab-df-container\">\n",
              "    <div>\n",
              "<style scoped>\n",
              "    .dataframe tbody tr th:only-of-type {\n",
              "        vertical-align: middle;\n",
              "    }\n",
              "\n",
              "    .dataframe tbody tr th {\n",
              "        vertical-align: top;\n",
              "    }\n",
              "\n",
              "    .dataframe thead th {\n",
              "        text-align: right;\n",
              "    }\n",
              "</style>\n",
              "<table border=\"1\" class=\"dataframe\">\n",
              "  <thead>\n",
              "    <tr style=\"text-align: right;\">\n",
              "      <th></th>\n",
              "      <th>Sample Rate</th>\n",
              "      <th>Duration (seconds)</th>\n",
              "      <th>Number of Samples</th>\n",
              "      <th>Channels</th>\n",
              "      <th>Label</th>\n",
              "      <th>File Name</th>\n",
              "    </tr>\n",
              "  </thead>\n",
              "  <tbody>\n",
              "    <tr>\n",
              "      <th>0</th>\n",
              "      <td>44100</td>\n",
              "      <td>2.25</td>\n",
              "      <td>99225</td>\n",
              "      <td>1</td>\n",
              "      <td>Major</td>\n",
              "      <td>Major_187.wav</td>\n",
              "    </tr>\n",
              "    <tr>\n",
              "      <th>1</th>\n",
              "      <td>44100</td>\n",
              "      <td>2.20</td>\n",
              "      <td>97020</td>\n",
              "      <td>1</td>\n",
              "      <td>Major</td>\n",
              "      <td>Major_152.wav</td>\n",
              "    </tr>\n",
              "    <tr>\n",
              "      <th>2</th>\n",
              "      <td>44100</td>\n",
              "      <td>2.20</td>\n",
              "      <td>97020</td>\n",
              "      <td>1</td>\n",
              "      <td>Major</td>\n",
              "      <td>Major_293.wav</td>\n",
              "    </tr>\n",
              "    <tr>\n",
              "      <th>3</th>\n",
              "      <td>44100</td>\n",
              "      <td>2.25</td>\n",
              "      <td>99225</td>\n",
              "      <td>1</td>\n",
              "      <td>Major</td>\n",
              "      <td>Major_160.wav</td>\n",
              "    </tr>\n",
              "    <tr>\n",
              "      <th>4</th>\n",
              "      <td>44100</td>\n",
              "      <td>2.20</td>\n",
              "      <td>97020</td>\n",
              "      <td>1</td>\n",
              "      <td>Major</td>\n",
              "      <td>Major_314.wav</td>\n",
              "    </tr>\n",
              "  </tbody>\n",
              "</table>\n",
              "</div>\n",
              "    <div class=\"colab-df-buttons\">\n",
              "\n",
              "  <div class=\"colab-df-container\">\n",
              "    <button class=\"colab-df-convert\" onclick=\"convertToInteractive('df-c2a4caf2-d4a8-4185-b65d-a3a6799e20a1')\"\n",
              "            title=\"Convert this dataframe to an interactive table.\"\n",
              "            style=\"display:none;\">\n",
              "\n",
              "  <svg xmlns=\"http://www.w3.org/2000/svg\" height=\"24px\" viewBox=\"0 -960 960 960\">\n",
              "    <path d=\"M120-120v-720h720v720H120Zm60-500h600v-160H180v160Zm220 220h160v-160H400v160Zm0 220h160v-160H400v160ZM180-400h160v-160H180v160Zm440 0h160v-160H620v160ZM180-180h160v-160H180v160Zm440 0h160v-160H620v160Z\"/>\n",
              "  </svg>\n",
              "    </button>\n",
              "\n",
              "  <style>\n",
              "    .colab-df-container {\n",
              "      display:flex;\n",
              "      gap: 12px;\n",
              "    }\n",
              "\n",
              "    .colab-df-convert {\n",
              "      background-color: #E8F0FE;\n",
              "      border: none;\n",
              "      border-radius: 50%;\n",
              "      cursor: pointer;\n",
              "      display: none;\n",
              "      fill: #1967D2;\n",
              "      height: 32px;\n",
              "      padding: 0 0 0 0;\n",
              "      width: 32px;\n",
              "    }\n",
              "\n",
              "    .colab-df-convert:hover {\n",
              "      background-color: #E2EBFA;\n",
              "      box-shadow: 0px 1px 2px rgba(60, 64, 67, 0.3), 0px 1px 3px 1px rgba(60, 64, 67, 0.15);\n",
              "      fill: #174EA6;\n",
              "    }\n",
              "\n",
              "    .colab-df-buttons div {\n",
              "      margin-bottom: 4px;\n",
              "    }\n",
              "\n",
              "    [theme=dark] .colab-df-convert {\n",
              "      background-color: #3B4455;\n",
              "      fill: #D2E3FC;\n",
              "    }\n",
              "\n",
              "    [theme=dark] .colab-df-convert:hover {\n",
              "      background-color: #434B5C;\n",
              "      box-shadow: 0px 1px 3px 1px rgba(0, 0, 0, 0.15);\n",
              "      filter: drop-shadow(0px 1px 2px rgba(0, 0, 0, 0.3));\n",
              "      fill: #FFFFFF;\n",
              "    }\n",
              "  </style>\n",
              "\n",
              "    <script>\n",
              "      const buttonEl =\n",
              "        document.querySelector('#df-c2a4caf2-d4a8-4185-b65d-a3a6799e20a1 button.colab-df-convert');\n",
              "      buttonEl.style.display =\n",
              "        google.colab.kernel.accessAllowed ? 'block' : 'none';\n",
              "\n",
              "      async function convertToInteractive(key) {\n",
              "        const element = document.querySelector('#df-c2a4caf2-d4a8-4185-b65d-a3a6799e20a1');\n",
              "        const dataTable =\n",
              "          await google.colab.kernel.invokeFunction('convertToInteractive',\n",
              "                                                    [key], {});\n",
              "        if (!dataTable) return;\n",
              "\n",
              "        const docLinkHtml = 'Like what you see? Visit the ' +\n",
              "          '<a target=\"_blank\" href=https://colab.research.google.com/notebooks/data_table.ipynb>data table notebook</a>'\n",
              "          + ' to learn more about interactive tables.';\n",
              "        element.innerHTML = '';\n",
              "        dataTable['output_type'] = 'display_data';\n",
              "        await google.colab.output.renderOutput(dataTable, element);\n",
              "        const docLink = document.createElement('div');\n",
              "        docLink.innerHTML = docLinkHtml;\n",
              "        element.appendChild(docLink);\n",
              "      }\n",
              "    </script>\n",
              "  </div>\n",
              "\n",
              "\n",
              "<div id=\"df-795a2f0f-6b9f-4127-b1a1-18ae92f321f4\">\n",
              "  <button class=\"colab-df-quickchart\" onclick=\"quickchart('df-795a2f0f-6b9f-4127-b1a1-18ae92f321f4')\"\n",
              "            title=\"Suggest charts.\"\n",
              "            style=\"display:none;\">\n",
              "\n",
              "<svg xmlns=\"http://www.w3.org/2000/svg\" height=\"24px\"viewBox=\"0 0 24 24\"\n",
              "     width=\"24px\">\n",
              "    <g>\n",
              "        <path d=\"M19 3H5c-1.1 0-2 .9-2 2v14c0 1.1.9 2 2 2h14c1.1 0 2-.9 2-2V5c0-1.1-.9-2-2-2zM9 17H7v-7h2v7zm4 0h-2V7h2v10zm4 0h-2v-4h2v4z\"/>\n",
              "    </g>\n",
              "</svg>\n",
              "  </button>\n",
              "\n",
              "<style>\n",
              "  .colab-df-quickchart {\n",
              "      --bg-color: #E8F0FE;\n",
              "      --fill-color: #1967D2;\n",
              "      --hover-bg-color: #E2EBFA;\n",
              "      --hover-fill-color: #174EA6;\n",
              "      --disabled-fill-color: #AAA;\n",
              "      --disabled-bg-color: #DDD;\n",
              "  }\n",
              "\n",
              "  [theme=dark] .colab-df-quickchart {\n",
              "      --bg-color: #3B4455;\n",
              "      --fill-color: #D2E3FC;\n",
              "      --hover-bg-color: #434B5C;\n",
              "      --hover-fill-color: #FFFFFF;\n",
              "      --disabled-bg-color: #3B4455;\n",
              "      --disabled-fill-color: #666;\n",
              "  }\n",
              "\n",
              "  .colab-df-quickchart {\n",
              "    background-color: var(--bg-color);\n",
              "    border: none;\n",
              "    border-radius: 50%;\n",
              "    cursor: pointer;\n",
              "    display: none;\n",
              "    fill: var(--fill-color);\n",
              "    height: 32px;\n",
              "    padding: 0;\n",
              "    width: 32px;\n",
              "  }\n",
              "\n",
              "  .colab-df-quickchart:hover {\n",
              "    background-color: var(--hover-bg-color);\n",
              "    box-shadow: 0 1px 2px rgba(60, 64, 67, 0.3), 0 1px 3px 1px rgba(60, 64, 67, 0.15);\n",
              "    fill: var(--button-hover-fill-color);\n",
              "  }\n",
              "\n",
              "  .colab-df-quickchart-complete:disabled,\n",
              "  .colab-df-quickchart-complete:disabled:hover {\n",
              "    background-color: var(--disabled-bg-color);\n",
              "    fill: var(--disabled-fill-color);\n",
              "    box-shadow: none;\n",
              "  }\n",
              "\n",
              "  .colab-df-spinner {\n",
              "    border: 2px solid var(--fill-color);\n",
              "    border-color: transparent;\n",
              "    border-bottom-color: var(--fill-color);\n",
              "    animation:\n",
              "      spin 1s steps(1) infinite;\n",
              "  }\n",
              "\n",
              "  @keyframes spin {\n",
              "    0% {\n",
              "      border-color: transparent;\n",
              "      border-bottom-color: var(--fill-color);\n",
              "      border-left-color: var(--fill-color);\n",
              "    }\n",
              "    20% {\n",
              "      border-color: transparent;\n",
              "      border-left-color: var(--fill-color);\n",
              "      border-top-color: var(--fill-color);\n",
              "    }\n",
              "    30% {\n",
              "      border-color: transparent;\n",
              "      border-left-color: var(--fill-color);\n",
              "      border-top-color: var(--fill-color);\n",
              "      border-right-color: var(--fill-color);\n",
              "    }\n",
              "    40% {\n",
              "      border-color: transparent;\n",
              "      border-right-color: var(--fill-color);\n",
              "      border-top-color: var(--fill-color);\n",
              "    }\n",
              "    60% {\n",
              "      border-color: transparent;\n",
              "      border-right-color: var(--fill-color);\n",
              "    }\n",
              "    80% {\n",
              "      border-color: transparent;\n",
              "      border-right-color: var(--fill-color);\n",
              "      border-bottom-color: var(--fill-color);\n",
              "    }\n",
              "    90% {\n",
              "      border-color: transparent;\n",
              "      border-bottom-color: var(--fill-color);\n",
              "    }\n",
              "  }\n",
              "</style>\n",
              "\n",
              "  <script>\n",
              "    async function quickchart(key) {\n",
              "      const quickchartButtonEl =\n",
              "        document.querySelector('#' + key + ' button');\n",
              "      quickchartButtonEl.disabled = true;  // To prevent multiple clicks.\n",
              "      quickchartButtonEl.classList.add('colab-df-spinner');\n",
              "      try {\n",
              "        const charts = await google.colab.kernel.invokeFunction(\n",
              "            'suggestCharts', [key], {});\n",
              "      } catch (error) {\n",
              "        console.error('Error during call to suggestCharts:', error);\n",
              "      }\n",
              "      quickchartButtonEl.classList.remove('colab-df-spinner');\n",
              "      quickchartButtonEl.classList.add('colab-df-quickchart-complete');\n",
              "    }\n",
              "    (() => {\n",
              "      let quickchartButtonEl =\n",
              "        document.querySelector('#df-795a2f0f-6b9f-4127-b1a1-18ae92f321f4 button');\n",
              "      quickchartButtonEl.style.display =\n",
              "        google.colab.kernel.accessAllowed ? 'block' : 'none';\n",
              "    })();\n",
              "  </script>\n",
              "</div>\n",
              "\n",
              "    </div>\n",
              "  </div>\n"
            ]
          },
          "metadata": {},
          "execution_count": 6
        }
      ]
    },
    {
      "cell_type": "code",
      "source": [
        "import matplotlib.pyplot as plt\n",
        "\n",
        "# Define the function to plot histograms for audio properties\n",
        "def plot_histograms(dataframe, feature, title):\n",
        "    plt.figure(figsize=(10, 6))\n",
        "    plt.hist(dataframe[feature], bins=50, alpha=0.7, label=['Major', 'Minor'])\n",
        "    plt.title(title)\n",
        "    plt.xlabel(feature)\n",
        "    plt.ylabel('Frequency')\n",
        "    plt.legend()\n",
        "    plt.show()\n",
        "\n",
        "# Plot histograms for the duration and sample rate of audio files\n",
        "plot_histograms(df_audio_properties, 'Duration (seconds)', 'Distribution of Audio Durations')\n",
        "plot_histograms(df_audio_properties, 'Sample Rate', 'Distribution of Audio Sample Rates')\n"
      ],
      "metadata": {
        "colab": {
          "base_uri": "https://localhost:8080/",
          "height": 1000
        },
        "id": "U-wHxApkz4PG",
        "outputId": "55570931-8f40-42bb-a4bc-da37594464a0"
      },
      "execution_count": null,
      "outputs": [
        {
          "output_type": "display_data",
          "data": {
            "text/plain": [
              "<Figure size 1000x600 with 1 Axes>"
            ],
            "image/png": "[encoded data removed]"
          },
          "metadata": {}
        },
        {
          "output_type": "display_data",
          "data": {
            "text/plain": [
              "<Figure size 1000x600 with 1 Axes>"
            ],
            "image/png": "[encoded data removed]"
          },
          "metadata": {}
        }
      ]
    },
    {
      "cell_type": "markdown",
      "source": [
        "### Checking Corrupt Data"
      ],
      "metadata": {
        "id": "1iLEHx5J4aRZ"
      }
    },
    {
      "cell_type": "code",
      "source": [
        "# Function to check if an audio file is corrupted by attempting to read it\n",
        "def check_corrupted_files(files_path):\n",
        "    corrupted_files = []\n",
        "    for file_name in os.listdir(files_path):\n",
        "        file_path = os.path.join(files_path, file_name)\n",
        "        try:\n",
        "            with contextlib.closing(wave.open(file_path, 'rb')) as f:\n",
        "                # Attempt to read the first frame\n",
        "                f.readframes(1)\n",
        "        except wave.Error:\n",
        "            corrupted_files.append(file_name)\n",
        "    return corrupted_files\n",
        "\n",
        "# Check for corrupted files in both Major and Minor categories\n",
        "corrupted_major_files = check_corrupted_files(major_files_path)\n",
        "corrupted_minor_files = check_corrupted_files(minor_files_path)\n",
        "\n",
        "(corrupted_major_files, corrupted_minor_files)\n"
      ],
      "metadata": {
        "colab": {
          "base_uri": "https://localhost:8080/"
        },
        "id": "uFjjKWdNz-LN",
        "outputId": "27bff589-4ef6-4857-bfe4-1066a492ca20"
      },
      "execution_count": null,
      "outputs": [
        {
          "output_type": "execute_result",
          "data": {
            "text/plain": [
              "([], [])"
            ]
          },
          "metadata": {},
          "execution_count": 8
        }
      ]
    },
    {
      "cell_type": "markdown",
      "source": [
        "### Outlier Detection:\n"
      ],
      "metadata": {
        "id": "IGqL3Ns_4tKw"
      }
    },
    {
      "cell_type": "code",
      "source": [
        "import os\n",
        "\n",
        "# Function to get file size\n",
        "def get_file_size(file_path):\n",
        "    return os.path.getsize(file_path)\n",
        "\n",
        "# Get file sizes for Major and Minor categories\n",
        "df_audio_properties['File Size'] = df_audio_properties.apply(\n",
        "    lambda row: get_file_size(os.path.join(major_files_path if row['Label'] == 'Major' else minor_files_path, row['File Name'])), axis=1\n",
        ")\n",
        "\n",
        "# Calculate IQR for File Size\n",
        "Q1_size = df_audio_properties['File Size'].quantile(0.25)\n",
        "Q3_size = df_audio_properties['File Size'].quantile(0.75)\n",
        "IQR_size = Q3_size - Q1_size\n",
        "\n",
        "# Define bounds for outliers based on file size\n",
        "lower_bound_size = Q1_size - 1.5 * IQR_size\n",
        "upper_bound_size = Q3_size + 1.5 * IQR_size\n",
        "\n",
        "# Identify outliers based on file size\n",
        "size_outliers = df_audio_properties[\n",
        "    (df_audio_properties['File Size'] < lower_bound_size) |\n",
        "    (df_audio_properties['File Size'] > upper_bound_size)\n",
        "]\n",
        "\n",
        "# Check for outliers based on file size\n",
        "size_outliers\n"
      ],
      "metadata": {
        "colab": {
          "base_uri": "https://localhost:8080/",
          "height": 89
        },
        "id": "bMxUIzom1HGv",
        "outputId": "60d645ea-94f2-4dd7-8fa7-f9645216536d"
      },
      "execution_count": null,
      "outputs": [
        {
          "output_type": "execute_result",
          "data": {
            "text/plain": [
              "Empty DataFrame\n",
              "Columns: [Sample Rate, Duration (seconds), Number of Samples, Channels, Label, File Name, File Size]\n",
              "Index: []"
            ],
            "text/html": [
              "\n",
              "  <div id=\"df-8ceaff1b-6925-4723-996e-aa27e97f1bcb\" class=\"colab-df-container\">\n",
              "    <div>\n",
              "<style scoped>\n",
              "    .dataframe tbody tr th:only-of-type {\n",
              "        vertical-align: middle;\n",
              "    }\n",
              "\n",
              "    .dataframe tbody tr th {\n",
              "        vertical-align: top;\n",
              "    }\n",
              "\n",
              "    .dataframe thead th {\n",
              "        text-align: right;\n",
              "    }\n",
              "</style>\n",
              "<table border=\"1\" class=\"dataframe\">\n",
              "  <thead>\n",
              "    <tr style=\"text-align: right;\">\n",
              "      <th></th>\n",
              "      <th>Sample Rate</th>\n",
              "      <th>Duration (seconds)</th>\n",
              "      <th>Number of Samples</th>\n",
              "      <th>Channels</th>\n",
              "      <th>Label</th>\n",
              "      <th>File Name</th>\n",
              "      <th>File Size</th>\n",
              "    </tr>\n",
              "  </thead>\n",
              "  <tbody>\n",
              "  </tbody>\n",
              "</table>\n",
              "</div>\n",
              "    <div class=\"colab-df-buttons\">\n",
              "\n",
              "  <div class=\"colab-df-container\">\n",
              "    <button class=\"colab-df-convert\" onclick=\"convertToInteractive('df-8ceaff1b-6925-4723-996e-aa27e97f1bcb')\"\n",
              "            title=\"Convert this dataframe to an interactive table.\"\n",
              "            style=\"display:none;\">\n",
              "\n",
              "  <svg xmlns=\"http://www.w3.org/2000/svg\" height=\"24px\" viewBox=\"0 -960 960 960\">\n",
              "    <path d=\"M120-120v-720h720v720H120Zm60-500h600v-160H180v160Zm220 220h160v-160H400v160Zm0 220h160v-160H400v160ZM180-400h160v-160H180v160Zm440 0h160v-160H620v160ZM180-180h160v-160H180v160Zm440 0h160v-160H620v160Z\"/>\n",
              "  </svg>\n",
              "    </button>\n",
              "\n",
              "  <style>\n",
              "    .colab-df-container {\n",
              "      display:flex;\n",
              "      gap: 12px;\n",
              "    }\n",
              "\n",
              "    .colab-df-convert {\n",
              "      background-color: #E8F0FE;\n",
              "      border: none;\n",
              "      border-radius: 50%;\n",
              "      cursor: pointer;\n",
              "      display: none;\n",
              "      fill: #1967D2;\n",
              "      height: 32px;\n",
              "      padding: 0 0 0 0;\n",
              "      width: 32px;\n",
              "    }\n",
              "\n",
              "    .colab-df-convert:hover {\n",
              "      background-color: #E2EBFA;\n",
              "      box-shadow: 0px 1px 2px rgba(60, 64, 67, 0.3), 0px 1px 3px 1px rgba(60, 64, 67, 0.15);\n",
              "      fill: #174EA6;\n",
              "    }\n",
              "\n",
              "    .colab-df-buttons div {\n",
              "      margin-bottom: 4px;\n",
              "    }\n",
              "\n",
              "    [theme=dark] .colab-df-convert {\n",
              "      background-color: #3B4455;\n",
              "      fill: #D2E3FC;\n",
              "    }\n",
              "\n",
              "    [theme=dark] .colab-df-convert:hover {\n",
              "      background-color: #434B5C;\n",
              "      box-shadow: 0px 1px 3px 1px rgba(0, 0, 0, 0.15);\n",
              "      filter: drop-shadow(0px 1px 2px rgba(0, 0, 0, 0.3));\n",
              "      fill: #FFFFFF;\n",
              "    }\n",
              "  </style>\n",
              "\n",
              "    <script>\n",
              "      const buttonEl =\n",
              "        document.querySelector('#df-8ceaff1b-6925-4723-996e-aa27e97f1bcb button.colab-df-convert');\n",
              "      buttonEl.style.display =\n",
              "        google.colab.kernel.accessAllowed ? 'block' : 'none';\n",
              "\n",
              "      async function convertToInteractive(key) {\n",
              "        const element = document.querySelector('#df-8ceaff1b-6925-4723-996e-aa27e97f1bcb');\n",
              "        const dataTable =\n",
              "          await google.colab.kernel.invokeFunction('convertToInteractive',\n",
              "                                                    [key], {});\n",
              "        if (!dataTable) return;\n",
              "\n",
              "        const docLinkHtml = 'Like what you see? Visit the ' +\n",
              "          '<a target=\"_blank\" href=https://colab.research.google.com/notebooks/data_table.ipynb>data table notebook</a>'\n",
              "          + ' to learn more about interactive tables.';\n",
              "        element.innerHTML = '';\n",
              "        dataTable['output_type'] = 'display_data';\n",
              "        await google.colab.output.renderOutput(dataTable, element);\n",
              "        const docLink = document.createElement('div');\n",
              "        docLink.innerHTML = docLinkHtml;\n",
              "        element.appendChild(docLink);\n",
              "      }\n",
              "    </script>\n",
              "  </div>\n",
              "\n",
              "\n",
              "  <div id=\"id_831de215-7230-48c5-93db-b7c6a0cc0edb\">\n",
              "    <style>\n",
              "      .colab-df-generate {\n",
              "        background-color: #E8F0FE;\n",
              "        border: none;\n",
              "        border-radius: 50%;\n",
              "        cursor: pointer;\n",
              "        display: none;\n",
              "        fill: #1967D2;\n",
              "        height: 32px;\n",
              "        padding: 0 0 0 0;\n",
              "        width: 32px;\n",
              "      }\n",
              "\n",
              "      .colab-df-generate:hover {\n",
              "        background-color: #E2EBFA;\n",
              "        box-shadow: 0px 1px 2px rgba(60, 64, 67, 0.3), 0px 1px 3px 1px rgba(60, 64, 67, 0.15);\n",
              "        fill: #174EA6;\n",
              "      }\n",
              "\n",
              "      [theme=dark] .colab-df-generate {\n",
              "        background-color: #3B4455;\n",
              "        fill: #D2E3FC;\n",
              "      }\n",
              "\n",
              "      [theme=dark] .colab-df-generate:hover {\n",
              "        background-color: #434B5C;\n",
              "        box-shadow: 0px 1px 3px 1px rgba(0, 0, 0, 0.15);\n",
              "        filter: drop-shadow(0px 1px 2px rgba(0, 0, 0, 0.3));\n",
              "        fill: #FFFFFF;\n",
              "      }\n",
              "    </style>\n",
              "    <button class=\"colab-df-generate\" onclick=\"generateWithVariable('size_outliers')\"\n",
              "            title=\"Generate code using this dataframe.\"\n",
              "            style=\"display:none;\">\n",
              "\n",
              "  <svg xmlns=\"http://www.w3.org/2000/svg\" height=\"24px\"viewBox=\"0 0 24 24\"\n",
              "       width=\"24px\">\n",
              "    <path d=\"M7,19H8.4L18.45,9,17,7.55,7,17.6ZM5,21V16.75L18.45,3.32a2,2,0,0,1,2.83,0l1.4,1.43a1.91,1.91,0,0,1,.58,1.4,1.91,1.91,0,0,1-.58,1.4L9.25,21ZM18.45,9,17,7.55Zm-12,3A5.31,5.31,0,0,0,4.9,8.1,5.31,5.31,0,0,0,1,6.5,5.31,5.31,0,0,0,4.9,4.9,5.31,5.31,0,0,0,6.5,1,5.31,5.31,0,0,0,8.1,4.9,5.31,5.31,0,0,0,12,6.5,5.46,5.46,0,0,0,6.5,12Z\"/>\n",
              "  </svg>\n",
              "    </button>\n",
              "    <script>\n",
              "      (() => {\n",
              "      const buttonEl =\n",
              "        document.querySelector('#id_831de215-7230-48c5-93db-b7c6a0cc0edb button.colab-df-generate');\n",
              "      buttonEl.style.display =\n",
              "        google.colab.kernel.accessAllowed ? 'block' : 'none';\n",
              "\n",
              "      buttonEl.onclick = () => {\n",
              "        google.colab.notebook.generateWithVariable('size_outliers');\n",
              "      }\n",
              "      })();\n",
              "    </script>\n",
              "  </div>\n",
              "\n",
              "    </div>\n",
              "  </div>\n"
            ]
          },
          "metadata": {},
          "execution_count": 12
        }
      ]
    },
    {
      "cell_type": "code",
      "source": [
        "from sklearn.model_selection import train_test_split\n",
        "\n",
        "# For the purposes of this demonstration, we'll create a simulated feature set and labels.\n",
        "# In practice, you would replace these with the actual features and labels extracted from your audio data.\n",
        "# Let's assume we have 100 samples and 20 features.\n",
        "num_samples = 100\n",
        "num_features = 20\n",
        "\n",
        "# Simulated features (normally this would be your extracted features from the audio files)\n",
        "X_simulated = np.random.rand(num_samples, num_features)\n",
        "\n",
        "# Simulated labels (1 for 'Major', 0 for 'Minor' - binary classification)\n",
        "y_simulated = np.random.randint(0, 2, num_samples)\n",
        "\n",
        "# Split the dataset into training (80%), validation (10%), and test set (10%)\n",
        "X_train, X_temp, y_train, y_temp = train_test_split(X_simulated, y_simulated, test_size=0.2, random_state=42)\n",
        "X_val, X_test, y_val, y_test = train_test_split(X_temp, y_temp, test_size=0.5, random_state=42)\n",
        "\n",
        "(X_train.shape, y_train.shape), (X_val.shape, y_val.shape), (X_test.shape, y_test.shape)\n"
      ],
      "metadata": {
        "colab": {
          "base_uri": "https://localhost:8080/"
        },
        "id": "2xAIfo7g1Orj",
        "outputId": "77673b78-07fd-4d11-b473-bd3ddbeafcaf"
      },
      "execution_count": null,
      "outputs": [
        {
          "output_type": "execute_result",
          "data": {
            "text/plain": [
              "(((80, 20), (80,)), ((10, 20), (10,)), ((10, 20), (10,)))"
            ]
          },
          "metadata": {},
          "execution_count": 13
        }
      ]
    },
    {
      "cell_type": "markdown",
      "source": [
        "### Data Splitting"
      ],
      "metadata": {
        "id": "L-qxnKbv4xbb"
      }
    },
    {
      "cell_type": "code",
      "source": [
        "import numpy as np\n",
        "\n",
        "# Redefine the simulated features and labels with NumPy\n",
        "# Simulated features (normally this would be your extracted features from the audio files)\n",
        "X_simulated = np.random.rand(num_samples, num_features)\n",
        "\n",
        "# Simulated labels (1 for 'Major', 0 for 'Minor' - binary classification)\n",
        "y_simulated = np.random.randint(0, 2, num_samples)\n",
        "\n",
        "# Split the dataset into training (80%), validation (10%), and test set (10%)\n",
        "X_train, X_temp, y_train, y_temp = train_test_split(X_simulated, y_simulated, test_size=0.2, random_state=42)\n",
        "X_val, X_test, y_val, y_test = train_test_split(X_temp, y_temp, test_size=0.5, random_state=42)\n",
        "\n",
        "(X_train.shape, y_train.shape), (X_val.shape, y_val.shape), (X_test.shape, y_test.shape)\n"
      ],
      "metadata": {
        "colab": {
          "base_uri": "https://localhost:8080/"
        },
        "id": "8o_GhtHA1UsE",
        "outputId": "0bee0750-3ced-4b65-fb89-01f084d6ec8e"
      },
      "execution_count": null,
      "outputs": [
        {
          "output_type": "execute_result",
          "data": {
            "text/plain": [
              "(((80, 20), (80,)), ((10, 20), (10,)), ((10, 20), (10,)))"
            ]
          },
          "metadata": {},
          "execution_count": 14
        }
      ]
    },
    {
      "cell_type": "markdown",
      "source": [
        "### Logistic Regrsssion Model"
      ],
      "metadata": {
        "id": "kcUypapp5E7P"
      }
    },
    {
      "cell_type": "code",
      "source": [
        "from sklearn.linear_model import LogisticRegression\n",
        "from sklearn.ensemble import RandomForestClassifier\n",
        "from sklearn.metrics import classification_report, accuracy_score\n",
        "\n",
        "# Initialize the models\n",
        "logistic_model = LogisticRegression(random_state=42)\n",
        "random_forest_model = RandomForestClassifier(random_state=42)\n",
        "\n",
        "# Train the Logistic Regression model\n",
        "logistic_model.fit(X_train, y_train)\n",
        "# Predict on the validation set\n",
        "y_val_pred_logistic = logistic_model.predict(X_val)\n",
        "# Evaluate the Logistic Regression model\n",
        "logistic_accuracy = accuracy_score(y_val, y_val_pred_logistic)\n",
        "logistic_report = classification_report(y_val, y_val_pred_logistic)\n",
        "\n",
        "# Train the Random Forest model\n",
        "random_forest_model.fit(X_train, y_train)\n",
        "# Predict on the validation set\n",
        "y_val_pred_rf = random_forest_model.predict(X_val)\n",
        "# Evaluate the Random Forest model\n",
        "rf_accuracy = accuracy_score(y_val, y_val_pred_rf)\n",
        "rf_report = classification_report(y_val, y_val_pred_rf)\n",
        "\n",
        "(logistic_accuracy, logistic_report), (rf_accuracy, rf_report)\n"
      ],
      "metadata": {
        "colab": {
          "base_uri": "https://localhost:8080/"
        },
        "id": "cXRgmjJk1Wsb",
        "outputId": "f801f1c3-4e99-42ce-d781-99c04cdba6db"
      },
      "execution_count": null,
      "outputs": [
        {
          "output_type": "execute_result",
          "data": {
            "text/plain": [
              "((0.4,\n",
              "  '              precision    recall  f1-score   support\\n\\n           0       0.33      0.20      0.25         5\\n           1       0.43      0.60      0.50         5\\n\\n    accuracy                           0.40        10\\n   macro avg       0.38      0.40      0.38        10\\nweighted avg       0.38      0.40      0.38        10\\n'),\n",
              " (0.4,\n",
              "  '              precision    recall  f1-score   support\\n\\n           0       0.40      0.40      0.40         5\\n           1       0.40      0.40      0.40         5\\n\\n    accuracy                           0.40        10\\n   macro avg       0.40      0.40      0.40        10\\nweighted avg       0.40      0.40      0.40        10\\n'))"
            ]
          },
          "metadata": {},
          "execution_count": 15
        }
      ]
    },
    {
      "cell_type": "markdown",
      "source": [
        "### Model Selection"
      ],
      "metadata": {
        "id": "j8p_OZlG43p6"
      }
    },
    {
      "cell_type": "code",
      "source": [
        "from sklearn.model_selection import GridSearchCV\n",
        "\n",
        "# Define the parameter grid for Random Forest\n",
        "param_grid = {\n",
        "    'n_estimators': [10, 50, 100],\n",
        "    'max_depth': [None, 10, 20, 30],\n",
        "    'min_samples_split': [2, 5, 10],\n",
        "    'min_samples_leaf': [1, 2, 4]\n",
        "}\n",
        "\n",
        "# Initialize the GridSearchCV object\n",
        "grid_search = GridSearchCV(estimator=random_forest_model, param_grid=param_grid, cv=3, n_jobs=-1, verbose=2)\n",
        "\n",
        "# Perform the grid search on the training data\n",
        "grid_search.fit(X_train, y_train)\n",
        "\n",
        "# Best parameters\n",
        "best_params = grid_search.best_params_\n",
        "best_rf_model = grid_search.best_estimator_\n",
        "\n",
        "# Predict on the test set with the best Random Forest model\n",
        "y_test_pred = best_rf_model.predict(X_test)\n",
        "\n",
        "# Evaluate the best Random Forest model on the test set\n",
        "test_accuracy = accuracy_score(y_test, y_test_pred)\n",
        "test_report = classification_report(y_test, y_test_pred)\n",
        "\n",
        "best_params, test_accuracy, test_report\n"
      ],
      "metadata": {
        "colab": {
          "base_uri": "https://localhost:8080/"
        },
        "id": "Wvjubz561YxN",
        "outputId": "80b9eb99-3a9d-43a3-b4c6-d4fe2f248978"
      },
      "execution_count": null,
      "outputs": [
        {
          "output_type": "stream",
          "name": "stdout",
          "text": [
            "Fitting 3 folds for each of 108 candidates, totalling 324 fits\n"
          ]
        },
        {
          "output_type": "execute_result",
          "data": {
            "text/plain": [
              "({'max_depth': None,\n",
              "  'min_samples_leaf': 1,\n",
              "  'min_samples_split': 2,\n",
              "  'n_estimators': 10},\n",
              " 0.7,\n",
              " '              precision    recall  f1-score   support\\n\\n           0       0.50      1.00      0.67         3\\n           1       1.00      0.57      0.73         7\\n\\n    accuracy                           0.70        10\\n   macro avg       0.75      0.79      0.70        10\\nweighted avg       0.85      0.70      0.71        10\\n')"
            ]
          },
          "metadata": {},
          "execution_count": 16
        }
      ]
    },
    {
      "cell_type": "markdown",
      "source": [
        "# Ensemble Model\n",
        "\n",
        "Ensemble models combine the predictions of several base estimators built with a given learning algorithm in order to improve generalizability and robustness over a single estimator. There are several methods for creating ensemble models:\n",
        "\n",
        "1. **Bagging**: Builds multiple instances of a classifier on random subsets of the original dataset and then aggregates their individual predictions to form a final prediction. The Random Forest algorithm is an example of a bagging ensemble.\n",
        "\n",
        "2. **Boosting**: Combines multiple weak models to create a strong model. Boosting algorithms train predictors sequentially, each trying to correct its predecessor. Examples include AdaBoost, Gradient Boosting, and XGBoost.\n",
        "\n",
        "3. **Stacking**: Stacks the predictions of multiple classification models and then trains a new model to combine these predictions.\n",
        "\n"
      ],
      "metadata": {
        "id": "4jukt2ua47-R"
      }
    },
    {
      "cell_type": "code",
      "source": [
        "from sklearn.ensemble import GradientBoostingClassifier\n",
        "\n",
        "# Initialize the Gradient Boosting Classifier\n",
        "gradient_boosting_model = GradientBoostingClassifier(random_state=42)\n",
        "\n",
        "# Train the Gradient Boosting model\n",
        "gradient_boosting_model.fit(X_train, y_train)\n",
        "\n",
        "# Predict on the validation set\n",
        "y_val_pred_gb = gradient_boosting_model.predict(X_val)\n",
        "\n",
        "# Evaluate the Gradient Boosting model\n",
        "gb_accuracy = accuracy_score(y_val, y_val_pred_gb)\n",
        "gb_report = classification_report(y_val, y_val_pred_gb)\n",
        "\n",
        "gb_accuracy, gb_report\n"
      ],
      "metadata": {
        "colab": {
          "base_uri": "https://localhost:8080/"
        },
        "id": "ble1VBQ-1bnc",
        "outputId": "d20bc433-332b-448f-dc8c-214499ef2e1c"
      },
      "execution_count": null,
      "outputs": [
        {
          "output_type": "execute_result",
          "data": {
            "text/plain": [
              "(0.3,\n",
              " '              precision    recall  f1-score   support\\n\\n           0       0.25      0.20      0.22         5\\n           1       0.33      0.40      0.36         5\\n\\n    accuracy                           0.30        10\\n   macro avg       0.29      0.30      0.29        10\\nweighted avg       0.29      0.30      0.29        10\\n')"
            ]
          },
          "metadata": {},
          "execution_count": 17
        }
      ]
    },
    {
      "cell_type": "code",
      "source": [
        "# Define the parameter grid for Gradient Boosting\n",
        "gb_param_grid = {\n",
        "    'n_estimators': [10, 50, 100],\n",
        "    'learning_rate': [0.01, 0.1, 0.2],\n",
        "    'max_depth': [3, 5, 10],\n",
        "    'min_samples_split': [2, 4, 6],\n",
        "    'min_samples_leaf': [1, 2, 3]\n",
        "}\n",
        "\n",
        "# Initialize the GridSearchCV object for Gradient Boosting\n",
        "gb_grid_search = GridSearchCV(estimator=gradient_boosting_model, param_grid=gb_param_grid, cv=3, n_jobs=-1, verbose=2)\n",
        "\n",
        "# Perform the grid search on the training data for Gradient Boosting\n",
        "gb_grid_search.fit(X_train, y_train)\n",
        "\n",
        "# Best parameters for Gradient Boosting\n",
        "gb_best_params = gb_grid_search.best_params_\n",
        "gb_best_model = gb_grid_search.best_estimator_\n",
        "\n",
        "# Predict on the validation set with the best Gradient Boosting model\n",
        "y_val_pred_best_gb = gb_best_model.predict(X_val)\n",
        "\n",
        "# Evaluate the best Gradient Boosting model on the validation set\n",
        "best_gb_accuracy = accuracy_score(y_val, y_val_pred_best_gb)\n",
        "best_gb_report = classification_report(y_val, y_val_pred_best_gb)\n",
        "\n",
        "gb_best_params, best_gb_accuracy, best_gb_report\n"
      ],
      "metadata": {
        "colab": {
          "base_uri": "https://localhost:8080/"
        },
        "id": "_y1sDzss1dos",
        "outputId": "ed9452b8-f042-45bd-9424-b56ef72b02fc"
      },
      "execution_count": null,
      "outputs": [
        {
          "output_type": "stream",
          "name": "stdout",
          "text": [
            "Fitting 3 folds for each of 243 candidates, totalling 729 fits\n"
          ]
        },
        {
          "output_type": "execute_result",
          "data": {
            "text/plain": [
              "({'learning_rate': 0.2,\n",
              "  'max_depth': 3,\n",
              "  'min_samples_leaf': 3,\n",
              "  'min_samples_split': 2,\n",
              "  'n_estimators': 10},\n",
              " 0.3,\n",
              " '              precision    recall  f1-score   support\\n\\n           0       0.25      0.20      0.22         5\\n           1       0.33      0.40      0.36         5\\n\\n    accuracy                           0.30        10\\n   macro avg       0.29      0.30      0.29        10\\nweighted avg       0.29      0.30      0.29        10\\n')"
            ]
          },
          "metadata": {},
          "execution_count": 18
        }
      ]
    },
    {
      "cell_type": "code",
      "source": [
        "# Predict on the test set with the best Gradient Boosting model\n",
        "y_test_pred_best_gb = gb_best_model.predict(X_test)\n",
        "\n",
        "# Evaluate the best Gradient Boosting model on the test set\n",
        "best_gb_test_accuracy = accuracy_score(y_test, y_test_pred_best_gb)\n",
        "best_gb_test_report = classification_report(y_test, y_test_pred_best_gb)\n",
        "\n",
        "best_gb_test_accuracy, best_gb_test_report\n"
      ],
      "metadata": {
        "colab": {
          "base_uri": "https://localhost:8080/"
        },
        "id": "X0Jfn5171fqb",
        "outputId": "f60573f4-0247-41d9-af43-c6e2583b05fd"
      },
      "execution_count": null,
      "outputs": [
        {
          "output_type": "execute_result",
          "data": {
            "text/plain": [
              "(0.5,\n",
              " '              precision    recall  f1-score   support\\n\\n           0       0.33      0.67      0.44         3\\n           1       0.75      0.43      0.55         7\\n\\n    accuracy                           0.50        10\\n   macro avg       0.54      0.55      0.49        10\\nweighted avg       0.62      0.50      0.52        10\\n')"
            ]
          },
          "metadata": {},
          "execution_count": 19
        }
      ]
    },
    {
      "cell_type": "code",
      "source": [
        "from sklearn.ensemble import StackingClassifier\n",
        "\n",
        "# Define the base models\n",
        "base_models = [\n",
        "    ('lr', logistic_model),\n",
        "    ('rf', best_rf_model),\n",
        "    ('gb', gb_best_model)\n",
        "]\n",
        "\n",
        "# Initialize the Stacking Classifier with the base models and a final Logistic Regression model as the meta-learner\n",
        "stacking_model = StackingClassifier(estimators=base_models, final_estimator=LogisticRegression(), cv=5)\n",
        "\n",
        "# Train the Stacking Classifier\n",
        "stacking_model.fit(X_train, y_train)\n",
        "\n",
        "# Predict on the test set\n",
        "y_test_pred_stacking = stacking_model.predict(X_test)\n",
        "\n",
        "# Evaluate the Stacking Classifier on the test set\n",
        "stacking_test_accuracy = accuracy_score(y_test, y_test_pred_stacking)\n",
        "stacking_test_report = classification_report(y_test, y_test_pred_stacking)\n",
        "\n",
        "stacking_test_accuracy, stacking_test_report\n"
      ],
      "metadata": {
        "colab": {
          "base_uri": "https://localhost:8080/"
        },
        "id": "rVBf6gRy1iFn",
        "outputId": "d3133c9c-c0b1-42ed-fc9c-6ba935cee6c8"
      },
      "execution_count": null,
      "outputs": [
        {
          "output_type": "execute_result",
          "data": {
            "text/plain": [
              "(0.3,\n",
              " '              precision    recall  f1-score   support\\n\\n           0       0.17      0.33      0.22         3\\n           1       0.50      0.29      0.36         7\\n\\n    accuracy                           0.30        10\\n   macro avg       0.33      0.31      0.29        10\\nweighted avg       0.40      0.30      0.32        10\\n')"
            ]
          },
          "metadata": {},
          "execution_count": 20
        }
      ]
    },
    {
      "cell_type": "code",
      "source": [
        "pip install imbalanced-learn\n"
      ],
      "metadata": {
        "colab": {
          "base_uri": "https://localhost:8080/"
        },
        "id": "JONHI0Uq1qmy",
        "outputId": "571b71ae-9848-468f-a70f-889419d5f7aa"
      },
      "execution_count": null,
      "outputs": [
        {
          "output_type": "stream",
          "name": "stdout",
          "text": [
            "Requirement already satisfied: imbalanced-learn in /usr/local/lib/python3.10/dist-packages (0.11.0)\n",
            "Requirement already satisfied: numpy>=1.17.3 in /usr/local/lib/python3.10/dist-packages (from imbalanced-learn) (1.23.5)\n",
            "Requirement already satisfied: scipy>=1.5.0 in /usr/local/lib/python3.10/dist-packages (from imbalanced-learn) (1.9.0)\n",
            "Requirement already satisfied: scikit-learn>=1.0.2 in /usr/local/lib/python3.10/dist-packages (from imbalanced-learn) (1.3.2)\n",
            "Requirement already satisfied: joblib>=1.1.1 in /usr/local/lib/python3.10/dist-packages (from imbalanced-learn) (1.3.2)\n",
            "Requirement already satisfied: threadpoolctl>=2.0.0 in /usr/local/lib/python3.10/dist-packages (from imbalanced-learn) (3.2.0)\n"
          ]
        }
      ]
    },
    {
      "cell_type": "code",
      "source": [
        "from imblearn.over_sampling import SMOTE\n",
        "\n",
        "# Apply SMOTE to the training data\n",
        "smote = SMOTE(random_state=42)\n",
        "X_train_smote, y_train_smote = smote.fit_resample(X_train, y_train)\n",
        "\n",
        "# Train the Random Forest model on the SMOTE-augmented training data\n",
        "smote_rf_model = RandomForestClassifier(random_state=42)\n",
        "smote_rf_model.fit(X_train_smote, y_train_smote)\n",
        "\n",
        "# Predict on the validation set\n",
        "y_val_pred_smote = smote_rf_model.predict(X_val)\n",
        "\n",
        "# Evaluate the Random Forest model trained with SMOTE on the validation set\n",
        "smote_rf_accuracy = accuracy_score(y_val, y_val_pred_smote)\n",
        "smote_rf_report = classification_report(y_val, y_val_pred_smote)\n",
        "\n",
        "smote_rf_accuracy, smote_rf_report\n"
      ],
      "metadata": {
        "colab": {
          "base_uri": "https://localhost:8080/"
        },
        "id": "AO5NhdpR1kUe",
        "outputId": "f6be3469-1709-4c7d-cd2b-b067a993dcf3"
      },
      "execution_count": null,
      "outputs": [
        {
          "output_type": "execute_result",
          "data": {
            "text/plain": [
              "(0.7,\n",
              " '              precision    recall  f1-score   support\\n\\n           0       0.75      0.60      0.67         5\\n           1       0.67      0.80      0.73         5\\n\\n    accuracy                           0.70        10\\n   macro avg       0.71      0.70      0.70        10\\nweighted avg       0.71      0.70      0.70        10\\n')"
            ]
          },
          "metadata": {},
          "execution_count": 22
        }
      ]
    },
    {
      "cell_type": "code",
      "source": [
        "# Train the Random Forest model with class weight balanced\n",
        "balanced_rf_model = RandomForestClassifier(random_state=42, class_weight='balanced')\n",
        "balanced_rf_model.fit(X_train, y_train)\n",
        "\n",
        "# Predict on the validation set\n",
        "y_val_pred_balanced_rf = balanced_rf_model.predict(X_val)\n",
        "\n",
        "# Evaluate the Random Forest model with balanced class weights on the validation set\n",
        "balanced_rf_accuracy = accuracy_score(y_val, y_val_pred_balanced_rf)\n",
        "balanced_rf_report = classification_report(y_val, y_val_pred_balanced_rf)\n",
        "\n",
        "balanced_rf_accuracy, balanced_rf_report\n"
      ],
      "metadata": {
        "colab": {
          "base_uri": "https://localhost:8080/"
        },
        "id": "9iME5xQD1oz8",
        "outputId": "f95ed7de-b188-488f-fee8-62211a31ae3d"
      },
      "execution_count": null,
      "outputs": [
        {
          "output_type": "execute_result",
          "data": {
            "text/plain": [
              "(0.4,\n",
              " '              precision    recall  f1-score   support\\n\\n           0       0.40      0.40      0.40         5\\n           1       0.40      0.40      0.40         5\\n\\n    accuracy                           0.40        10\\n   macro avg       0.40      0.40      0.40        10\\nweighted avg       0.40      0.40      0.40        10\\n')"
            ]
          },
          "metadata": {},
          "execution_count": 23
        }
      ]
    },
    {
      "cell_type": "markdown",
      "source": [
        "\n",
        "\n",
        "### Feature Engineering:\n",
        "1. **Spectral Features**: Extract features such as spectral centroid, spectral bandwidth, spectral roll-off, and spectral contrast. These features describe the spectral content of the audio signal and are useful for distinguishing different types of sounds.\n",
        "2. **Temporal Features**: Calculate features like zero-crossing rate and tempo. These features can capture the rhythm and pace of the audio.\n",
        "3. **MFCCs (Mel-Frequency Cepstral Coefficients)**: MFCCs are a representation of the short-term power spectrum of sound and are commonly used in audio classification tasks.\n",
        "4. **Chroma Features**: Analyze the twelve different pitch classes and look at the distribution of energy among these classes.\n",
        "\n",
        "These features can be extracted using libraries like `librosa` for Python, which is designed for music and audio analysis.\n",
        "\n",
        "### Feature Selection:\n",
        "1. **Filter Methods**: Use statistical measures to select features that have the strongest relationship with the output variable. This could include correlation coefficients, Chi-squared tests, or mutual information.\n",
        "2. **Wrapper Methods**: Implement methods like Recursive Feature Elimination, which recursively removes the least important features and builds a model on the remaining features.\n",
        "3. **Embedded Methods**: Use models that perform feature selection during the model training process, such as Lasso and Random Forest, which can provide feature importances.\n"
      ],
      "metadata": {
        "id": "ndv_gGya5cS2"
      }
    },
    {
      "cell_type": "code",
      "source": [
        "from sklearn.feature_selection import SelectFromModel\n",
        "\n",
        "# Fit the Random Forest to get feature importances\n",
        "feature_selector = RandomForestClassifier(random_state=42)\n",
        "feature_selector.fit(X_train, y_train)\n",
        "\n",
        "# Get feature importances\n",
        "feature_importances = feature_selector.feature_importances_\n",
        "\n",
        "# Select features based on importance\n",
        "selector = SelectFromModel(feature_selector, prefit=True)\n",
        "X_train_selected = selector.transform(X_train)\n",
        "X_val_selected = selector.transform(X_val)\n",
        "X_test_selected = selector.transform(X_test)\n",
        "\n",
        "# Train a new model on the selected features\n",
        "selected_features_rf_model = RandomForestClassifier(random_state=42)\n",
        "selected_features_rf_model.fit(X_train_selected, y_train)\n",
        "\n",
        "# Predict on the validation set using only selected features\n",
        "y_val_pred_selected_features = selected_features_rf_model.predict(X_val_selected)\n",
        "\n",
        "# Evaluate the model with selected features on the validation set\n",
        "selected_features_accuracy = accuracy_score(y_val, y_val_pred_selected_features)\n",
        "selected_features_report = classification_report(y_val, y_val_pred_selected_features)\n",
        "\n",
        "selected_features_accuracy, selected_features_report, feature_importances\n"
      ],
      "metadata": {
        "colab": {
          "base_uri": "https://localhost:8080/"
        },
        "id": "YMzVJVzK1wbm",
        "outputId": "cdd88f22-df19-4009-b9bc-8854f4901f75"
      },
      "execution_count": null,
      "outputs": [
        {
          "output_type": "execute_result",
          "data": {
            "text/plain": [
              "(0.6,\n",
              " '              precision    recall  f1-score   support\\n\\n           0       0.57      0.80      0.67         5\\n           1       0.67      0.40      0.50         5\\n\\n    accuracy                           0.60        10\\n   macro avg       0.62      0.60      0.58        10\\nweighted avg       0.62      0.60      0.58        10\\n',\n",
              " array([0.04759221, 0.05649256, 0.0597487 , 0.04792504, 0.04967723,\n",
              "        0.06220448, 0.03508577, 0.0556882 , 0.05205692, 0.05319594,\n",
              "        0.04042864, 0.04990729, 0.054895  , 0.04497168, 0.04385988,\n",
              "        0.041143  , 0.07318051, 0.0486453 , 0.03611363, 0.04718804]))"
            ]
          },
          "metadata": {},
          "execution_count": 24
        }
      ]
    },
    {
      "cell_type": "markdown",
      "source": [
        "### Correlation Matrix"
      ],
      "metadata": {
        "id": "LE5mypTu5iQa"
      }
    },
    {
      "cell_type": "code",
      "source": [
        "import seaborn as sns\n",
        "import matplotlib.pyplot as plt\n",
        "\n",
        "# Calculate the correlation matrix for the selected features\n",
        "corr_matrix = np.corrcoef(X_train_selected.T)\n",
        "\n",
        "# Create a heatmap to visualize the correlation matrix\n",
        "plt.figure(figsize=(10, 8))\n",
        "sns.heatmap(corr_matrix, annot=True, fmt=\".2f\", cmap=\"coolwarm\", xticklabels=range(X_train_selected.shape[1]), yticklabels=range(X_train_selected.shape[1]))\n",
        "plt.title(\"Correlation Matrix of Selected Features\")\n",
        "plt.show()\n"
      ],
      "metadata": {
        "colab": {
          "base_uri": "https://localhost:8080/",
          "height": 699
        },
        "id": "hl45-7Ya2asJ",
        "outputId": "ee59e62b-c256-4946-be7f-c500d612d03c"
      },
      "execution_count": null,
      "outputs": [
        {
          "output_type": "display_data",
          "data": {
            "text/plain": [
              "<Figure size 1000x800 with 2 Axes>"
            ],
            "image/png": "[encoded data removed]"
          },
          "metadata": {}
        }
      ]
    },
    {
      "cell_type": "markdown",
      "source": [
        "### **Deepen the Multivariate Analysis**:\n",
        "   - Perform a principal component analysis (PCA) to reduce dimensionality while retaining the variance in the dataset. This could also reveal hidden structures in the data.\n",
        "   - Use t-distributed Stochastic Neighbor Embedding (t-SNE) to visualize high-dimensional data in two or three dimensions.\n"
      ],
      "metadata": {
        "id": "oFvEkRhA5pHc"
      }
    },
    {
      "cell_type": "code",
      "source": [
        "from sklearn.decomposition import PCA\n",
        "\n",
        "# Initialize PCA, we choose min(n_samples, n_features) - 1 as the number of components\n",
        "pca = PCA(n_components=min(X_train_selected.shape) - 1)\n",
        "X_train_pca = pca.fit_transform(X_train_selected)\n",
        "\n",
        "# Explained variance ratio for each principal component\n",
        "explained_variance = pca.explained_variance_ratio_\n",
        "\n",
        "# Cumulative explained variance\n",
        "cumulative_explained_variance = np.cumsum(explained_variance)\n",
        "\n",
        "# Plotting the explained variance and the cumulative explained variance\n",
        "plt.figure(figsize=(14, 7))\n",
        "\n",
        "plt.subplot(1, 2, 1)\n",
        "plt.bar(range(1, len(explained_variance) + 1), explained_variance, alpha=0.5, align='center', label='individual explained variance')\n",
        "plt.ylabel('Explained variance ratio')\n",
        "plt.xlabel('Principal component index')\n",
        "plt.legend(loc='best')\n",
        "plt.title('Explained Variance Ratio by Principal Components')\n",
        "\n",
        "plt.subplot(1, 2, 2)\n",
        "plt.step(range(1, len(cumulative_explained_variance) + 1), cumulative_explained_variance, where='mid', label='cumulative explained variance')\n",
        "plt.ylabel('Cumulative explained variance ratio')\n",
        "plt.xlabel('Principal component index')\n",
        "plt.legend(loc='best')\n",
        "plt.title('Cumulative Explained Variance by Principal Components')\n",
        "\n",
        "plt.tight_layout()\n",
        "plt.show()\n"
      ],
      "metadata": {
        "colab": {
          "base_uri": "https://localhost:8080/",
          "height": 707
        },
        "id": "uy6E7hMW2dOi",
        "outputId": "7c2d1a23-e6f6-4264-bb6e-2551dd1b0b23"
      },
      "execution_count": null,
      "outputs": [
        {
          "output_type": "display_data",
          "data": {
            "text/plain": [
              "<Figure size 1400x700 with 2 Axes>"
            ],
            "image/png": "[encoded data removed]"
          },
          "metadata": {}
        }
      ]
    },
    {
      "cell_type": "code",
      "source": [
        "# Based on the cumulative explained variance, let's choose the number of components that explain ~90% of the variance\n",
        "n_components_90_variance = np.argmax(cumulative_explained_variance >= 0.9) + 1\n",
        "\n",
        "# Retrain PCA with the selected number of components\n",
        "pca_90 = PCA(n_components=n_components_90_variance)\n",
        "X_train_pca_90 = pca_90.fit_transform(X_train_selected)\n",
        "X_val_pca_90 = pca_90.transform(X_val_selected)\n",
        "X_test_pca_90 = pca_90.transform(X_test_selected)\n",
        "\n",
        "# Train a new Random Forest model on the PCA-reduced dataset\n",
        "pca_rf_model = RandomForestClassifier(random_state=42)\n",
        "pca_rf_model.fit(X_train_pca_90, y_train)\n",
        "\n",
        "# Predict on the validation set using the PCA-reduced data\n",
        "y_val_pred_pca_rf = pca_rf_model.predict(X_val_pca_90)\n",
        "\n",
        "# Evaluate the model on the PCA-reduced validation set\n",
        "pca_rf_accuracy = accuracy_score(y_val, y_val_pred_pca_rf)\n",
        "pca_rf_report = classification_report(y_val, y_val_pred_pca_rf)\n",
        "\n",
        "pca_rf_accuracy, pca_rf_report\n"
      ],
      "metadata": {
        "colab": {
          "base_uri": "https://localhost:8080/"
        },
        "id": "rrMkMwlE2f14",
        "outputId": "01aea647-8e9e-496c-c7c3-37db2e93f474"
      },
      "execution_count": null,
      "outputs": [
        {
          "output_type": "execute_result",
          "data": {
            "text/plain": [
              "(0.6,\n",
              " '              precision    recall  f1-score   support\\n\\n           0       0.57      0.80      0.67         5\\n           1       0.67      0.40      0.50         5\\n\\n    accuracy                           0.60        10\\n   macro avg       0.62      0.60      0.58        10\\nweighted avg       0.62      0.60      0.58        10\\n')"
            ]
          },
          "metadata": {},
          "execution_count": 27
        }
      ]
    },
    {
      "cell_type": "markdown",
      "source": [
        "Focusing on evaluation metrics beyond accuracy is a crucial step when dealing with imbalanced datasets. Here are some important metrics and methods we could consider:\n",
        "\n",
        "### 1. Confusion Matrix:\n",
        "A detailed breakdown of true positives, false positives, true negatives, and false negatives, providing insight into the types of errors the model is making.\n",
        "\n",
        "### 2. Precision, Recall, and F1-Score:\n",
        "- **Precision**: The ratio of correctly predicted positive observations to the total predicted positives. High precision relates to a low false positive rate.\n",
        "- **Recall (Sensitivity)**: The ratio of correctly predicted positive observations to all observations in the actual class. It is also known as the true positive rate.\n",
        "- **F1-Score**: The weighted average of Precision and Recall. This score takes both false positives and false negatives into account. It's particularly useful if the cost of false positives and false negatives is very different.\n",
        "\n",
        "### 3. Precision-Recall Curve and Average Precision:\n",
        "This curve plots precision vs. recall for different threshold values and is a better measure of success for imbalanced datasets than the ROC curve.\n",
        "\n",
        "### 4. ROC Curve and AUC:\n",
        "The receiver operating characteristic (ROC) curve is a plot of the true positive rate against the false positive rate. The area under the curve (AUC) is a single scalar value that summarizes the performance across all classification thresholds. While the AUC is a popular metric, it can be misleading on highly imbalanced datasets.\n",
        "\n",
        "### 5. Matthews Correlation Coefficient (MCC):\n",
        "MCC takes into account true and false positives and negatives and is generally regarded as a balanced measure that can be used even if the classes are of very different sizes.\n"
      ],
      "metadata": {
        "id": "ixD_Z5IC5yKn"
      }
    },
    {
      "cell_type": "code",
      "source": [
        "from sklearn.metrics import precision_recall_curve, roc_curve, auc, average_precision_score, matthews_corrcoef\n",
        "\n",
        "# Calculate Precision-Recall curve\n",
        "precision, recall, thresholds_pr = precision_recall_curve(y_val, pca_rf_model.predict_proba(X_val_pca_90)[:, 1])\n",
        "average_precision = average_precision_score(y_val, pca_rf_model.predict_proba(X_val_pca_90)[:, 1])\n",
        "\n",
        "# Calculate ROC curve and AUC\n",
        "fpr, tpr, thresholds_roc = roc_curve(y_val, pca_rf_model.predict_proba(X_val_pca_90)[:, 1])\n",
        "roc_auc = auc(fpr, tpr)\n",
        "\n",
        "# Calculate Matthews Correlation Coefficient\n",
        "mcc = matthews_corrcoef(y_val, y_val_pred_pca_rf)\n",
        "\n",
        "# Plot Precision-Recall curve\n",
        "plt.figure(figsize=(15, 5))\n",
        "\n",
        "plt.subplot(1, 2, 1)\n",
        "plt.step(recall, precision, where='post')\n",
        "plt.fill_between(recall, precision, step='post', alpha=0.2)\n",
        "plt.xlabel('Recall')\n",
        "plt.ylabel('Precision')\n",
        "plt.ylim([0.0, 1.05])\n",
        "plt.xlim([0.0, 1.0])\n",
        "plt.title(f'Precision-Recall curve: AP={average_precision:.2f}')\n",
        "\n",
        "# Plot ROC curve\n",
        "plt.subplot(1, 2, 2)\n",
        "plt.plot(fpr, tpr, color='darkorange', lw=2, label=f'ROC curve (area = {roc_auc:.2f})')\n",
        "plt.plot([0, 1], [0, 1], color='navy', lw=2, linestyle='--')\n",
        "plt.xlabel('False Positive Rate')\n",
        "plt.ylabel('True Positive Rate')\n",
        "plt.title('Receiver Operating Characteristic')\n",
        "plt.legend(loc=\"lower right\")\n",
        "\n",
        "plt.tight_layout()\n",
        "plt.show()\n",
        "\n",
        "mcc\n"
      ],
      "metadata": {
        "colab": {
          "base_uri": "https://localhost:8080/",
          "height": 524
        },
        "id": "i8ovFAmO2sCl",
        "outputId": "4824a4e1-892f-4eb4-e380-0b5aac432305"
      },
      "execution_count": null,
      "outputs": [
        {
          "output_type": "display_data",
          "data": {
            "text/plain": [
              "<Figure size 1500x500 with 2 Axes>"
            ],
            "image/png": "[encoded data removed]"
          },
          "metadata": {}
        },
        {
          "output_type": "execute_result",
          "data": {
            "text/plain": [
              "0.2182178902359924"
            ]
          },
          "metadata": {},
          "execution_count": 28
        }
      ]
    },
    {
      "cell_type": "code",
      "source": [
        "# Let's identify a threshold where recall is high while maintaining a reasonable precision\n",
        "# We will look for the point where precision starts to drop significantly and choose the threshold just before that drop\n",
        "\n",
        "# Find the threshold that gives the best trade-off between precision and recall\n",
        "# We aim for a high recall with a reasonable precision\n",
        "idx = np.where(precision > 0.1)[0][0]  # Example: Choosing a precision threshold above 0.1\n",
        "\n",
        "# Use this threshold to classify the validation set\n",
        "threshold_chosen = thresholds_pr[idx]\n",
        "y_val_pred_adj = (pca_rf_model.predict_proba(X_val_pca_90)[:, 1] >= threshold_chosen).astype(int)\n",
        "\n",
        "\n",
        "from sklearn.metrics import precision_score, recall_score, f1_score\n",
        "# Recalculate the metrics with the new threshold\n",
        "new_precision = precision_score(y_val, y_val_pred_adj)\n",
        "new_recall = recall_score(y_val, y_val_pred_adj)\n",
        "new_f1_score = f1_score(y_val, y_val_pred_adj)\n",
        "\n",
        "threshold_chosen, new_precision, new_recall, new_f1_score\n"
      ],
      "metadata": {
        "colab": {
          "base_uri": "https://localhost:8080/"
        },
        "id": "aHoW5EBl2vHm",
        "outputId": "43519946-36f5-4480-ba1c-8de2d80c4991"
      },
      "execution_count": null,
      "outputs": [
        {
          "output_type": "execute_result",
          "data": {
            "text/plain": [
              "(0.27, 0.5, 1.0, 0.6666666666666666)"
            ]
          },
          "metadata": {},
          "execution_count": 30
        }
      ]
    },
    {
      "cell_type": "code",
      "source": [
        "# Predict on the test set using the chosen threshold\n",
        "y_test_pred_adj = (pca_rf_model.predict_proba(X_test_pca_90)[:, 1] >= threshold_chosen).astype(int)\n",
        "\n",
        "# Calculate the metrics for the test set predictions\n",
        "test_precision = precision_score(y_test, y_test_pred_adj)\n",
        "test_recall = recall_score(y_test, y_test_pred_adj)\n",
        "test_f1_score = f1_score(y_test, y_test_pred_adj)\n",
        "\n",
        "test_precision, test_recall, test_f1_score\n"
      ],
      "metadata": {
        "colab": {
          "base_uri": "https://localhost:8080/"
        },
        "id": "gGU-EA6526ow",
        "outputId": "24413888-a9d9-4e03-98cb-06c9a6ae391f"
      },
      "execution_count": null,
      "outputs": [
        {
          "output_type": "execute_result",
          "data": {
            "text/plain": [
              "(0.7, 1.0, 0.8235294117647058)"
            ]
          },
          "metadata": {},
          "execution_count": 31
        }
      ]
    },
    {
      "cell_type": "markdown",
      "source": [
        "For the audio classification dataset we're working with, both clustering and anomaly detection could yield beneficial insights. Here's how each approach could be valuable:\n",
        "\n",
        "### Clustering:\n",
        "- **Discovering Subgroups**: Clustering could help us identify subgroups within the data that might correspond to different types of audio samples or different recording conditions. This could be particularly useful if the dataset contains unlabeled data or if there are nuances within classes that could affect classification performance.\n",
        "\n",
        "- **Feature Engineering**: The results from clustering can sometimes be used as new features. For example, the cluster labels could be used as categorical features or the distance to cluster centroids could be used as a continuous feature.\n",
        "\n",
        "- **Data Exploration**: Clustering can also help in visualizing high-dimensional data in a lower-dimensional space to identify patterns or groupings that aren't immediately obvious.\n",
        "\n",
        "### Anomaly Detection:\n",
        "- **Outlier Removal**: Anomaly detection can identify outliers that could be noise or errors in the data, which if removed, might improve the model's performance.\n",
        "\n",
        "- **Rare Event Detection**: In some cases, anomalies might represent rare but important events that should be modeled separately or might need special attention in the classification process.\n",
        "\n",
        "- **Data Quality**: Anomaly detection can also highlight issues with data quality, such as inconsistent labeling or issues with the data collection process.\n"
      ],
      "metadata": {
        "id": "vatm5VcC57M1"
      }
    },
    {
      "cell_type": "code",
      "source": [
        "from sklearn.cluster import KMeans\n",
        "from sklearn.preprocessing import StandardScaler\n",
        "from sklearn.metrics import silhouette_score\n",
        "\n",
        "# Since clustering is affected by the scale of the data, we first standardize the features\n",
        "scaler = StandardScaler()\n",
        "X_scaled = scaler.fit_transform(X_train_selected)\n",
        "\n",
        "# Use the elbow method to find the optimal number of clusters\n",
        "inertia = []\n",
        "silhouettes = []\n",
        "for i in range(2, 11):  # Testing 2 to 10 clusters\n",
        "    kmeans = KMeans(n_clusters=i, random_state=42)\n",
        "    kmeans.fit(X_scaled)\n",
        "    inertia.append(kmeans.inertia_)\n",
        "    # Compute the silhouette scores for each sample\n",
        "    silhouette_avg = silhouette_score(X_scaled, kmeans.labels_)\n",
        "    silhouettes.append(silhouette_avg)\n",
        "\n",
        "# Plot the elbow graph for inertia\n",
        "plt.figure(figsize=(12, 5))\n",
        "\n",
        "plt.subplot(1, 2, 1)\n",
        "plt.plot(range(2, 11), inertia, marker='o')\n",
        "plt.title('Elbow Method For Optimal k')\n",
        "plt.xlabel('Number of clusters')\n",
        "plt.ylabel('Inertia')\n",
        "\n",
        "# Plot the silhouette scores\n",
        "plt.subplot(1, 2, 2)\n",
        "plt.plot(range(2, 11), silhouettes, marker='o')\n",
        "plt.title('Silhouette Scores For Optimal k')\n",
        "plt.xlabel('Number of clusters')\n",
        "plt.ylabel('Silhouette score')\n",
        "\n",
        "plt.tight_layout()\n",
        "plt.show()\n"
      ],
      "metadata": {
        "colab": {
          "base_uri": "https://localhost:8080/",
          "height": 820
        },
        "id": "78NprQFA3Bnt",
        "outputId": "d1edb948-353d-4fb8-b871-2b12a40d0d5c"
      },
      "execution_count": null,
      "outputs": [
        {
          "output_type": "stream",
          "name": "stderr",
          "text": [
            "/usr/local/lib/python3.10/dist-packages/sklearn/cluster/_kmeans.py:1416: FutureWarning: The default value of `n_init` will change from 10 to 'auto' in 1.4. Set the value of `n_init` explicitly to suppress the warning\n",
            "  super()._check_params_vs_input(X, default_n_init=10)\n",
            "/usr/local/lib/python3.10/dist-packages/sklearn/cluster/_kmeans.py:1416: FutureWarning: The default value of `n_init` will change from 10 to 'auto' in 1.4. Set the value of `n_init` explicitly to suppress the warning\n",
            "  super()._check_params_vs_input(X, default_n_init=10)\n",
            "/usr/local/lib/python3.10/dist-packages/sklearn/cluster/_kmeans.py:1416: FutureWarning: The default value of `n_init` will change from 10 to 'auto' in 1.4. Set the value of `n_init` explicitly to suppress the warning\n",
            "  super()._check_params_vs_input(X, default_n_init=10)\n",
            "/usr/local/lib/python3.10/dist-packages/sklearn/cluster/_kmeans.py:1416: FutureWarning: The default value of `n_init` will change from 10 to 'auto' in 1.4. Set the value of `n_init` explicitly to suppress the warning\n",
            "  super()._check_params_vs_input(X, default_n_init=10)\n",
            "/usr/local/lib/python3.10/dist-packages/sklearn/cluster/_kmeans.py:1416: FutureWarning: The default value of `n_init` will change from 10 to 'auto' in 1.4. Set the value of `n_init` explicitly to suppress the warning\n",
            "  super()._check_params_vs_input(X, default_n_init=10)\n",
            "/usr/local/lib/python3.10/dist-packages/sklearn/cluster/_kmeans.py:1416: FutureWarning: The default value of `n_init` will change from 10 to 'auto' in 1.4. Set the value of `n_init` explicitly to suppress the warning\n",
            "  super()._check_params_vs_input(X, default_n_init=10)\n",
            "/usr/local/lib/python3.10/dist-packages/sklearn/cluster/_kmeans.py:1416: FutureWarning: The default value of `n_init` will change from 10 to 'auto' in 1.4. Set the value of `n_init` explicitly to suppress the warning\n",
            "  super()._check_params_vs_input(X, default_n_init=10)\n",
            "/usr/local/lib/python3.10/dist-packages/sklearn/cluster/_kmeans.py:1416: FutureWarning: The default value of `n_init` will change from 10 to 'auto' in 1.4. Set the value of `n_init` explicitly to suppress the warning\n",
            "  super()._check_params_vs_input(X, default_n_init=10)\n",
            "/usr/local/lib/python3.10/dist-packages/sklearn/cluster/_kmeans.py:1416: FutureWarning: The default value of `n_init` will change from 10 to 'auto' in 1.4. Set the value of `n_init` explicitly to suppress the warning\n",
            "  super()._check_params_vs_input(X, default_n_init=10)\n"
          ]
        },
        {
          "output_type": "display_data",
          "data": {
            "text/plain": [
              "<Figure size 1200x500 with 2 Axes>"
            ],
            "image/png": "[encoded data removed]"
          },
          "metadata": {}
        }
      ]
    },
    {
      "cell_type": "code",
      "source": [
        "# Fit K-means with the optimal number of clusters identified (2 clusters)\n",
        "optimal_clusters = 2\n",
        "kmeans = KMeans(n_clusters=optimal_clusters, random_state=42)\n",
        "kmeans.fit(X_scaled)\n",
        "\n",
        "# Assign the cluster labels to the training data\n",
        "train_cluster_labels = kmeans.labels_\n",
        "\n",
        "# Let's look at the distribution of data points in each cluster\n",
        "cluster_distribution = pd.Series(train_cluster_labels).value_counts().sort_index()\n",
        "\n",
        "# Now we can also visualize the clusters using a dimensionality reduction method, for instance, t-SNE\n",
        "from sklearn.manifold import TSNE\n",
        "\n",
        "# Perform t-SNE on the scaled data\n",
        "tsne = TSNE(n_components=2, random_state=42)\n",
        "X_tsne = tsne.fit_transform(X_scaled)\n",
        "\n",
        "# Plot the t-SNE results with cluster labels\n",
        "plt.figure(figsize=(8, 8))\n",
        "plt.scatter(X_tsne[:, 0], X_tsne[:, 1], c=train_cluster_labels, cmap='viridis', marker='o', alpha=0.7)\n",
        "plt.title('t-SNE plot with K-means Cluster Labels')\n",
        "plt.xlabel('t-SNE Feature 1')\n",
        "plt.ylabel('t-SNE Feature 2')\n",
        "plt.colorbar(label='Cluster Label')\n",
        "plt.show()\n",
        "\n",
        "cluster_distribution\n"
      ],
      "metadata": {
        "colab": {
          "base_uri": "https://localhost:8080/",
          "height": 805
        },
        "id": "D40TA0dX3D_F",
        "outputId": "f750eecb-489a-4ddb-e6e1-1a4fd6167c67"
      },
      "execution_count": null,
      "outputs": [
        {
          "output_type": "stream",
          "name": "stderr",
          "text": [
            "/usr/local/lib/python3.10/dist-packages/sklearn/cluster/_kmeans.py:1416: FutureWarning: The default value of `n_init` will change from 10 to 'auto' in 1.4. Set the value of `n_init` explicitly to suppress the warning\n",
            "  super()._check_params_vs_input(X, default_n_init=10)\n"
          ]
        },
        {
          "output_type": "display_data",
          "data": {
            "text/plain": [
              "<Figure size 800x800 with 2 Axes>"
            ],
            "image/png": "[encoded data removed]"
          },
          "metadata": {}
        },
        {
          "output_type": "execute_result",
          "data": {
            "text/plain": [
              "0    32\n",
              "1    48\n",
              "dtype: int64"
            ]
          },
          "metadata": {},
          "execution_count": 33
        }
      ]
    },
    {
      "cell_type": "markdown",
      "source": [
        "### Isolation Forest Algorithm for Anomaly Detection\n"
      ],
      "metadata": {
        "id": "pG1GOJRZ6C_1"
      }
    },
    {
      "cell_type": "code",
      "source": [
        "from sklearn.ensemble import IsolationForest\n",
        "\n",
        "# Fit the Isolation Forest model\n",
        "iso_forest = IsolationForest(n_estimators=100, contamination=0.01, random_state=42)\n",
        "iso_forest.fit(X_scaled)\n",
        "\n",
        "# Predict the anomalies (-1 for outliers and 1 for inliers)\n",
        "anomalies = iso_forest.predict(X_scaled)\n",
        "anomaly_scores = iso_forest.decision_function(X_scaled)\n",
        "\n",
        "# Convert the prediction to a boolean array: True if anomaly, False if normal\n",
        "anomalies_bool = anomalies == -1\n",
        "\n",
        "# Count the number of anomalies detected\n",
        "num_anomalies = np.sum(anomalies_bool)\n",
        "num_normal = len(anomalies_bool) - num_anomalies\n",
        "\n",
        "# Let's review the distribution of anomaly scores and the number of anomalies detected\n",
        "plt.figure(figsize=(15, 5))\n",
        "\n",
        "plt.subplot(1, 2, 1)\n",
        "plt.hist(anomaly_scores, bins=50)\n",
        "plt.title('Histogram of Anomaly Scores')\n",
        "plt.xlabel('Anomaly Score')\n",
        "plt.ylabel('Frequency')\n",
        "\n",
        "plt.subplot(1, 2, 2)\n",
        "sns.countplot(anomalies_bool)\n",
        "plt.title('Count of Anomalies and Normal Points')\n",
        "plt.xlabel('Is Anomaly')\n",
        "plt.xticks([0, 1], ['Normal', 'Anomaly'])\n",
        "plt.ylabel('Count')\n",
        "\n",
        "plt.tight_layout()\n",
        "plt.show()\n",
        "\n",
        "(num_anomalies, num_normal)\n"
      ],
      "metadata": {
        "colab": {
          "base_uri": "https://localhost:8080/",
          "height": 524
        },
        "id": "RjM54Ztq3Ftq",
        "outputId": "41d2d4b5-2930-4713-9e51-52a92418500a"
      },
      "execution_count": null,
      "outputs": [
        {
          "output_type": "display_data",
          "data": {
            "text/plain": [
              "<Figure size 1500x500 with 2 Axes>"
            ],
            "image/png": "[encoded data removed]"
          },
          "metadata": {}
        },
        {
          "output_type": "execute_result",
          "data": {
            "text/plain": [
              "(1, 79)"
            ]
          },
          "metadata": {},
          "execution_count": 34
        }
      ]
    },
    {
      "cell_type": "markdown",
      "source": [
        "### AutoML with auto-Sklearn"
      ],
      "metadata": {
        "id": "1sgPg2aE6KDf"
      }
    },
    {
      "cell_type": "code",
      "source": [
        "import autosklearn.classification\n",
        "\n",
        "# Create the AutoML classifier\n",
        "automl = autosklearn.classification.AutoSklearnClassifier(time_left_for_this_task=120, per_run_time_limit=30)\n",
        "\n",
        "# Assuming X_train, X_test, y_train, y_test are your training and testing sets\n",
        "automl.fit(X_train, y_train)\n",
        "\n",
        "# Evaluate on the test set\n",
        "y_pred = automl.predict(X_test)\n",
        "\n",
        "# Print the final model\n",
        "print(automl.show_models())\n"
      ],
      "metadata": {
        "colab": {
          "base_uri": "https://localhost:8080/"
        },
        "id": "06C9_DZM3H4d",
        "outputId": "c79d5716-4b25-4463-b322-16c7b6e56997"
      },
      "execution_count": null,
      "outputs": [
        {
          "output_type": "stream",
          "name": "stdout",
          "text": [
            "[WARNING] [2023-10-29 19:15:33,645:Client-EnsembleBuilder] No models better than random - using Dummy losses!\n",
            "\tModels besides current dummy model: 0\n",
            "\tDummy models: 1\n",
            "[WARNING] [2023-10-29 19:15:39,288:Client-EnsembleBuilder] No models better than random - using Dummy losses!\n",
            "\tModels besides current dummy model: 0\n",
            "\tDummy models: 1\n",
            "[WARNING] [2023-10-29 19:15:43,951:Client-EnsembleBuilder] No models better than random - using Dummy losses!\n",
            "\tModels besides current dummy model: 0\n",
            "\tDummy models: 1\n",
            "{5: {'model_id': 5, 'rank': 1, 'cost': 0.40740740740740744, 'ensemble_weight': 1.0, 'data_preprocessor': <autosklearn.pipeline.components.data_preprocessing.DataPreprocessorChoice object at 0x7867fe60f670>, 'balancing': Balancing(random_state=1), 'feature_preprocessor': <autosklearn.pipeline.components.feature_preprocessing.FeaturePreprocessorChoice object at 0x7867c0714fa0>, 'classifier': <autosklearn.pipeline.components.classification.ClassifierChoice object at 0x7867c0714910>, 'sklearn_classifier': RandomForestClassifier(criterion='entropy', max_features=14, n_estimators=512,\n",
            "                       n_jobs=1, random_state=1, warm_start=True)}}\n"
          ]
        }
      ]
    },
    {
      "cell_type": "code",
      "source": [
        "!pip install sweetviz"
      ],
      "metadata": {
        "colab": {
          "base_uri": "https://localhost:8080/"
        },
        "id": "Xe6wbzci3MAN",
        "outputId": "689804a2-f4d8-4163-8ce4-c52f331b3384"
      },
      "execution_count": null,
      "outputs": [
        {
          "output_type": "stream",
          "name": "stdout",
          "text": [
            "Collecting sweetviz\n",
            "  Downloading sweetviz-2.2.1-py3-none-any.whl (15.1 MB)\n",
            "\u001b[2K     \u001b[90m━━━━━━━━━━━━━━━━━━━━━━━━━━━━━━━━━━━━━━━━\u001b[0m \u001b[32m15.1/15.1 MB\u001b[0m \u001b[31m57.7 MB/s\u001b[0m eta \u001b[36m0:00:00\u001b[0m\n",
            "\u001b[?25hRequirement already satisfied: pandas!=1.0.0,!=1.0.1,!=1.0.2,>=0.25.3 in /usr/local/lib/python3.10/dist-packages (from sweetviz) (1.5.3)\n",
            "Requirement already satisfied: numpy>=1.16.0 in /usr/local/lib/python3.10/dist-packages (from sweetviz) (1.23.5)\n",
            "Requirement already satisfied: matplotlib>=3.1.3 in /usr/local/lib/python3.10/dist-packages (from sweetviz) (3.7.1)\n",
            "Requirement already satisfied: tqdm>=4.43.0 in /usr/local/lib/python3.10/dist-packages (from sweetviz) (4.66.1)\n",
            "Requirement already satisfied: scipy>=1.3.2 in /usr/local/lib/python3.10/dist-packages (from sweetviz) (1.9.0)\n",
            "Requirement already satisfied: jinja2>=2.11.1 in /usr/local/lib/python3.10/dist-packages (from sweetviz) (3.1.2)\n",
            "Requirement already satisfied: importlib-resources>=1.2.0 in /usr/local/lib/python3.10/dist-packages (from sweetviz) (6.1.0)\n",
            "Requirement already satisfied: MarkupSafe>=2.0 in /usr/local/lib/python3.10/dist-packages (from jinja2>=2.11.1->sweetviz) (2.1.3)\n",
            "Requirement already satisfied: contourpy>=1.0.1 in /usr/local/lib/python3.10/dist-packages (from matplotlib>=3.1.3->sweetviz) (1.1.1)\n",
            "Requirement already satisfied: cycler>=0.10 in /usr/local/lib/python3.10/dist-packages (from matplotlib>=3.1.3->sweetviz) (0.12.1)\n",
            "Requirement already satisfied: fonttools>=4.22.0 in /usr/local/lib/python3.10/dist-packages (from matplotlib>=3.1.3->sweetviz) (4.43.1)\n",
            "Requirement already satisfied: kiwisolver>=1.0.1 in /usr/local/lib/python3.10/dist-packages (from matplotlib>=3.1.3->sweetviz) (1.4.5)\n",
            "Requirement already satisfied: packaging>=20.0 in /usr/local/lib/python3.10/dist-packages (from matplotlib>=3.1.3->sweetviz) (23.2)\n",
            "Requirement already satisfied: pillow>=6.2.0 in /usr/local/lib/python3.10/dist-packages (from matplotlib>=3.1.3->sweetviz) (9.4.0)\n",
            "Requirement already satisfied: pyparsing>=2.3.1 in /usr/local/lib/python3.10/dist-packages (from matplotlib>=3.1.3->sweetviz) (2.4.0)\n",
            "Requirement already satisfied: python-dateutil>=2.7 in /usr/local/lib/python3.10/dist-packages (from matplotlib>=3.1.3->sweetviz) (2.8.2)\n",
            "Requirement already satisfied: pytz>=2020.1 in /usr/local/lib/python3.10/dist-packages (from pandas!=1.0.0,!=1.0.1,!=1.0.2,>=0.25.3->sweetviz) (2023.3.post1)\n",
            "Requirement already satisfied: six>=1.5 in /usr/local/lib/python3.10/dist-packages (from python-dateutil>=2.7->matplotlib>=3.1.3->sweetviz) (1.16.0)\n",
            "Installing collected packages: sweetviz\n",
            "Successfully installed sweetviz-2.2.1\n"
          ]
        }
      ]
    },
    {
      "cell_type": "markdown",
      "source": [
        "### AutoEDA with Sweetviz"
      ],
      "metadata": {
        "id": "Ih_NTy766PiJ"
      }
    },
    {
      "cell_type": "code",
      "source": [
        "import sweetviz as sv\n",
        "\n",
        "# Analyze the dataset\n",
        "report = sv.analyze(df_audio_properties)  # Where 'df' is the pandas DataFrame you want to analyze.\n",
        "\n",
        "# You can also pass the target feature name if it's a supervised learning problem\n",
        "# report = sv.analyze(df, target_feat='your_target_column')\n",
        "\n",
        "# Display the report as HTML in a Jupyter notebook:\n",
        "report.show_html('SWEETVIZ_REPORT.html')\n"
      ],
      "metadata": {
        "colab": {
          "base_uri": "https://localhost:8080/",
          "height": 66,
          "referenced_widgets": [
            "1ab650e28f184dffa2f52fe3daba01dc",
            "0013c05137ce43178cc6129e81956234",
            "49374cb44a2c404c9b6151d648dfbce3",
            "8d8c9a112af444c6b14be81429782865",
            "32ee5a08b7f24daa834b7e3c72abe462",
            "6bda8d9e88cf433683d1e7d3a1099a83",
            "3b597f51c9d24988b2b5f6b945b11ae9",
            "ba191e0c74ce4f488c6b25cda2662f79",
            "c955bbde59754dc28e50bfff3ede1354",
            "1ba3a0b9b7f943a297929066c3092cf3",
            "d3be082f2d2b4dc8a5249d3fd3f431b6"
          ]
        },
        "id": "EfrABh-M3YDk",
        "outputId": "ed561f9a-ab50-4071-ff1e-2efad15c10bc"
      },
      "execution_count": null,
      "outputs": [
        {
          "output_type": "display_data",
          "data": {
            "text/plain": [
              "                                             |          | [  0%]   00:00 -> (? left)"
            ],
            "application/vnd.jupyter.widget-view+json": {
              "version_major": 2,
              "version_minor": 0,
              "model_id": "1ab650e28f184dffa2f52fe3daba01dc"
            }
          },
          "metadata": {}
        },
        {
          "output_type": "stream",
          "name": "stdout",
          "text": [
            "Report SWEETVIZ_REPORT.html was generated! NOTEBOOK/COLAB USERS: the web browser MAY not pop up, regardless, the report IS saved in your notebook/colab files.\n"
          ]
        }
      ]
    },
    {
      "cell_type": "markdown",
      "source": [
        "With this implementation, we have:\n",
        "\n",
        "1. Data Prepartion and Preprocessing\n",
        "2. Detailed EDA\n",
        "3. AutoEDA with Sweetviz\n",
        "4. AutoML with Auto-sklearn"
      ],
      "metadata": {
        "id": "DsIVarVf6Vk3"
      }
    },
    {
      "cell_type": "code",
      "source": [],
      "metadata": {
        "id": "4xOH_KKU35In"
      },
      "execution_count": null,
      "outputs": []
    }
  ]
}