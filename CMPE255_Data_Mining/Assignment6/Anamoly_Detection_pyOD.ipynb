{
  "nbformat": 4,
  "nbformat_minor": 0,
  "metadata": {
    "colab": {
      "provenance": [],
      "authorship_tag": "ABX9TyP8Q8AccKQ/fkO0oFr5hNoH",
      "include_colab_link": true
    },
    "kernelspec": {
      "name": "python3",
      "display_name": "Python 3"
    },
    "language_info": {
      "name": "python"
    }
  },
  "cells": [
    {
      "cell_type": "markdown",
      "metadata": {
        "id": "view-in-github",
        "colab_type": "text"
      },
      "source": [
        "<a href=\"https://colab.research.google.com/github/aditipatil0711/SJSU_Masters_Assignments/blob/main/CMPE255_Data_Mining/Assignment6/Anamoly_Detection_pyOD.ipynb\" target=\"_parent\"><img src=\"https://colab.research.google.com/assets/colab-badge.svg\" alt=\"Open In Colab\"/></a>"
      ]
    },
    {
      "cell_type": "markdown",
      "source": [
        "# Anamoly Detection with PyOD\n",
        "\n",
        "Dataset Used: Network Traffic on Kaggle\n",
        "\n",
        "### 1. Dataset Loading and Initial Exploration\n",
        "- We started by loading the dataset 'Midterm_53_group.csv' into a pandas DataFrame.\n",
        "- We performed an initial exploration to understand the structure of the data, identifying key columns like `Time`, `Source`, `Destination`, `Protocol`, `Length`, and `Info`.\n",
        "\n",
        "### 2. Detailed Data Exploration\n",
        "- We examined the data types of each column and checked for missing values, finding no missing data.\n",
        "- A statistical summary of the numerical features was generated, giving us insights into the basic statistics of features like `Time` and `Length`.\n",
        "\n",
        "### 3. Visual Data Exploration\n",
        "- Histograms were plotted for numerical features (`Time` and `Length`) to understand their distribution.\n",
        "- Boxplots for these numerical features were created to identify potential outliers.\n",
        "- A bar chart for the `Protocol` feature was generated to see the distribution of different network protocols in the dataset.\n",
        "\n",
        "### 4. Data Preprocessing\n",
        "- We reverted to using the original dataset to focus on key numerical features.\n",
        "- Standard scaling was applied to the `Time` and `Length` columns to normalize these features, an essential step in preparing the data for anomaly detection models.\n",
        "\n",
        "### 5. Discussion on Anomaly Detection with pyOD\n",
        "- Since the pyOD library is not available in this environment, we discussed a theoretical approach for implementing anomaly detection using pyOD:\n",
        "    - Installation of pyOD.\n",
        "    - Selection of features (`Time` and `Length`) for anomaly detection.\n",
        "    - Training a KNN model (from pyOD) on the dataset.\n",
        "    - Predicting and evaluating anomalies using the trained model.\n",
        "\n",
        "### 6. Visualization of Anomaly Scores\n",
        "- We explored different methods for visualizing anomaly scores, such as histograms, scatter plots, box plots, heatmaps, and overlaying anomaly scores on time series data.\n",
        "- Specific implementation details were provided for each visualization type, tailored to the nature of the network traffic data.\n",
        "\n"
      ],
      "metadata": {
        "id": "aOfMS7cjehQ9"
      }
    },
    {
      "cell_type": "code",
      "execution_count": null,
      "metadata": {
        "colab": {
          "base_uri": "https://localhost:8080/"
        },
        "id": "R7RJaprPffht",
        "outputId": "6a7ed79c-be8a-404b-8839-7e44d937df8c"
      },
      "outputs": [
        {
          "output_type": "stream",
          "name": "stdout",
          "text": [
            "Collecting pyod\n",
            "  Downloading pyod-1.1.2.tar.gz (160 kB)\n",
            "\u001b[2K     \u001b[90m━━━━━━━━━━━━━━━━━━━━━━━━━━━━━━━━━━━━━━━━\u001b[0m \u001b[32m160.5/160.5 kB\u001b[0m \u001b[31m4.2 MB/s\u001b[0m eta \u001b[36m0:00:00\u001b[0m\n",
            "\u001b[?25h  Preparing metadata (setup.py) ... \u001b[?25l\u001b[?25hdone\n",
            "Requirement already satisfied: joblib in /usr/local/lib/python3.10/dist-packages (from pyod) (1.3.2)\n",
            "Requirement already satisfied: matplotlib in /usr/local/lib/python3.10/dist-packages (from pyod) (3.7.1)\n",
            "Requirement already satisfied: numpy>=1.19 in /usr/local/lib/python3.10/dist-packages (from pyod) (1.23.5)\n",
            "Requirement already satisfied: numba>=0.51 in /usr/local/lib/python3.10/dist-packages (from pyod) (0.58.1)\n",
            "Requirement already satisfied: scipy>=1.5.1 in /usr/local/lib/python3.10/dist-packages (from pyod) (1.11.3)\n",
            "Requirement already satisfied: scikit_learn>=0.22.0 in /usr/local/lib/python3.10/dist-packages (from pyod) (1.2.2)\n",
            "Requirement already satisfied: six in /usr/local/lib/python3.10/dist-packages (from pyod) (1.16.0)\n",
            "Requirement already satisfied: llvmlite<0.42,>=0.41.0dev0 in /usr/local/lib/python3.10/dist-packages (from numba>=0.51->pyod) (0.41.1)\n",
            "Requirement already satisfied: threadpoolctl>=2.0.0 in /usr/local/lib/python3.10/dist-packages (from scikit_learn>=0.22.0->pyod) (3.2.0)\n",
            "Requirement already satisfied: contourpy>=1.0.1 in /usr/local/lib/python3.10/dist-packages (from matplotlib->pyod) (1.2.0)\n",
            "Requirement already satisfied: cycler>=0.10 in /usr/local/lib/python3.10/dist-packages (from matplotlib->pyod) (0.12.1)\n",
            "Requirement already satisfied: fonttools>=4.22.0 in /usr/local/lib/python3.10/dist-packages (from matplotlib->pyod) (4.44.3)\n",
            "Requirement already satisfied: kiwisolver>=1.0.1 in /usr/local/lib/python3.10/dist-packages (from matplotlib->pyod) (1.4.5)\n",
            "Requirement already satisfied: packaging>=20.0 in /usr/local/lib/python3.10/dist-packages (from matplotlib->pyod) (23.2)\n",
            "Requirement already satisfied: pillow>=6.2.0 in /usr/local/lib/python3.10/dist-packages (from matplotlib->pyod) (9.4.0)\n",
            "Requirement already satisfied: pyparsing>=2.3.1 in /usr/local/lib/python3.10/dist-packages (from matplotlib->pyod) (3.1.1)\n",
            "Requirement already satisfied: python-dateutil>=2.7 in /usr/local/lib/python3.10/dist-packages (from matplotlib->pyod) (2.8.2)\n",
            "Building wheels for collected packages: pyod\n",
            "  Building wheel for pyod (setup.py) ... \u001b[?25l\u001b[?25hdone\n",
            "  Created wheel for pyod: filename=pyod-1.1.2-py3-none-any.whl size=190289 sha256=1dba106ad50d5e9544da0cc1be4448804bcf295d970dec25f4542ecc3a83af69\n",
            "  Stored in directory: /root/.cache/pip/wheels/81/1b/61/aa85b78c3c0c8871f4231e3f4a03bb23cecb7db829498380ee\n",
            "Successfully built pyod\n",
            "Installing collected packages: pyod\n",
            "Successfully installed pyod-1.1.2\n"
          ]
        }
      ],
      "source": [
        "!pip install pyod"
      ]
    },
    {
      "cell_type": "code",
      "source": [
        "import pandas as pd\n",
        "import os\n",
        "from google.colab import files"
      ],
      "metadata": {
        "id": "dx6kjokZf15n"
      },
      "execution_count": null,
      "outputs": []
    },
    {
      "cell_type": "code",
      "source": [
        "uploaded = files.upload()"
      ],
      "metadata": {
        "colab": {
          "base_uri": "https://localhost:8080/",
          "height": 73
        },
        "id": "EGil3Vy1hiUB",
        "outputId": "e99439fa-c1c4-45de-e17b-a5bd7d1cf264"
      },
      "execution_count": null,
      "outputs": [
        {
          "output_type": "display_data",
          "data": {
            "text/plain": [
              "<IPython.core.display.HTML object>"
            ],
            "text/html": [
              "\n",
              "     <input type=\"file\" id=\"files-cb87f9c5-01e3-43aa-ac7e-674d4028c4b1\" name=\"files[]\" multiple disabled\n",
              "        style=\"border:none\" />\n",
              "     <output id=\"result-cb87f9c5-01e3-43aa-ac7e-674d4028c4b1\">\n",
              "      Upload widget is only available when the cell has been executed in the\n",
              "      current browser session. Please rerun this cell to enable.\n",
              "      </output>\n",
              "      <script>// Copyright 2017 Google LLC\n",
              "//\n",
              "// Licensed under the Apache License, Version 2.0 (the \"License\");\n",
              "// you may not use this file except in compliance with the License.\n",
              "// You may obtain a copy of the License at\n",
              "//\n",
              "//      http://www.apache.org/licenses/LICENSE-2.0\n",
              "//\n",
              "// Unless required by applicable law or agreed to in writing, software\n",
              "// distributed under the License is distributed on an \"AS IS\" BASIS,\n",
              "// WITHOUT WARRANTIES OR CONDITIONS OF ANY KIND, either express or implied.\n",
              "// See the License for the specific language governing permissions and\n",
              "// limitations under the License.\n",
              "\n",
              "/**\n",
              " * @fileoverview Helpers for google.colab Python module.\n",
              " */\n",
              "(function(scope) {\n",
              "function span(text, styleAttributes = {}) {\n",
              "  const element = document.createElement('span');\n",
              "  element.textContent = text;\n",
              "  for (const key of Object.keys(styleAttributes)) {\n",
              "    element.style[key] = styleAttributes[key];\n",
              "  }\n",
              "  return element;\n",
              "}\n",
              "\n",
              "// Max number of bytes which will be uploaded at a time.\n",
              "const MAX_PAYLOAD_SIZE = 100 * 1024;\n",
              "\n",
              "function _uploadFiles(inputId, outputId) {\n",
              "  const steps = uploadFilesStep(inputId, outputId);\n",
              "  const outputElement = document.getElementById(outputId);\n",
              "  // Cache steps on the outputElement to make it available for the next call\n",
              "  // to uploadFilesContinue from Python.\n",
              "  outputElement.steps = steps;\n",
              "\n",
              "  return _uploadFilesContinue(outputId);\n",
              "}\n",
              "\n",
              "// This is roughly an async generator (not supported in the browser yet),\n",
              "// where there are multiple asynchronous steps and the Python side is going\n",
              "// to poll for completion of each step.\n",
              "// This uses a Promise to block the python side on completion of each step,\n",
              "// then passes the result of the previous step as the input to the next step.\n",
              "function _uploadFilesContinue(outputId) {\n",
              "  const outputElement = document.getElementById(outputId);\n",
              "  const steps = outputElement.steps;\n",
              "\n",
              "  const next = steps.next(outputElement.lastPromiseValue);\n",
              "  return Promise.resolve(next.value.promise).then((value) => {\n",
              "    // Cache the last promise value to make it available to the next\n",
              "    // step of the generator.\n",
              "    outputElement.lastPromiseValue = value;\n",
              "    return next.value.response;\n",
              "  });\n",
              "}\n",
              "\n",
              "/**\n",
              " * Generator function which is called between each async step of the upload\n",
              " * process.\n",
              " * @param {string} inputId Element ID of the input file picker element.\n",
              " * @param {string} outputId Element ID of the output display.\n",
              " * @return {!Iterable<!Object>} Iterable of next steps.\n",
              " */\n",
              "function* uploadFilesStep(inputId, outputId) {\n",
              "  const inputElement = document.getElementById(inputId);\n",
              "  inputElement.disabled = false;\n",
              "\n",
              "  const outputElement = document.getElementById(outputId);\n",
              "  outputElement.innerHTML = '';\n",
              "\n",
              "  const pickedPromise = new Promise((resolve) => {\n",
              "    inputElement.addEventListener('change', (e) => {\n",
              "      resolve(e.target.files);\n",
              "    });\n",
              "  });\n",
              "\n",
              "  const cancel = document.createElement('button');\n",
              "  inputElement.parentElement.appendChild(cancel);\n",
              "  cancel.textContent = 'Cancel upload';\n",
              "  const cancelPromise = new Promise((resolve) => {\n",
              "    cancel.onclick = () => {\n",
              "      resolve(null);\n",
              "    };\n",
              "  });\n",
              "\n",
              "  // Wait for the user to pick the files.\n",
              "  const files = yield {\n",
              "    promise: Promise.race([pickedPromise, cancelPromise]),\n",
              "    response: {\n",
              "      action: 'starting',\n",
              "    }\n",
              "  };\n",
              "\n",
              "  cancel.remove();\n",
              "\n",
              "  // Disable the input element since further picks are not allowed.\n",
              "  inputElement.disabled = true;\n",
              "\n",
              "  if (!files) {\n",
              "    return {\n",
              "      response: {\n",
              "        action: 'complete',\n",
              "      }\n",
              "    };\n",
              "  }\n",
              "\n",
              "  for (const file of files) {\n",
              "    const li = document.createElement('li');\n",
              "    li.append(span(file.name, {fontWeight: 'bold'}));\n",
              "    li.append(span(\n",
              "        `(${file.type || 'n/a'}) - ${file.size} bytes, ` +\n",
              "        `last modified: ${\n",
              "            file.lastModifiedDate ? file.lastModifiedDate.toLocaleDateString() :\n",
              "                                    'n/a'} - `));\n",
              "    const percent = span('0% done');\n",
              "    li.appendChild(percent);\n",
              "\n",
              "    outputElement.appendChild(li);\n",
              "\n",
              "    const fileDataPromise = new Promise((resolve) => {\n",
              "      const reader = new FileReader();\n",
              "      reader.onload = (e) => {\n",
              "        resolve(e.target.result);\n",
              "      };\n",
              "      reader.readAsArrayBuffer(file);\n",
              "    });\n",
              "    // Wait for the data to be ready.\n",
              "    let fileData = yield {\n",
              "      promise: fileDataPromise,\n",
              "      response: {\n",
              "        action: 'continue',\n",
              "      }\n",
              "    };\n",
              "\n",
              "    // Use a chunked sending to avoid message size limits. See b/62115660.\n",
              "    let position = 0;\n",
              "    do {\n",
              "      const length = Math.min(fileData.byteLength - position, MAX_PAYLOAD_SIZE);\n",
              "      const chunk = new Uint8Array(fileData, position, length);\n",
              "      position += length;\n",
              "\n",
              "      const base64 = btoa(String.fromCharCode.apply(null, chunk));\n",
              "      yield {\n",
              "        response: {\n",
              "          action: 'append',\n",
              "          file: file.name,\n",
              "          data: base64,\n",
              "        },\n",
              "      };\n",
              "\n",
              "      let percentDone = fileData.byteLength === 0 ?\n",
              "          100 :\n",
              "          Math.round((position / fileData.byteLength) * 100);\n",
              "      percent.textContent = `${percentDone}% done`;\n",
              "\n",
              "    } while (position < fileData.byteLength);\n",
              "  }\n",
              "\n",
              "  // All done.\n",
              "  yield {\n",
              "    response: {\n",
              "      action: 'complete',\n",
              "    }\n",
              "  };\n",
              "}\n",
              "\n",
              "scope.google = scope.google || {};\n",
              "scope.google.colab = scope.google.colab || {};\n",
              "scope.google.colab._files = {\n",
              "  _uploadFiles,\n",
              "  _uploadFilesContinue,\n",
              "};\n",
              "})(self);\n",
              "</script> "
            ]
          },
          "metadata": {}
        },
        {
          "output_type": "stream",
          "name": "stdout",
          "text": [
            "Saving Network_Traffic_AD.zip to Network_Traffic_AD.zip\n"
          ]
        }
      ]
    },
    {
      "cell_type": "markdown",
      "source": [
        "### Dataset Initial Exploration\n",
        "\n",
        "The dataset 'Midterm_53_group.csv' has been loaded successfully. Here's a brief overview based on the first few rows:\n",
        "\n",
        "- **Time**: Timestamp of the network activity.\n",
        "- **Source**: The source IP or identifier of the network traffic.\n",
        "- **No.**: Appears to be a sequential number, possibly an identifier for each record.\n",
        "- **Destination**: The destination IP or identifier of the network traffic.\n",
        "- **Protocol**: The network protocol used.\n",
        "- **Length**: The length of the network packet.\n",
        "- **Info**: Additional information about the network activity.\n",
        "\n",
        "### Next Steps in the Process\n",
        "1. **Detailed Data Exploration**:\n",
        "   - We will look more closely at each feature, check for missing values, and understand the data distribution.\n",
        "   - We'll also identify the target variable or the way anomalies are labeled (if they are labeled).\n",
        "\n",
        "2. **Data Preprocessing**:\n",
        "   - Based on our exploration, we will preprocess the data. This might include encoding categorical variables, handling missing values, and scaling numerical features.\n"
      ],
      "metadata": {
        "id": "ywaf2uLCdlQn"
      }
    },
    {
      "cell_type": "code",
      "source": [
        "# To begin the process of anomaly detection using the pyOD methodology on a Kaggle dataset for Network Traffic,\n",
        "# we first need to import necessary libraries and load the dataset.\n",
        "\n",
        "# We will start with these initial steps:\n",
        "# 1. Importing required libraries\n",
        "# 2. Loading the dataset\n",
        "\n",
        "# Required Libraries:\n",
        "# - pandas: for data manipulation\n",
        "# - numpy: for numerical operations\n",
        "# - matplotlib and seaborn: for data visualization\n",
        "# - sklearn: for preprocessing and evaluation metrics\n",
        "# - pyod: for anomaly detection models\n",
        "\n",
        "import pandas as pd\n",
        "import numpy as np\n",
        "import matplotlib.pyplot as plt\n",
        "import seaborn as sns\n",
        "from sklearn.preprocessing import StandardScaler\n",
        "from sklearn.model_selection import train_test_split\n",
        "from sklearn.metrics import classification_report, roc_auc_score\n",
        "from pyod.models.knn import KNN   # KNN is one of the models we can use for anomaly detection\n",
        "\n",
        "# Next, we need to load the Kaggle dataset for Network Traffic.\n",
        "# For this demonstration, we assume that the dataset is already downloaded and available as a CSV file.\n",
        "# The user needs to provide the path to this dataset file.\n",
        "\n",
        "# Placeholder for dataset loading:\n",
        "# dataset_path = 'path_to_kaggle_network_traffic_dataset.csv'\n",
        "\n",
        "# We will load the dataset into a pandas DataFrame and then proceed with the initial data exploration.\n",
        "\n",
        "# After loading the dataset, the next steps will include:\n",
        "# - Data Exploration: Understanding the dataset's features and distributions.\n",
        "# - Data Preprocessing: Cleaning and preparing the data for anomaly detection.\n",
        "\n",
        "# Please provide the path to the Kaggle dataset for Network Traffic so we can proceed with loading and initial exploration.\n"
      ],
      "metadata": {
        "id": "HVUmFrkghkix"
      },
      "execution_count": null,
      "outputs": []
    },
    {
      "cell_type": "code",
      "source": [
        "import zipfile\n",
        "import os\n",
        "\n",
        "# Extracting the uploaded ZIP file\n",
        "zip_path = 'Network_Traffic_AD.zip'\n",
        "extract_folder = 'Network_Traffic_AD/'\n",
        "\n",
        "# Unzipping the file\n",
        "with zipfile.ZipFile(zip_path, 'r') as zip_ref:\n",
        "    zip_ref.extractall(extract_folder)\n",
        "\n",
        "# Listing the extracted files to identify the dataset file\n",
        "extracted_files = os.listdir(extract_folder)\n",
        "extracted_files\n"
      ],
      "metadata": {
        "colab": {
          "base_uri": "https://localhost:8080/"
        },
        "id": "LZBlnTjNiy1t",
        "outputId": "f958d4ed-a374-4234-8ee2-11b55eb7b5bd"
      },
      "execution_count": null,
      "outputs": [
        {
          "output_type": "execute_result",
          "data": {
            "text/plain": [
              "['output1.csv', 'Midterm_53_group.csv']"
            ]
          },
          "metadata": {},
          "execution_count": 5
        }
      ]
    },
    {
      "cell_type": "code",
      "source": [
        "import pandas as pd\n",
        "\n",
        "# Assuming 'Midterm_53_group.csv' is the primary dataset file\n",
        "dataset_file_path = '/content/Network_Traffic_AD/Midterm_53_group.csv'\n",
        "data = pd.read_csv(dataset_file_path)\n",
        "\n",
        "# Displaying the first few rows of the dataset\n",
        "print(data.head())\n"
      ],
      "metadata": {
        "colab": {
          "base_uri": "https://localhost:8080/"
        },
        "id": "1LJ5FtFqjZFM",
        "outputId": "10999ec4-b779-46ed-af67-91368b4025f6"
      },
      "execution_count": null,
      "outputs": [
        {
          "output_type": "stream",
          "name": "stdout",
          "text": [
            "       Time           Source  No.      Destination Protocol  Length  \\\n",
            "0  0.000000    192.167.8.166    1  192.167.255.255     NBNS      92   \n",
            "1  0.784682    192.167.8.166    2  192.167.255.255     NBNS      92   \n",
            "2  1.169060  VMware_8a:5c:e6    3        Broadcast      ARP      60   \n",
            "3  2.167949  VMware_8a:5c:e6    4        Broadcast      ARP      60   \n",
            "4  3.170095  VMware_8a:5c:e6    5        Broadcast      ARP      60   \n",
            "\n",
            "                                      Info  \n",
            "0                   Name query NB WPAD<00>  \n",
            "1                   Name query NB WPAD<00>  \n",
            "2  Who has 192.167.7.175? Tell 192.167.0.1  \n",
            "3  Who has 192.167.7.175? Tell 192.167.0.1  \n",
            "4  Who has 192.167.7.175? Tell 192.167.0.1  \n"
          ]
        }
      ]
    },
    {
      "cell_type": "markdown",
      "source": [
        "\n",
        "### Current Status and Upcoming Steps\n",
        "- We are currently at the 'Data Exploration' stage.\n",
        "- After exploring the data in detail, we'll move on to 'Data Preprocessing'.\n",
        "\n",
        "Let's proceed with a more detailed exploration of the dataset. We'll look at the data types, check for missing values, and understand the distribution of each feature.\n",
        "\n",
        "### Detailed Data Exploration Findings\n",
        "\n",
        "#### Data Types\n",
        "- The dataset consists of both numerical and categorical features.\n",
        "  - Numerical: `Time`, `No.`, `Length`\n",
        "  - Categorical: `Source`, `Destination`, `Protocol`, `Info`\n",
        "\n",
        "#### Missing Values\n",
        "- There are no missing values in any of the columns, which simplifies the preprocessing stage.\n",
        "\n",
        "#### Statistical Summary\n",
        "- **Time**: Varies from 0 to around 1256, probably in seconds or some time unit.\n",
        "- **No.**: A sequential identifier, ranging from 1 to 394,136.\n",
        "- **Length**: The length of network packets, ranging from 42 to 49,745, with a mean of 985.58.\n"
      ],
      "metadata": {
        "id": "5_ZbSNKgdunV"
      }
    },
    {
      "cell_type": "code",
      "source": [
        "# Checking data types of each column\n",
        "data_types = data.dtypes\n",
        "\n",
        "# Checking for missing values in the dataset\n",
        "missing_values = data.isnull().sum()\n",
        "\n",
        "print(data_types)\n",
        "print(missing_values)\n"
      ],
      "metadata": {
        "colab": {
          "base_uri": "https://localhost:8080/"
        },
        "id": "8lgvUNZujcHX",
        "outputId": "8a299c34-0e59-4615-c4c1-44fc6b0a503e"
      },
      "execution_count": null,
      "outputs": [
        {
          "output_type": "stream",
          "name": "stdout",
          "text": [
            "Time           float64\n",
            "Source          object\n",
            "No.              int64\n",
            "Destination     object\n",
            "Protocol        object\n",
            "Length           int64\n",
            "Info            object\n",
            "dtype: object\n",
            "Time           0\n",
            "Source         0\n",
            "No.            0\n",
            "Destination    0\n",
            "Protocol       0\n",
            "Length         0\n",
            "Info           0\n",
            "dtype: int64\n"
          ]
        }
      ]
    },
    {
      "cell_type": "code",
      "source": [
        "# Getting a statistical summary of the numerical features\n",
        "statistical_summary = data.describe()\n",
        "\n",
        "print(statistical_summary)\n"
      ],
      "metadata": {
        "colab": {
          "base_uri": "https://localhost:8080/"
        },
        "id": "NIsDoGIokQge",
        "outputId": "ac0e02a6-7164-4c0f-fafa-7f3fe89807a0"
      },
      "execution_count": null,
      "outputs": [
        {
          "output_type": "stream",
          "name": "stdout",
          "text": [
            "                Time            No.         Length\n",
            "count  394136.000000  394136.000000  394136.000000\n",
            "mean      781.599378  197068.500000     985.577027\n",
            "std       263.603332  113777.407186     837.371336\n",
            "min         0.000000       1.000000      42.000000\n",
            "25%       558.184351   98534.750000      60.000000\n",
            "50%       781.926020  197068.500000    1462.000000\n",
            "75%       986.280803  295602.250000    1514.000000\n",
            "max      1256.922008  394136.000000   49745.000000\n"
          ]
        }
      ]
    },
    {
      "cell_type": "markdown",
      "source": [
        "\n",
        "### Visual Data Exploration\n",
        "\n",
        "#### Objective\n",
        "The goal here is to visually inspect the features in our dataset to better understand their distributions and identify any patterns or anomalies. This step is crucial in anomaly detection as it can reveal insights that are not obvious through numerical analysis alone.\n",
        "\n",
        "#### Implementation\n",
        "We'll create visualizations for the key features of our dataset:\n",
        "\n",
        "1. **Histograms for Numerical Features**: To understand the distribution of values in features like `Time` and `Length`.\n",
        "2. **Boxplots for Numerical Features**: To detect outliers in the numerical data.\n",
        "3. **Bar Charts for Categorical Features**: To see the distribution of categorical data like `Protocol`.\n"
      ],
      "metadata": {
        "id": "Q1Xp9GsCd19u"
      }
    },
    {
      "cell_type": "code",
      "source": [
        "# Histograms for Numerical Features\n",
        "data[['Time', 'Length']].hist(bins=50, figsize=(12, 5))\n"
      ],
      "metadata": {
        "colab": {
          "base_uri": "https://localhost:8080/",
          "height": 503
        },
        "id": "RVwDgPv-kR5P",
        "outputId": "866095ed-d3b3-4e52-fe42-4f1ba6c5d454"
      },
      "execution_count": null,
      "outputs": [
        {
          "output_type": "execute_result",
          "data": {
            "text/plain": [
              "array([[<Axes: title={'center': 'Time'}>,\n",
              "        <Axes: title={'center': 'Length'}>]], dtype=object)"
            ]
          },
          "metadata": {},
          "execution_count": 11
        },
        {
          "output_type": "display_data",
          "data": {
            "text/plain": [
              "<Figure size 1200x500 with 2 Axes>"
            ],
            "image/png": "[encoded data removed]"
          },
          "metadata": {}
        }
      ]
    },
    {
      "cell_type": "code",
      "source": [
        "\n",
        "# Boxplots for Numerical Features\n",
        "data[['Time', 'Length']].plot(kind='box', subplots=True, layout=(1, 2), figsize=(12, 5))\n"
      ],
      "metadata": {
        "colab": {
          "base_uri": "https://localhost:8080/",
          "height": 497
        },
        "id": "4As89J2YkjYm",
        "outputId": "e62705cb-3a78-4133-fd17-fe91171494fa"
      },
      "execution_count": null,
      "outputs": [
        {
          "output_type": "execute_result",
          "data": {
            "text/plain": [
              "Time         Axes(0.125,0.11;0.352273x0.77)\n",
              "Length    Axes(0.547727,0.11;0.352273x0.77)\n",
              "dtype: object"
            ]
          },
          "metadata": {},
          "execution_count": 12
        },
        {
          "output_type": "display_data",
          "data": {
            "text/plain": [
              "<Figure size 1200x500 with 2 Axes>"
            ],
            "image/png": "[encoded data removed]"
          },
          "metadata": {}
        }
      ]
    },
    {
      "cell_type": "code",
      "source": [
        "\n",
        "# Bar Chart for the 'Protocol' Feature\n",
        "data['Protocol'].value_counts().plot(kind='bar', figsize=(10, 5))\n"
      ],
      "metadata": {
        "colab": {
          "base_uri": "https://localhost:8080/",
          "height": 519
        },
        "id": "-EY2Ghy4k5x0",
        "outputId": "f65190e2-8dad-4b1e-8b9d-cc905e7090fa"
      },
      "execution_count": null,
      "outputs": [
        {
          "output_type": "execute_result",
          "data": {
            "text/plain": [
              "<Axes: >"
            ]
          },
          "metadata": {},
          "execution_count": 13
        },
        {
          "output_type": "display_data",
          "data": {
            "text/plain": [
              "<Figure size 1000x500 with 1 Axes>"
            ],
            "image/png": "[encoded data removed]"
          },
          "metadata": {}
        }
      ]
    },
    {
      "cell_type": "markdown",
      "source": [
        "### Visual Data Exploration Results\n",
        "\n",
        "We have created three types of visualizations:\n",
        "\n",
        "1. **Histograms for Numerical Features**: The histograms for `Time` and `Length` help us understand their distribution. Notice any skewness or peculiar patterns that might indicate anomalies.\n",
        "\n",
        "2. **Boxplots for Numerical Features**: These plots give a clear picture of potential outliers in `Time` and `Length`. Anomalies often manifest as outliers in such plots.\n",
        "\n",
        "3. **Bar Chart for the 'Protocol' Feature**: This chart shows the distribution of different protocols used in the network traffic. It helps in understanding the frequency of each protocol.\n",
        "\n",
        "### Next Steps in the Process\n",
        "\n",
        "#### Data Preprocessing\n",
        "\n",
        "We will now proceed with data preprocessing, which includes encoding categorical variables and feature scaling.\n",
        "\n",
        "1. **Encoding Categorical Variables**: We will transform categorical features like `Protocol` into a numerical format.\n",
        "2. **Feature Scaling**: We will normalize the numerical features to ensure they are on the same scale, which is crucial for many anomaly detection algorithms.\n"
      ],
      "metadata": {
        "id": "2gN1Yvu7d8WP"
      }
    },
    {
      "cell_type": "code",
      "source": [
        "# Data Preprocessing\n",
        "\n",
        "# Encoding Categorical Variables\n",
        "data_encoded = pd.get_dummies(data, columns=['Protocol'])\n",
        "\n",
        "# Feature Scaling\n",
        "scaler = StandardScaler()\n",
        "data_encoded[['Time', 'Length']] = scaler.fit_transform(data_encoded[['Time', 'Length']])\n",
        "\n",
        "# Displaying the first few rows of the preprocessed data\n",
        "data_encoded.head()\n"
      ],
      "metadata": {
        "colab": {
          "base_uri": "https://localhost:8080/",
          "height": 446
        },
        "id": "FK_5EsP8k61S",
        "outputId": "f44a9358-a8e8-4d5b-fe9f-0e609d5650cc"
      },
      "execution_count": null,
      "outputs": [
        {
          "output_type": "execute_result",
          "data": {
            "text/plain": [
              "       Time           Source  No.      Destination    Length  \\\n",
              "0 -2.965063    192.167.8.166    1  192.167.255.255 -1.067123   \n",
              "1 -2.962086    192.167.8.166    2  192.167.255.255 -1.067123   \n",
              "2 -2.960628  VMware_8a:5c:e6    3        Broadcast -1.105338   \n",
              "3 -2.956838  VMware_8a:5c:e6    4        Broadcast -1.105338   \n",
              "4 -2.953037  VMware_8a:5c:e6    5        Broadcast -1.105338   \n",
              "\n",
              "                                      Info  Protocol_ARP  Protocol_BROWSER  \\\n",
              "0                   Name query NB WPAD<00>             0                 0   \n",
              "1                   Name query NB WPAD<00>             0                 0   \n",
              "2  Who has 192.167.7.175? Tell 192.167.0.1             1                 0   \n",
              "3  Who has 192.167.7.175? Tell 192.167.0.1             1                 0   \n",
              "4  Who has 192.167.7.175? Tell 192.167.0.1             1                 0   \n",
              "\n",
              "   Protocol_DHCP  Protocol_DNS  ...  Protocol_ICMPv6  Protocol_NBNS  \\\n",
              "0              0             0  ...                0              1   \n",
              "1              0             0  ...                0              1   \n",
              "2              0             0  ...                0              0   \n",
              "3              0             0  ...                0              0   \n",
              "4              0             0  ...                0              0   \n",
              "\n",
              "   Protocol_OCSP  Protocol_RARP  Protocol_SSLv2  Protocol_STUN  Protocol_TCP  \\\n",
              "0              0              0               0              0             0   \n",
              "1              0              0               0              0             0   \n",
              "2              0              0               0              0             0   \n",
              "3              0              0               0              0             0   \n",
              "4              0              0               0              0             0   \n",
              "\n",
              "   Protocol_TLSv1  Protocol_TLSv1.2  Protocol_TLSv1.3  \n",
              "0               0                 0                 0  \n",
              "1               0                 0                 0  \n",
              "2               0                 0                 0  \n",
              "3               0                 0                 0  \n",
              "4               0                 0                 0  \n",
              "\n",
              "[5 rows x 22 columns]"
            ],
            "text/html": [
              "\n",
              "  <div id=\"df-09febc74-c0cc-41a6-9281-1350e35f0eb4\" class=\"colab-df-container\">\n",
              "    <div>\n",
              "<style scoped>\n",
              "    .dataframe tbody tr th:only-of-type {\n",
              "        vertical-align: middle;\n",
              "    }\n",
              "\n",
              "    .dataframe tbody tr th {\n",
              "        vertical-align: top;\n",
              "    }\n",
              "\n",
              "    .dataframe thead th {\n",
              "        text-align: right;\n",
              "    }\n",
              "</style>\n",
              "<table border=\"1\" class=\"dataframe\">\n",
              "  <thead>\n",
              "    <tr style=\"text-align: right;\">\n",
              "      <th></th>\n",
              "      <th>Time</th>\n",
              "      <th>Source</th>\n",
              "      <th>No.</th>\n",
              "      <th>Destination</th>\n",
              "      <th>Length</th>\n",
              "      <th>Info</th>\n",
              "      <th>Protocol_ARP</th>\n",
              "      <th>Protocol_BROWSER</th>\n",
              "      <th>Protocol_DHCP</th>\n",
              "      <th>Protocol_DNS</th>\n",
              "      <th>...</th>\n",
              "      <th>Protocol_ICMPv6</th>\n",
              "      <th>Protocol_NBNS</th>\n",
              "      <th>Protocol_OCSP</th>\n",
              "      <th>Protocol_RARP</th>\n",
              "      <th>Protocol_SSLv2</th>\n",
              "      <th>Protocol_STUN</th>\n",
              "      <th>Protocol_TCP</th>\n",
              "      <th>Protocol_TLSv1</th>\n",
              "      <th>Protocol_TLSv1.2</th>\n",
              "      <th>Protocol_TLSv1.3</th>\n",
              "    </tr>\n",
              "  </thead>\n",
              "  <tbody>\n",
              "    <tr>\n",
              "      <th>0</th>\n",
              "      <td>-2.965063</td>\n",
              "      <td>192.167.8.166</td>\n",
              "      <td>1</td>\n",
              "      <td>192.167.255.255</td>\n",
              "      <td>-1.067123</td>\n",
              "      <td>Name query NB WPAD&lt;00&gt;</td>\n",
              "      <td>0</td>\n",
              "      <td>0</td>\n",
              "      <td>0</td>\n",
              "      <td>0</td>\n",
              "      <td>...</td>\n",
              "      <td>0</td>\n",
              "      <td>1</td>\n",
              "      <td>0</td>\n",
              "      <td>0</td>\n",
              "      <td>0</td>\n",
              "      <td>0</td>\n",
              "      <td>0</td>\n",
              "      <td>0</td>\n",
              "      <td>0</td>\n",
              "      <td>0</td>\n",
              "    </tr>\n",
              "    <tr>\n",
              "      <th>1</th>\n",
              "      <td>-2.962086</td>\n",
              "      <td>192.167.8.166</td>\n",
              "      <td>2</td>\n",
              "      <td>192.167.255.255</td>\n",
              "      <td>-1.067123</td>\n",
              "      <td>Name query NB WPAD&lt;00&gt;</td>\n",
              "      <td>0</td>\n",
              "      <td>0</td>\n",
              "      <td>0</td>\n",
              "      <td>0</td>\n",
              "      <td>...</td>\n",
              "      <td>0</td>\n",
              "      <td>1</td>\n",
              "      <td>0</td>\n",
              "      <td>0</td>\n",
              "      <td>0</td>\n",
              "      <td>0</td>\n",
              "      <td>0</td>\n",
              "      <td>0</td>\n",
              "      <td>0</td>\n",
              "      <td>0</td>\n",
              "    </tr>\n",
              "    <tr>\n",
              "      <th>2</th>\n",
              "      <td>-2.960628</td>\n",
              "      <td>VMware_8a:5c:e6</td>\n",
              "      <td>3</td>\n",
              "      <td>Broadcast</td>\n",
              "      <td>-1.105338</td>\n",
              "      <td>Who has 192.167.7.175? Tell 192.167.0.1</td>\n",
              "      <td>1</td>\n",
              "      <td>0</td>\n",
              "      <td>0</td>\n",
              "      <td>0</td>\n",
              "      <td>...</td>\n",
              "      <td>0</td>\n",
              "      <td>0</td>\n",
              "      <td>0</td>\n",
              "      <td>0</td>\n",
              "      <td>0</td>\n",
              "      <td>0</td>\n",
              "      <td>0</td>\n",
              "      <td>0</td>\n",
              "      <td>0</td>\n",
              "      <td>0</td>\n",
              "    </tr>\n",
              "    <tr>\n",
              "      <th>3</th>\n",
              "      <td>-2.956838</td>\n",
              "      <td>VMware_8a:5c:e6</td>\n",
              "      <td>4</td>\n",
              "      <td>Broadcast</td>\n",
              "      <td>-1.105338</td>\n",
              "      <td>Who has 192.167.7.175? Tell 192.167.0.1</td>\n",
              "      <td>1</td>\n",
              "      <td>0</td>\n",
              "      <td>0</td>\n",
              "      <td>0</td>\n",
              "      <td>...</td>\n",
              "      <td>0</td>\n",
              "      <td>0</td>\n",
              "      <td>0</td>\n",
              "      <td>0</td>\n",
              "      <td>0</td>\n",
              "      <td>0</td>\n",
              "      <td>0</td>\n",
              "      <td>0</td>\n",
              "      <td>0</td>\n",
              "      <td>0</td>\n",
              "    </tr>\n",
              "    <tr>\n",
              "      <th>4</th>\n",
              "      <td>-2.953037</td>\n",
              "      <td>VMware_8a:5c:e6</td>\n",
              "      <td>5</td>\n",
              "      <td>Broadcast</td>\n",
              "      <td>-1.105338</td>\n",
              "      <td>Who has 192.167.7.175? Tell 192.167.0.1</td>\n",
              "      <td>1</td>\n",
              "      <td>0</td>\n",
              "      <td>0</td>\n",
              "      <td>0</td>\n",
              "      <td>...</td>\n",
              "      <td>0</td>\n",
              "      <td>0</td>\n",
              "      <td>0</td>\n",
              "      <td>0</td>\n",
              "      <td>0</td>\n",
              "      <td>0</td>\n",
              "      <td>0</td>\n",
              "      <td>0</td>\n",
              "      <td>0</td>\n",
              "      <td>0</td>\n",
              "    </tr>\n",
              "  </tbody>\n",
              "</table>\n",
              "<p>5 rows × 22 columns</p>\n",
              "</div>\n",
              "    <div class=\"colab-df-buttons\">\n",
              "\n",
              "  <div class=\"colab-df-container\">\n",
              "    <button class=\"colab-df-convert\" onclick=\"convertToInteractive('df-09febc74-c0cc-41a6-9281-1350e35f0eb4')\"\n",
              "            title=\"Convert this dataframe to an interactive table.\"\n",
              "            style=\"display:none;\">\n",
              "\n",
              "  <svg xmlns=\"http://www.w3.org/2000/svg\" height=\"24px\" viewBox=\"0 -960 960 960\">\n",
              "    <path d=\"M120-120v-720h720v720H120Zm60-500h600v-160H180v160Zm220 220h160v-160H400v160Zm0 220h160v-160H400v160ZM180-400h160v-160H180v160Zm440 0h160v-160H620v160ZM180-180h160v-160H180v160Zm440 0h160v-160H620v160Z\"/>\n",
              "  </svg>\n",
              "    </button>\n",
              "\n",
              "  <style>\n",
              "    .colab-df-container {\n",
              "      display:flex;\n",
              "      gap: 12px;\n",
              "    }\n",
              "\n",
              "    .colab-df-convert {\n",
              "      background-color: #E8F0FE;\n",
              "      border: none;\n",
              "      border-radius: 50%;\n",
              "      cursor: pointer;\n",
              "      display: none;\n",
              "      fill: #1967D2;\n",
              "      height: 32px;\n",
              "      padding: 0 0 0 0;\n",
              "      width: 32px;\n",
              "    }\n",
              "\n",
              "    .colab-df-convert:hover {\n",
              "      background-color: #E2EBFA;\n",
              "      box-shadow: 0px 1px 2px rgba(60, 64, 67, 0.3), 0px 1px 3px 1px rgba(60, 64, 67, 0.15);\n",
              "      fill: #174EA6;\n",
              "    }\n",
              "\n",
              "    .colab-df-buttons div {\n",
              "      margin-bottom: 4px;\n",
              "    }\n",
              "\n",
              "    [theme=dark] .colab-df-convert {\n",
              "      background-color: #3B4455;\n",
              "      fill: #D2E3FC;\n",
              "    }\n",
              "\n",
              "    [theme=dark] .colab-df-convert:hover {\n",
              "      background-color: #434B5C;\n",
              "      box-shadow: 0px 1px 3px 1px rgba(0, 0, 0, 0.15);\n",
              "      filter: drop-shadow(0px 1px 2px rgba(0, 0, 0, 0.3));\n",
              "      fill: #FFFFFF;\n",
              "    }\n",
              "  </style>\n",
              "\n",
              "    <script>\n",
              "      const buttonEl =\n",
              "        document.querySelector('#df-09febc74-c0cc-41a6-9281-1350e35f0eb4 button.colab-df-convert');\n",
              "      buttonEl.style.display =\n",
              "        google.colab.kernel.accessAllowed ? 'block' : 'none';\n",
              "\n",
              "      async function convertToInteractive(key) {\n",
              "        const element = document.querySelector('#df-09febc74-c0cc-41a6-9281-1350e35f0eb4');\n",
              "        const dataTable =\n",
              "          await google.colab.kernel.invokeFunction('convertToInteractive',\n",
              "                                                    [key], {});\n",
              "        if (!dataTable) return;\n",
              "\n",
              "        const docLinkHtml = 'Like what you see? Visit the ' +\n",
              "          '<a target=\"_blank\" href=https://colab.research.google.com/notebooks/data_table.ipynb>data table notebook</a>'\n",
              "          + ' to learn more about interactive tables.';\n",
              "        element.innerHTML = '';\n",
              "        dataTable['output_type'] = 'display_data';\n",
              "        await google.colab.output.renderOutput(dataTable, element);\n",
              "        const docLink = document.createElement('div');\n",
              "        docLink.innerHTML = docLinkHtml;\n",
              "        element.appendChild(docLink);\n",
              "      }\n",
              "    </script>\n",
              "  </div>\n",
              "\n",
              "\n",
              "<div id=\"df-2eeee2c3-48a4-4cf6-b397-3d3e3eb80e14\">\n",
              "  <button class=\"colab-df-quickchart\" onclick=\"quickchart('df-2eeee2c3-48a4-4cf6-b397-3d3e3eb80e14')\"\n",
              "            title=\"Suggest charts\"\n",
              "            style=\"display:none;\">\n",
              "\n",
              "<svg xmlns=\"http://www.w3.org/2000/svg\" height=\"24px\"viewBox=\"0 0 24 24\"\n",
              "     width=\"24px\">\n",
              "    <g>\n",
              "        <path d=\"M19 3H5c-1.1 0-2 .9-2 2v14c0 1.1.9 2 2 2h14c1.1 0 2-.9 2-2V5c0-1.1-.9-2-2-2zM9 17H7v-7h2v7zm4 0h-2V7h2v10zm4 0h-2v-4h2v4z\"/>\n",
              "    </g>\n",
              "</svg>\n",
              "  </button>\n",
              "\n",
              "<style>\n",
              "  .colab-df-quickchart {\n",
              "      --bg-color: #E8F0FE;\n",
              "      --fill-color: #1967D2;\n",
              "      --hover-bg-color: #E2EBFA;\n",
              "      --hover-fill-color: #174EA6;\n",
              "      --disabled-fill-color: #AAA;\n",
              "      --disabled-bg-color: #DDD;\n",
              "  }\n",
              "\n",
              "  [theme=dark] .colab-df-quickchart {\n",
              "      --bg-color: #3B4455;\n",
              "      --fill-color: #D2E3FC;\n",
              "      --hover-bg-color: #434B5C;\n",
              "      --hover-fill-color: #FFFFFF;\n",
              "      --disabled-bg-color: #3B4455;\n",
              "      --disabled-fill-color: #666;\n",
              "  }\n",
              "\n",
              "  .colab-df-quickchart {\n",
              "    background-color: var(--bg-color);\n",
              "    border: none;\n",
              "    border-radius: 50%;\n",
              "    cursor: pointer;\n",
              "    display: none;\n",
              "    fill: var(--fill-color);\n",
              "    height: 32px;\n",
              "    padding: 0;\n",
              "    width: 32px;\n",
              "  }\n",
              "\n",
              "  .colab-df-quickchart:hover {\n",
              "    background-color: var(--hover-bg-color);\n",
              "    box-shadow: 0 1px 2px rgba(60, 64, 67, 0.3), 0 1px 3px 1px rgba(60, 64, 67, 0.15);\n",
              "    fill: var(--button-hover-fill-color);\n",
              "  }\n",
              "\n",
              "  .colab-df-quickchart-complete:disabled,\n",
              "  .colab-df-quickchart-complete:disabled:hover {\n",
              "    background-color: var(--disabled-bg-color);\n",
              "    fill: var(--disabled-fill-color);\n",
              "    box-shadow: none;\n",
              "  }\n",
              "\n",
              "  .colab-df-spinner {\n",
              "    border: 2px solid var(--fill-color);\n",
              "    border-color: transparent;\n",
              "    border-bottom-color: var(--fill-color);\n",
              "    animation:\n",
              "      spin 1s steps(1) infinite;\n",
              "  }\n",
              "\n",
              "  @keyframes spin {\n",
              "    0% {\n",
              "      border-color: transparent;\n",
              "      border-bottom-color: var(--fill-color);\n",
              "      border-left-color: var(--fill-color);\n",
              "    }\n",
              "    20% {\n",
              "      border-color: transparent;\n",
              "      border-left-color: var(--fill-color);\n",
              "      border-top-color: var(--fill-color);\n",
              "    }\n",
              "    30% {\n",
              "      border-color: transparent;\n",
              "      border-left-color: var(--fill-color);\n",
              "      border-top-color: var(--fill-color);\n",
              "      border-right-color: var(--fill-color);\n",
              "    }\n",
              "    40% {\n",
              "      border-color: transparent;\n",
              "      border-right-color: var(--fill-color);\n",
              "      border-top-color: var(--fill-color);\n",
              "    }\n",
              "    60% {\n",
              "      border-color: transparent;\n",
              "      border-right-color: var(--fill-color);\n",
              "    }\n",
              "    80% {\n",
              "      border-color: transparent;\n",
              "      border-right-color: var(--fill-color);\n",
              "      border-bottom-color: var(--fill-color);\n",
              "    }\n",
              "    90% {\n",
              "      border-color: transparent;\n",
              "      border-bottom-color: var(--fill-color);\n",
              "    }\n",
              "  }\n",
              "</style>\n",
              "\n",
              "  <script>\n",
              "    async function quickchart(key) {\n",
              "      const quickchartButtonEl =\n",
              "        document.querySelector('#' + key + ' button');\n",
              "      quickchartButtonEl.disabled = true;  // To prevent multiple clicks.\n",
              "      quickchartButtonEl.classList.add('colab-df-spinner');\n",
              "      try {\n",
              "        const charts = await google.colab.kernel.invokeFunction(\n",
              "            'suggestCharts', [key], {});\n",
              "      } catch (error) {\n",
              "        console.error('Error during call to suggestCharts:', error);\n",
              "      }\n",
              "      quickchartButtonEl.classList.remove('colab-df-spinner');\n",
              "      quickchartButtonEl.classList.add('colab-df-quickchart-complete');\n",
              "    }\n",
              "    (() => {\n",
              "      let quickchartButtonEl =\n",
              "        document.querySelector('#df-2eeee2c3-48a4-4cf6-b397-3d3e3eb80e14 button');\n",
              "      quickchartButtonEl.style.display =\n",
              "        google.colab.kernel.accessAllowed ? 'block' : 'none';\n",
              "    })();\n",
              "  </script>\n",
              "</div>\n",
              "\n",
              "    </div>\n",
              "  </div>\n"
            ]
          },
          "metadata": {},
          "execution_count": 14
        }
      ]
    },
    {
      "cell_type": "markdown",
      "source": [
        "\n",
        "Let's implement these preprocessing steps.\n",
        "\n",
        "### Data Preprocessing Results\n",
        "\n",
        "The preprocessing steps have been successfully implemented:\n",
        "\n",
        "1. **Encoding Categorical Variables**: The `Protocol` column has been transformed into multiple binary columns, each representing a different protocol type.\n",
        "\n",
        "2. **Feature Scaling**: The `Time` and `Length` columns have been scaled using standard scaling. This brings their values to a similar scale, which is important for many anomaly detection algorithms.\n",
        "\n",
        "The dataset now includes additional columns for each protocol type and scaled numerical features.\n",
        "\n",
        "\n",
        "The `Time` and `Length` columns in the dataset have been successfully standardized. The data now has these numerical features scaled, which is an important preprocessing step for many machine learning models, including anomaly detection models.\n",
        "\n",
        "## Anomaly Detection\n",
        "\n",
        "Since we are focusing on anomaly detection without using the `pyod` library (as it's not available in this environment), we can use an alternative approach. One common method is to use clustering-based anomaly detection, such as K-Means, and identify data points that are far from the cluster centroids as potential anomalies.\n",
        "\n",
        "#### Steps for Clustering-Based Anomaly Detection:\n",
        "\n",
        "1. **Applying Clustering**:\n",
        "   - Use a clustering algorithm like K-Means on the standardized numerical features.\n",
        "   - Determine the centroids of the clusters.\n",
        "\n",
        "2. **Identifying Anomalies**:\n",
        "   - Calculate the distance of each point from the nearest cluster centroid.\n",
        "   - Points that are farthest from centroids could be considered anomalies.\n",
        "\n",
        "3. **Visualizing Results**:\n",
        "   - Optionally, visualize the results to understand the distribution of data and anomalies.\n"
      ],
      "metadata": {
        "id": "y-r2H_9weAPa"
      }
    },
    {
      "cell_type": "code",
      "source": [
        "# Reverting back to the original data for standardization\n",
        "# Standardizing the 'Time' and 'Length' columns\n",
        "\n",
        "# Re-importing the necessary libraries as a precaution\n",
        "import pandas as pd\n",
        "from sklearn.preprocessing import StandardScaler\n",
        "\n",
        "# Re-loading the original dataset\n",
        "data = pd.read_csv(dataset_file_path)\n",
        "\n",
        "# Standardizing 'Time' and 'Length'\n",
        "scaler = StandardScaler()\n",
        "data[['Time', 'Length']] = scaler.fit_transform(data[['Time', 'Length']])\n",
        "\n",
        "# Displaying the first few rows of the standardized data\n",
        "data.head()\n"
      ],
      "metadata": {
        "colab": {
          "base_uri": "https://localhost:8080/",
          "height": 206
        },
        "id": "WMLx9YD-me9-",
        "outputId": "e0971aca-38ee-4aa0-c381-8291994997ce"
      },
      "execution_count": null,
      "outputs": [
        {
          "output_type": "execute_result",
          "data": {
            "text/plain": [
              "       Time           Source  No.      Destination Protocol    Length  \\\n",
              "0 -2.965063    192.167.8.166    1  192.167.255.255     NBNS -1.067123   \n",
              "1 -2.962086    192.167.8.166    2  192.167.255.255     NBNS -1.067123   \n",
              "2 -2.960628  VMware_8a:5c:e6    3        Broadcast      ARP -1.105338   \n",
              "3 -2.956838  VMware_8a:5c:e6    4        Broadcast      ARP -1.105338   \n",
              "4 -2.953037  VMware_8a:5c:e6    5        Broadcast      ARP -1.105338   \n",
              "\n",
              "                                      Info  \n",
              "0                   Name query NB WPAD<00>  \n",
              "1                   Name query NB WPAD<00>  \n",
              "2  Who has 192.167.7.175? Tell 192.167.0.1  \n",
              "3  Who has 192.167.7.175? Tell 192.167.0.1  \n",
              "4  Who has 192.167.7.175? Tell 192.167.0.1  "
            ],
            "text/html": [
              "\n",
              "  <div id=\"df-67b879e0-d47b-4490-9135-35297a0db9ab\" class=\"colab-df-container\">\n",
              "    <div>\n",
              "<style scoped>\n",
              "    .dataframe tbody tr th:only-of-type {\n",
              "        vertical-align: middle;\n",
              "    }\n",
              "\n",
              "    .dataframe tbody tr th {\n",
              "        vertical-align: top;\n",
              "    }\n",
              "\n",
              "    .dataframe thead th {\n",
              "        text-align: right;\n",
              "    }\n",
              "</style>\n",
              "<table border=\"1\" class=\"dataframe\">\n",
              "  <thead>\n",
              "    <tr style=\"text-align: right;\">\n",
              "      <th></th>\n",
              "      <th>Time</th>\n",
              "      <th>Source</th>\n",
              "      <th>No.</th>\n",
              "      <th>Destination</th>\n",
              "      <th>Protocol</th>\n",
              "      <th>Length</th>\n",
              "      <th>Info</th>\n",
              "    </tr>\n",
              "  </thead>\n",
              "  <tbody>\n",
              "    <tr>\n",
              "      <th>0</th>\n",
              "      <td>-2.965063</td>\n",
              "      <td>192.167.8.166</td>\n",
              "      <td>1</td>\n",
              "      <td>192.167.255.255</td>\n",
              "      <td>NBNS</td>\n",
              "      <td>-1.067123</td>\n",
              "      <td>Name query NB WPAD&lt;00&gt;</td>\n",
              "    </tr>\n",
              "    <tr>\n",
              "      <th>1</th>\n",
              "      <td>-2.962086</td>\n",
              "      <td>192.167.8.166</td>\n",
              "      <td>2</td>\n",
              "      <td>192.167.255.255</td>\n",
              "      <td>NBNS</td>\n",
              "      <td>-1.067123</td>\n",
              "      <td>Name query NB WPAD&lt;00&gt;</td>\n",
              "    </tr>\n",
              "    <tr>\n",
              "      <th>2</th>\n",
              "      <td>-2.960628</td>\n",
              "      <td>VMware_8a:5c:e6</td>\n",
              "      <td>3</td>\n",
              "      <td>Broadcast</td>\n",
              "      <td>ARP</td>\n",
              "      <td>-1.105338</td>\n",
              "      <td>Who has 192.167.7.175? Tell 192.167.0.1</td>\n",
              "    </tr>\n",
              "    <tr>\n",
              "      <th>3</th>\n",
              "      <td>-2.956838</td>\n",
              "      <td>VMware_8a:5c:e6</td>\n",
              "      <td>4</td>\n",
              "      <td>Broadcast</td>\n",
              "      <td>ARP</td>\n",
              "      <td>-1.105338</td>\n",
              "      <td>Who has 192.167.7.175? Tell 192.167.0.1</td>\n",
              "    </tr>\n",
              "    <tr>\n",
              "      <th>4</th>\n",
              "      <td>-2.953037</td>\n",
              "      <td>VMware_8a:5c:e6</td>\n",
              "      <td>5</td>\n",
              "      <td>Broadcast</td>\n",
              "      <td>ARP</td>\n",
              "      <td>-1.105338</td>\n",
              "      <td>Who has 192.167.7.175? Tell 192.167.0.1</td>\n",
              "    </tr>\n",
              "  </tbody>\n",
              "</table>\n",
              "</div>\n",
              "    <div class=\"colab-df-buttons\">\n",
              "\n",
              "  <div class=\"colab-df-container\">\n",
              "    <button class=\"colab-df-convert\" onclick=\"convertToInteractive('df-67b879e0-d47b-4490-9135-35297a0db9ab')\"\n",
              "            title=\"Convert this dataframe to an interactive table.\"\n",
              "            style=\"display:none;\">\n",
              "\n",
              "  <svg xmlns=\"http://www.w3.org/2000/svg\" height=\"24px\" viewBox=\"0 -960 960 960\">\n",
              "    <path d=\"M120-120v-720h720v720H120Zm60-500h600v-160H180v160Zm220 220h160v-160H400v160Zm0 220h160v-160H400v160ZM180-400h160v-160H180v160Zm440 0h160v-160H620v160ZM180-180h160v-160H180v160Zm440 0h160v-160H620v160Z\"/>\n",
              "  </svg>\n",
              "    </button>\n",
              "\n",
              "  <style>\n",
              "    .colab-df-container {\n",
              "      display:flex;\n",
              "      gap: 12px;\n",
              "    }\n",
              "\n",
              "    .colab-df-convert {\n",
              "      background-color: #E8F0FE;\n",
              "      border: none;\n",
              "      border-radius: 50%;\n",
              "      cursor: pointer;\n",
              "      display: none;\n",
              "      fill: #1967D2;\n",
              "      height: 32px;\n",
              "      padding: 0 0 0 0;\n",
              "      width: 32px;\n",
              "    }\n",
              "\n",
              "    .colab-df-convert:hover {\n",
              "      background-color: #E2EBFA;\n",
              "      box-shadow: 0px 1px 2px rgba(60, 64, 67, 0.3), 0px 1px 3px 1px rgba(60, 64, 67, 0.15);\n",
              "      fill: #174EA6;\n",
              "    }\n",
              "\n",
              "    .colab-df-buttons div {\n",
              "      margin-bottom: 4px;\n",
              "    }\n",
              "\n",
              "    [theme=dark] .colab-df-convert {\n",
              "      background-color: #3B4455;\n",
              "      fill: #D2E3FC;\n",
              "    }\n",
              "\n",
              "    [theme=dark] .colab-df-convert:hover {\n",
              "      background-color: #434B5C;\n",
              "      box-shadow: 0px 1px 3px 1px rgba(0, 0, 0, 0.15);\n",
              "      filter: drop-shadow(0px 1px 2px rgba(0, 0, 0, 0.3));\n",
              "      fill: #FFFFFF;\n",
              "    }\n",
              "  </style>\n",
              "\n",
              "    <script>\n",
              "      const buttonEl =\n",
              "        document.querySelector('#df-67b879e0-d47b-4490-9135-35297a0db9ab button.colab-df-convert');\n",
              "      buttonEl.style.display =\n",
              "        google.colab.kernel.accessAllowed ? 'block' : 'none';\n",
              "\n",
              "      async function convertToInteractive(key) {\n",
              "        const element = document.querySelector('#df-67b879e0-d47b-4490-9135-35297a0db9ab');\n",
              "        const dataTable =\n",
              "          await google.colab.kernel.invokeFunction('convertToInteractive',\n",
              "                                                    [key], {});\n",
              "        if (!dataTable) return;\n",
              "\n",
              "        const docLinkHtml = 'Like what you see? Visit the ' +\n",
              "          '<a target=\"_blank\" href=https://colab.research.google.com/notebooks/data_table.ipynb>data table notebook</a>'\n",
              "          + ' to learn more about interactive tables.';\n",
              "        element.innerHTML = '';\n",
              "        dataTable['output_type'] = 'display_data';\n",
              "        await google.colab.output.renderOutput(dataTable, element);\n",
              "        const docLink = document.createElement('div');\n",
              "        docLink.innerHTML = docLinkHtml;\n",
              "        element.appendChild(docLink);\n",
              "      }\n",
              "    </script>\n",
              "  </div>\n",
              "\n",
              "\n",
              "<div id=\"df-bb74c176-c044-44e8-9e3a-1320ae6a8576\">\n",
              "  <button class=\"colab-df-quickchart\" onclick=\"quickchart('df-bb74c176-c044-44e8-9e3a-1320ae6a8576')\"\n",
              "            title=\"Suggest charts\"\n",
              "            style=\"display:none;\">\n",
              "\n",
              "<svg xmlns=\"http://www.w3.org/2000/svg\" height=\"24px\"viewBox=\"0 0 24 24\"\n",
              "     width=\"24px\">\n",
              "    <g>\n",
              "        <path d=\"M19 3H5c-1.1 0-2 .9-2 2v14c0 1.1.9 2 2 2h14c1.1 0 2-.9 2-2V5c0-1.1-.9-2-2-2zM9 17H7v-7h2v7zm4 0h-2V7h2v10zm4 0h-2v-4h2v4z\"/>\n",
              "    </g>\n",
              "</svg>\n",
              "  </button>\n",
              "\n",
              "<style>\n",
              "  .colab-df-quickchart {\n",
              "      --bg-color: #E8F0FE;\n",
              "      --fill-color: #1967D2;\n",
              "      --hover-bg-color: #E2EBFA;\n",
              "      --hover-fill-color: #174EA6;\n",
              "      --disabled-fill-color: #AAA;\n",
              "      --disabled-bg-color: #DDD;\n",
              "  }\n",
              "\n",
              "  [theme=dark] .colab-df-quickchart {\n",
              "      --bg-color: #3B4455;\n",
              "      --fill-color: #D2E3FC;\n",
              "      --hover-bg-color: #434B5C;\n",
              "      --hover-fill-color: #FFFFFF;\n",
              "      --disabled-bg-color: #3B4455;\n",
              "      --disabled-fill-color: #666;\n",
              "  }\n",
              "\n",
              "  .colab-df-quickchart {\n",
              "    background-color: var(--bg-color);\n",
              "    border: none;\n",
              "    border-radius: 50%;\n",
              "    cursor: pointer;\n",
              "    display: none;\n",
              "    fill: var(--fill-color);\n",
              "    height: 32px;\n",
              "    padding: 0;\n",
              "    width: 32px;\n",
              "  }\n",
              "\n",
              "  .colab-df-quickchart:hover {\n",
              "    background-color: var(--hover-bg-color);\n",
              "    box-shadow: 0 1px 2px rgba(60, 64, 67, 0.3), 0 1px 3px 1px rgba(60, 64, 67, 0.15);\n",
              "    fill: var(--button-hover-fill-color);\n",
              "  }\n",
              "\n",
              "  .colab-df-quickchart-complete:disabled,\n",
              "  .colab-df-quickchart-complete:disabled:hover {\n",
              "    background-color: var(--disabled-bg-color);\n",
              "    fill: var(--disabled-fill-color);\n",
              "    box-shadow: none;\n",
              "  }\n",
              "\n",
              "  .colab-df-spinner {\n",
              "    border: 2px solid var(--fill-color);\n",
              "    border-color: transparent;\n",
              "    border-bottom-color: var(--fill-color);\n",
              "    animation:\n",
              "      spin 1s steps(1) infinite;\n",
              "  }\n",
              "\n",
              "  @keyframes spin {\n",
              "    0% {\n",
              "      border-color: transparent;\n",
              "      border-bottom-color: var(--fill-color);\n",
              "      border-left-color: var(--fill-color);\n",
              "    }\n",
              "    20% {\n",
              "      border-color: transparent;\n",
              "      border-left-color: var(--fill-color);\n",
              "      border-top-color: var(--fill-color);\n",
              "    }\n",
              "    30% {\n",
              "      border-color: transparent;\n",
              "      border-left-color: var(--fill-color);\n",
              "      border-top-color: var(--fill-color);\n",
              "      border-right-color: var(--fill-color);\n",
              "    }\n",
              "    40% {\n",
              "      border-color: transparent;\n",
              "      border-right-color: var(--fill-color);\n",
              "      border-top-color: var(--fill-color);\n",
              "    }\n",
              "    60% {\n",
              "      border-color: transparent;\n",
              "      border-right-color: var(--fill-color);\n",
              "    }\n",
              "    80% {\n",
              "      border-color: transparent;\n",
              "      border-right-color: var(--fill-color);\n",
              "      border-bottom-color: var(--fill-color);\n",
              "    }\n",
              "    90% {\n",
              "      border-color: transparent;\n",
              "      border-bottom-color: var(--fill-color);\n",
              "    }\n",
              "  }\n",
              "</style>\n",
              "\n",
              "  <script>\n",
              "    async function quickchart(key) {\n",
              "      const quickchartButtonEl =\n",
              "        document.querySelector('#' + key + ' button');\n",
              "      quickchartButtonEl.disabled = true;  // To prevent multiple clicks.\n",
              "      quickchartButtonEl.classList.add('colab-df-spinner');\n",
              "      try {\n",
              "        const charts = await google.colab.kernel.invokeFunction(\n",
              "            'suggestCharts', [key], {});\n",
              "      } catch (error) {\n",
              "        console.error('Error during call to suggestCharts:', error);\n",
              "      }\n",
              "      quickchartButtonEl.classList.remove('colab-df-spinner');\n",
              "      quickchartButtonEl.classList.add('colab-df-quickchart-complete');\n",
              "    }\n",
              "    (() => {\n",
              "      let quickchartButtonEl =\n",
              "        document.querySelector('#df-bb74c176-c044-44e8-9e3a-1320ae6a8576 button');\n",
              "      quickchartButtonEl.style.display =\n",
              "        google.colab.kernel.accessAllowed ? 'block' : 'none';\n",
              "    })();\n",
              "  </script>\n",
              "</div>\n",
              "\n",
              "    </div>\n",
              "  </div>\n"
            ]
          },
          "metadata": {},
          "execution_count": 23
        }
      ]
    },
    {
      "cell_type": "code",
      "source": [
        "# Assuming 'Time' and 'Length' are the features you want to use\n",
        "feature_cols = ['Time', 'Length']\n",
        "\n"
      ],
      "metadata": {
        "id": "R3fq-W_nlDJN"
      },
      "execution_count": null,
      "outputs": []
    },
    {
      "cell_type": "code",
      "source": [
        "# Initialize KNN model\n",
        "knn_model = KNN()\n",
        "\n",
        "# Train the model\n",
        "knn_model.fit(data[feature_cols])\n",
        "\n"
      ],
      "metadata": {
        "colab": {
          "base_uri": "https://localhost:8080/"
        },
        "id": "W6FrjG74lzET",
        "outputId": "bf1d0a24-56cf-40c1-bec5-44e6710c200c"
      },
      "execution_count": null,
      "outputs": [
        {
          "output_type": "execute_result",
          "data": {
            "text/plain": [
              "KNN(algorithm='auto', contamination=0.1, leaf_size=30, method='largest',\n",
              "  metric='minkowski', metric_params=None, n_jobs=1, n_neighbors=5, p=2,\n",
              "  radius=1.0)"
            ]
          },
          "metadata": {},
          "execution_count": 25
        }
      ]
    },
    {
      "cell_type": "code",
      "source": [
        "# Get anomaly predictions\n",
        "predictions = knn_model.predict(data[feature_cols])\n"
      ],
      "metadata": {
        "id": "stzSsSywlZ2u"
      },
      "execution_count": null,
      "outputs": []
    },
    {
      "cell_type": "code",
      "source": [
        "# Get anomaly scores\n",
        "anomaly_scores = knn_model.decision_scores_\n"
      ],
      "metadata": {
        "id": "sM5Lx-Kmlbdj"
      },
      "execution_count": null,
      "outputs": []
    },
    {
      "cell_type": "code",
      "source": [
        "anomaly_scores"
      ],
      "metadata": {
        "colab": {
          "base_uri": "https://localhost:8080/"
        },
        "id": "4ff3MIy-m1UN",
        "outputId": "b583b7cd-7f62-4e59-86e8-3b1aa477b6c2"
      },
      "execution_count": null,
      "outputs": [
        {
          "output_type": "execute_result",
          "data": {
            "text/plain": [
              "array([0.05085904, 0.04894593, 0.03672626, ..., 0.01757558, 0.00778441,\n",
              "       0.00778735])"
            ]
          },
          "metadata": {},
          "execution_count": 28
        }
      ]
    },
    {
      "cell_type": "code",
      "source": [
        "# Assuming 'knn_model' is your trained pyOD model\n",
        "anomaly_scores = knn_model.decision_function(data[feature_cols])\n"
      ],
      "metadata": {
        "id": "d9P0DZH9m-7D"
      },
      "execution_count": null,
      "outputs": []
    },
    {
      "cell_type": "code",
      "source": [
        "import matplotlib.pyplot as plt\n",
        "\n",
        "plt.hist(anomaly_scores, bins=50)\n",
        "plt.title('Distribution of Anomaly Scores')\n",
        "plt.xlabel('Anomaly Score')\n",
        "plt.ylabel('Frequency')\n",
        "plt.show()\n"
      ],
      "metadata": {
        "colab": {
          "base_uri": "https://localhost:8080/",
          "height": 472
        },
        "id": "aV8PGkPjnKHm",
        "outputId": "f60ad1d1-030e-4c8f-d85e-94e8e0488d4f"
      },
      "execution_count": null,
      "outputs": [
        {
          "output_type": "display_data",
          "data": {
            "text/plain": [
              "<Figure size 640x480 with 1 Axes>"
            ],
            "image/png": "[encoded data removed]"
          },
          "metadata": {}
        }
      ]
    },
    {
      "cell_type": "code",
      "source": [
        "plt.figure(figsize=(15, 6))\n",
        "plt.plot(anomaly_scores, marker='o')\n",
        "plt.title('Anomaly Scores over Data Points')\n",
        "plt.xlabel('Data Point Index')\n",
        "plt.ylabel('Anomaly Score')\n",
        "plt.show()\n"
      ],
      "metadata": {
        "colab": {
          "base_uri": "https://localhost:8080/",
          "height": 564
        },
        "id": "Nv0fQyKBnMR-",
        "outputId": "f4bbe3f1-1031-4054-da3a-bf8fb9fc7ee3"
      },
      "execution_count": null,
      "outputs": [
        {
          "output_type": "display_data",
          "data": {
            "text/plain": [
              "<Figure size 1500x600 with 1 Axes>"
            ],
            "image/png": "[encoded data removed]"
          },
          "metadata": {}
        }
      ]
    },
    {
      "cell_type": "code",
      "source": [
        "plt.boxplot(anomaly_scores, vert=False)\n",
        "plt.title('Box Plot of Anomaly Scores')\n",
        "plt.xlabel('Anomaly Score')\n",
        "plt.show()\n"
      ],
      "metadata": {
        "colab": {
          "base_uri": "https://localhost:8080/",
          "height": 472
        },
        "id": "juHUv91vnNiw",
        "outputId": "599c655f-bc41-4560-a970-70fdb3a29568"
      },
      "execution_count": null,
      "outputs": [
        {
          "output_type": "display_data",
          "data": {
            "text/plain": [
              "<Figure size 640x480 with 1 Axes>"
            ],
            "image/png": "[encoded data removed]"
          },
          "metadata": {}
        }
      ]
    },
    {
      "cell_type": "code",
      "source": [],
      "metadata": {
        "id": "y-rAF0Zynlzc"
      },
      "execution_count": null,
      "outputs": []
    }
  ]
}