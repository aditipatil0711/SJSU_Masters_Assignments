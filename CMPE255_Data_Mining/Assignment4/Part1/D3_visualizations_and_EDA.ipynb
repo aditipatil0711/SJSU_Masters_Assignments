{
 "cells": [
  {
   "cell_type": "markdown",
   "metadata": {},
   "source": [
    "#  Exploratory Data Analysis (EDA) and Visualization using D3.js"
   ]
  },
  {
   "cell_type": "markdown",
   "metadata": {},
   "source": [
    "This notebook focusses on the following activities:\n",
    "1. Detailed EDA analysis\n",
    "2. Advanced visualizations using D3.js\n",
    "\n",
    "The dataset we are using here is of Bangalore Zomato sales Restaurants\n",
    "\n",
    "## Exploratory Data Analysis:\n",
    "\n",
    "### * Loading the Dataset and Basic Overview*\n",
    "\n",
    "**Procedure:**\n",
    "\n",
    "1. Unzip the provided dataset.\n",
    "2. Load the dataset using pandas.\n",
    "3. Display the first few rows to understand its structure.\n",
    "4. Get the datatype of each column.\n",
    "5. Check for any missing values."
   ]
  },
  {
   "cell_type": "code",
   "execution_count": 1,
   "metadata": {
    "id": "Jup-kOvdMzh4"
   },
   "outputs": [],
   "source": [
    "import pandas as pd\n",
    "import os"
   ]
  },
  {
   "cell_type": "code",
   "execution_count": 2,
   "metadata": {
    "colab": {
     "base_uri": "https://localhost:8080/",
     "height": 608
    },
    "id": "BJxmRGoHNBwG",
    "outputId": "f26b7758-ad13-42e4-d65d-99a5f095099a"
   },
   "outputs": [
    {
     "data": {
      "text/html": [
       "<div>\n",
       "<style scoped>\n",
       "    .dataframe tbody tr th:only-of-type {\n",
       "        vertical-align: middle;\n",
       "    }\n",
       "\n",
       "    .dataframe tbody tr th {\n",
       "        vertical-align: top;\n",
       "    }\n",
       "\n",
       "    .dataframe thead th {\n",
       "        text-align: right;\n",
       "    }\n",
       "</style>\n",
       "<table border=\"1\" class=\"dataframe\">\n",
       "  <thead>\n",
       "    <tr style=\"text-align: right;\">\n",
       "      <th></th>\n",
       "      <th>url</th>\n",
       "      <th>address</th>\n",
       "      <th>name</th>\n",
       "      <th>online_order</th>\n",
       "      <th>book_table</th>\n",
       "      <th>rate</th>\n",
       "      <th>votes</th>\n",
       "      <th>phone</th>\n",
       "      <th>location</th>\n",
       "      <th>rest_type</th>\n",
       "      <th>dish_liked</th>\n",
       "      <th>cuisines</th>\n",
       "      <th>approx_cost(for two people)</th>\n",
       "      <th>reviews_list</th>\n",
       "      <th>menu_item</th>\n",
       "      <th>listed_in(type)</th>\n",
       "      <th>listed_in(city)</th>\n",
       "    </tr>\n",
       "  </thead>\n",
       "  <tbody>\n",
       "    <tr>\n",
       "      <th>0</th>\n",
       "      <td>https://www.zomato.com/bangalore/jalsa-banasha...</td>\n",
       "      <td>942, 21st Main Road, 2nd Stage, Banashankari, ...</td>\n",
       "      <td>Jalsa</td>\n",
       "      <td>Yes</td>\n",
       "      <td>Yes</td>\n",
       "      <td>4.1/5</td>\n",
       "      <td>775</td>\n",
       "      <td>080 42297555\\r\\n+91 9743772233</td>\n",
       "      <td>Banashankari</td>\n",
       "      <td>Casual Dining</td>\n",
       "      <td>Pasta, Lunch Buffet, Masala Papad, Paneer Laja...</td>\n",
       "      <td>North Indian, Mughlai, Chinese</td>\n",
       "      <td>800</td>\n",
       "      <td>[('Rated 4.0', 'RATED\\n  A beautiful place to ...</td>\n",
       "      <td>[]</td>\n",
       "      <td>Buffet</td>\n",
       "      <td>Banashankari</td>\n",
       "    </tr>\n",
       "    <tr>\n",
       "      <th>1</th>\n",
       "      <td>https://www.zomato.com/bangalore/spice-elephan...</td>\n",
       "      <td>2nd Floor, 80 Feet Road, Near Big Bazaar, 6th ...</td>\n",
       "      <td>Spice Elephant</td>\n",
       "      <td>Yes</td>\n",
       "      <td>No</td>\n",
       "      <td>4.1/5</td>\n",
       "      <td>787</td>\n",
       "      <td>080 41714161</td>\n",
       "      <td>Banashankari</td>\n",
       "      <td>Casual Dining</td>\n",
       "      <td>Momos, Lunch Buffet, Chocolate Nirvana, Thai G...</td>\n",
       "      <td>Chinese, North Indian, Thai</td>\n",
       "      <td>800</td>\n",
       "      <td>[('Rated 4.0', 'RATED\\n  Had been here for din...</td>\n",
       "      <td>[]</td>\n",
       "      <td>Buffet</td>\n",
       "      <td>Banashankari</td>\n",
       "    </tr>\n",
       "    <tr>\n",
       "      <th>2</th>\n",
       "      <td>https://www.zomato.com/SanchurroBangalore?cont...</td>\n",
       "      <td>1112, Next to KIMS Medical College, 17th Cross...</td>\n",
       "      <td>San Churro Cafe</td>\n",
       "      <td>Yes</td>\n",
       "      <td>No</td>\n",
       "      <td>3.8/5</td>\n",
       "      <td>918</td>\n",
       "      <td>+91 9663487993</td>\n",
       "      <td>Banashankari</td>\n",
       "      <td>Cafe, Casual Dining</td>\n",
       "      <td>Churros, Cannelloni, Minestrone Soup, Hot Choc...</td>\n",
       "      <td>Cafe, Mexican, Italian</td>\n",
       "      <td>800</td>\n",
       "      <td>[('Rated 3.0', \"RATED\\n  Ambience is not that ...</td>\n",
       "      <td>[]</td>\n",
       "      <td>Buffet</td>\n",
       "      <td>Banashankari</td>\n",
       "    </tr>\n",
       "    <tr>\n",
       "      <th>3</th>\n",
       "      <td>https://www.zomato.com/bangalore/addhuri-udupi...</td>\n",
       "      <td>1st Floor, Annakuteera, 3rd Stage, Banashankar...</td>\n",
       "      <td>Addhuri Udupi Bhojana</td>\n",
       "      <td>No</td>\n",
       "      <td>No</td>\n",
       "      <td>3.7/5</td>\n",
       "      <td>88</td>\n",
       "      <td>+91 9620009302</td>\n",
       "      <td>Banashankari</td>\n",
       "      <td>Quick Bites</td>\n",
       "      <td>Masala Dosa</td>\n",
       "      <td>South Indian, North Indian</td>\n",
       "      <td>300</td>\n",
       "      <td>[('Rated 4.0', \"RATED\\n  Great food and proper...</td>\n",
       "      <td>[]</td>\n",
       "      <td>Buffet</td>\n",
       "      <td>Banashankari</td>\n",
       "    </tr>\n",
       "    <tr>\n",
       "      <th>4</th>\n",
       "      <td>https://www.zomato.com/bangalore/grand-village...</td>\n",
       "      <td>10, 3rd Floor, Lakshmi Associates, Gandhi Baza...</td>\n",
       "      <td>Grand Village</td>\n",
       "      <td>No</td>\n",
       "      <td>No</td>\n",
       "      <td>3.8/5</td>\n",
       "      <td>166</td>\n",
       "      <td>+91 8026612447\\r\\n+91 9901210005</td>\n",
       "      <td>Basavanagudi</td>\n",
       "      <td>Casual Dining</td>\n",
       "      <td>Panipuri, Gol Gappe</td>\n",
       "      <td>North Indian, Rajasthani</td>\n",
       "      <td>600</td>\n",
       "      <td>[('Rated 4.0', 'RATED\\n  Very good restaurant ...</td>\n",
       "      <td>[]</td>\n",
       "      <td>Buffet</td>\n",
       "      <td>Banashankari</td>\n",
       "    </tr>\n",
       "  </tbody>\n",
       "</table>\n",
       "</div>"
      ],
      "text/plain": [
       "                                                 url  \\\n",
       "0  https://www.zomato.com/bangalore/jalsa-banasha...   \n",
       "1  https://www.zomato.com/bangalore/spice-elephan...   \n",
       "2  https://www.zomato.com/SanchurroBangalore?cont...   \n",
       "3  https://www.zomato.com/bangalore/addhuri-udupi...   \n",
       "4  https://www.zomato.com/bangalore/grand-village...   \n",
       "\n",
       "                                             address                   name  \\\n",
       "0  942, 21st Main Road, 2nd Stage, Banashankari, ...                  Jalsa   \n",
       "1  2nd Floor, 80 Feet Road, Near Big Bazaar, 6th ...         Spice Elephant   \n",
       "2  1112, Next to KIMS Medical College, 17th Cross...        San Churro Cafe   \n",
       "3  1st Floor, Annakuteera, 3rd Stage, Banashankar...  Addhuri Udupi Bhojana   \n",
       "4  10, 3rd Floor, Lakshmi Associates, Gandhi Baza...          Grand Village   \n",
       "\n",
       "  online_order book_table   rate  votes                             phone  \\\n",
       "0          Yes        Yes  4.1/5    775    080 42297555\\r\\n+91 9743772233   \n",
       "1          Yes         No  4.1/5    787                      080 41714161   \n",
       "2          Yes         No  3.8/5    918                    +91 9663487993   \n",
       "3           No         No  3.7/5     88                    +91 9620009302   \n",
       "4           No         No  3.8/5    166  +91 8026612447\\r\\n+91 9901210005   \n",
       "\n",
       "       location            rest_type  \\\n",
       "0  Banashankari        Casual Dining   \n",
       "1  Banashankari        Casual Dining   \n",
       "2  Banashankari  Cafe, Casual Dining   \n",
       "3  Banashankari          Quick Bites   \n",
       "4  Basavanagudi        Casual Dining   \n",
       "\n",
       "                                          dish_liked  \\\n",
       "0  Pasta, Lunch Buffet, Masala Papad, Paneer Laja...   \n",
       "1  Momos, Lunch Buffet, Chocolate Nirvana, Thai G...   \n",
       "2  Churros, Cannelloni, Minestrone Soup, Hot Choc...   \n",
       "3                                        Masala Dosa   \n",
       "4                                Panipuri, Gol Gappe   \n",
       "\n",
       "                         cuisines approx_cost(for two people)  \\\n",
       "0  North Indian, Mughlai, Chinese                         800   \n",
       "1     Chinese, North Indian, Thai                         800   \n",
       "2          Cafe, Mexican, Italian                         800   \n",
       "3      South Indian, North Indian                         300   \n",
       "4        North Indian, Rajasthani                         600   \n",
       "\n",
       "                                        reviews_list menu_item  \\\n",
       "0  [('Rated 4.0', 'RATED\\n  A beautiful place to ...        []   \n",
       "1  [('Rated 4.0', 'RATED\\n  Had been here for din...        []   \n",
       "2  [('Rated 3.0', \"RATED\\n  Ambience is not that ...        []   \n",
       "3  [('Rated 4.0', \"RATED\\n  Great food and proper...        []   \n",
       "4  [('Rated 4.0', 'RATED\\n  Very good restaurant ...        []   \n",
       "\n",
       "  listed_in(type) listed_in(city)  \n",
       "0          Buffet    Banashankari  \n",
       "1          Buffet    Banashankari  \n",
       "2          Buffet    Banashankari  \n",
       "3          Buffet    Banashankari  \n",
       "4          Buffet    Banashankari  "
      ]
     },
     "execution_count": 2,
     "metadata": {},
     "output_type": "execute_result"
    }
   ],
   "source": [
    "import pandas as pd\n",
    "import zipfile\n",
    "\n",
    "# Unzipping the dataset\n",
    "with zipfile.ZipFile('C:/Users/patil/Downloads/zomato.csv (1).zip','r') as z:\n",
    "    z.extractall('')\n",
    "\n",
    "# Loading the dataset into a pandas dataframe\n",
    "zomato_df = pd.read_csv('zomato.csv')\n",
    "\n",
    "# Displaying the first few rows of the dataset\n",
    "zomato_df.head()\n"
   ]
  },
  {
   "cell_type": "code",
   "execution_count": 3,
   "metadata": {
    "colab": {
     "base_uri": "https://localhost:8080/"
    },
    "id": "hnm_QVYjZS-Q",
    "outputId": "6d072033-60df-4ea8-bf49-ce682b386c98"
   },
   "outputs": [
    {
     "data": {
      "text/plain": [
       "(url                            object\n",
       " address                        object\n",
       " name                           object\n",
       " online_order                   object\n",
       " book_table                     object\n",
       " rate                           object\n",
       " votes                           int64\n",
       " phone                          object\n",
       " location                       object\n",
       " rest_type                      object\n",
       " dish_liked                     object\n",
       " cuisines                       object\n",
       " approx_cost(for two people)    object\n",
       " reviews_list                   object\n",
       " menu_item                      object\n",
       " listed_in(type)                object\n",
       " listed_in(city)                object\n",
       " dtype: object,\n",
       " url                                0\n",
       " address                            0\n",
       " name                               0\n",
       " online_order                       0\n",
       " book_table                         0\n",
       " rate                            7775\n",
       " votes                              0\n",
       " phone                           1208\n",
       " location                          21\n",
       " rest_type                        227\n",
       " dish_liked                     28078\n",
       " cuisines                          45\n",
       " approx_cost(for two people)      346\n",
       " reviews_list                       0\n",
       " menu_item                          0\n",
       " listed_in(type)                    0\n",
       " listed_in(city)                    0\n",
       " dtype: int64)"
      ]
     },
     "execution_count": 3,
     "metadata": {},
     "output_type": "execute_result"
    }
   ],
   "source": [
    "# Displaying data types for each column\n",
    "column_data_types = zomato_df.dtypes\n",
    "\n",
    "# Checking for missing values in the dataset\n",
    "missing_values = zomato_df.isnull().sum()\n",
    "\n",
    "column_data_types, missing_values\n"
   ]
  },
  {
   "cell_type": "markdown",
   "metadata": {},
   "source": [
    "**Column Data Types:**\n",
    "\n",
    "Most of the columns are of object data type which usually indicates string or categorical data.\n",
    "The votes column is of int64 data type, representing integer values.\n",
    "Missing Values:\n",
    "\n",
    "* rate: 7775 missing values.\n",
    "* phone: 1208 missing values.\n",
    "* location: 21 missing values.\n",
    "* rest_type: 227 missing values.\n",
    "* dish_liked: 28078 missing values (this is quite significant).\n",
    "* cuisines: 45 missing values.\n",
    "* approx_cost(for two people): 346 missing values.\n",
    "\n",
    "## *Handling missing values and Cleaning Data*"
   ]
  },
  {
   "cell_type": "code",
   "execution_count": 4,
   "metadata": {
    "colab": {
     "base_uri": "https://localhost:8080/"
    },
    "id": "Ho4U4AkJZS4v",
    "outputId": "a2ec93a3-b4a0-4fc8-b390-f0aef57d051f"
   },
   "outputs": [
    {
     "data": {
      "text/plain": [
       "url                            0\n",
       "address                        0\n",
       "name                           0\n",
       "online_order                   0\n",
       "book_table                     0\n",
       "rate                           0\n",
       "votes                          0\n",
       "phone                          0\n",
       "location                       0\n",
       "rest_type                      0\n",
       "dish_liked                     0\n",
       "cuisines                       0\n",
       "approx_cost(for two people)    0\n",
       "reviews_list                   0\n",
       "menu_item                      0\n",
       "listed_in(type)                0\n",
       "listed_in(city)                0\n",
       "dtype: int64"
      ]
     },
     "execution_count": 4,
     "metadata": {},
     "output_type": "execute_result"
    }
   ],
   "source": [
    "\n",
    "# Filling missing values with specified placeholders or methods\n",
    "zomato_df['rate'].fillna('Not Rated', inplace=True)\n",
    "zomato_df['phone'].fillna('Not Available', inplace=True)\n",
    "zomato_df['location'].fillna('Not Specified', inplace=True)\n",
    "zomato_df['rest_type'].fillna('Not Specified', inplace=True)\n",
    "zomato_df['dish_liked'].fillna('Unknown', inplace=True)\n",
    "zomato_df['cuisines'].fillna('Not Specified', inplace=True)\n",
    "\n",
    "# Filling 'approx_cost(for two people)' with its median after converting it to numerical\n",
    "zomato_df['approx_cost(for two people)'] = zomato_df['approx_cost(for two people)'].str.replace(',', '').astype(float)\n",
    "median_cost = zomato_df['approx_cost(for two people)'].median()\n",
    "zomato_df['approx_cost(for two people)'].fillna(median_cost, inplace=True)\n",
    "\n",
    "# Checking if there are any missing values left\n",
    "remaining_missing = zomato_df.isnull().sum()\n",
    "remaining_missing\n"
   ]
  },
  {
   "cell_type": "code",
   "execution_count": 5,
   "metadata": {
    "colab": {
     "base_uri": "https://localhost:8080/"
    },
    "id": "qWBfjSNcZSzN",
    "outputId": "0b94b5ee-1d96-4a58-b13f-431794094e4e"
   },
   "outputs": [
    {
     "data": {
      "text/plain": [
       "url                             object\n",
       "address                         object\n",
       "name                            object\n",
       "online_order                     int64\n",
       "book_table                       int64\n",
       "rate                           float64\n",
       "votes                            int64\n",
       "phone                           object\n",
       "location                        object\n",
       "rest_type                       object\n",
       "dish_liked                      object\n",
       "cuisines                        object\n",
       "approx_cost(for two people)    float64\n",
       "reviews_list                    object\n",
       "menu_item                       object\n",
       "listed_in(type)                 object\n",
       "listed_in(city)                 object\n",
       "dtype: object"
      ]
     },
     "execution_count": 5,
     "metadata": {},
     "output_type": "execute_result"
    }
   ],
   "source": [
    "# Extracting numerical rating from the 'rate' column and converting to float\n",
    "zomato_df['rate'] = zomato_df['rate'].str.split('/', expand=True)[0]\n",
    "zomato_df['rate'] = zomato_df['rate'].replace('Not Rated', 'NaN')\n",
    "zomato_df['rate'].replace('NEW', 'NaN', inplace=True)\n",
    "zomato_df['rate'].replace('-', 'NaN', inplace=True)\n",
    "zomato_df['rate'] = zomato_df['rate'].astype(float)\n",
    "\n",
    "# Converting 'online_order' and 'book_table' to boolean\n",
    "zomato_df['online_order'] = zomato_df['online_order'].map({'Yes': 1, 'No': 0})\n",
    "zomato_df['book_table'] = zomato_df['book_table'].map({'Yes': 1, 'No': 0})\n",
    "\n",
    "# Checking the data types again\n",
    "current_data_types = zomato_df.dtypes\n",
    "current_data_types\n"
   ]
  },
  {
   "cell_type": "code",
   "execution_count": 6,
   "metadata": {
    "colab": {
     "base_uri": "https://localhost:8080/"
    },
    "id": "61yKHaNtZStQ",
    "outputId": "785b72ee-76f9-4646-a304-7f45b25b011a"
   },
   "outputs": [
    {
     "data": {
      "text/plain": [
       "url                             object\n",
       "address                         object\n",
       "name                            object\n",
       "online_order                      bool\n",
       "book_table                        bool\n",
       "rate                           float64\n",
       "votes                            int64\n",
       "phone                           object\n",
       "location                        object\n",
       "rest_type                       object\n",
       "dish_liked                      object\n",
       "cuisines                        object\n",
       "approx_cost(for two people)    float64\n",
       "reviews_list                    object\n",
       "menu_item                       object\n",
       "listed_in(type)                 object\n",
       "listed_in(city)                 object\n",
       "dtype: object"
      ]
     },
     "execution_count": 6,
     "metadata": {},
     "output_type": "execute_result"
    }
   ],
   "source": [
    "# Converting 'online_order' and 'book_table' to boolean\n",
    "zomato_df['online_order'] = zomato_df['online_order'].astype(bool)\n",
    "zomato_df['book_table'] = zomato_df['book_table'].astype(bool)\n",
    "\n",
    "# Checking the data types again to confirm the changes\n",
    "updated_data_types = zomato_df.dtypes\n",
    "updated_data_types\n"
   ]
  },
  {
   "cell_type": "markdown",
   "metadata": {},
   "source": [
    "## *Exploratory Data Analysis and normal Visualizations*\n",
    "\n",
    "Given the vastness of the dataset, we'll start with some basic visualizations:\n",
    "\n",
    "1. Distribution of Ratings: Understand the distribution of ratings across all restaurants.\n",
    "2. Online Orders: See the proportion of restaurants offering online ordering.\n",
    "3. Bookings: Understand the proportion of restaurants that allow table reservations.\n",
    "4. Top Cuisines: Identify the most popular cuisines offered by restaurants.\n",
    "5. Cost Distribution: Visualize the distribution of the approximate cost for two people.\n",
    "\n",
    "**Distribution of Ratings**"
   ]
  },
  {
   "cell_type": "code",
   "execution_count": 7,
   "metadata": {
    "colab": {
     "base_uri": "https://localhost:8080/",
     "height": 564
    },
    "id": "TCwQqXMEZSn3",
    "outputId": "ccf86c2a-9503-463e-d795-454d71e70e58"
   },
   "outputs": [
    {
     "data": {
      "image/png": "[encoded data removed]",
      "text/plain": [
       "<Figure size 1000x600 with 1 Axes>"
      ]
     },
     "metadata": {},
     "output_type": "display_data"
    }
   ],
   "source": [
    "import matplotlib.pyplot as plt\n",
    "import seaborn as sns\n",
    "\n",
    "# Setting the style for seaborn plots\n",
    "sns.set_style(\"whitegrid\")\n",
    "\n",
    "# Plotting the distribution of ratings\n",
    "plt.figure(figsize=(10, 6))\n",
    "sns.histplot(zomato_df['rate'], bins=20, kde=True, color='skyblue')\n",
    "plt.title('Distribution of Ratings')\n",
    "plt.xlabel('Rating')\n",
    "plt.ylabel('Number of Restaurants')\n",
    "plt.show()\n"
   ]
  },
  {
   "cell_type": "markdown",
   "metadata": {},
   "source": [
    "## **Online Orders**"
   ]
  },
  {
   "cell_type": "code",
   "execution_count": 8,
   "metadata": {
    "colab": {
     "base_uri": "https://localhost:8080/",
     "height": 675
    },
    "id": "3-6jh0kIZShk",
    "outputId": "9388dba1-c19f-47b8-84fa-3984f32ce12d"
   },
   "outputs": [
    {
     "data": {
      "image/png": "[encoded data removed]",
      "text/plain": [
       "<Figure size 800x800 with 1 Axes>"
      ]
     },
     "metadata": {},
     "output_type": "display_data"
    }
   ],
   "source": [
    "# Counting the number of restaurants offering online orders\n",
    "online_order_counts = zomato_df['online_order'].value_counts()\n",
    "\n",
    "# Adjusting the labels to match the boolean values in 'online_order' column\n",
    "plt.figure(figsize=(8, 8))\n",
    "plt.pie(online_order_counts, labels=['Offers Online Order', 'Does Not Offer Online Order'],\n",
    "        colors=['lightcoral', 'lightskyblue'], autopct='%1.1f%%', startangle=140)\n",
    "plt.title('Proportion of Restaurants Offering Online Orders')\n",
    "plt.show()"
   ]
  },
  {
   "cell_type": "code",
   "execution_count": 9,
   "metadata": {
    "colab": {
     "base_uri": "https://localhost:8080/"
    },
    "id": "J-iNiu3lZSa9",
    "outputId": "942613aa-14fc-42ec-a608-0b0a4b45356f"
   },
   "outputs": [
    {
     "data": {
      "text/plain": [
       "array([ True, False])"
      ]
     },
     "execution_count": 9,
     "metadata": {},
     "output_type": "execute_result"
    }
   ],
   "source": [
    "# Checking unique values in 'online_order' column\n",
    "unique_online_order = zomato_df['online_order'].unique()\n",
    "unique_online_order\n",
    "\n"
   ]
  },
  {
   "cell_type": "markdown",
   "metadata": {},
   "source": [
    "## **Bookings**"
   ]
  },
  {
   "cell_type": "code",
   "execution_count": 10,
   "metadata": {
    "colab": {
     "base_uri": "https://localhost:8080/",
     "height": 675
    },
    "id": "AJEUQrQLZSSy",
    "outputId": "25e9594f-2333-4e28-8a88-2f6d2957b9f4"
   },
   "outputs": [
    {
     "data": {
      "image/png": "[encoded data removed]",
      "text/plain": [
       "<Figure size 800x800 with 1 Axes>"
      ]
     },
     "metadata": {},
     "output_type": "display_data"
    }
   ],
   "source": [
    "# Counting the number of restaurants allowing table reservations\n",
    "book_table_counts = zomato_df['book_table'].value_counts()\n",
    "\n",
    "# Plotting the pie chart for table reservations\n",
    "plt.figure(figsize=(8, 8))\n",
    "plt.pie(book_table_counts, labels=['Does Not Allow Reservations', 'Allows Reservations'],\n",
    "        colors=['gold', 'lightgreen'], autopct='%1.1f%%', startangle=140)\n",
    "plt.title('Proportion of Restaurants Allowing Table Reservations')\n",
    "plt.show()\n"
   ]
  },
  {
   "cell_type": "markdown",
   "metadata": {},
   "source": [
    "## Top 10 Cuisines"
   ]
  },
  {
   "cell_type": "code",
   "execution_count": 11,
   "metadata": {
    "colab": {
     "base_uri": "https://localhost:8080/",
     "height": 776
    },
    "id": "St_tno4iZSDM",
    "outputId": "43e4a9b1-4841-474c-cd8e-ae396f04907e"
   },
   "outputs": [
    {
     "data": {
      "image/png": "[encoded data removed]",
      "text/plain": [
       "<Figure size 1200x800 with 1 Axes>"
      ]
     },
     "metadata": {},
     "output_type": "display_data"
    }
   ],
   "source": [
    "# Extracting cuisines and their counts\n",
    "cuisines_series = zomato_df['cuisines'].str.split(',').explode()\n",
    "cuisine_counts = cuisines_series.str.strip().value_counts()\n",
    "\n",
    "# Taking the top 10 cuisines\n",
    "top_10_cuisines = cuisine_counts.head(10)\n",
    "\n",
    "# Plotting the top 10 cuisines\n",
    "plt.figure(figsize=(12, 8))\n",
    "top_10_cuisines.plot(kind='bar', color='mediumseagreen')\n",
    "plt.title('Top 10 Cuisines')\n",
    "plt.xlabel('Cuisine')\n",
    "plt.ylabel('Number of Restaurants')\n",
    "plt.xticks(rotation=45)\n",
    "plt.show()\n"
   ]
  },
  {
   "cell_type": "markdown",
   "metadata": {},
   "source": [
    "## Cost Estimation"
   ]
  },
  {
   "cell_type": "code",
   "execution_count": 12,
   "metadata": {
    "colab": {
     "base_uri": "https://localhost:8080/",
     "height": 564
    },
    "id": "91g9n37HdKcC",
    "outputId": "6f9f9e74-de25-45c7-a221-4e05be7572c5"
   },
   "outputs": [
    {
     "data": {
      "image/png": "[encoded data removed]",
      "text/plain": [
       "<Figure size 1000x600 with 1 Axes>"
      ]
     },
     "metadata": {},
     "output_type": "display_data"
    }
   ],
   "source": [
    "# Plotting the box plot for approximate cost for two people\n",
    "plt.figure(figsize=(10, 6))\n",
    "sns.boxplot(zomato_df['approx_cost(for two people)'], color='lightblue')\n",
    "plt.title('Distribution of Approximate Cost for Two People')\n",
    "plt.xlabel('Approximate Cost')\n",
    "plt.show()\n"
   ]
  },
  {
   "cell_type": "markdown",
   "metadata": {},
   "source": [
    "## Correlation Analysis\n",
    "\n",
    "**5.1 Correlation Analysis**\n",
    "\n",
    "We'll begin by analyzing the correlations between numeric variables and visualizing them using a heatmap.\n",
    "\n",
    "**5.2 Grouped Analysis**\n",
    "\n",
    "We'll examine the average rating of restaurants based on:\n",
    "\n",
    "* Whether they offer online ordering.\n",
    "* Whether they allow table reservations.\n",
    "\n",
    "**5.3 Comparative Analysis**\n",
    "\n",
    "We'll compare ratings across:\n",
    "\n",
    "* Different types of restaurants.\n",
    "* Different locations."
   ]
  },
  {
   "cell_type": "code",
   "execution_count": 13,
   "metadata": {
    "colab": {
     "base_uri": "https://localhost:8080/"
    },
    "id": "Fm6XRyUtdKZB",
    "outputId": "2db2f741-2dbc-4877-8bd8-6e629d89674c"
   },
   "outputs": [
    {
     "data": {
      "text/plain": [
       "(                                 rate     votes  online_order  book_table  \\\n",
       " rate                         1.000000  0.434040      0.068479    0.424631   \n",
       " votes                        0.434040  1.000000      0.034714    0.405428   \n",
       " online_order                 0.068479  0.034714      1.000000    0.001035   \n",
       " book_table                   0.424631  0.405428      0.001035    1.000000   \n",
       " approx_cost(for two people)  0.383834  0.380992     -0.079908    0.618449   \n",
       " \n",
       "                              approx_cost(for two people)  \n",
       " rate                                            0.383834  \n",
       " votes                                           0.380992  \n",
       " online_order                                   -0.079908  \n",
       " book_table                                      0.618449  \n",
       " approx_cost(for two people)                     1.000000  ,\n",
       " online_order\n",
       " False    3.65907\n",
       " True     3.72244\n",
       " Name: rate, dtype: float64,\n",
       " book_table\n",
       " False    3.621470\n",
       " True     4.143464\n",
       " Name: rate, dtype: float64,\n",
       " rest_type\n",
       " Bakery                3.607955\n",
       " Bar                   3.737942\n",
       " Beverage Shop         3.626324\n",
       " Cafe                  3.847342\n",
       " Casual Dining         3.740398\n",
       " Casual Dining, Bar    4.079009\n",
       " Delivery              3.569286\n",
       " Dessert Parlor        3.875483\n",
       " Quick Bites           3.546113\n",
       " Takeaway, Delivery    3.513622\n",
       " Name: rate, dtype: float64,\n",
       " location\n",
       " BTM                      3.573740\n",
       " Bannerghatta Road        3.507449\n",
       " Bellandur                3.525692\n",
       " HSR                      3.672164\n",
       " Indiranagar              3.828154\n",
       " JP Nagar                 3.675306\n",
       " Jayanagar                3.780280\n",
       " Koramangala 5th Block    4.005821\n",
       " Marathahalli             3.541927\n",
       " Whitefield               3.621618\n",
       " Name: rate, dtype: float64)"
      ]
     },
     "execution_count": 13,
     "metadata": {},
     "output_type": "execute_result"
    }
   ],
   "source": [
    "# 5.1 Correlation Analysis\n",
    "correlation_matrix = zomato_df[['rate', 'votes', 'online_order', 'book_table', 'approx_cost(for two people)']].corr()\n",
    "\n",
    "# 5.2 Grouped Analysis\n",
    "avg_rating_online_order = zomato_df.groupby('online_order')['rate'].mean()\n",
    "avg_rating_book_table = zomato_df.groupby('book_table')['rate'].mean()\n",
    "\n",
    "# 5.3 Comparative Analysis\n",
    "# Taking top 10 types of restaurants and locations for better visualization\n",
    "top_rest_types = zomato_df['rest_type'].value_counts().head(10).index\n",
    "top_locations = zomato_df['location'].value_counts().head(10).index\n",
    "\n",
    "avg_rating_rest_type = zomato_df[zomato_df['rest_type'].isin(top_rest_types)].groupby('rest_type')['rate'].mean()\n",
    "avg_rating_location = zomato_df[zomato_df['location'].isin(top_locations)].groupby('location')['rate'].mean()\n",
    "\n",
    "correlation_matrix, avg_rating_online_order, avg_rating_book_table, avg_rating_rest_type, avg_rating_location\n"
   ]
  },
  {
   "cell_type": "markdown",
   "metadata": {},
   "source": [
    "## Outlier Detection\n",
    "\n",
    "We'll focus on the following numerical columns for outlier detection:\n",
    "\n",
    "* rate\n",
    "* votes\n",
    "* approx_cost(for two people)\n",
    "\n",
    "For this, we'll use box plots as they provide a visual summary of the data's distribution, especially potential outliers."
   ]
  },
  {
   "cell_type": "code",
   "execution_count": 14,
   "metadata": {
    "colab": {
     "base_uri": "https://localhost:8080/",
     "height": 627
    },
    "id": "KCD_1dHndKTQ",
    "outputId": "0e90eb64-65b6-4b8e-97ef-a67723871625"
   },
   "outputs": [
    {
     "data": {
      "image/png": "[encoded data removed]",
      "text/plain": [
       "<Figure size 1800x600 with 3 Axes>"
      ]
     },
     "metadata": {},
     "output_type": "display_data"
    }
   ],
   "source": [
    "# Plotting box plots for 'rate', 'votes', and 'approx_cost(for two people)'\n",
    "\n",
    "fig, axes = plt.subplots(nrows=1, ncols=3, figsize=(18, 6))\n",
    "\n",
    "# Box plot for 'rate'\n",
    "sns.boxplot(y=zomato_df['rate'], ax=axes[0], color='lightpink')\n",
    "axes[0].set_title('Box plot of Ratings')\n",
    "axes[0].set_ylabel('Rating')\n",
    "\n",
    "# Box plot for 'votes'\n",
    "sns.boxplot(y=zomato_df['votes'], ax=axes[1], color='lightyellow')\n",
    "axes[1].set_title('Box plot of Votes')\n",
    "axes[1].set_ylabel('Votes')\n",
    "\n",
    "# Box plot for 'approx_cost(for two people)'\n",
    "sns.boxplot(y=zomato_df['approx_cost(for two people)'], ax=axes[2], color='lightblue')\n",
    "axes[2].set_title('Box plot of Approximate Cost for Two People')\n",
    "axes[2].set_ylabel('Approximate Cost')\n",
    "\n",
    "plt.tight_layout()\n",
    "plt.show()\n"
   ]
  },
  {
   "cell_type": "markdown",
   "metadata": {},
   "source": [
    "## Feature Engineering:\n",
    "\n",
    "### 1. **Number of Cuisines**"
   ]
  },
  {
   "cell_type": "code",
   "execution_count": 15,
   "metadata": {
    "colab": {
     "base_uri": "https://localhost:8080/",
     "height": 206
    },
    "id": "ecRyXlJGdKRA",
    "outputId": "c0154d5f-6522-4d58-83b6-4c7006f4f9dd"
   },
   "outputs": [
    {
     "data": {
      "text/html": [
       "<div>\n",
       "<style scoped>\n",
       "    .dataframe tbody tr th:only-of-type {\n",
       "        vertical-align: middle;\n",
       "    }\n",
       "\n",
       "    .dataframe tbody tr th {\n",
       "        vertical-align: top;\n",
       "    }\n",
       "\n",
       "    .dataframe thead th {\n",
       "        text-align: right;\n",
       "    }\n",
       "</style>\n",
       "<table border=\"1\" class=\"dataframe\">\n",
       "  <thead>\n",
       "    <tr style=\"text-align: right;\">\n",
       "      <th></th>\n",
       "      <th>cuisines</th>\n",
       "      <th>num_cuisines</th>\n",
       "    </tr>\n",
       "  </thead>\n",
       "  <tbody>\n",
       "    <tr>\n",
       "      <th>0</th>\n",
       "      <td>North Indian, Mughlai, Chinese</td>\n",
       "      <td>3</td>\n",
       "    </tr>\n",
       "    <tr>\n",
       "      <th>1</th>\n",
       "      <td>Chinese, North Indian, Thai</td>\n",
       "      <td>3</td>\n",
       "    </tr>\n",
       "    <tr>\n",
       "      <th>2</th>\n",
       "      <td>Cafe, Mexican, Italian</td>\n",
       "      <td>3</td>\n",
       "    </tr>\n",
       "    <tr>\n",
       "      <th>3</th>\n",
       "      <td>South Indian, North Indian</td>\n",
       "      <td>2</td>\n",
       "    </tr>\n",
       "    <tr>\n",
       "      <th>4</th>\n",
       "      <td>North Indian, Rajasthani</td>\n",
       "      <td>2</td>\n",
       "    </tr>\n",
       "  </tbody>\n",
       "</table>\n",
       "</div>"
      ],
      "text/plain": [
       "                         cuisines  num_cuisines\n",
       "0  North Indian, Mughlai, Chinese             3\n",
       "1     Chinese, North Indian, Thai             3\n",
       "2          Cafe, Mexican, Italian             3\n",
       "3      South Indian, North Indian             2\n",
       "4        North Indian, Rajasthani             2"
      ]
     },
     "execution_count": 15,
     "metadata": {},
     "output_type": "execute_result"
    }
   ],
   "source": [
    "# Creating 'num_cuisines' feature\n",
    "zomato_df['num_cuisines'] = zomato_df['cuisines'].str.split(',').apply(lambda x: len(x) if isinstance(x, list) else 0)\n",
    "\n",
    "# Displaying the first few rows of the new feature\n",
    "zomato_df[['cuisines', 'num_cuisines']].head()\n"
   ]
  },
  {
   "cell_type": "markdown",
   "metadata": {},
   "source": [
    "### 2. Number of Dishes Liked"
   ]
  },
  {
   "cell_type": "code",
   "execution_count": 16,
   "metadata": {
    "colab": {
     "base_uri": "https://localhost:8080/",
     "height": 206
    },
    "id": "zteUSVDgdKOq",
    "outputId": "1459c249-1c91-4146-e9d1-90afb13c6008"
   },
   "outputs": [
    {
     "data": {
      "text/html": [
       "<div>\n",
       "<style scoped>\n",
       "    .dataframe tbody tr th:only-of-type {\n",
       "        vertical-align: middle;\n",
       "    }\n",
       "\n",
       "    .dataframe tbody tr th {\n",
       "        vertical-align: top;\n",
       "    }\n",
       "\n",
       "    .dataframe thead th {\n",
       "        text-align: right;\n",
       "    }\n",
       "</style>\n",
       "<table border=\"1\" class=\"dataframe\">\n",
       "  <thead>\n",
       "    <tr style=\"text-align: right;\">\n",
       "      <th></th>\n",
       "      <th>dish_liked</th>\n",
       "      <th>num_dishes_liked</th>\n",
       "    </tr>\n",
       "  </thead>\n",
       "  <tbody>\n",
       "    <tr>\n",
       "      <th>0</th>\n",
       "      <td>Pasta, Lunch Buffet, Masala Papad, Paneer Laja...</td>\n",
       "      <td>7</td>\n",
       "    </tr>\n",
       "    <tr>\n",
       "      <th>1</th>\n",
       "      <td>Momos, Lunch Buffet, Chocolate Nirvana, Thai G...</td>\n",
       "      <td>7</td>\n",
       "    </tr>\n",
       "    <tr>\n",
       "      <th>2</th>\n",
       "      <td>Churros, Cannelloni, Minestrone Soup, Hot Choc...</td>\n",
       "      <td>7</td>\n",
       "    </tr>\n",
       "    <tr>\n",
       "      <th>3</th>\n",
       "      <td>Masala Dosa</td>\n",
       "      <td>1</td>\n",
       "    </tr>\n",
       "    <tr>\n",
       "      <th>4</th>\n",
       "      <td>Panipuri, Gol Gappe</td>\n",
       "      <td>2</td>\n",
       "    </tr>\n",
       "  </tbody>\n",
       "</table>\n",
       "</div>"
      ],
      "text/plain": [
       "                                          dish_liked  num_dishes_liked\n",
       "0  Pasta, Lunch Buffet, Masala Papad, Paneer Laja...                 7\n",
       "1  Momos, Lunch Buffet, Chocolate Nirvana, Thai G...                 7\n",
       "2  Churros, Cannelloni, Minestrone Soup, Hot Choc...                 7\n",
       "3                                        Masala Dosa                 1\n",
       "4                                Panipuri, Gol Gappe                 2"
      ]
     },
     "execution_count": 16,
     "metadata": {},
     "output_type": "execute_result"
    }
   ],
   "source": [
    "# Creating 'num_dishes_liked' feature\n",
    "zomato_df['num_dishes_liked'] = zomato_df['dish_liked'].str.split(',').apply(lambda x: len(x) if isinstance(x, list) else 0)\n",
    "\n",
    "# Displaying the first few rows of the new feature\n",
    "zomato_df[['dish_liked', 'num_dishes_liked']].head()\n"
   ]
  },
  {
   "cell_type": "markdown",
   "metadata": {},
   "source": [
    "### 3. Price Range"
   ]
  },
  {
   "cell_type": "code",
   "execution_count": 17,
   "metadata": {
    "colab": {
     "base_uri": "https://localhost:8080/",
     "height": 206
    },
    "id": "qelePfNqdKLx",
    "outputId": "291efb18-64af-4a88-a018-4e5e8c4e8232"
   },
   "outputs": [
    {
     "data": {
      "text/html": [
       "<div>\n",
       "<style scoped>\n",
       "    .dataframe tbody tr th:only-of-type {\n",
       "        vertical-align: middle;\n",
       "    }\n",
       "\n",
       "    .dataframe tbody tr th {\n",
       "        vertical-align: top;\n",
       "    }\n",
       "\n",
       "    .dataframe thead th {\n",
       "        text-align: right;\n",
       "    }\n",
       "</style>\n",
       "<table border=\"1\" class=\"dataframe\">\n",
       "  <thead>\n",
       "    <tr style=\"text-align: right;\">\n",
       "      <th></th>\n",
       "      <th>approx_cost(for two people)</th>\n",
       "      <th>price_range</th>\n",
       "    </tr>\n",
       "  </thead>\n",
       "  <tbody>\n",
       "    <tr>\n",
       "      <th>0</th>\n",
       "      <td>800.0</td>\n",
       "      <td>High</td>\n",
       "    </tr>\n",
       "    <tr>\n",
       "      <th>1</th>\n",
       "      <td>800.0</td>\n",
       "      <td>High</td>\n",
       "    </tr>\n",
       "    <tr>\n",
       "      <th>2</th>\n",
       "      <td>800.0</td>\n",
       "      <td>High</td>\n",
       "    </tr>\n",
       "    <tr>\n",
       "      <th>3</th>\n",
       "      <td>300.0</td>\n",
       "      <td>Medium</td>\n",
       "    </tr>\n",
       "    <tr>\n",
       "      <th>4</th>\n",
       "      <td>600.0</td>\n",
       "      <td>Medium</td>\n",
       "    </tr>\n",
       "  </tbody>\n",
       "</table>\n",
       "</div>"
      ],
      "text/plain": [
       "   approx_cost(for two people) price_range\n",
       "0                        800.0        High\n",
       "1                        800.0        High\n",
       "2                        800.0        High\n",
       "3                        300.0      Medium\n",
       "4                        600.0      Medium"
      ]
     },
     "execution_count": 17,
     "metadata": {},
     "output_type": "execute_result"
    }
   ],
   "source": [
    "# Defining the bins and labels for price range categorization\n",
    "bins = [0, 300, 700, 1500, zomato_df['approx_cost(for two people)'].max() + 1]\n",
    "labels = ['Low', 'Medium', 'High', 'Very High']\n",
    "\n",
    "# Creating the 'price_range' feature\n",
    "zomato_df['price_range'] = pd.cut(zomato_df['approx_cost(for two people)'], bins=bins, labels=labels, right=False)\n",
    "\n",
    "# Displaying the first few rows of the new feature\n",
    "zomato_df[['approx_cost(for two people)', 'price_range']].head()\n"
   ]
  },
  {
   "cell_type": "markdown",
   "metadata": {},
   "source": [
    "### 4. Length of Reviews"
   ]
  },
  {
   "cell_type": "code",
   "execution_count": 18,
   "metadata": {
    "colab": {
     "base_uri": "https://localhost:8080/",
     "height": 206
    },
    "id": "xRKVJfGLdKIl",
    "outputId": "5223671a-598c-458f-e0c7-262167354847"
   },
   "outputs": [
    {
     "data": {
      "text/html": [
       "<div>\n",
       "<style scoped>\n",
       "    .dataframe tbody tr th:only-of-type {\n",
       "        vertical-align: middle;\n",
       "    }\n",
       "\n",
       "    .dataframe tbody tr th {\n",
       "        vertical-align: top;\n",
       "    }\n",
       "\n",
       "    .dataframe thead th {\n",
       "        text-align: right;\n",
       "    }\n",
       "</style>\n",
       "<table border=\"1\" class=\"dataframe\">\n",
       "  <thead>\n",
       "    <tr style=\"text-align: right;\">\n",
       "      <th></th>\n",
       "      <th>reviews_list</th>\n",
       "      <th>avg_review_length</th>\n",
       "    </tr>\n",
       "  </thead>\n",
       "  <tbody>\n",
       "    <tr>\n",
       "      <th>0</th>\n",
       "      <td>[('Rated 4.0', 'RATED\\n  A beautiful place to ...</td>\n",
       "      <td>159.791667</td>\n",
       "    </tr>\n",
       "    <tr>\n",
       "      <th>1</th>\n",
       "      <td>[('Rated 4.0', 'RATED\\n  Had been here for din...</td>\n",
       "      <td>141.160000</td>\n",
       "    </tr>\n",
       "    <tr>\n",
       "      <th>2</th>\n",
       "      <td>[('Rated 3.0', \"RATED\\n  Ambience is not that ...</td>\n",
       "      <td>83.729730</td>\n",
       "    </tr>\n",
       "    <tr>\n",
       "      <th>3</th>\n",
       "      <td>[('Rated 4.0', \"RATED\\n  Great food and proper...</td>\n",
       "      <td>107.800000</td>\n",
       "    </tr>\n",
       "    <tr>\n",
       "      <th>4</th>\n",
       "      <td>[('Rated 4.0', 'RATED\\n  Very good restaurant ...</td>\n",
       "      <td>170.500000</td>\n",
       "    </tr>\n",
       "  </tbody>\n",
       "</table>\n",
       "</div>"
      ],
      "text/plain": [
       "                                        reviews_list  avg_review_length\n",
       "0  [('Rated 4.0', 'RATED\\n  A beautiful place to ...         159.791667\n",
       "1  [('Rated 4.0', 'RATED\\n  Had been here for din...         141.160000\n",
       "2  [('Rated 3.0', \"RATED\\n  Ambience is not that ...          83.729730\n",
       "3  [('Rated 4.0', \"RATED\\n  Great food and proper...         107.800000\n",
       "4  [('Rated 4.0', 'RATED\\n  Very good restaurant ...         170.500000"
      ]
     },
     "execution_count": 18,
     "metadata": {},
     "output_type": "execute_result"
    }
   ],
   "source": [
    "import numpy as np\n",
    "\n",
    "# Computing the average review length again\n",
    "zomato_df['avg_review_length'] = zomato_df['reviews_list'].str.findall(r'\\'(.*?)\\'').apply(lambda x: np.mean([len(review) for review in x]) if isinstance(x, list) and len(x) > 0 else 0)\n",
    "\n",
    "# Displaying the first few rows of the new feature\n",
    "zomato_df[['reviews_list', 'avg_review_length']].head()\n"
   ]
  },
  {
   "cell_type": "markdown",
   "metadata": {},
   "source": [
    "### 5. Derived Location Features"
   ]
  },
  {
   "cell_type": "code",
   "execution_count": 19,
   "metadata": {
    "colab": {
     "base_uri": "https://localhost:8080/",
     "height": 206
    },
    "id": "wkE58DlkdKEj",
    "outputId": "0f093fab-762c-4048-fd8c-e5d815620eeb"
   },
   "outputs": [
    {
     "data": {
      "text/html": [
       "<div>\n",
       "<style scoped>\n",
       "    .dataframe tbody tr th:only-of-type {\n",
       "        vertical-align: middle;\n",
       "    }\n",
       "\n",
       "    .dataframe tbody tr th {\n",
       "        vertical-align: top;\n",
       "    }\n",
       "\n",
       "    .dataframe thead th {\n",
       "        text-align: right;\n",
       "    }\n",
       "</style>\n",
       "<table border=\"1\" class=\"dataframe\">\n",
       "  <thead>\n",
       "    <tr style=\"text-align: right;\">\n",
       "      <th></th>\n",
       "      <th>location</th>\n",
       "      <th>popular_area</th>\n",
       "    </tr>\n",
       "  </thead>\n",
       "  <tbody>\n",
       "    <tr>\n",
       "      <th>0</th>\n",
       "      <td>Banashankari</td>\n",
       "      <td>0</td>\n",
       "    </tr>\n",
       "    <tr>\n",
       "      <th>1</th>\n",
       "      <td>Banashankari</td>\n",
       "      <td>0</td>\n",
       "    </tr>\n",
       "    <tr>\n",
       "      <th>2</th>\n",
       "      <td>Banashankari</td>\n",
       "      <td>0</td>\n",
       "    </tr>\n",
       "    <tr>\n",
       "      <th>3</th>\n",
       "      <td>Banashankari</td>\n",
       "      <td>0</td>\n",
       "    </tr>\n",
       "    <tr>\n",
       "      <th>4</th>\n",
       "      <td>Basavanagudi</td>\n",
       "      <td>0</td>\n",
       "    </tr>\n",
       "  </tbody>\n",
       "</table>\n",
       "</div>"
      ],
      "text/plain": [
       "       location  popular_area\n",
       "0  Banashankari             0\n",
       "1  Banashankari             0\n",
       "2  Banashankari             0\n",
       "3  Banashankari             0\n",
       "4  Basavanagudi             0"
      ]
     },
     "execution_count": 19,
     "metadata": {},
     "output_type": "execute_result"
    }
   ],
   "source": [
    "# Identifying the top 5 locations\n",
    "top_5_locations = zomato_df['location'].value_counts().head(5).index\n",
    "\n",
    "# Creating the 'popular_area' feature\n",
    "zomato_df['popular_area'] = zomato_df['location'].apply(lambda x: 1 if x in top_5_locations else 0)\n",
    "\n",
    "# Displaying the first few rows of the new feature\n",
    "zomato_df[['location', 'popular_area']].head()\n"
   ]
  },
  {
   "cell_type": "markdown",
   "metadata": {
    "id": "h80qXKY2dJ5C"
   },
   "source": [
    "## ______________________________________________________________________________\n",
    "\n",
    "# Advanced Data Visualization with D3.js\n",
    "\n",
    "Here we do preprocessing and Initial Library imports"
   ]
  },
  {
   "cell_type": "code",
   "execution_count": 20,
   "metadata": {
    "colab": {
     "base_uri": "https://localhost:8080/"
    },
    "id": "0b9zmrRiYDMB",
    "outputId": "dc8c6570-80ec-4fb3-91c6-7bf7ce1cc72b"
   },
   "outputs": [
    {
     "data": {
      "text/plain": [
       "(url                              object\n",
       " address                          object\n",
       " name                             object\n",
       " online_order                       bool\n",
       " book_table                         bool\n",
       " rate                            float64\n",
       " votes                             int64\n",
       " phone                            object\n",
       " location                         object\n",
       " rest_type                        object\n",
       " dish_liked                       object\n",
       " cuisines                         object\n",
       " approx_cost(for two people)     float64\n",
       " reviews_list                     object\n",
       " menu_item                        object\n",
       " listed_in(type)                  object\n",
       " listed_in(city)                  object\n",
       " num_cuisines                      int64\n",
       " num_dishes_liked                  int64\n",
       " price_range                    category\n",
       " avg_review_length               float64\n",
       " popular_area                      int64\n",
       " dtype: object,\n",
       " url                                0\n",
       " address                            0\n",
       " name                               0\n",
       " online_order                       0\n",
       " book_table                         0\n",
       " rate                           10052\n",
       " votes                              0\n",
       " phone                              0\n",
       " location                           0\n",
       " rest_type                          0\n",
       " dish_liked                         0\n",
       " cuisines                           0\n",
       " approx_cost(for two people)        0\n",
       " reviews_list                       0\n",
       " menu_item                          0\n",
       " listed_in(type)                    0\n",
       " listed_in(city)                    0\n",
       " num_cuisines                       0\n",
       " num_dishes_liked                   0\n",
       " price_range                        0\n",
       " avg_review_length                  0\n",
       " popular_area                       0\n",
       " dtype: int64)"
      ]
     },
     "execution_count": 20,
     "metadata": {},
     "output_type": "execute_result"
    }
   ],
   "source": [
    "# Displaying data types for each column\n",
    "column_data_types = zomato_df.dtypes\n",
    "\n",
    "# Checking for missing values in the dataset\n",
    "missing_values = zomato_df.isnull().sum()\n",
    "\n",
    "column_data_types, missing_values\n"
   ]
  },
  {
   "cell_type": "markdown",
   "metadata": {},
   "source": [
    "## Import Libraries"
   ]
  },
  {
   "cell_type": "code",
   "execution_count": 21,
   "metadata": {
    "colab": {
     "base_uri": "https://localhost:8080/",
     "height": 17
    },
    "id": "vSfyK3t9NVdv",
    "outputId": "bdf9e64a-793c-4256-e7b5-7f576df95966"
   },
   "outputs": [
    {
     "data": {
      "text/html": [
       "        <script type=\"text/javascript\">\n",
       "        window.PlotlyConfig = {MathJaxConfig: 'local'};\n",
       "        if (window.MathJax && window.MathJax.Hub && window.MathJax.Hub.Config) {window.MathJax.Hub.Config({SVG: {font: \"STIX-Web\"}});}\n",
       "        if (typeof require !== 'undefined') {\n",
       "        require.undef(\"plotly\");\n",
       "        requirejs.config({\n",
       "            paths: {\n",
       "                'plotly': ['https://cdn.plot.ly/plotly-2.12.1.min']\n",
       "            }\n",
       "        });\n",
       "        require(['plotly'], function(Plotly) {\n",
       "            window._Plotly = Plotly;\n",
       "        });\n",
       "        }\n",
       "        </script>\n",
       "        "
      ]
     },
     "metadata": {},
     "output_type": "display_data"
    },
    {
     "name": "stderr",
     "output_type": "stream",
     "text": [
      "C:\\Users\\patil\\AppData\\Local\\Temp\\ipykernel_27416\\2530551491.py:13: DeprecationWarning:\n",
      "\n",
      "Importing display from IPython.core.display is deprecated since IPython 7.14, please import from IPython display\n",
      "\n"
     ]
    }
   ],
   "source": [
    "#Library imports\n",
    "from plotly.offline import init_notebook_mode, iplot\n",
    "import plotly.graph_objs as go\n",
    "import matplotlib.pyplot as plt\n",
    "import seaborn as sns\n",
    "from plotly import tools\n",
    "init_notebook_mode(connected=True)\n",
    "\n",
    "import numpy as np\n",
    "import pandas as pd\n",
    "import os\n",
    "import json  ,IPython\n",
    "from IPython.core.display import display, HTML, Javascript\n",
    "#print(os.listdir(\"../input\"))\n",
    "import warnings\n",
    "warnings.filterwarnings('ignore')\n",
    "%matplotlib inline"
   ]
  },
  {
   "cell_type": "markdown",
   "metadata": {},
   "source": [
    "## Preview Data"
   ]
  },
  {
   "cell_type": "code",
   "execution_count": 22,
   "metadata": {
    "colab": {
     "base_uri": "https://localhost:8080/",
     "height": 753
    },
    "id": "TYdr7oGqUuOu",
    "outputId": "7764fe76-5529-41b3-92c6-d0288c439d51"
   },
   "outputs": [
    {
     "data": {
      "text/html": [
       "<div>\n",
       "<style scoped>\n",
       "    .dataframe tbody tr th:only-of-type {\n",
       "        vertical-align: middle;\n",
       "    }\n",
       "\n",
       "    .dataframe tbody tr th {\n",
       "        vertical-align: top;\n",
       "    }\n",
       "\n",
       "    .dataframe thead th {\n",
       "        text-align: right;\n",
       "    }\n",
       "</style>\n",
       "<table border=\"1\" class=\"dataframe\">\n",
       "  <thead>\n",
       "    <tr style=\"text-align: right;\">\n",
       "      <th></th>\n",
       "      <th>0</th>\n",
       "      <th>1</th>\n",
       "      <th>2</th>\n",
       "      <th>3</th>\n",
       "      <th>4</th>\n",
       "      <th>5</th>\n",
       "      <th>6</th>\n",
       "      <th>7</th>\n",
       "      <th>8</th>\n",
       "      <th>9</th>\n",
       "      <th>...</th>\n",
       "      <th>51707</th>\n",
       "      <th>51708</th>\n",
       "      <th>51709</th>\n",
       "      <th>51710</th>\n",
       "      <th>51711</th>\n",
       "      <th>51712</th>\n",
       "      <th>51713</th>\n",
       "      <th>51714</th>\n",
       "      <th>51715</th>\n",
       "      <th>51716</th>\n",
       "    </tr>\n",
       "  </thead>\n",
       "  <tbody>\n",
       "    <tr>\n",
       "      <th>url</th>\n",
       "      <td>https://www.zomato.com/bangalore/jalsa-banasha...</td>\n",
       "      <td>https://www.zomato.com/bangalore/spice-elephan...</td>\n",
       "      <td>https://www.zomato.com/SanchurroBangalore?cont...</td>\n",
       "      <td>https://www.zomato.com/bangalore/addhuri-udupi...</td>\n",
       "      <td>https://www.zomato.com/bangalore/grand-village...</td>\n",
       "      <td>https://www.zomato.com/bangalore/timepass-dinn...</td>\n",
       "      <td>https://www.zomato.com/bangalore/rosewood-inte...</td>\n",
       "      <td>https://www.zomato.com/bangalore/onesta-banash...</td>\n",
       "      <td>https://www.zomato.com/bangalore/penthouse-caf...</td>\n",
       "      <td>https://www.zomato.com/bangalore/smacznego-ban...</td>\n",
       "      <td>...</td>\n",
       "      <td>https://www.zomato.com/bangalore/m-bar-bengalu...</td>\n",
       "      <td>https://www.zomato.com/bangalore/keys-cafe-key...</td>\n",
       "      <td>https://www.zomato.com/bangalore/the-farm-hous...</td>\n",
       "      <td>https://www.zomato.com/bangalore/topsy-turvey-...</td>\n",
       "      <td>https://www.zomato.com/bangalore/bhagini-2-whi...</td>\n",
       "      <td>https://www.zomato.com/bangalore/best-brews-fo...</td>\n",
       "      <td>https://www.zomato.com/bangalore/vinod-bar-and...</td>\n",
       "      <td>https://www.zomato.com/bangalore/plunge-sherat...</td>\n",
       "      <td>https://www.zomato.com/bangalore/chime-sherato...</td>\n",
       "      <td>https://www.zomato.com/bangalore/the-nest-the-...</td>\n",
       "    </tr>\n",
       "    <tr>\n",
       "      <th>address</th>\n",
       "      <td>942, 21st Main Road, 2nd Stage, Banashankari, ...</td>\n",
       "      <td>2nd Floor, 80 Feet Road, Near Big Bazaar, 6th ...</td>\n",
       "      <td>1112, Next to KIMS Medical College, 17th Cross...</td>\n",
       "      <td>1st Floor, Annakuteera, 3rd Stage, Banashankar...</td>\n",
       "      <td>10, 3rd Floor, Lakshmi Associates, Gandhi Baza...</td>\n",
       "      <td>37, 5-1, 4th Floor, Bosco Court, Gandhi Bazaar...</td>\n",
       "      <td>19/1, New Timberyard Layout, Beside Satellite ...</td>\n",
       "      <td>2469, 3rd Floor, 24th Cross, Opposite BDA Comp...</td>\n",
       "      <td>1, 30th Main Road, 3rd Stage, Banashankari, Ba...</td>\n",
       "      <td>2470, 21 Main Road, 25th Cross, Banashankari, ...</td>\n",
       "      <td>...</td>\n",
       "      <td>Bengaluru Marriott Hotel, 75, 8th Road, EPIP A...</td>\n",
       "      <td>Keys Hotel, 6, 1st Phase Industrial Area, Near...</td>\n",
       "      <td>136, SAP Labs India, KIADB Export Promotion In...</td>\n",
       "      <td>2E2, 4th Cross Road, Devasandra Industrial Est...</td>\n",
       "      <td>139/C1, Next To GR Tech Park, Pattandur Agraha...</td>\n",
       "      <td>Four Points by Sheraton Bengaluru, 43/3, White...</td>\n",
       "      <td>Number 10, Garudachar Palya, Mahadevapura, Whi...</td>\n",
       "      <td>Sheraton Grand Bengaluru Whitefield Hotel &amp; Co...</td>\n",
       "      <td>Sheraton Grand Bengaluru Whitefield Hotel &amp; Co...</td>\n",
       "      <td>ITPL Main Road, KIADB Export Promotion Industr...</td>\n",
       "    </tr>\n",
       "    <tr>\n",
       "      <th>name</th>\n",
       "      <td>Jalsa</td>\n",
       "      <td>Spice Elephant</td>\n",
       "      <td>San Churro Cafe</td>\n",
       "      <td>Addhuri Udupi Bhojana</td>\n",
       "      <td>Grand Village</td>\n",
       "      <td>Timepass Dinner</td>\n",
       "      <td>Rosewood International Hotel - Bar &amp; Restaurant</td>\n",
       "      <td>Onesta</td>\n",
       "      <td>Penthouse Cafe</td>\n",
       "      <td>Smacznego</td>\n",
       "      <td>...</td>\n",
       "      <td>M Bar - Bengaluru Marriott Hotel Whitefield</td>\n",
       "      <td>Keys Cafe - Keys Hotel</td>\n",
       "      <td>The Farm House Bar n Grill</td>\n",
       "      <td>Topsy Turvey</td>\n",
       "      <td>Bhagini</td>\n",
       "      <td>Best Brews - Four Points by Sheraton Bengaluru...</td>\n",
       "      <td>Vinod Bar And Restaurant</td>\n",
       "      <td>Plunge - Sheraton Grand Bengaluru Whitefield H...</td>\n",
       "      <td>Chime - Sheraton Grand Bengaluru Whitefield Ho...</td>\n",
       "      <td>The Nest - The Den Bengaluru</td>\n",
       "    </tr>\n",
       "    <tr>\n",
       "      <th>online_order</th>\n",
       "      <td>Yes</td>\n",
       "      <td>Yes</td>\n",
       "      <td>Yes</td>\n",
       "      <td>No</td>\n",
       "      <td>No</td>\n",
       "      <td>Yes</td>\n",
       "      <td>No</td>\n",
       "      <td>Yes</td>\n",
       "      <td>Yes</td>\n",
       "      <td>Yes</td>\n",
       "      <td>...</td>\n",
       "      <td>No</td>\n",
       "      <td>No</td>\n",
       "      <td>No</td>\n",
       "      <td>No</td>\n",
       "      <td>No</td>\n",
       "      <td>No</td>\n",
       "      <td>No</td>\n",
       "      <td>No</td>\n",
       "      <td>No</td>\n",
       "      <td>No</td>\n",
       "    </tr>\n",
       "    <tr>\n",
       "      <th>book_table</th>\n",
       "      <td>Yes</td>\n",
       "      <td>No</td>\n",
       "      <td>No</td>\n",
       "      <td>No</td>\n",
       "      <td>No</td>\n",
       "      <td>No</td>\n",
       "      <td>No</td>\n",
       "      <td>Yes</td>\n",
       "      <td>No</td>\n",
       "      <td>No</td>\n",
       "      <td>...</td>\n",
       "      <td>No</td>\n",
       "      <td>No</td>\n",
       "      <td>No</td>\n",
       "      <td>No</td>\n",
       "      <td>No</td>\n",
       "      <td>No</td>\n",
       "      <td>No</td>\n",
       "      <td>No</td>\n",
       "      <td>Yes</td>\n",
       "      <td>No</td>\n",
       "    </tr>\n",
       "    <tr>\n",
       "      <th>rate</th>\n",
       "      <td>4.1/5</td>\n",
       "      <td>4.1/5</td>\n",
       "      <td>3.8/5</td>\n",
       "      <td>3.7/5</td>\n",
       "      <td>3.8/5</td>\n",
       "      <td>3.8/5</td>\n",
       "      <td>3.6/5</td>\n",
       "      <td>4.6/5</td>\n",
       "      <td>4.0/5</td>\n",
       "      <td>4.2/5</td>\n",
       "      <td>...</td>\n",
       "      <td>3.9 /5</td>\n",
       "      <td>2.8 /5</td>\n",
       "      <td>3.7 /5</td>\n",
       "      <td>NaN</td>\n",
       "      <td>2.5 /5</td>\n",
       "      <td>3.6 /5</td>\n",
       "      <td>NaN</td>\n",
       "      <td>NaN</td>\n",
       "      <td>4.3 /5</td>\n",
       "      <td>3.4 /5</td>\n",
       "    </tr>\n",
       "    <tr>\n",
       "      <th>votes</th>\n",
       "      <td>775</td>\n",
       "      <td>787</td>\n",
       "      <td>918</td>\n",
       "      <td>88</td>\n",
       "      <td>166</td>\n",
       "      <td>286</td>\n",
       "      <td>8</td>\n",
       "      <td>2556</td>\n",
       "      <td>324</td>\n",
       "      <td>504</td>\n",
       "      <td>...</td>\n",
       "      <td>77</td>\n",
       "      <td>161</td>\n",
       "      <td>34</td>\n",
       "      <td>0</td>\n",
       "      <td>81</td>\n",
       "      <td>27</td>\n",
       "      <td>0</td>\n",
       "      <td>0</td>\n",
       "      <td>236</td>\n",
       "      <td>13</td>\n",
       "    </tr>\n",
       "    <tr>\n",
       "      <th>phone</th>\n",
       "      <td>080 42297555\\r\\n+91 9743772233</td>\n",
       "      <td>080 41714161</td>\n",
       "      <td>+91 9663487993</td>\n",
       "      <td>+91 9620009302</td>\n",
       "      <td>+91 8026612447\\r\\n+91 9901210005</td>\n",
       "      <td>+91 9980040002\\r\\n+91 9980063005</td>\n",
       "      <td>+91 9731716688\\r\\n080 26740366</td>\n",
       "      <td>080 48653961\\r\\n080 48655715</td>\n",
       "      <td>+91 8884135549\\r\\n+91 9449449316</td>\n",
       "      <td>+91 9945230807\\r\\n+91 9743804471</td>\n",
       "      <td>...</td>\n",
       "      <td>080 49435000</td>\n",
       "      <td>080 39451000\\n+91 8884038484</td>\n",
       "      <td>+91 9980121279\\n+91 9900240646</td>\n",
       "      <td>+91 9148155994</td>\n",
       "      <td>080 65951222</td>\n",
       "      <td>080 40301477</td>\n",
       "      <td>+91 8197675843</td>\n",
       "      <td>NaN</td>\n",
       "      <td>080 49652769</td>\n",
       "      <td>+91 8071117272</td>\n",
       "    </tr>\n",
       "    <tr>\n",
       "      <th>location</th>\n",
       "      <td>Banashankari</td>\n",
       "      <td>Banashankari</td>\n",
       "      <td>Banashankari</td>\n",
       "      <td>Banashankari</td>\n",
       "      <td>Basavanagudi</td>\n",
       "      <td>Basavanagudi</td>\n",
       "      <td>Mysore Road</td>\n",
       "      <td>Banashankari</td>\n",
       "      <td>Banashankari</td>\n",
       "      <td>Banashankari</td>\n",
       "      <td>...</td>\n",
       "      <td>Whitefield</td>\n",
       "      <td>Whitefield</td>\n",
       "      <td>Whitefield</td>\n",
       "      <td>Whitefield</td>\n",
       "      <td>Whitefield</td>\n",
       "      <td>Whitefield</td>\n",
       "      <td>Whitefield</td>\n",
       "      <td>Whitefield</td>\n",
       "      <td>ITPL Main Road, Whitefield</td>\n",
       "      <td>ITPL Main Road, Whitefield</td>\n",
       "    </tr>\n",
       "    <tr>\n",
       "      <th>rest_type</th>\n",
       "      <td>Casual Dining</td>\n",
       "      <td>Casual Dining</td>\n",
       "      <td>Cafe, Casual Dining</td>\n",
       "      <td>Quick Bites</td>\n",
       "      <td>Casual Dining</td>\n",
       "      <td>Casual Dining</td>\n",
       "      <td>Casual Dining</td>\n",
       "      <td>Casual Dining, Cafe</td>\n",
       "      <td>Cafe</td>\n",
       "      <td>Cafe</td>\n",
       "      <td>...</td>\n",
       "      <td>Fine Dining, Bar</td>\n",
       "      <td>Casual Dining, Bar</td>\n",
       "      <td>Casual Dining, Bar</td>\n",
       "      <td>Bar</td>\n",
       "      <td>Casual Dining, Bar</td>\n",
       "      <td>Bar</td>\n",
       "      <td>Bar</td>\n",
       "      <td>Bar</td>\n",
       "      <td>Bar</td>\n",
       "      <td>Bar, Casual Dining</td>\n",
       "    </tr>\n",
       "    <tr>\n",
       "      <th>dish_liked</th>\n",
       "      <td>Pasta, Lunch Buffet, Masala Papad, Paneer Laja...</td>\n",
       "      <td>Momos, Lunch Buffet, Chocolate Nirvana, Thai G...</td>\n",
       "      <td>Churros, Cannelloni, Minestrone Soup, Hot Choc...</td>\n",
       "      <td>Masala Dosa</td>\n",
       "      <td>Panipuri, Gol Gappe</td>\n",
       "      <td>Onion Rings, Pasta, Kadhai Paneer, Salads, Sal...</td>\n",
       "      <td>NaN</td>\n",
       "      <td>Farmhouse Pizza, Chocolate Banana, Virgin Moji...</td>\n",
       "      <td>Pizza, Mocktails, Coffee, Nachos, Salad, Pasta...</td>\n",
       "      <td>Waffles, Pasta, Coleslaw Sandwich, Choco Waffl...</td>\n",
       "      <td>...</td>\n",
       "      <td>Rooftop Ambience</td>\n",
       "      <td>Salads, Coffee, Breakfast Buffet, Halwa, Chick...</td>\n",
       "      <td>NaN</td>\n",
       "      <td>NaN</td>\n",
       "      <td>Biryani, Andhra Meal</td>\n",
       "      <td>NaN</td>\n",
       "      <td>NaN</td>\n",
       "      <td>NaN</td>\n",
       "      <td>Cocktails, Pizza, Buttermilk</td>\n",
       "      <td>NaN</td>\n",
       "    </tr>\n",
       "    <tr>\n",
       "      <th>cuisines</th>\n",
       "      <td>North Indian, Mughlai, Chinese</td>\n",
       "      <td>Chinese, North Indian, Thai</td>\n",
       "      <td>Cafe, Mexican, Italian</td>\n",
       "      <td>South Indian, North Indian</td>\n",
       "      <td>North Indian, Rajasthani</td>\n",
       "      <td>North Indian</td>\n",
       "      <td>North Indian, South Indian, Andhra, Chinese</td>\n",
       "      <td>Pizza, Cafe, Italian</td>\n",
       "      <td>Cafe, Italian, Continental</td>\n",
       "      <td>Cafe, Mexican, Italian, Momos, Beverages</td>\n",
       "      <td>...</td>\n",
       "      <td>Finger Food</td>\n",
       "      <td>Chinese, Continental, North Indian</td>\n",
       "      <td>North Indian, Continental</td>\n",
       "      <td>Finger Food</td>\n",
       "      <td>Andhra, South Indian, Chinese, North Indian</td>\n",
       "      <td>Continental</td>\n",
       "      <td>Finger Food</td>\n",
       "      <td>Finger Food</td>\n",
       "      <td>Finger Food</td>\n",
       "      <td>Finger Food, North Indian, Continental</td>\n",
       "    </tr>\n",
       "    <tr>\n",
       "      <th>approx_cost(for two people)</th>\n",
       "      <td>800</td>\n",
       "      <td>800</td>\n",
       "      <td>800</td>\n",
       "      <td>300</td>\n",
       "      <td>600</td>\n",
       "      <td>600</td>\n",
       "      <td>800</td>\n",
       "      <td>600</td>\n",
       "      <td>700</td>\n",
       "      <td>550</td>\n",
       "      <td>...</td>\n",
       "      <td>2,000</td>\n",
       "      <td>1,200</td>\n",
       "      <td>800</td>\n",
       "      <td>900</td>\n",
       "      <td>800</td>\n",
       "      <td>1,500</td>\n",
       "      <td>600</td>\n",
       "      <td>2,000</td>\n",
       "      <td>2,500</td>\n",
       "      <td>1,500</td>\n",
       "    </tr>\n",
       "    <tr>\n",
       "      <th>reviews_list</th>\n",
       "      <td>[('Rated 4.0', 'RATED\\n  A beautiful place to ...</td>\n",
       "      <td>[('Rated 4.0', 'RATED\\n  Had been here for din...</td>\n",
       "      <td>[('Rated 3.0', \"RATED\\n  Ambience is not that ...</td>\n",
       "      <td>[('Rated 4.0', \"RATED\\n  Great food and proper...</td>\n",
       "      <td>[('Rated 4.0', 'RATED\\n  Very good restaurant ...</td>\n",
       "      <td>[('Rated 3.0', 'RATED\\n  Food 3/5\\nAmbience 3/...</td>\n",
       "      <td>[('Rated 5.0', 'RATED\\n  Awesome food ??Great ...</td>\n",
       "      <td>[('Rated 5.0', 'RATED\\n  I personally really l...</td>\n",
       "      <td>[('Rated 3.0', \"RATED\\n  I had been to this pl...</td>\n",
       "      <td>[('Rated 4.0', \"RATED\\n  Easy to locate\\nVFM 3...</td>\n",
       "      <td>...</td>\n",
       "      <td>[('Rated 4.0', 'RATED\\n  Went there post dinne...</td>\n",
       "      <td>[('Rated 3.0', 'RATED\\n  Place is good not tha...</td>\n",
       "      <td>[('Rated 4.0', 'RATED\\n  Ambience- Big and spa...</td>\n",
       "      <td>[('Rated 4.0', \"RATED\\n  A divine joint for Fl...</td>\n",
       "      <td>[('Rated 4.0', 'RATED\\n  A fine place to chill...</td>\n",
       "      <td>[('Rated 5.0', \"RATED\\n  Food and service are ...</td>\n",
       "      <td>[]</td>\n",
       "      <td>[]</td>\n",
       "      <td>[('Rated 4.0', 'RATED\\n  Nice and friendly pla...</td>\n",
       "      <td>[('Rated 5.0', 'RATED\\n  Great ambience , look...</td>\n",
       "    </tr>\n",
       "    <tr>\n",
       "      <th>menu_item</th>\n",
       "      <td>[]</td>\n",
       "      <td>[]</td>\n",
       "      <td>[]</td>\n",
       "      <td>[]</td>\n",
       "      <td>[]</td>\n",
       "      <td>[]</td>\n",
       "      <td>[]</td>\n",
       "      <td>[]</td>\n",
       "      <td>[]</td>\n",
       "      <td>[]</td>\n",
       "      <td>...</td>\n",
       "      <td>[]</td>\n",
       "      <td>[]</td>\n",
       "      <td>[]</td>\n",
       "      <td>[]</td>\n",
       "      <td>[]</td>\n",
       "      <td>[]</td>\n",
       "      <td>[]</td>\n",
       "      <td>[]</td>\n",
       "      <td>[]</td>\n",
       "      <td>[]</td>\n",
       "    </tr>\n",
       "    <tr>\n",
       "      <th>listed_in(type)</th>\n",
       "      <td>Buffet</td>\n",
       "      <td>Buffet</td>\n",
       "      <td>Buffet</td>\n",
       "      <td>Buffet</td>\n",
       "      <td>Buffet</td>\n",
       "      <td>Buffet</td>\n",
       "      <td>Buffet</td>\n",
       "      <td>Cafes</td>\n",
       "      <td>Cafes</td>\n",
       "      <td>Cafes</td>\n",
       "      <td>...</td>\n",
       "      <td>Pubs and bars</td>\n",
       "      <td>Pubs and bars</td>\n",
       "      <td>Pubs and bars</td>\n",
       "      <td>Pubs and bars</td>\n",
       "      <td>Pubs and bars</td>\n",
       "      <td>Pubs and bars</td>\n",
       "      <td>Pubs and bars</td>\n",
       "      <td>Pubs and bars</td>\n",
       "      <td>Pubs and bars</td>\n",
       "      <td>Pubs and bars</td>\n",
       "    </tr>\n",
       "    <tr>\n",
       "      <th>listed_in(city)</th>\n",
       "      <td>Banashankari</td>\n",
       "      <td>Banashankari</td>\n",
       "      <td>Banashankari</td>\n",
       "      <td>Banashankari</td>\n",
       "      <td>Banashankari</td>\n",
       "      <td>Banashankari</td>\n",
       "      <td>Banashankari</td>\n",
       "      <td>Banashankari</td>\n",
       "      <td>Banashankari</td>\n",
       "      <td>Banashankari</td>\n",
       "      <td>...</td>\n",
       "      <td>Whitefield</td>\n",
       "      <td>Whitefield</td>\n",
       "      <td>Whitefield</td>\n",
       "      <td>Whitefield</td>\n",
       "      <td>Whitefield</td>\n",
       "      <td>Whitefield</td>\n",
       "      <td>Whitefield</td>\n",
       "      <td>Whitefield</td>\n",
       "      <td>Whitefield</td>\n",
       "      <td>Whitefield</td>\n",
       "    </tr>\n",
       "  </tbody>\n",
       "</table>\n",
       "<p>17 rows × 51717 columns</p>\n",
       "</div>"
      ],
      "text/plain": [
       "                                                                         0      \\\n",
       "url                          https://www.zomato.com/bangalore/jalsa-banasha...   \n",
       "address                      942, 21st Main Road, 2nd Stage, Banashankari, ...   \n",
       "name                                                                     Jalsa   \n",
       "online_order                                                               Yes   \n",
       "book_table                                                                 Yes   \n",
       "rate                                                                     4.1/5   \n",
       "votes                                                                      775   \n",
       "phone                                           080 42297555\\r\\n+91 9743772233   \n",
       "location                                                          Banashankari   \n",
       "rest_type                                                        Casual Dining   \n",
       "dish_liked                   Pasta, Lunch Buffet, Masala Papad, Paneer Laja...   \n",
       "cuisines                                        North Indian, Mughlai, Chinese   \n",
       "approx_cost(for two people)                                                800   \n",
       "reviews_list                 [('Rated 4.0', 'RATED\\n  A beautiful place to ...   \n",
       "menu_item                                                                   []   \n",
       "listed_in(type)                                                         Buffet   \n",
       "listed_in(city)                                                   Banashankari   \n",
       "\n",
       "                                                                         1      \\\n",
       "url                          https://www.zomato.com/bangalore/spice-elephan...   \n",
       "address                      2nd Floor, 80 Feet Road, Near Big Bazaar, 6th ...   \n",
       "name                                                            Spice Elephant   \n",
       "online_order                                                               Yes   \n",
       "book_table                                                                  No   \n",
       "rate                                                                     4.1/5   \n",
       "votes                                                                      787   \n",
       "phone                                                             080 41714161   \n",
       "location                                                          Banashankari   \n",
       "rest_type                                                        Casual Dining   \n",
       "dish_liked                   Momos, Lunch Buffet, Chocolate Nirvana, Thai G...   \n",
       "cuisines                                           Chinese, North Indian, Thai   \n",
       "approx_cost(for two people)                                                800   \n",
       "reviews_list                 [('Rated 4.0', 'RATED\\n  Had been here for din...   \n",
       "menu_item                                                                   []   \n",
       "listed_in(type)                                                         Buffet   \n",
       "listed_in(city)                                                   Banashankari   \n",
       "\n",
       "                                                                         2      \\\n",
       "url                          https://www.zomato.com/SanchurroBangalore?cont...   \n",
       "address                      1112, Next to KIMS Medical College, 17th Cross...   \n",
       "name                                                           San Churro Cafe   \n",
       "online_order                                                               Yes   \n",
       "book_table                                                                  No   \n",
       "rate                                                                     3.8/5   \n",
       "votes                                                                      918   \n",
       "phone                                                           +91 9663487993   \n",
       "location                                                          Banashankari   \n",
       "rest_type                                                  Cafe, Casual Dining   \n",
       "dish_liked                   Churros, Cannelloni, Minestrone Soup, Hot Choc...   \n",
       "cuisines                                                Cafe, Mexican, Italian   \n",
       "approx_cost(for two people)                                                800   \n",
       "reviews_list                 [('Rated 3.0', \"RATED\\n  Ambience is not that ...   \n",
       "menu_item                                                                   []   \n",
       "listed_in(type)                                                         Buffet   \n",
       "listed_in(city)                                                   Banashankari   \n",
       "\n",
       "                                                                         3      \\\n",
       "url                          https://www.zomato.com/bangalore/addhuri-udupi...   \n",
       "address                      1st Floor, Annakuteera, 3rd Stage, Banashankar...   \n",
       "name                                                     Addhuri Udupi Bhojana   \n",
       "online_order                                                                No   \n",
       "book_table                                                                  No   \n",
       "rate                                                                     3.7/5   \n",
       "votes                                                                       88   \n",
       "phone                                                           +91 9620009302   \n",
       "location                                                          Banashankari   \n",
       "rest_type                                                          Quick Bites   \n",
       "dish_liked                                                         Masala Dosa   \n",
       "cuisines                                            South Indian, North Indian   \n",
       "approx_cost(for two people)                                                300   \n",
       "reviews_list                 [('Rated 4.0', \"RATED\\n  Great food and proper...   \n",
       "menu_item                                                                   []   \n",
       "listed_in(type)                                                         Buffet   \n",
       "listed_in(city)                                                   Banashankari   \n",
       "\n",
       "                                                                         4      \\\n",
       "url                          https://www.zomato.com/bangalore/grand-village...   \n",
       "address                      10, 3rd Floor, Lakshmi Associates, Gandhi Baza...   \n",
       "name                                                             Grand Village   \n",
       "online_order                                                                No   \n",
       "book_table                                                                  No   \n",
       "rate                                                                     3.8/5   \n",
       "votes                                                                      166   \n",
       "phone                                         +91 8026612447\\r\\n+91 9901210005   \n",
       "location                                                          Basavanagudi   \n",
       "rest_type                                                        Casual Dining   \n",
       "dish_liked                                                 Panipuri, Gol Gappe   \n",
       "cuisines                                              North Indian, Rajasthani   \n",
       "approx_cost(for two people)                                                600   \n",
       "reviews_list                 [('Rated 4.0', 'RATED\\n  Very good restaurant ...   \n",
       "menu_item                                                                   []   \n",
       "listed_in(type)                                                         Buffet   \n",
       "listed_in(city)                                                   Banashankari   \n",
       "\n",
       "                                                                         5      \\\n",
       "url                          https://www.zomato.com/bangalore/timepass-dinn...   \n",
       "address                      37, 5-1, 4th Floor, Bosco Court, Gandhi Bazaar...   \n",
       "name                                                           Timepass Dinner   \n",
       "online_order                                                               Yes   \n",
       "book_table                                                                  No   \n",
       "rate                                                                     3.8/5   \n",
       "votes                                                                      286   \n",
       "phone                                         +91 9980040002\\r\\n+91 9980063005   \n",
       "location                                                          Basavanagudi   \n",
       "rest_type                                                        Casual Dining   \n",
       "dish_liked                   Onion Rings, Pasta, Kadhai Paneer, Salads, Sal...   \n",
       "cuisines                                                          North Indian   \n",
       "approx_cost(for two people)                                                600   \n",
       "reviews_list                 [('Rated 3.0', 'RATED\\n  Food 3/5\\nAmbience 3/...   \n",
       "menu_item                                                                   []   \n",
       "listed_in(type)                                                         Buffet   \n",
       "listed_in(city)                                                   Banashankari   \n",
       "\n",
       "                                                                         6      \\\n",
       "url                          https://www.zomato.com/bangalore/rosewood-inte...   \n",
       "address                      19/1, New Timberyard Layout, Beside Satellite ...   \n",
       "name                           Rosewood International Hotel - Bar & Restaurant   \n",
       "online_order                                                                No   \n",
       "book_table                                                                  No   \n",
       "rate                                                                     3.6/5   \n",
       "votes                                                                        8   \n",
       "phone                                           +91 9731716688\\r\\n080 26740366   \n",
       "location                                                           Mysore Road   \n",
       "rest_type                                                        Casual Dining   \n",
       "dish_liked                                                                 NaN   \n",
       "cuisines                           North Indian, South Indian, Andhra, Chinese   \n",
       "approx_cost(for two people)                                                800   \n",
       "reviews_list                 [('Rated 5.0', 'RATED\\n  Awesome food ??Great ...   \n",
       "menu_item                                                                   []   \n",
       "listed_in(type)                                                         Buffet   \n",
       "listed_in(city)                                                   Banashankari   \n",
       "\n",
       "                                                                         7      \\\n",
       "url                          https://www.zomato.com/bangalore/onesta-banash...   \n",
       "address                      2469, 3rd Floor, 24th Cross, Opposite BDA Comp...   \n",
       "name                                                                    Onesta   \n",
       "online_order                                                               Yes   \n",
       "book_table                                                                 Yes   \n",
       "rate                                                                     4.6/5   \n",
       "votes                                                                     2556   \n",
       "phone                                             080 48653961\\r\\n080 48655715   \n",
       "location                                                          Banashankari   \n",
       "rest_type                                                  Casual Dining, Cafe   \n",
       "dish_liked                   Farmhouse Pizza, Chocolate Banana, Virgin Moji...   \n",
       "cuisines                                                  Pizza, Cafe, Italian   \n",
       "approx_cost(for two people)                                                600   \n",
       "reviews_list                 [('Rated 5.0', 'RATED\\n  I personally really l...   \n",
       "menu_item                                                                   []   \n",
       "listed_in(type)                                                          Cafes   \n",
       "listed_in(city)                                                   Banashankari   \n",
       "\n",
       "                                                                         8      \\\n",
       "url                          https://www.zomato.com/bangalore/penthouse-caf...   \n",
       "address                      1, 30th Main Road, 3rd Stage, Banashankari, Ba...   \n",
       "name                                                            Penthouse Cafe   \n",
       "online_order                                                               Yes   \n",
       "book_table                                                                  No   \n",
       "rate                                                                     4.0/5   \n",
       "votes                                                                      324   \n",
       "phone                                         +91 8884135549\\r\\n+91 9449449316   \n",
       "location                                                          Banashankari   \n",
       "rest_type                                                                 Cafe   \n",
       "dish_liked                   Pizza, Mocktails, Coffee, Nachos, Salad, Pasta...   \n",
       "cuisines                                            Cafe, Italian, Continental   \n",
       "approx_cost(for two people)                                                700   \n",
       "reviews_list                 [('Rated 3.0', \"RATED\\n  I had been to this pl...   \n",
       "menu_item                                                                   []   \n",
       "listed_in(type)                                                          Cafes   \n",
       "listed_in(city)                                                   Banashankari   \n",
       "\n",
       "                                                                         9      \\\n",
       "url                          https://www.zomato.com/bangalore/smacznego-ban...   \n",
       "address                      2470, 21 Main Road, 25th Cross, Banashankari, ...   \n",
       "name                                                                 Smacznego   \n",
       "online_order                                                               Yes   \n",
       "book_table                                                                  No   \n",
       "rate                                                                     4.2/5   \n",
       "votes                                                                      504   \n",
       "phone                                         +91 9945230807\\r\\n+91 9743804471   \n",
       "location                                                          Banashankari   \n",
       "rest_type                                                                 Cafe   \n",
       "dish_liked                   Waffles, Pasta, Coleslaw Sandwich, Choco Waffl...   \n",
       "cuisines                              Cafe, Mexican, Italian, Momos, Beverages   \n",
       "approx_cost(for two people)                                                550   \n",
       "reviews_list                 [('Rated 4.0', \"RATED\\n  Easy to locate\\nVFM 3...   \n",
       "menu_item                                                                   []   \n",
       "listed_in(type)                                                          Cafes   \n",
       "listed_in(city)                                                   Banashankari   \n",
       "\n",
       "                             ...  \\\n",
       "url                          ...   \n",
       "address                      ...   \n",
       "name                         ...   \n",
       "online_order                 ...   \n",
       "book_table                   ...   \n",
       "rate                         ...   \n",
       "votes                        ...   \n",
       "phone                        ...   \n",
       "location                     ...   \n",
       "rest_type                    ...   \n",
       "dish_liked                   ...   \n",
       "cuisines                     ...   \n",
       "approx_cost(for two people)  ...   \n",
       "reviews_list                 ...   \n",
       "menu_item                    ...   \n",
       "listed_in(type)              ...   \n",
       "listed_in(city)              ...   \n",
       "\n",
       "                                                                         51707  \\\n",
       "url                          https://www.zomato.com/bangalore/m-bar-bengalu...   \n",
       "address                      Bengaluru Marriott Hotel, 75, 8th Road, EPIP A...   \n",
       "name                               M Bar - Bengaluru Marriott Hotel Whitefield   \n",
       "online_order                                                                No   \n",
       "book_table                                                                  No   \n",
       "rate                                                                    3.9 /5   \n",
       "votes                                                                       77   \n",
       "phone                                                             080 49435000   \n",
       "location                                                            Whitefield   \n",
       "rest_type                                                     Fine Dining, Bar   \n",
       "dish_liked                                                    Rooftop Ambience   \n",
       "cuisines                                                           Finger Food   \n",
       "approx_cost(for two people)                                              2,000   \n",
       "reviews_list                 [('Rated 4.0', 'RATED\\n  Went there post dinne...   \n",
       "menu_item                                                                   []   \n",
       "listed_in(type)                                                  Pubs and bars   \n",
       "listed_in(city)                                                     Whitefield   \n",
       "\n",
       "                                                                         51708  \\\n",
       "url                          https://www.zomato.com/bangalore/keys-cafe-key...   \n",
       "address                      Keys Hotel, 6, 1st Phase Industrial Area, Near...   \n",
       "name                                                    Keys Cafe - Keys Hotel   \n",
       "online_order                                                                No   \n",
       "book_table                                                                  No   \n",
       "rate                                                                    2.8 /5   \n",
       "votes                                                                      161   \n",
       "phone                                             080 39451000\\n+91 8884038484   \n",
       "location                                                            Whitefield   \n",
       "rest_type                                                   Casual Dining, Bar   \n",
       "dish_liked                   Salads, Coffee, Breakfast Buffet, Halwa, Chick...   \n",
       "cuisines                                    Chinese, Continental, North Indian   \n",
       "approx_cost(for two people)                                              1,200   \n",
       "reviews_list                 [('Rated 3.0', 'RATED\\n  Place is good not tha...   \n",
       "menu_item                                                                   []   \n",
       "listed_in(type)                                                  Pubs and bars   \n",
       "listed_in(city)                                                     Whitefield   \n",
       "\n",
       "                                                                         51709  \\\n",
       "url                          https://www.zomato.com/bangalore/the-farm-hous...   \n",
       "address                      136, SAP Labs India, KIADB Export Promotion In...   \n",
       "name                                                The Farm House Bar n Grill   \n",
       "online_order                                                                No   \n",
       "book_table                                                                  No   \n",
       "rate                                                                    3.7 /5   \n",
       "votes                                                                       34   \n",
       "phone                                           +91 9980121279\\n+91 9900240646   \n",
       "location                                                            Whitefield   \n",
       "rest_type                                                   Casual Dining, Bar   \n",
       "dish_liked                                                                 NaN   \n",
       "cuisines                                             North Indian, Continental   \n",
       "approx_cost(for two people)                                                800   \n",
       "reviews_list                 [('Rated 4.0', 'RATED\\n  Ambience- Big and spa...   \n",
       "menu_item                                                                   []   \n",
       "listed_in(type)                                                  Pubs and bars   \n",
       "listed_in(city)                                                     Whitefield   \n",
       "\n",
       "                                                                         51710  \\\n",
       "url                          https://www.zomato.com/bangalore/topsy-turvey-...   \n",
       "address                      2E2, 4th Cross Road, Devasandra Industrial Est...   \n",
       "name                                                              Topsy Turvey   \n",
       "online_order                                                                No   \n",
       "book_table                                                                  No   \n",
       "rate                                                                       NaN   \n",
       "votes                                                                        0   \n",
       "phone                                                           +91 9148155994   \n",
       "location                                                            Whitefield   \n",
       "rest_type                                                                  Bar   \n",
       "dish_liked                                                                 NaN   \n",
       "cuisines                                                           Finger Food   \n",
       "approx_cost(for two people)                                                900   \n",
       "reviews_list                 [('Rated 4.0', \"RATED\\n  A divine joint for Fl...   \n",
       "menu_item                                                                   []   \n",
       "listed_in(type)                                                  Pubs and bars   \n",
       "listed_in(city)                                                     Whitefield   \n",
       "\n",
       "                                                                         51711  \\\n",
       "url                          https://www.zomato.com/bangalore/bhagini-2-whi...   \n",
       "address                      139/C1, Next To GR Tech Park, Pattandur Agraha...   \n",
       "name                                                                   Bhagini   \n",
       "online_order                                                                No   \n",
       "book_table                                                                  No   \n",
       "rate                                                                    2.5 /5   \n",
       "votes                                                                       81   \n",
       "phone                                                             080 65951222   \n",
       "location                                                            Whitefield   \n",
       "rest_type                                                   Casual Dining, Bar   \n",
       "dish_liked                                                Biryani, Andhra Meal   \n",
       "cuisines                           Andhra, South Indian, Chinese, North Indian   \n",
       "approx_cost(for two people)                                                800   \n",
       "reviews_list                 [('Rated 4.0', 'RATED\\n  A fine place to chill...   \n",
       "menu_item                                                                   []   \n",
       "listed_in(type)                                                  Pubs and bars   \n",
       "listed_in(city)                                                     Whitefield   \n",
       "\n",
       "                                                                         51712  \\\n",
       "url                          https://www.zomato.com/bangalore/best-brews-fo...   \n",
       "address                      Four Points by Sheraton Bengaluru, 43/3, White...   \n",
       "name                         Best Brews - Four Points by Sheraton Bengaluru...   \n",
       "online_order                                                                No   \n",
       "book_table                                                                  No   \n",
       "rate                                                                    3.6 /5   \n",
       "votes                                                                       27   \n",
       "phone                                                             080 40301477   \n",
       "location                                                            Whitefield   \n",
       "rest_type                                                                  Bar   \n",
       "dish_liked                                                                 NaN   \n",
       "cuisines                                                           Continental   \n",
       "approx_cost(for two people)                                              1,500   \n",
       "reviews_list                 [('Rated 5.0', \"RATED\\n  Food and service are ...   \n",
       "menu_item                                                                   []   \n",
       "listed_in(type)                                                  Pubs and bars   \n",
       "listed_in(city)                                                     Whitefield   \n",
       "\n",
       "                                                                         51713  \\\n",
       "url                          https://www.zomato.com/bangalore/vinod-bar-and...   \n",
       "address                      Number 10, Garudachar Palya, Mahadevapura, Whi...   \n",
       "name                                                  Vinod Bar And Restaurant   \n",
       "online_order                                                                No   \n",
       "book_table                                                                  No   \n",
       "rate                                                                       NaN   \n",
       "votes                                                                        0   \n",
       "phone                                                           +91 8197675843   \n",
       "location                                                            Whitefield   \n",
       "rest_type                                                                  Bar   \n",
       "dish_liked                                                                 NaN   \n",
       "cuisines                                                           Finger Food   \n",
       "approx_cost(for two people)                                                600   \n",
       "reviews_list                                                                []   \n",
       "menu_item                                                                   []   \n",
       "listed_in(type)                                                  Pubs and bars   \n",
       "listed_in(city)                                                     Whitefield   \n",
       "\n",
       "                                                                         51714  \\\n",
       "url                          https://www.zomato.com/bangalore/plunge-sherat...   \n",
       "address                      Sheraton Grand Bengaluru Whitefield Hotel & Co...   \n",
       "name                         Plunge - Sheraton Grand Bengaluru Whitefield H...   \n",
       "online_order                                                                No   \n",
       "book_table                                                                  No   \n",
       "rate                                                                       NaN   \n",
       "votes                                                                        0   \n",
       "phone                                                                      NaN   \n",
       "location                                                            Whitefield   \n",
       "rest_type                                                                  Bar   \n",
       "dish_liked                                                                 NaN   \n",
       "cuisines                                                           Finger Food   \n",
       "approx_cost(for two people)                                              2,000   \n",
       "reviews_list                                                                []   \n",
       "menu_item                                                                   []   \n",
       "listed_in(type)                                                  Pubs and bars   \n",
       "listed_in(city)                                                     Whitefield   \n",
       "\n",
       "                                                                         51715  \\\n",
       "url                          https://www.zomato.com/bangalore/chime-sherato...   \n",
       "address                      Sheraton Grand Bengaluru Whitefield Hotel & Co...   \n",
       "name                         Chime - Sheraton Grand Bengaluru Whitefield Ho...   \n",
       "online_order                                                                No   \n",
       "book_table                                                                 Yes   \n",
       "rate                                                                    4.3 /5   \n",
       "votes                                                                      236   \n",
       "phone                                                             080 49652769   \n",
       "location                                            ITPL Main Road, Whitefield   \n",
       "rest_type                                                                  Bar   \n",
       "dish_liked                                        Cocktails, Pizza, Buttermilk   \n",
       "cuisines                                                           Finger Food   \n",
       "approx_cost(for two people)                                              2,500   \n",
       "reviews_list                 [('Rated 4.0', 'RATED\\n  Nice and friendly pla...   \n",
       "menu_item                                                                   []   \n",
       "listed_in(type)                                                  Pubs and bars   \n",
       "listed_in(city)                                                     Whitefield   \n",
       "\n",
       "                                                                         51716  \n",
       "url                          https://www.zomato.com/bangalore/the-nest-the-...  \n",
       "address                      ITPL Main Road, KIADB Export Promotion Industr...  \n",
       "name                                              The Nest - The Den Bengaluru  \n",
       "online_order                                                                No  \n",
       "book_table                                                                  No  \n",
       "rate                                                                    3.4 /5  \n",
       "votes                                                                       13  \n",
       "phone                                                           +91 8071117272  \n",
       "location                                            ITPL Main Road, Whitefield  \n",
       "rest_type                                                   Bar, Casual Dining  \n",
       "dish_liked                                                                 NaN  \n",
       "cuisines                                Finger Food, North Indian, Continental  \n",
       "approx_cost(for two people)                                              1,500  \n",
       "reviews_list                 [('Rated 5.0', 'RATED\\n  Great ambience , look...  \n",
       "menu_item                                                                   []  \n",
       "listed_in(type)                                                  Pubs and bars  \n",
       "listed_in(city)                                                     Whitefield  \n",
       "\n",
       "[17 rows x 51717 columns]"
      ]
     },
     "execution_count": 22,
     "metadata": {},
     "output_type": "execute_result"
    }
   ],
   "source": [
    "#Read data\n",
    "restaurants = pd.read_csv('zomato.csv')\n",
    "\n",
    "restaurants.transpose()"
   ]
  },
  {
   "cell_type": "code",
   "execution_count": 23,
   "metadata": {
    "colab": {
     "base_uri": "https://localhost:8080/"
    },
    "id": "QY59zj2iaaBW",
    "outputId": "7859b225-2a5d-49da-86b2-26cad1dac4b7"
   },
   "outputs": [
    {
     "name": "stdout",
     "output_type": "stream",
     "text": [
      "There are 8792 restaurants, listed in 94 different locations.\n"
     ]
    }
   ],
   "source": [
    "print('There are '+ str(len(restaurants['name'].unique()))+ ' restaurants, listed in ' +str(len(restaurants['location'].unique())) + ' different locations.')"
   ]
  },
  {
   "cell_type": "markdown",
   "metadata": {},
   "source": [
    "## Missing Values"
   ]
  },
  {
   "cell_type": "code",
   "execution_count": 24,
   "metadata": {
    "colab": {
     "base_uri": "https://localhost:8080/",
     "height": 795
    },
    "id": "MbVtUMQ6ag9R",
    "outputId": "7b963ced-ec3c-4fde-97bb-4cff253b3f49"
   },
   "outputs": [
    {
     "data": {
      "image/png": "[encoded data removed]",
      "text/plain": [
       "<Figure size 1200x900 with 1 Axes>"
      ]
     },
     "metadata": {},
     "output_type": "display_data"
    }
   ],
   "source": [
    "#Add ratings column\n",
    "restaurants['rate'].fillna('-1/5', inplace= True)\n",
    "restaurants['ratings'] = restaurants['rate'].apply(lambda x : -2 if (x=='NEW' or x=='-') else float(x.split('/')[0]))\n",
    "#restaurants['ratings'].unique()\n",
    "\n",
    "temp = restaurants.fillna('Missing')\n",
    "temp = temp.applymap(lambda x: x if x == 'Missing' else 'Available')\n",
    "figsize_width = 12\n",
    "figsize_height = len(temp.columns)*0.5\n",
    "plt_data = pd.DataFrame()\n",
    "for col in temp.columns:\n",
    "    temp_col = temp.groupby(col).size()/len(temp.index)\n",
    "    temp_col = pd.DataFrame({col:temp_col})\n",
    "    plt_data = pd.concat([plt_data, temp_col], axis=1)\n",
    "\n",
    "ax = plt_data.T.plot(kind='barh', stacked=True, figsize=(figsize_width, figsize_height))\n",
    "\n",
    "# Annotations\n",
    "labels = []\n",
    "for i in plt_data.index:\n",
    "    for j in plt_data.columns:\n",
    "        label = '{:.2%}'.format(plt_data.loc[i][j])\n",
    "        labels.append(label)\n",
    "patches = ax.patches\n",
    "for label, rect in zip(labels, patches):\n",
    "    width = rect.get_width()\n",
    "    if width > 0:\n",
    "        x = rect.get_x()\n",
    "        y = rect.get_y()\n",
    "        height = rect.get_height()\n",
    "        ax.text(x + width/2., y + height/2., label, ha='center', va='center')\n",
    "\n",
    "plt.xlabel('Frequency')\n",
    "plt.title('Missing values')\n",
    "plt.xticks(np.arange(0, 1.05, 0.1))\n",
    "plt.legend(loc='center left', bbox_to_anchor=(1, 0.5))\n",
    "plt.show()"
   ]
  },
  {
   "cell_type": "markdown",
   "metadata": {},
   "source": [
    "## *1. Bubble Plot(Circle Packing)* \n",
    "Let's visualize the locations with most active number of zomato users and the respective top 10 serving restaurants. Size of the bubble represents the vote count the restaurant has on zomato. Clicking on the bubble will show the top restaurants based on the ratings"
   ]
  },
  {
   "cell_type": "code",
   "execution_count": 25,
   "metadata": {
    "id": "agvEfK4oaq2B"
   },
   "outputs": [],
   "source": [
    "def getTopNRestsWithVotesCount(restaurants, location, n=10):\n",
    "    temp_rest = restaurants[restaurants['location']==location][['name','votes','ratings',\n",
    "                                                                'approx_cost(for two people)']].groupby(['name',\n",
    "                                                                                                         'approx_cost(for two people)']).agg({'votes': np.sum,'ratings': np.mean}).reset_index()\n",
    "    #temp_rest = temp_rest.groupby(['name','votes']).size().reset_index(name='Freq').sort_values('votes',ascending = False)\n",
    "    temp_rest = temp_rest.sort_values('ratings',ascending = False).head(n)\n",
    "    return temp_rest.round({'ratings': 2})\n",
    "\n",
    "def getLocationWiseActiveRestaurants(restaurants, locationCount=10, restaurantsCount=10):\n",
    "    temp_votes = restaurants.groupby(['location'])['votes'].sum().reset_index().sort_values('votes', ascending=False).head(locationCount)\n",
    "    result = pd.DataFrame()\n",
    "    for index,row in temp_votes.iterrows():\n",
    "        df = getTopNRestsWithVotesCount(restaurants, row['location'], restaurantsCount)\n",
    "        df['location'] = row['location']\n",
    "        df['location_votes'] = row['votes']\n",
    "        result = result.append(df)\n",
    "    return result\n",
    "\n",
    "def getChildrenNodes(df, size='', title='1', level=0):\n",
    "    resultList = []\n",
    "    result = {}\n",
    "    result['name'] = str(title)\n",
    "    result['size'] = size\n",
    "    result['level'] = level\n",
    "    children = df[df['name']==title][['children','size']].values\n",
    "    if len(children)>0:\n",
    "        for child,sz in children:\n",
    "            resultList.append(getChildrenNodes(df, sz, child,level+1))\n",
    "        result['children'] = resultList\n",
    "    else:\n",
    "        return result\n",
    "    return result\n",
    "\n",
    "def createDataForBubblePlot(df):\n",
    "    temp_rests = df.groupby(['location','location_votes']).size().reset_index(name='Freq')\n",
    "    result = df\n",
    "    temp_df = pd.DataFrame(columns = ['name','votes','ratings','location','location_votes'])\n",
    "    for index,row in temp_rests.iterrows():\n",
    "        temp_df.loc[0]=[row['location'],row['location_votes'],'0','1','0']\n",
    "        result = result.append(temp_df)\n",
    "    result['children'],result['name'],result['size'] = result['name'],result['location'],result['votes']\n",
    "    #getChildrenNodes(result)\n",
    "    with open('output.json', 'w') as outfile:\n",
    "        json.dump(getChildrenNodes(result), outfile)\n",
    "    return result"
   ]
  },
  {
   "cell_type": "code",
   "execution_count": 27,
   "metadata": {
    "id": "V9AoeTOLa6uo"
   },
   "outputs": [],
   "source": [
    "htmllocationbubble = \"\"\"<!DOCTYPE html><meta charset=\"utf-8\"><style>.node {cursor: pointer;}.node:hover {stroke: #000;stroke-width: 1.5px;}.node--leaf {fill: white;}\n",
    ".label {font: 11px \"Helvetica Neue\", Helvetica, Arial, sans-serif;text-anchor: middle;text-shadow: 0 1px 0 #fff, 1px 0 0 #fff, -1px 0 0 #fff, 0 -1px 0 #fff;}\n",
    ".label,.node--root,.node--leaf {pointer-events: none;}</style><svg id=\"two\" width=\"760\" height=\"760\"></svg>\n",
    "\"\"\"\n",
    "js_locationbubble=\"\"\"\n",
    "require.config({\n",
    "        paths: {\n",
    "            d3: \"https://d3js.org/d3.v4.min\"\n",
    "         }\n",
    "     });\n",
    "require([\"d3\"], function(d3) {\n",
    "var svg = d3.select(\"#two\"),\n",
    "    margin = 20,\n",
    "    diameter = +svg.attr(\"width\"),\n",
    "    g = svg.append(\"g\").attr(\"transform\", \"translate(\" + diameter / 2 + \",\" + diameter / 2 + \")\"),\n",
    "    color = d3.scaleSequential(d3.interpolateViridis).domain([-2, 2]),\n",
    "    pack = d3.pack().size([diameter - margin, diameter - margin]).padding(2);\n",
    "d3.json(\"output.json\", function(t, n) {\n",
    "if (t) throw t;\n",
    "var r, e = n = d3.hierarchy(n).sum(function(t) {\n",
    "        return t.size\n",
    "    }).sort(function(t, n) {\n",
    "        return n.value - t.value\n",
    "    }),\n",
    "    a = pack(n).descendants(),\n",
    "    i = g.selectAll(\"circle\").data(a).enter().append(\"circle\").attr(\"class\", function(t) {\n",
    "        return t.parent ? t.children ? \"node\" : \"node node--leaf\" : \"node node--root\"\n",
    "    }).style(\"fill\", function(t) {\n",
    "        return t.children ? color(t.depth) : null\n",
    "    }).on(\"click\", function(t) {\n",
    "        e !== t && (l(t), d3.event.stopPropagation())\n",
    "    }),\n",
    "    o = (g.selectAll(\"text\").data(a).enter().append(\"text\").attr(\"class\", \"label\").style(\"fill-opacity\", function(t) {\n",
    "        return t.parent === n ? 1 : 0\n",
    "    }).style(\"display\", function(t) {\n",
    "        return t.parent === n ? \"inline\" : \"none\"\n",
    "    }).text(function(t) {\n",
    "        return t.data.name + \": \" + t.data.size\n",
    "    }), g.selectAll(\"circle,text\"));\n",
    "\n",
    "function l(t) {\n",
    "    e = t, d3.transition().duration(d3.event.altKey ? 7500 : 750).tween(\"zoom\", function(t) {\n",
    "        var n = d3.interpolateZoom(r, [e.x, e.y, 2 * e.r + margin]);\n",
    "        return function(t) {\n",
    "            c(n(t))\n",
    "        }\n",
    "    }).selectAll(\"text\").filter(function(t) {\n",
    "        return t.parent === e || \"inline\" === this.style.display\n",
    "    }).style(\"fill-opacity\", function(t) {\n",
    "        return t.parent === e ? 1 : 0\n",
    "    }).on(\"start\", function(t) {\n",
    "        t.parent === e && (this.style.display = \"inline\")\n",
    "    }).on(\"end\", function(t) {\n",
    "        t.parent !== e && (this.style.display = \"none\")\n",
    "    })\n",
    "}\n",
    "\n",
    "function c(n) {\n",
    "    var e = diameter / n[2];\n",
    "    r = n, o.attr(\"transform\", function(t) {\n",
    "        return \"translate(\" + (t.x - n[0]) * e + \",\" + (t.y - n[1]) * e + \")\"\n",
    "    }), i.attr(\"r\", function(t) {\n",
    "        return t.r * e\n",
    "    })\n",
    "}\n",
    "svg.style(\"background\", color(-1)).on(\"click\", function() {\n",
    "    l(n)\n",
    "}), c([n.x, n.y, 2 * n.r + margin])\n",
    "});\n",
    "});\"\"\""
   ]
  },
  {
   "cell_type": "code",
   "execution_count": 28,
   "metadata": {
    "colab": {
     "base_uri": "https://localhost:8080/",
     "height": 823
    },
    "id": "infN8Zn2a_FI",
    "outputId": "cee8e86c-9339-4312-9182-ca14039f73da"
   },
   "outputs": [
    {
     "data": {
      "text/html": [
       "<!DOCTYPE html><meta charset=\"utf-8\"><style>.node {cursor: pointer;}.node:hover {stroke: #000;stroke-width: 1.5px;}.node--leaf {fill: white;}\n",
       ".label {font: 11px \"Helvetica Neue\", Helvetica, Arial, sans-serif;text-anchor: middle;text-shadow: 0 1px 0 #fff, 1px 0 0 #fff, -1px 0 0 #fff, 0 -1px 0 #fff;}\n",
       ".label,.node--root,.node--leaf {pointer-events: none;}</style><svg id=\"two\" width=\"760\" height=\"760\"></svg>\n"
      ],
      "text/plain": [
       "<IPython.core.display.HTML object>"
      ]
     },
     "metadata": {},
     "output_type": "display_data"
    },
    {
     "data": {
      "text/html": [
       "<h3>Graph is interactive. Click on the circles for more info.</h3>"
      ],
      "text/plain": [
       "<IPython.core.display.HTML object>"
      ]
     },
     "metadata": {},
     "output_type": "display_data"
    },
    {
     "data": {
      "application/javascript": [
       "\n",
       "require.config({\n",
       "        paths: {\n",
       "            d3: \"https://d3js.org/d3.v4.min\"\n",
       "         }\n",
       "     });\n",
       "require([\"d3\"], function(d3) {\n",
       "var svg = d3.select(\"#two\"),\n",
       "    margin = 20,\n",
       "    diameter = +svg.attr(\"width\"),\n",
       "    g = svg.append(\"g\").attr(\"transform\", \"translate(\" + diameter / 2 + \",\" + diameter / 2 + \")\"),\n",
       "    color = d3.scaleSequential(d3.interpolateViridis).domain([-2, 2]),\n",
       "    pack = d3.pack().size([diameter - margin, diameter - margin]).padding(2);\n",
       "d3.json(\"output.json\", function(t, n) {\n",
       "if (t) throw t;\n",
       "var r, e = n = d3.hierarchy(n).sum(function(t) {\n",
       "        return t.size\n",
       "    }).sort(function(t, n) {\n",
       "        return n.value - t.value\n",
       "    }),\n",
       "    a = pack(n).descendants(),\n",
       "    i = g.selectAll(\"circle\").data(a).enter().append(\"circle\").attr(\"class\", function(t) {\n",
       "        return t.parent ? t.children ? \"node\" : \"node node--leaf\" : \"node node--root\"\n",
       "    }).style(\"fill\", function(t) {\n",
       "        return t.children ? color(t.depth) : null\n",
       "    }).on(\"click\", function(t) {\n",
       "        e !== t && (l(t), d3.event.stopPropagation())\n",
       "    }),\n",
       "    o = (g.selectAll(\"text\").data(a).enter().append(\"text\").attr(\"class\", \"label\").style(\"fill-opacity\", function(t) {\n",
       "        return t.parent === n ? 1 : 0\n",
       "    }).style(\"display\", function(t) {\n",
       "        return t.parent === n ? \"inline\" : \"none\"\n",
       "    }).text(function(t) {\n",
       "        return t.data.name + \": \" + t.data.size\n",
       "    }), g.selectAll(\"circle,text\"));\n",
       "\n",
       "function l(t) {\n",
       "    e = t, d3.transition().duration(d3.event.altKey ? 7500 : 750).tween(\"zoom\", function(t) {\n",
       "        var n = d3.interpolateZoom(r, [e.x, e.y, 2 * e.r + margin]);\n",
       "        return function(t) {\n",
       "            c(n(t))\n",
       "        }\n",
       "    }).selectAll(\"text\").filter(function(t) {\n",
       "        return t.parent === e || \"inline\" === this.style.display\n",
       "    }).style(\"fill-opacity\", function(t) {\n",
       "        return t.parent === e ? 1 : 0\n",
       "    }).on(\"start\", function(t) {\n",
       "        t.parent === e && (this.style.display = \"inline\")\n",
       "    }).on(\"end\", function(t) {\n",
       "        t.parent !== e && (this.style.display = \"none\")\n",
       "    })\n",
       "}\n",
       "\n",
       "function c(n) {\n",
       "    var e = diameter / n[2];\n",
       "    r = n, o.attr(\"transform\", function(t) {\n",
       "        return \"translate(\" + (t.x - n[0]) * e + \",\" + (t.y - n[1]) * e + \")\"\n",
       "    }), i.attr(\"r\", function(t) {\n",
       "        return t.r * e\n",
       "    })\n",
       "}\n",
       "svg.style(\"background\", color(-1)).on(\"click\", function() {\n",
       "    l(n)\n",
       "}), c([n.x, n.y, 2 * n.r + margin])\n",
       "});\n",
       "});"
      ]
     },
     "metadata": {},
     "output_type": "display_data"
    }
   ],
   "source": [
    "locationWiseActiveRestaurants = getLocationWiseActiveRestaurants(restaurants)\n",
    "createDataForBubblePlot(locationWiseActiveRestaurants)\n",
    "\n",
    "h = display(HTML(htmllocationbubble))\n",
    "display(HTML('''<h3>Graph is interactive. Click on the circles for more info.</h3>'''))\n",
    "j = IPython.display.Javascript(js_locationbubble)\n",
    "IPython.display.display_javascript(j)"
   ]
  },
  {
   "cell_type": "markdown",
   "metadata": {},
   "source": [
    "## 2. Forced Directed Network\n",
    "\n",
    "The graph will give you the top restaurants serving that dish in top 5 most voted locations. Size of the node(circle) represents the vote count for the restaurant."
   ]
  },
  {
   "cell_type": "code",
   "execution_count": 29,
   "metadata": {
    "id": "-Au7img8bCH3"
   },
   "outputs": [],
   "source": [
    "def getTopRestaurantsForDish(data, dishname='Pasta', n=10):\n",
    "    dishData = data[data['dish_liked']==dishname]\n",
    "    dishData = dishData.groupby(['name','location','dish_liked','ratings']).agg({'votes': np.mean})\n",
    "    dishData = dishData.sort_values(['votes'], ascending=False).sort_values(['ratings'], ascending=False).reset_index()\n",
    "    dishData['index'] = dishData.index\n",
    "    dishData['Rank'] = dishData.groupby('location')['index'].rank(ascending=True)\n",
    "    return dishData.loc[dishData['Rank']<=n]\n",
    "\n",
    "def getTopRestaurantsFromTopLocations(data, n=10):\n",
    "    restData = data.groupby(['location'])['votes'].sum().reset_index()\n",
    "    restData = restData.sort_values('votes', ascending=False)\n",
    "    restData = restData.head(n)\n",
    "    return data[data['location'].isin(restData['location'].values)]\n",
    "\n",
    "def createDishGraph(dishName, data):\n",
    "    nodes = []\n",
    "    links = []\n",
    "    nodes.append({\"id\": 'Dish: '+dishName, \"group\": 0, \"size\": 15})\n",
    "    tempLocations = data.groupby('location')['votes'].sum().reset_index()\n",
    "    tempLocations['perc'] = tempLocations['votes']*100/tempLocations['votes'].sum()\n",
    "    for index,row in tempLocations.iterrows():\n",
    "        nodes.append({\"id\": 'Location: '+row['location'], \"group\": index+1, \"size\": int(round(row['perc'],0))})\n",
    "        links.append({\"source\": 'Dish: '+dishName, \"target\": 'Location: '+row['location'], \"value\": 1})\n",
    "        tempRests = data[data['location']==row['location']]\n",
    "        tempRests['perc'] = tempRests['votes']*100/tempRests['votes'].sum()\n",
    "        for ind,rr in tempRests.iterrows():\n",
    "            nodes.append({\"id\": row['location']+'- Restaurant: '+rr['name']+'. Rated: '+str(rr['ratings']), \"group\": index+1, \"size\": int(round(rr['perc'],0))})\n",
    "            links.append({\"source\": 'Location: '+row['location'], \"target\": row['location']+'- Restaurant: '+rr['name']+'. Rated: '+str(rr['ratings']), \"value\": 1})\n",
    "    doc = {'nodes' : nodes, 'links' : links}\n",
    "    with open('dishGraph.json', 'w') as outfile:\n",
    "        json.dump(doc, outfile)"
   ]
  },
  {
   "cell_type": "code",
   "execution_count": 30,
   "metadata": {
    "id": "v8_WwnYubMoT"
   },
   "outputs": [],
   "source": [
    "htmlDishGraph = \"\"\"<!DOCTYPE html>\n",
    "<meta charset=\"utf-8\">\n",
    "<style>\n",
    "\n",
    ".links line {\n",
    "  stroke: #999;\n",
    "  stroke-opacity: 0.8;\n",
    "}\n",
    ".node text {\n",
    "  pointer-events: none;\n",
    "  font: 10px sans-serif;\n",
    "}\n",
    "\n",
    ".tooldiv {\n",
    "    display: inline-block;\n",
    "    width: 120px;\n",
    "    background-color: white;\n",
    "    color: #000;\n",
    "    text-align: center;\n",
    "    padding: 5px 0;\n",
    "    border-radius: 6px;\n",
    "    z-index: 1;\n",
    "}\n",
    ".nodes circle {\n",
    "  stroke: #fff;\n",
    "  stroke-width: 1.5px;\n",
    "}\n",
    "\n",
    "div.tooltip {\n",
    "    position: absolute;\n",
    "    text-align: center;\n",
    "    width: 100px;\n",
    "    height: 65px;\n",
    "    padding: 2px;\n",
    "    font: 12px sans-serif;\n",
    "    background: lightsteelblue;\n",
    "    border: 0px;\n",
    "    border-radius: 8px;\n",
    "    pointer-events: none;\n",
    "}\n",
    "\n",
    "</style>\n",
    "<svg id=\"dg\" width=\"760\" height=\"760\"></svg>\"\"\"\n",
    "\n",
    "jsDishGraph = \"\"\"require.config({\n",
    "    paths: {\n",
    "        d3: \"https://d3js.org/d3.v4.min\"\n",
    "     }\n",
    " });\n",
    "\n",
    " require([\"d3\"], function(d3) {\n",
    "var svg = d3.select(\"#dg\"),\n",
    "    width = +svg.attr(\"width\"),\n",
    "    height = +svg.attr(\"height\");\n",
    "\n",
    "var color = d3.scaleOrdinal(d3.schemeCategory20);\n",
    "\n",
    "var simulation = d3.forceSimulation()\n",
    "    // fix the link distance, charge and the center layout\n",
    "    .force(\"link\", d3.forceLink().id(function(d) { return d.id; }).distance(120).strength(1))\n",
    "    .force(\"charge\", d3.forceManyBody().strength(-155))\n",
    "    .force(\"center\", d3.forceCenter(width / 2, height / 2));\n",
    "\n",
    "d3.json(\"dishGraph.json\", function(error, graph) {\n",
    "  if (error) throw error;\n",
    "\n",
    "  var link = svg.append(\"g\")\n",
    "      .attr(\"class\", \"links\")\n",
    "    .selectAll(\"line\")\n",
    "    .data(graph.links)\n",
    "    .enter().append(\"line\")\n",
    "      .attr(\"stroke-width\", function(d) { return Math.sqrt(d.value); });\n",
    "\n",
    "// Define the div for the tooltip\n",
    "var div = d3.select(\"body\").append(\"div\")\n",
    "    .attr(\"class\", \"tooltip\")\n",
    "    .style(\"opacity\", 0);\n",
    "\n",
    "  var node = svg.append(\"g\")\n",
    "      .attr(\"class\", \"nodes\")\n",
    "    .selectAll(\"circle\")\n",
    "    .data(graph.nodes)\n",
    "    .enter().append(\"circle\")\n",
    "      .attr(\"r\", function(d) {return d.size})\n",
    "      .attr(\"fill\", function(d) { return color(d.group); })\n",
    "      .call(d3.drag()\n",
    "          .on(\"start\", dragstarted)\n",
    "          .on(\"drag\", dragged)\n",
    "          .on(\"end\", dragended)).on(\"mouseover\", function(d) {\n",
    "            div.transition()\n",
    "                .duration(200)\n",
    "                .style(\"opacity\", .9);\n",
    "            div.html(d.id )\n",
    "                .style(\"left\", (d3.event.pageX) + \"px\")\n",
    "                .style(\"top\", (d3.event.pageY - 28) + \"px\");\n",
    "            })\n",
    "        .on(\"mouseout\", function(d) {\n",
    "            div.transition()\n",
    "                .duration(500)\n",
    "                .style(\"opacity\", 0);\n",
    "        });\n",
    "\n",
    "\n",
    "  //node.append(\"title\")\n",
    "   // .text(function(d) { return d.id; });\n",
    "\n",
    "  simulation\n",
    "      .nodes(graph.nodes)\n",
    "      .on(\"tick\", ticked);\n",
    "\n",
    "\n",
    "  simulation.force(\"link\")\n",
    "      .links(graph.links);\n",
    "\n",
    "  function ticked() {\n",
    "    link\n",
    "        .attr(\"x1\", function(d) { return d.source.x; })\n",
    "        .attr(\"y1\", function(d) { return d.source.y; })\n",
    "        .attr(\"x2\", function(d) { return d.target.x; })\n",
    "        .attr(\"y2\", function(d) { return d.target.y; });\n",
    "\n",
    "    node\n",
    "        .attr(\"cx\", function(d) { return d.x; })\n",
    "        .attr(\"cy\", function(d) { return d.y; });\n",
    "  }\n",
    "});\n",
    "\n",
    "function dragstarted(d) {\n",
    "  if (!d3.event.active) simulation.alphaTarget(0.3).restart();\n",
    "  d.fx = d.x;\n",
    "  d.fy = d.y;\n",
    "}\n",
    "\n",
    "function dragged(d) {\n",
    "  d.fx = d3.event.x;\n",
    "  d.fy = d3.event.y;\n",
    "}\n",
    "\n",
    "function dragended(d) {\n",
    "  if (!d3.event.active) simulation.alphaTarget(0);\n",
    "  d.fx = null;\n",
    "  d.fy = null;\n",
    "}\n",
    " });\n",
    "\"\"\"\n",
    "\n",
    "temp = restaurants.groupby(['name','location','dish_liked','ratings']).agg({'votes': np.mean}).reset_index()\n",
    "s = temp[\"dish_liked\"].str.split(',', expand=True).stack()\n",
    "i = s.index.get_level_values(0)\n",
    "temp = temp.loc[i].copy()\n",
    "temp[\"dish_liked\"] = s.values\n",
    "temp['dish_liked'] = temp['dish_liked'].apply(lambda x: x.strip())\n",
    "\n",
    "dfTemp = getTopRestaurantsForDish(temp)\n",
    "dfTemp = getTopRestaurantsFromTopLocations(dfTemp,5)"
   ]
  },
  {
   "cell_type": "code",
   "execution_count": 31,
   "metadata": {
    "colab": {
     "base_uri": "https://localhost:8080/",
     "height": 782
    },
    "id": "aFEzDWlXbPAL",
    "outputId": "432bebc3-1a09-4fe4-d26b-c35ab1db8abf"
   },
   "outputs": [
    {
     "data": {
      "text/html": [
       "<!DOCTYPE html>\n",
       "<meta charset=\"utf-8\">\n",
       "<style>\n",
       "\n",
       ".links line {\n",
       "  stroke: #999;\n",
       "  stroke-opacity: 0.8;\n",
       "}\n",
       ".node text {\n",
       "  pointer-events: none;\n",
       "  font: 10px sans-serif;\n",
       "}\n",
       "\n",
       ".tooldiv {\n",
       "    display: inline-block;\n",
       "    width: 120px;\n",
       "    background-color: white;\n",
       "    color: #000;\n",
       "    text-align: center;\n",
       "    padding: 5px 0;\n",
       "    border-radius: 6px;\n",
       "    z-index: 1;\n",
       "}\n",
       ".nodes circle {\n",
       "  stroke: #fff;\n",
       "  stroke-width: 1.5px;\n",
       "}\n",
       "\n",
       "div.tooltip {\n",
       "    position: absolute;\n",
       "    text-align: center;\n",
       "    width: 100px;\n",
       "    height: 65px;\n",
       "    padding: 2px;\n",
       "    font: 12px sans-serif;\n",
       "    background: lightsteelblue;\n",
       "    border: 0px;\n",
       "    border-radius: 8px;\n",
       "    pointer-events: none;\n",
       "}\n",
       "\n",
       "</style>\n",
       "<svg id=\"dg\" width=\"760\" height=\"760\"></svg>"
      ],
      "text/plain": [
       "<IPython.core.display.HTML object>"
      ]
     },
     "metadata": {},
     "output_type": "display_data"
    },
    {
     "data": {
      "application/javascript": [
       "require.config({\n",
       "    paths: {\n",
       "        d3: \"https://d3js.org/d3.v4.min\"\n",
       "     }\n",
       " });\n",
       "\n",
       " require([\"d3\"], function(d3) {\n",
       "var svg = d3.select(\"#dg\"),\n",
       "    width = +svg.attr(\"width\"),\n",
       "    height = +svg.attr(\"height\");\n",
       "\n",
       "var color = d3.scaleOrdinal(d3.schemeCategory20);\n",
       "\n",
       "var simulation = d3.forceSimulation()\n",
       "    // fix the link distance, charge and the center layout\n",
       "    .force(\"link\", d3.forceLink().id(function(d) { return d.id; }).distance(120).strength(1))\n",
       "    .force(\"charge\", d3.forceManyBody().strength(-155))\n",
       "    .force(\"center\", d3.forceCenter(width / 2, height / 2));\n",
       "\n",
       "d3.json(\"dishGraph.json\", function(error, graph) {\n",
       "  if (error) throw error;\n",
       "\n",
       "  var link = svg.append(\"g\")\n",
       "      .attr(\"class\", \"links\")\n",
       "    .selectAll(\"line\")\n",
       "    .data(graph.links)\n",
       "    .enter().append(\"line\")\n",
       "      .attr(\"stroke-width\", function(d) { return Math.sqrt(d.value); });\n",
       "\n",
       "// Define the div for the tooltip\n",
       "var div = d3.select(\"body\").append(\"div\")\n",
       "    .attr(\"class\", \"tooltip\")\n",
       "    .style(\"opacity\", 0);\n",
       "\n",
       "  var node = svg.append(\"g\")\n",
       "      .attr(\"class\", \"nodes\")\n",
       "    .selectAll(\"circle\")\n",
       "    .data(graph.nodes)\n",
       "    .enter().append(\"circle\")\n",
       "      .attr(\"r\", function(d) {return d.size})\n",
       "      .attr(\"fill\", function(d) { return color(d.group); })\n",
       "      .call(d3.drag()\n",
       "          .on(\"start\", dragstarted)\n",
       "          .on(\"drag\", dragged)\n",
       "          .on(\"end\", dragended)).on(\"mouseover\", function(d) {\n",
       "            div.transition()\n",
       "                .duration(200)\n",
       "                .style(\"opacity\", .9);\n",
       "            div.html(d.id )\n",
       "                .style(\"left\", (d3.event.pageX) + \"px\")\n",
       "                .style(\"top\", (d3.event.pageY - 28) + \"px\");\n",
       "            })\n",
       "        .on(\"mouseout\", function(d) {\n",
       "            div.transition()\n",
       "                .duration(500)\n",
       "                .style(\"opacity\", 0);\n",
       "        });\n",
       "\n",
       "\n",
       "  //node.append(\"title\")\n",
       "   // .text(function(d) { return d.id; });\n",
       "\n",
       "  simulation\n",
       "      .nodes(graph.nodes)\n",
       "      .on(\"tick\", ticked);\n",
       "\n",
       "\n",
       "  simulation.force(\"link\")\n",
       "      .links(graph.links);\n",
       "\n",
       "  function ticked() {\n",
       "    link\n",
       "        .attr(\"x1\", function(d) { return d.source.x; })\n",
       "        .attr(\"y1\", function(d) { return d.source.y; })\n",
       "        .attr(\"x2\", function(d) { return d.target.x; })\n",
       "        .attr(\"y2\", function(d) { return d.target.y; });\n",
       "\n",
       "    node\n",
       "        .attr(\"cx\", function(d) { return d.x; })\n",
       "        .attr(\"cy\", function(d) { return d.y; });\n",
       "  }\n",
       "});\n",
       "\n",
       "function dragstarted(d) {\n",
       "  if (!d3.event.active) simulation.alphaTarget(0.3).restart();\n",
       "  d.fx = d.x;\n",
       "  d.fy = d.y;\n",
       "}\n",
       "\n",
       "function dragged(d) {\n",
       "  d.fx = d3.event.x;\n",
       "  d.fy = d3.event.y;\n",
       "}\n",
       "\n",
       "function dragended(d) {\n",
       "  if (!d3.event.active) simulation.alphaTarget(0);\n",
       "  d.fx = null;\n",
       "  d.fy = null;\n",
       "}\n",
       " });\n"
      ]
     },
     "metadata": {},
     "output_type": "display_data"
    }
   ],
   "source": [
    "createDishGraph('Pizza', dfTemp)\n",
    "h = display(HTML(htmlDishGraph))\n",
    "j = IPython.display.Javascript(jsDishGraph)\n",
    "IPython.display.display_javascript(j)"
   ]
  },
  {
   "cell_type": "markdown",
   "metadata": {},
   "source": [
    "## *3. Scatter Plot*\n",
    "\n",
    "Let's visualise location wise top rated restaurants. Graph is interactive, hovering on nodes will show more details. Clicking on legend will filter the data in the graph. Size of the bubble represents the vote count for the restaurant."
   ]
  },
  {
   "cell_type": "code",
   "execution_count": 32,
   "metadata": {
    "colab": {
     "base_uri": "https://localhost:8080/",
     "height": 542
    },
    "id": "L95Mube1cCG8",
    "outputId": "c5cc3493-fd5e-40fb-d3e5-31997bc89581"
   },
   "outputs": [
    {
     "data": {
      "application/vnd.plotly.v1+json": {
       "config": {
        "linkText": "Export to plot.ly",
        "plotlyServerURL": "https://plot.ly",
        "showLink": false
       },
       "data": [
        {
         "hoverinfo": "text",
         "marker": {
          "size": [
           42273,
           2085,
           79854,
           16063,
           136485,
           24304,
           220509,
           262,
           1947,
           64931,
           1159,
           762,
           18084,
           3336,
           70435,
           6854,
           57631,
           8244,
           668,
           4407,
           246,
           2090,
           10523,
           8624,
           28843,
           6539,
           29912,
           8851,
           11987,
           27172,
           945,
           3934,
           922,
           412,
           22744,
           60,
           18498,
           9865,
           395,
           1486,
           56999,
           8925,
           78609,
           2594,
           16042,
           25295,
           17158,
           23950,
           172470,
           40881,
           6535,
           1709,
           1330,
           1690,
           3534,
           2212,
           1152,
           4453,
           2193,
           18827,
           44904,
           13099,
           5045,
           9704,
           30050,
           152,
           1572,
           3169,
           385,
           985,
           5617,
           250,
           1742,
           576,
           2472,
           434,
           1480,
           16153,
           154,
           4184,
           22796,
           26857,
           22451,
           26469,
           3577,
           1106,
           4812,
           730,
           27568,
           11878,
           29444,
           83179,
           15321,
           46337,
           35148,
           71149,
           17121,
           1077,
           9418,
           8043
          ],
          "sizemode": "area",
          "sizeref": 100
         },
         "mode": "markers",
         "opacity": 0.8,
         "text": [
          "Asia Kitchen By Mainland China",
          "Belgian Waffle Factory",
          "House Of Commons",
          "ECHOES Koramangala",
          "The Black Pearl",
          "Chianti",
          "Truffles",
          "Kurtoskalacs",
          "Corner House Ice Cream",
          "The Boozy Griffin",
          "Kurtoskalacs",
          "eat.fit",
          "The Reservoire",
          "XO Belgian Waffle",
          "Gilly's Restobar",
          "Big Wong XL",
          "Dyu Art Cafe",
          "Market Table",
          "99 Pancakes",
          "Chinita Real Mexican Food",
          "SantÃÂÃÂÃÂÃÂÃÂÃÂÃÂÃÂÃÂÃÂÃÂÃÂÃÂÃÂÃÂÃÂ© Spa Cuisine",
          "Milano Ice Cream",
          "The Pizza Bakery",
          "Corner House Ice Cream",
          "Barbeque Nation",
          "Burma Burma",
          "Toit",
          "Chianti",
          "Smoor",
          "Smoke House Deli",
          "Natural Ice Cream",
          "Truffles",
          "Natural Ice Cream",
          "Apsara Ice Cream",
          "The Fatty Bao - Asian Gastro Bar",
          "Pot-O-Noodles",
          "Tipsy Bull - The Bar Exchange",
          "Pasta Street",
          "Monet's Bistro",
          "Bologna",
          "The Hole in the Wall Cafe",
          "The Terrace at Gilly's Redefined",
          "Prost Brew Pub",
          "Pasta Street",
          "Myu Bar at Gilly's Redefined",
          "Hanoi - Vietnamese Cuisine",
          "Third Wave Coffee Roasters",
          "Nasi And Mee",
          "Onesta",
          "Sotally Tober",
          "Enerjuvate Studio & Cafe",
          "Occasions",
          "Pot-O-Noodles",
          "Zero Kelvin",
          "Stoked!",
          "The Fixx",
          "The Paratha Company",
          "Snow'ora",
          "Qube Cafe",
          "The Beer Cafe",
          "AB's - Absolute Barbecues",
          "eat.fit",
          "XO Belgian Waffle",
          "Pin Me Down",
          "Mudpipe Cafe",
          "The Biryani Story",
          "The Globe Grub",
          "Jose's Mess",
          "BOX8- Desi Meals",
          "Mojo Pizza - 2X Toppings",
          "Muthashy's",
          "Tempteys",
          "Tempteys",
          "Drunken Monkey",
          "Cucumber Town",
          "Amma's Pastries",
          "Polamma's Mess",
          "Punjabi by Nature 2.0",
          "A2B - Adyar Ananda Bhavan",
          "Litti Twist",
          "Brik Oven",
          "Mainland China",
          "Oh! Calcutta",
          "Matteo Coffea",
          "Qissa Khawani",
          "IceBreakers",
          "Somilan Steak House",
          "IceBreakers",
          "Hoppipola",
          "Little Green Cafe",
          "Easy Tiger",
          "Church Street Social",
          "BLOW",
          "Smally's Resto Cafe",
          "The Only Place",
          "Chutney Chang",
          "Russh Gastropub",
          "Carnatic",
          "Anupam's Coast II Coast",
          "Wolf'ish"
         ],
         "transforms": [
          {
           "groups": [
            "Koramangala 5th Block",
            "Koramangala 5th Block",
            "Koramangala 5th Block",
            "Koramangala 5th Block",
            "Koramangala 5th Block",
            "Koramangala 5th Block",
            "Koramangala 5th Block",
            "Koramangala 5th Block",
            "Koramangala 5th Block",
            "Koramangala 5th Block",
            "Koramangala 5th Block",
            "Koramangala 5th Block",
            "Koramangala 5th Block",
            "Koramangala 5th Block",
            "Koramangala 5th Block",
            "Koramangala 5th Block",
            "Koramangala 5th Block",
            "Koramangala 5th Block",
            "Koramangala 5th Block",
            "Koramangala 5th Block",
            "Indiranagar",
            "Indiranagar",
            "Indiranagar",
            "Indiranagar",
            "Indiranagar",
            "Indiranagar",
            "Indiranagar",
            "Indiranagar",
            "Indiranagar",
            "Indiranagar",
            "Indiranagar",
            "Indiranagar",
            "Indiranagar",
            "Indiranagar",
            "Indiranagar",
            "Indiranagar",
            "Indiranagar",
            "Indiranagar",
            "Indiranagar",
            "Indiranagar",
            "Koramangala 4th Block",
            "Koramangala 4th Block",
            "Koramangala 4th Block",
            "Koramangala 4th Block",
            "Koramangala 4th Block",
            "Koramangala 4th Block",
            "Koramangala 4th Block",
            "Koramangala 4th Block",
            "Koramangala 4th Block",
            "Koramangala 4th Block",
            "Koramangala 4th Block",
            "Koramangala 4th Block",
            "Koramangala 4th Block",
            "Koramangala 4th Block",
            "Koramangala 4th Block",
            "Koramangala 4th Block",
            "Koramangala 4th Block",
            "Koramangala 4th Block",
            "Koramangala 4th Block",
            "Koramangala 4th Block",
            "BTM",
            "BTM",
            "BTM",
            "BTM",
            "BTM",
            "BTM",
            "BTM",
            "BTM",
            "BTM",
            "BTM",
            "BTM",
            "BTM",
            "BTM",
            "BTM",
            "BTM",
            "BTM",
            "BTM",
            "BTM",
            "BTM",
            "BTM",
            "Church Street",
            "Church Street",
            "Church Street",
            "Church Street",
            "Church Street",
            "Church Street",
            "Church Street",
            "Church Street",
            "Church Street",
            "Church Street",
            "Church Street",
            "Church Street",
            "Church Street",
            "Church Street",
            "Church Street",
            "Church Street",
            "Church Street",
            "Church Street",
            "Church Street",
            "Church Street"
           ],
           "styles": [
            {
             "target": [
              "Koramangala 5th Block"
             ],
             "value": {
              "marker": {
               "color": "blue"
              }
             }
            },
            {
             "target": [
              "Koramangala 5th Block"
             ],
             "value": {
              "marker": {
               "color": "orange"
              }
             }
            },
            {
             "target": [
              "Koramangala 5th Block"
             ],
             "value": {
              "marker": {
               "color": "green"
              }
             }
            },
            {
             "target": [
              "Koramangala 5th Block"
             ],
             "value": {
              "marker": {
               "color": "red"
              }
             }
            },
            {
             "target": [
              "Koramangala 5th Block"
             ],
             "value": {
              "marker": {
               "color": "purple"
              }
             }
            }
           ],
           "type": "groupby"
          }
         ],
         "type": "scatter",
         "x": [
          "1,500",
          "400",
          "1,000",
          "750",
          "1,400",
          "1,500",
          "900",
          "350",
          "400",
          "1,800",
          "400",
          "500",
          "1,300",
          "400",
          "1,000",
          "1,400",
          "800",
          "900",
          "500",
          "1,200",
          "1,000",
          "400",
          "1,200",
          "400",
          "1,600",
          "1,500",
          "1,500",
          "1,500",
          "900",
          "1,600",
          "200",
          "900",
          "150",
          "200",
          "1,200",
          "800",
          "1,400",
          "1,300",
          "600",
          "1,000",
          "600",
          "1,400",
          "1,800",
          "1,300",
          "1,200",
          "1,000",
          "800",
          "1,000",
          "600",
          "1,200",
          "800",
          "400",
          "800",
          "450",
          "850",
          "1,200",
          "400",
          "450",
          "700",
          "1,300",
          "1,600",
          "500",
          "400",
          "800",
          "900",
          "600",
          "1,300",
          "300",
          "500",
          "600",
          "400",
          "300",
          "500",
          "400",
          "600",
          "400",
          "300",
          "1,600",
          "200",
          "300",
          "1,100",
          "1,700",
          "1,200",
          "600",
          "800",
          "500",
          "800",
          "400",
          "1,300",
          "900",
          "1,100",
          "1,500",
          "750",
          "650",
          "1,000",
          "1,500",
          "1,100",
          "1,000",
          "1,400",
          "700"
         ],
         "y": [
          4.9,
          4.81,
          4.73,
          4.7,
          4.7,
          4.7,
          4.7,
          4.7,
          4.6,
          4.6,
          4.6,
          4.58,
          4.56,
          4.55,
          4.5,
          4.5,
          4.5,
          4.5,
          4.5,
          4.5,
          4.9,
          4.9,
          4.8,
          4.7,
          4.7,
          4.7,
          4.7,
          4.65,
          4.6,
          4.6,
          4.6,
          4.6,
          4.6,
          4.6,
          4.6,
          4.5,
          4.5,
          4.5,
          4.5,
          4.5,
          4.6,
          4.56,
          4.5,
          4.5,
          4.45,
          4.4,
          4.4,
          4.4,
          4.4,
          4.4,
          4.4,
          4.3,
          4.3,
          4.3,
          4.3,
          4.3,
          4.3,
          4.3,
          4.2,
          4.2,
          4.9,
          4.52,
          4.5,
          4.5,
          4.5,
          4.4,
          4.4,
          4.34,
          4.3,
          4.3,
          4.2,
          4.2,
          4.2,
          4.2,
          4.2,
          4.2,
          4.2,
          4.2,
          4.2,
          4.19,
          4.6,
          4.5,
          4.43,
          4.39,
          4.35,
          4.3,
          4.3,
          4.3,
          4.3,
          4.3,
          4.3,
          4.3,
          4.28,
          4.24,
          4.2,
          4.2,
          4.2,
          4.18,
          4.16,
          4.11
         ]
        }
       ],
       "layout": {
        "title": "<b>Location wise top rated restaurants</b>",
        "xaxis": {
         "title": "Approx cost for two people"
        },
        "yaxis": {
         "title": "Ratings"
        }
       }
      },
      "text/html": [
       "<div>                            <div id=\"df8ff3df-4c89-4782-8312-1178271d3bb7\" class=\"plotly-graph-div\" style=\"height:525px; width:100%;\"></div>            <script type=\"text/javascript\">                require([\"plotly\"], function(Plotly) {                    window.PLOTLYENV=window.PLOTLYENV || {};                                    if (document.getElementById(\"df8ff3df-4c89-4782-8312-1178271d3bb7\")) {                    Plotly.newPlot(                        \"df8ff3df-4c89-4782-8312-1178271d3bb7\",                        [{\"type\":\"scatter\",\"mode\":\"markers\",\"x\":[\"1,500\",\"400\",\"1,000\",\"750\",\"1,400\",\"1,500\",\"900\",\"350\",\"400\",\"1,800\",\"400\",\"500\",\"1,300\",\"400\",\"1,000\",\"1,400\",\"800\",\"900\",\"500\",\"1,200\",\"1,000\",\"400\",\"1,200\",\"400\",\"1,600\",\"1,500\",\"1,500\",\"1,500\",\"900\",\"1,600\",\"200\",\"900\",\"150\",\"200\",\"1,200\",\"800\",\"1,400\",\"1,300\",\"600\",\"1,000\",\"600\",\"1,400\",\"1,800\",\"1,300\",\"1,200\",\"1,000\",\"800\",\"1,000\",\"600\",\"1,200\",\"800\",\"400\",\"800\",\"450\",\"850\",\"1,200\",\"400\",\"450\",\"700\",\"1,300\",\"1,600\",\"500\",\"400\",\"800\",\"900\",\"600\",\"1,300\",\"300\",\"500\",\"600\",\"400\",\"300\",\"500\",\"400\",\"600\",\"400\",\"300\",\"1,600\",\"200\",\"300\",\"1,100\",\"1,700\",\"1,200\",\"600\",\"800\",\"500\",\"800\",\"400\",\"1,300\",\"900\",\"1,100\",\"1,500\",\"750\",\"650\",\"1,000\",\"1,500\",\"1,100\",\"1,000\",\"1,400\",\"700\"],\"y\":[4.9,4.81,4.73,4.7,4.7,4.7,4.7,4.7,4.6,4.6,4.6,4.58,4.56,4.55,4.5,4.5,4.5,4.5,4.5,4.5,4.9,4.9,4.8,4.7,4.7,4.7,4.7,4.65,4.6,4.6,4.6,4.6,4.6,4.6,4.6,4.5,4.5,4.5,4.5,4.5,4.6,4.56,4.5,4.5,4.45,4.4,4.4,4.4,4.4,4.4,4.4,4.3,4.3,4.3,4.3,4.3,4.3,4.3,4.2,4.2,4.9,4.52,4.5,4.5,4.5,4.4,4.4,4.34,4.3,4.3,4.2,4.2,4.2,4.2,4.2,4.2,4.2,4.2,4.2,4.19,4.6,4.5,4.43,4.39,4.35,4.3,4.3,4.3,4.3,4.3,4.3,4.3,4.28,4.24,4.2,4.2,4.2,4.18,4.16,4.11],\"text\":[\"Asia Kitchen By Mainland China\",\"Belgian Waffle Factory\",\"House Of Commons\",\"ECHOES Koramangala\",\"The Black Pearl\",\"Chianti\",\"Truffles\",\"Kurtoskalacs\",\"Corner House Ice Cream\",\"The Boozy Griffin\",\"Kurtoskalacs\",\"eat.fit\",\"The Reservoire\",\"XO Belgian Waffle\",\"Gilly's Restobar\",\"Big Wong XL\",\"Dyu Art Cafe\",\"Market Table\",\"99 Pancakes\",\"Chinita Real Mexican Food\",\"Sant\\u00c3\\u0083\\u00c2\\u0083\\u00c3\\u0082\\u00c2\\u0083\\u00c3\\u0083\\u00c2\\u0082\\u00c3\\u0082\\u00c2\\u0083\\u00c3\\u0083\\u00c2\\u0083\\u00c3\\u0082\\u00c2\\u0082\\u00c3\\u0083\\u00c2\\u0082\\u00c3\\u0082\\u00c2\\u0083\\u00c3\\u0083\\u00c2\\u0083\\u00c3\\u0082\\u00c2\\u0083\\u00c3\\u0083\\u00c2\\u0082\\u00c3\\u0082\\u00c2\\u0082\\u00c3\\u0083\\u00c2\\u0083\\u00c3\\u0082\\u00c2\\u0082\\u00c3\\u0083\\u00c2\\u0082\\u00c3\\u0082\\u00c2\\u00a9 Spa Cuisine\",\"Milano Ice Cream\",\"The Pizza Bakery\",\"Corner House Ice Cream\",\"Barbeque Nation\",\"Burma Burma\",\"Toit\",\"Chianti\",\"Smoor\",\"Smoke House Deli\",\"Natural Ice Cream\",\"Truffles\",\"Natural Ice Cream\",\"Apsara Ice Cream\",\"The Fatty Bao - Asian Gastro Bar\",\"Pot-O-Noodles\",\"Tipsy Bull - The Bar Exchange\",\"Pasta Street\",\"Monet's Bistro\",\"Bologna\",\"The Hole in the Wall Cafe\",\"The Terrace at Gilly's Redefined\",\"Prost Brew Pub\",\"Pasta Street\",\"Myu Bar at Gilly's Redefined\",\"Hanoi - Vietnamese Cuisine\",\"Third Wave Coffee Roasters\",\"Nasi And Mee\",\"Onesta\",\"Sotally Tober\",\"Enerjuvate Studio & Cafe\",\"Occasions\",\"Pot-O-Noodles\",\"Zero Kelvin\",\"Stoked!\",\"The Fixx\",\"The Paratha Company\",\"Snow'ora\",\"Qube Cafe\",\"The Beer Cafe\",\"AB's - Absolute Barbecues\",\"eat.fit\",\"XO Belgian Waffle\",\"Pin Me Down\",\"Mudpipe Cafe\",\"The Biryani Story\",\"The Globe Grub\",\"Jose's Mess\",\"BOX8- Desi Meals\",\"Mojo Pizza - 2X Toppings\",\"Muthashy's\",\"Tempteys\",\"Tempteys\",\"Drunken Monkey\",\"Cucumber Town\",\"Amma's Pastries\",\"Polamma's Mess\",\"Punjabi by Nature 2.0\",\"A2B - Adyar Ananda Bhavan\",\"Litti Twist\",\"Brik Oven\",\"Mainland China\",\"Oh! Calcutta\",\"Matteo Coffea\",\"Qissa Khawani\",\"IceBreakers\",\"Somilan Steak House\",\"IceBreakers\",\"Hoppipola\",\"Little Green Cafe\",\"Easy Tiger\",\"Church Street Social\",\"BLOW\",\"Smally's Resto Cafe\",\"The Only Place\",\"Chutney Chang\",\"Russh Gastropub\",\"Carnatic\",\"Anupam's Coast II Coast\",\"Wolf'ish\"],\"hoverinfo\":\"text\",\"opacity\":0.8,\"marker\":{\"size\":[42273,2085,79854,16063,136485,24304,220509,262,1947,64931,1159,762,18084,3336,70435,6854,57631,8244,668,4407,246,2090,10523,8624,28843,6539,29912,8851,11987,27172,945,3934,922,412,22744,60,18498,9865,395,1486,56999,8925,78609,2594,16042,25295,17158,23950,172470,40881,6535,1709,1330,1690,3534,2212,1152,4453,2193,18827,44904,13099,5045,9704,30050,152,1572,3169,385,985,5617,250,1742,576,2472,434,1480,16153,154,4184,22796,26857,22451,26469,3577,1106,4812,730,27568,11878,29444,83179,15321,46337,35148,71149,17121,1077,9418,8043],\"sizemode\":\"area\",\"sizeref\":100},\"transforms\":[{\"type\":\"groupby\",\"groups\":[\"Koramangala 5th Block\",\"Koramangala 5th Block\",\"Koramangala 5th Block\",\"Koramangala 5th Block\",\"Koramangala 5th Block\",\"Koramangala 5th Block\",\"Koramangala 5th Block\",\"Koramangala 5th Block\",\"Koramangala 5th Block\",\"Koramangala 5th Block\",\"Koramangala 5th Block\",\"Koramangala 5th Block\",\"Koramangala 5th Block\",\"Koramangala 5th Block\",\"Koramangala 5th Block\",\"Koramangala 5th Block\",\"Koramangala 5th Block\",\"Koramangala 5th Block\",\"Koramangala 5th Block\",\"Koramangala 5th Block\",\"Indiranagar\",\"Indiranagar\",\"Indiranagar\",\"Indiranagar\",\"Indiranagar\",\"Indiranagar\",\"Indiranagar\",\"Indiranagar\",\"Indiranagar\",\"Indiranagar\",\"Indiranagar\",\"Indiranagar\",\"Indiranagar\",\"Indiranagar\",\"Indiranagar\",\"Indiranagar\",\"Indiranagar\",\"Indiranagar\",\"Indiranagar\",\"Indiranagar\",\"Koramangala 4th Block\",\"Koramangala 4th Block\",\"Koramangala 4th Block\",\"Koramangala 4th Block\",\"Koramangala 4th Block\",\"Koramangala 4th Block\",\"Koramangala 4th Block\",\"Koramangala 4th Block\",\"Koramangala 4th Block\",\"Koramangala 4th Block\",\"Koramangala 4th Block\",\"Koramangala 4th Block\",\"Koramangala 4th Block\",\"Koramangala 4th Block\",\"Koramangala 4th Block\",\"Koramangala 4th Block\",\"Koramangala 4th Block\",\"Koramangala 4th Block\",\"Koramangala 4th Block\",\"Koramangala 4th Block\",\"BTM\",\"BTM\",\"BTM\",\"BTM\",\"BTM\",\"BTM\",\"BTM\",\"BTM\",\"BTM\",\"BTM\",\"BTM\",\"BTM\",\"BTM\",\"BTM\",\"BTM\",\"BTM\",\"BTM\",\"BTM\",\"BTM\",\"BTM\",\"Church Street\",\"Church Street\",\"Church Street\",\"Church Street\",\"Church Street\",\"Church Street\",\"Church Street\",\"Church Street\",\"Church Street\",\"Church Street\",\"Church Street\",\"Church Street\",\"Church Street\",\"Church Street\",\"Church Street\",\"Church Street\",\"Church Street\",\"Church Street\",\"Church Street\",\"Church Street\"],\"styles\":[{\"target\":[\"Koramangala 5th Block\"],\"value\":{\"marker\":{\"color\":\"blue\"}}},{\"target\":[\"Koramangala 5th Block\"],\"value\":{\"marker\":{\"color\":\"orange\"}}},{\"target\":[\"Koramangala 5th Block\"],\"value\":{\"marker\":{\"color\":\"green\"}}},{\"target\":[\"Koramangala 5th Block\"],\"value\":{\"marker\":{\"color\":\"red\"}}},{\"target\":[\"Koramangala 5th Block\"],\"value\":{\"marker\":{\"color\":\"purple\"}}}]}]}],                        {\"title\":\"<b>Location wise top rated restaurants</b>\",\"yaxis\":{\"title\":\"Ratings\"},\"xaxis\":{\"title\":\"Approx cost for two people\"}},                        {\"responsive\": true}                    ).then(function(){\n",
       "                            \n",
       "var gd = document.getElementById('df8ff3df-4c89-4782-8312-1178271d3bb7');\n",
       "var x = new MutationObserver(function (mutations, observer) {{\n",
       "        var display = window.getComputedStyle(gd).display;\n",
       "        if (!display || display === 'none') {{\n",
       "            console.log([gd, 'removed!']);\n",
       "            Plotly.purge(gd);\n",
       "            observer.disconnect();\n",
       "        }}\n",
       "}});\n",
       "\n",
       "// Listen for the removal of the full notebook cells\n",
       "var notebookContainer = gd.closest('#notebook-container');\n",
       "if (notebookContainer) {{\n",
       "    x.observe(notebookContainer, {childList: true});\n",
       "}}\n",
       "\n",
       "// Listen for the clearing of the current output cell\n",
       "var outputEl = gd.closest('.output');\n",
       "if (outputEl) {{\n",
       "    x.observe(outputEl, {childList: true});\n",
       "}}\n",
       "\n",
       "                        })                };                });            </script>        </div>"
      ]
     },
     "metadata": {},
     "output_type": "display_data"
    }
   ],
   "source": [
    "temp = getLocationWiseActiveRestaurants(restaurants, 5, 20).reset_index()\n",
    "#temp.head()\n",
    "\n",
    "colors = ['blue', 'orange', 'green', 'red', 'purple']\n",
    "\n",
    "opt = []\n",
    "opts = []\n",
    "for i in range(0, len(colors)):\n",
    "    opt = dict(\n",
    "        target = temp['location'][[i]].unique(), value = dict(marker = dict(color = colors[i]))\n",
    "    )\n",
    "    opts.append(opt)\n",
    "\n",
    "data = [dict(\n",
    "  type = 'scatter',\n",
    "  mode = 'markers',\n",
    "  x = temp['approx_cost(for two people)'],\n",
    "  y = temp['ratings'],\n",
    "  text = temp['name'],\n",
    "  hoverinfo = 'text',\n",
    "  opacity = 0.8,\n",
    "  marker = dict(\n",
    "      size = temp['votes'],\n",
    "      sizemode = 'area',\n",
    "      sizeref = 100\n",
    "  ),\n",
    "  transforms = [\n",
    "      dict(\n",
    "        type = 'groupby',\n",
    "        groups = temp['location'],\n",
    "        styles = opts\n",
    "    )]\n",
    ")]\n",
    "\n",
    "layout = dict(\n",
    "    title = '<b>Location wise top rated restaurants</b>',\n",
    "    yaxis = dict(\n",
    "        title='Ratings'\n",
    "        #type = 'log'\n",
    "    ),\n",
    "    xaxis = dict(\n",
    "        title='Approx cost for two people'\n",
    "    )\n",
    ")\n",
    "\n",
    "\n",
    "iplot({'data': data, 'layout': layout}, validate=False)"
   ]
  },
  {
   "cell_type": "markdown",
   "metadata": {},
   "source": [
    "## *4.Top served cuisines in Bangalore*"
   ]
  },
  {
   "cell_type": "code",
   "execution_count": 34,
   "metadata": {
    "colab": {
     "base_uri": "https://localhost:8080/",
     "height": 542
    },
    "id": "ySNU5UtHcHyw",
    "outputId": "e7c35eea-9c1b-476e-8130-871849c5ec23"
   },
   "outputs": [
    {
     "data": {
      "application/vnd.plotly.v1+json": {
       "config": {
        "linkText": "Export to plot.ly",
        "plotlyServerURL": "https://plot.ly",
        "showLink": false
       },
       "data": [
        {
         "type": "bar",
         "x": [
          "North Indian",
          "Chinese",
          "South Indian",
          "Fast Food",
          "Biryani",
          "Continental",
          "Beverages",
          "Desserts",
          "Cafe",
          "Street Food",
          "Bakery",
          "Italian",
          "Andhra",
          "Seafood",
          "Mughlai",
          "Rolls",
          "Kerala"
         ],
         "y": [
          4377,
          3268,
          2171,
          1578,
          1393,
          857,
          821,
          784,
          631,
          562,
          474,
          459,
          420,
          335,
          319,
          298,
          298
         ]
        }
       ],
       "layout": {
        "template": {
         "data": {
          "bar": [
           {
            "error_x": {
             "color": "#2a3f5f"
            },
            "error_y": {
             "color": "#2a3f5f"
            },
            "marker": {
             "line": {
              "color": "#E5ECF6",
              "width": 0.5
             },
             "pattern": {
              "fillmode": "overlay",
              "size": 10,
              "solidity": 0.2
             }
            },
            "type": "bar"
           }
          ],
          "barpolar": [
           {
            "marker": {
             "line": {
              "color": "#E5ECF6",
              "width": 0.5
             },
             "pattern": {
              "fillmode": "overlay",
              "size": 10,
              "solidity": 0.2
             }
            },
            "type": "barpolar"
           }
          ],
          "carpet": [
           {
            "aaxis": {
             "endlinecolor": "#2a3f5f",
             "gridcolor": "white",
             "linecolor": "white",
             "minorgridcolor": "white",
             "startlinecolor": "#2a3f5f"
            },
            "baxis": {
             "endlinecolor": "#2a3f5f",
             "gridcolor": "white",
             "linecolor": "white",
             "minorgridcolor": "white",
             "startlinecolor": "#2a3f5f"
            },
            "type": "carpet"
           }
          ],
          "choropleth": [
           {
            "colorbar": {
             "outlinewidth": 0,
             "ticks": ""
            },
            "type": "choropleth"
           }
          ],
          "contour": [
           {
            "colorbar": {
             "outlinewidth": 0,
             "ticks": ""
            },
            "colorscale": [
             [
              0,
              "#0d0887"
             ],
             [
              0.1111111111111111,
              "#46039f"
             ],
             [
              0.2222222222222222,
              "#7201a8"
             ],
             [
              0.3333333333333333,
              "#9c179e"
             ],
             [
              0.4444444444444444,
              "#bd3786"
             ],
             [
              0.5555555555555556,
              "#d8576b"
             ],
             [
              0.6666666666666666,
              "#ed7953"
             ],
             [
              0.7777777777777778,
              "#fb9f3a"
             ],
             [
              0.8888888888888888,
              "#fdca26"
             ],
             [
              1,
              "#f0f921"
             ]
            ],
            "type": "contour"
           }
          ],
          "contourcarpet": [
           {
            "colorbar": {
             "outlinewidth": 0,
             "ticks": ""
            },
            "type": "contourcarpet"
           }
          ],
          "heatmap": [
           {
            "colorbar": {
             "outlinewidth": 0,
             "ticks": ""
            },
            "colorscale": [
             [
              0,
              "#0d0887"
             ],
             [
              0.1111111111111111,
              "#46039f"
             ],
             [
              0.2222222222222222,
              "#7201a8"
             ],
             [
              0.3333333333333333,
              "#9c179e"
             ],
             [
              0.4444444444444444,
              "#bd3786"
             ],
             [
              0.5555555555555556,
              "#d8576b"
             ],
             [
              0.6666666666666666,
              "#ed7953"
             ],
             [
              0.7777777777777778,
              "#fb9f3a"
             ],
             [
              0.8888888888888888,
              "#fdca26"
             ],
             [
              1,
              "#f0f921"
             ]
            ],
            "type": "heatmap"
           }
          ],
          "heatmapgl": [
           {
            "colorbar": {
             "outlinewidth": 0,
             "ticks": ""
            },
            "colorscale": [
             [
              0,
              "#0d0887"
             ],
             [
              0.1111111111111111,
              "#46039f"
             ],
             [
              0.2222222222222222,
              "#7201a8"
             ],
             [
              0.3333333333333333,
              "#9c179e"
             ],
             [
              0.4444444444444444,
              "#bd3786"
             ],
             [
              0.5555555555555556,
              "#d8576b"
             ],
             [
              0.6666666666666666,
              "#ed7953"
             ],
             [
              0.7777777777777778,
              "#fb9f3a"
             ],
             [
              0.8888888888888888,
              "#fdca26"
             ],
             [
              1,
              "#f0f921"
             ]
            ],
            "type": "heatmapgl"
           }
          ],
          "histogram": [
           {
            "marker": {
             "pattern": {
              "fillmode": "overlay",
              "size": 10,
              "solidity": 0.2
             }
            },
            "type": "histogram"
           }
          ],
          "histogram2d": [
           {
            "colorbar": {
             "outlinewidth": 0,
             "ticks": ""
            },
            "colorscale": [
             [
              0,
              "#0d0887"
             ],
             [
              0.1111111111111111,
              "#46039f"
             ],
             [
              0.2222222222222222,
              "#7201a8"
             ],
             [
              0.3333333333333333,
              "#9c179e"
             ],
             [
              0.4444444444444444,
              "#bd3786"
             ],
             [
              0.5555555555555556,
              "#d8576b"
             ],
             [
              0.6666666666666666,
              "#ed7953"
             ],
             [
              0.7777777777777778,
              "#fb9f3a"
             ],
             [
              0.8888888888888888,
              "#fdca26"
             ],
             [
              1,
              "#f0f921"
             ]
            ],
            "type": "histogram2d"
           }
          ],
          "histogram2dcontour": [
           {
            "colorbar": {
             "outlinewidth": 0,
             "ticks": ""
            },
            "colorscale": [
             [
              0,
              "#0d0887"
             ],
             [
              0.1111111111111111,
              "#46039f"
             ],
             [
              0.2222222222222222,
              "#7201a8"
             ],
             [
              0.3333333333333333,
              "#9c179e"
             ],
             [
              0.4444444444444444,
              "#bd3786"
             ],
             [
              0.5555555555555556,
              "#d8576b"
             ],
             [
              0.6666666666666666,
              "#ed7953"
             ],
             [
              0.7777777777777778,
              "#fb9f3a"
             ],
             [
              0.8888888888888888,
              "#fdca26"
             ],
             [
              1,
              "#f0f921"
             ]
            ],
            "type": "histogram2dcontour"
           }
          ],
          "mesh3d": [
           {
            "colorbar": {
             "outlinewidth": 0,
             "ticks": ""
            },
            "type": "mesh3d"
           }
          ],
          "parcoords": [
           {
            "line": {
             "colorbar": {
              "outlinewidth": 0,
              "ticks": ""
             }
            },
            "type": "parcoords"
           }
          ],
          "pie": [
           {
            "automargin": true,
            "type": "pie"
           }
          ],
          "scatter": [
           {
            "fillpattern": {
             "fillmode": "overlay",
             "size": 10,
             "solidity": 0.2
            },
            "type": "scatter"
           }
          ],
          "scatter3d": [
           {
            "line": {
             "colorbar": {
              "outlinewidth": 0,
              "ticks": ""
             }
            },
            "marker": {
             "colorbar": {
              "outlinewidth": 0,
              "ticks": ""
             }
            },
            "type": "scatter3d"
           }
          ],
          "scattercarpet": [
           {
            "marker": {
             "colorbar": {
              "outlinewidth": 0,
              "ticks": ""
             }
            },
            "type": "scattercarpet"
           }
          ],
          "scattergeo": [
           {
            "marker": {
             "colorbar": {
              "outlinewidth": 0,
              "ticks": ""
             }
            },
            "type": "scattergeo"
           }
          ],
          "scattergl": [
           {
            "marker": {
             "colorbar": {
              "outlinewidth": 0,
              "ticks": ""
             }
            },
            "type": "scattergl"
           }
          ],
          "scattermapbox": [
           {
            "marker": {
             "colorbar": {
              "outlinewidth": 0,
              "ticks": ""
             }
            },
            "type": "scattermapbox"
           }
          ],
          "scatterpolar": [
           {
            "marker": {
             "colorbar": {
              "outlinewidth": 0,
              "ticks": ""
             }
            },
            "type": "scatterpolar"
           }
          ],
          "scatterpolargl": [
           {
            "marker": {
             "colorbar": {
              "outlinewidth": 0,
              "ticks": ""
             }
            },
            "type": "scatterpolargl"
           }
          ],
          "scatterternary": [
           {
            "marker": {
             "colorbar": {
              "outlinewidth": 0,
              "ticks": ""
             }
            },
            "type": "scatterternary"
           }
          ],
          "surface": [
           {
            "colorbar": {
             "outlinewidth": 0,
             "ticks": ""
            },
            "colorscale": [
             [
              0,
              "#0d0887"
             ],
             [
              0.1111111111111111,
              "#46039f"
             ],
             [
              0.2222222222222222,
              "#7201a8"
             ],
             [
              0.3333333333333333,
              "#9c179e"
             ],
             [
              0.4444444444444444,
              "#bd3786"
             ],
             [
              0.5555555555555556,
              "#d8576b"
             ],
             [
              0.6666666666666666,
              "#ed7953"
             ],
             [
              0.7777777777777778,
              "#fb9f3a"
             ],
             [
              0.8888888888888888,
              "#fdca26"
             ],
             [
              1,
              "#f0f921"
             ]
            ],
            "type": "surface"
           }
          ],
          "table": [
           {
            "cells": {
             "fill": {
              "color": "#EBF0F8"
             },
             "line": {
              "color": "white"
             }
            },
            "header": {
             "fill": {
              "color": "#C8D4E3"
             },
             "line": {
              "color": "white"
             }
            },
            "type": "table"
           }
          ]
         },
         "layout": {
          "annotationdefaults": {
           "arrowcolor": "#2a3f5f",
           "arrowhead": 0,
           "arrowwidth": 1
          },
          "autotypenumbers": "strict",
          "coloraxis": {
           "colorbar": {
            "outlinewidth": 0,
            "ticks": ""
           }
          },
          "colorscale": {
           "diverging": [
            [
             0,
             "#8e0152"
            ],
            [
             0.1,
             "#c51b7d"
            ],
            [
             0.2,
             "#de77ae"
            ],
            [
             0.3,
             "#f1b6da"
            ],
            [
             0.4,
             "#fde0ef"
            ],
            [
             0.5,
             "#f7f7f7"
            ],
            [
             0.6,
             "#e6f5d0"
            ],
            [
             0.7,
             "#b8e186"
            ],
            [
             0.8,
             "#7fbc41"
            ],
            [
             0.9,
             "#4d9221"
            ],
            [
             1,
             "#276419"
            ]
           ],
           "sequential": [
            [
             0,
             "#0d0887"
            ],
            [
             0.1111111111111111,
             "#46039f"
            ],
            [
             0.2222222222222222,
             "#7201a8"
            ],
            [
             0.3333333333333333,
             "#9c179e"
            ],
            [
             0.4444444444444444,
             "#bd3786"
            ],
            [
             0.5555555555555556,
             "#d8576b"
            ],
            [
             0.6666666666666666,
             "#ed7953"
            ],
            [
             0.7777777777777778,
             "#fb9f3a"
            ],
            [
             0.8888888888888888,
             "#fdca26"
            ],
            [
             1,
             "#f0f921"
            ]
           ],
           "sequentialminus": [
            [
             0,
             "#0d0887"
            ],
            [
             0.1111111111111111,
             "#46039f"
            ],
            [
             0.2222222222222222,
             "#7201a8"
            ],
            [
             0.3333333333333333,
             "#9c179e"
            ],
            [
             0.4444444444444444,
             "#bd3786"
            ],
            [
             0.5555555555555556,
             "#d8576b"
            ],
            [
             0.6666666666666666,
             "#ed7953"
            ],
            [
             0.7777777777777778,
             "#fb9f3a"
            ],
            [
             0.8888888888888888,
             "#fdca26"
            ],
            [
             1,
             "#f0f921"
            ]
           ]
          },
          "colorway": [
           "#636efa",
           "#EF553B",
           "#00cc96",
           "#ab63fa",
           "#FFA15A",
           "#19d3f3",
           "#FF6692",
           "#B6E880",
           "#FF97FF",
           "#FECB52"
          ],
          "font": {
           "color": "#2a3f5f"
          },
          "geo": {
           "bgcolor": "white",
           "lakecolor": "white",
           "landcolor": "#E5ECF6",
           "showlakes": true,
           "showland": true,
           "subunitcolor": "white"
          },
          "hoverlabel": {
           "align": "left"
          },
          "hovermode": "closest",
          "mapbox": {
           "style": "light"
          },
          "paper_bgcolor": "white",
          "plot_bgcolor": "#E5ECF6",
          "polar": {
           "angularaxis": {
            "gridcolor": "white",
            "linecolor": "white",
            "ticks": ""
           },
           "bgcolor": "#E5ECF6",
           "radialaxis": {
            "gridcolor": "white",
            "linecolor": "white",
            "ticks": ""
           }
          },
          "scene": {
           "xaxis": {
            "backgroundcolor": "#E5ECF6",
            "gridcolor": "white",
            "gridwidth": 2,
            "linecolor": "white",
            "showbackground": true,
            "ticks": "",
            "zerolinecolor": "white"
           },
           "yaxis": {
            "backgroundcolor": "#E5ECF6",
            "gridcolor": "white",
            "gridwidth": 2,
            "linecolor": "white",
            "showbackground": true,
            "ticks": "",
            "zerolinecolor": "white"
           },
           "zaxis": {
            "backgroundcolor": "#E5ECF6",
            "gridcolor": "white",
            "gridwidth": 2,
            "linecolor": "white",
            "showbackground": true,
            "ticks": "",
            "zerolinecolor": "white"
           }
          },
          "shapedefaults": {
           "line": {
            "color": "#2a3f5f"
           }
          },
          "ternary": {
           "aaxis": {
            "gridcolor": "white",
            "linecolor": "white",
            "ticks": ""
           },
           "baxis": {
            "gridcolor": "white",
            "linecolor": "white",
            "ticks": ""
           },
           "bgcolor": "#E5ECF6",
           "caxis": {
            "gridcolor": "white",
            "linecolor": "white",
            "ticks": ""
           }
          },
          "title": {
           "x": 0.05
          },
          "xaxis": {
           "automargin": true,
           "gridcolor": "white",
           "linecolor": "white",
           "ticks": "",
           "title": {
            "standoff": 15
           },
           "zerolinecolor": "white",
           "zerolinewidth": 2
          },
          "yaxis": {
           "automargin": true,
           "gridcolor": "white",
           "linecolor": "white",
           "ticks": "",
           "title": {
            "standoff": 15
           },
           "zerolinecolor": "white",
           "zerolinewidth": 2
          }
         }
        },
        "title": {
         "text": "Most popular cuisines in Bangalore"
        },
        "xaxis": {
         "tickangle": -45
        },
        "yaxis": {
         "title": {
          "text": "Number of restaurants"
         }
        }
       }
      },
      "text/html": [
       "<div>                            <div id=\"d7f1d27b-bf7c-40dc-874b-82b6f0c3ab96\" class=\"plotly-graph-div\" style=\"height:525px; width:100%;\"></div>            <script type=\"text/javascript\">                require([\"plotly\"], function(Plotly) {                    window.PLOTLYENV=window.PLOTLYENV || {};                                    if (document.getElementById(\"d7f1d27b-bf7c-40dc-874b-82b6f0c3ab96\")) {                    Plotly.newPlot(                        \"d7f1d27b-bf7c-40dc-874b-82b6f0c3ab96\",                        [{\"x\":[\"North Indian\",\"Chinese\",\"South Indian\",\"Fast Food\",\"Biryani\",\"Continental\",\"Beverages\",\"Desserts\",\"Cafe\",\"Street Food\",\"Bakery\",\"Italian\",\"Andhra\",\"Seafood\",\"Mughlai\",\"Rolls\",\"Kerala\"],\"y\":[4377,3268,2171,1578,1393,857,821,784,631,562,474,459,420,335,319,298,298],\"type\":\"bar\"}],                        {\"template\":{\"data\":{\"barpolar\":[{\"marker\":{\"line\":{\"color\":\"#E5ECF6\",\"width\":0.5},\"pattern\":{\"fillmode\":\"overlay\",\"size\":10,\"solidity\":0.2}},\"type\":\"barpolar\"}],\"bar\":[{\"error_x\":{\"color\":\"#2a3f5f\"},\"error_y\":{\"color\":\"#2a3f5f\"},\"marker\":{\"line\":{\"color\":\"#E5ECF6\",\"width\":0.5},\"pattern\":{\"fillmode\":\"overlay\",\"size\":10,\"solidity\":0.2}},\"type\":\"bar\"}],\"carpet\":[{\"aaxis\":{\"endlinecolor\":\"#2a3f5f\",\"gridcolor\":\"white\",\"linecolor\":\"white\",\"minorgridcolor\":\"white\",\"startlinecolor\":\"#2a3f5f\"},\"baxis\":{\"endlinecolor\":\"#2a3f5f\",\"gridcolor\":\"white\",\"linecolor\":\"white\",\"minorgridcolor\":\"white\",\"startlinecolor\":\"#2a3f5f\"},\"type\":\"carpet\"}],\"choropleth\":[{\"colorbar\":{\"outlinewidth\":0,\"ticks\":\"\"},\"type\":\"choropleth\"}],\"contourcarpet\":[{\"colorbar\":{\"outlinewidth\":0,\"ticks\":\"\"},\"type\":\"contourcarpet\"}],\"contour\":[{\"colorbar\":{\"outlinewidth\":0,\"ticks\":\"\"},\"colorscale\":[[0.0,\"#0d0887\"],[0.1111111111111111,\"#46039f\"],[0.2222222222222222,\"#7201a8\"],[0.3333333333333333,\"#9c179e\"],[0.4444444444444444,\"#bd3786\"],[0.5555555555555556,\"#d8576b\"],[0.6666666666666666,\"#ed7953\"],[0.7777777777777778,\"#fb9f3a\"],[0.8888888888888888,\"#fdca26\"],[1.0,\"#f0f921\"]],\"type\":\"contour\"}],\"heatmapgl\":[{\"colorbar\":{\"outlinewidth\":0,\"ticks\":\"\"},\"colorscale\":[[0.0,\"#0d0887\"],[0.1111111111111111,\"#46039f\"],[0.2222222222222222,\"#7201a8\"],[0.3333333333333333,\"#9c179e\"],[0.4444444444444444,\"#bd3786\"],[0.5555555555555556,\"#d8576b\"],[0.6666666666666666,\"#ed7953\"],[0.7777777777777778,\"#fb9f3a\"],[0.8888888888888888,\"#fdca26\"],[1.0,\"#f0f921\"]],\"type\":\"heatmapgl\"}],\"heatmap\":[{\"colorbar\":{\"outlinewidth\":0,\"ticks\":\"\"},\"colorscale\":[[0.0,\"#0d0887\"],[0.1111111111111111,\"#46039f\"],[0.2222222222222222,\"#7201a8\"],[0.3333333333333333,\"#9c179e\"],[0.4444444444444444,\"#bd3786\"],[0.5555555555555556,\"#d8576b\"],[0.6666666666666666,\"#ed7953\"],[0.7777777777777778,\"#fb9f3a\"],[0.8888888888888888,\"#fdca26\"],[1.0,\"#f0f921\"]],\"type\":\"heatmap\"}],\"histogram2dcontour\":[{\"colorbar\":{\"outlinewidth\":0,\"ticks\":\"\"},\"colorscale\":[[0.0,\"#0d0887\"],[0.1111111111111111,\"#46039f\"],[0.2222222222222222,\"#7201a8\"],[0.3333333333333333,\"#9c179e\"],[0.4444444444444444,\"#bd3786\"],[0.5555555555555556,\"#d8576b\"],[0.6666666666666666,\"#ed7953\"],[0.7777777777777778,\"#fb9f3a\"],[0.8888888888888888,\"#fdca26\"],[1.0,\"#f0f921\"]],\"type\":\"histogram2dcontour\"}],\"histogram2d\":[{\"colorbar\":{\"outlinewidth\":0,\"ticks\":\"\"},\"colorscale\":[[0.0,\"#0d0887\"],[0.1111111111111111,\"#46039f\"],[0.2222222222222222,\"#7201a8\"],[0.3333333333333333,\"#9c179e\"],[0.4444444444444444,\"#bd3786\"],[0.5555555555555556,\"#d8576b\"],[0.6666666666666666,\"#ed7953\"],[0.7777777777777778,\"#fb9f3a\"],[0.8888888888888888,\"#fdca26\"],[1.0,\"#f0f921\"]],\"type\":\"histogram2d\"}],\"histogram\":[{\"marker\":{\"pattern\":{\"fillmode\":\"overlay\",\"size\":10,\"solidity\":0.2}},\"type\":\"histogram\"}],\"mesh3d\":[{\"colorbar\":{\"outlinewidth\":0,\"ticks\":\"\"},\"type\":\"mesh3d\"}],\"parcoords\":[{\"line\":{\"colorbar\":{\"outlinewidth\":0,\"ticks\":\"\"}},\"type\":\"parcoords\"}],\"pie\":[{\"automargin\":true,\"type\":\"pie\"}],\"scatter3d\":[{\"line\":{\"colorbar\":{\"outlinewidth\":0,\"ticks\":\"\"}},\"marker\":{\"colorbar\":{\"outlinewidth\":0,\"ticks\":\"\"}},\"type\":\"scatter3d\"}],\"scattercarpet\":[{\"marker\":{\"colorbar\":{\"outlinewidth\":0,\"ticks\":\"\"}},\"type\":\"scattercarpet\"}],\"scattergeo\":[{\"marker\":{\"colorbar\":{\"outlinewidth\":0,\"ticks\":\"\"}},\"type\":\"scattergeo\"}],\"scattergl\":[{\"marker\":{\"colorbar\":{\"outlinewidth\":0,\"ticks\":\"\"}},\"type\":\"scattergl\"}],\"scattermapbox\":[{\"marker\":{\"colorbar\":{\"outlinewidth\":0,\"ticks\":\"\"}},\"type\":\"scattermapbox\"}],\"scatterpolargl\":[{\"marker\":{\"colorbar\":{\"outlinewidth\":0,\"ticks\":\"\"}},\"type\":\"scatterpolargl\"}],\"scatterpolar\":[{\"marker\":{\"colorbar\":{\"outlinewidth\":0,\"ticks\":\"\"}},\"type\":\"scatterpolar\"}],\"scatter\":[{\"fillpattern\":{\"fillmode\":\"overlay\",\"size\":10,\"solidity\":0.2},\"type\":\"scatter\"}],\"scatterternary\":[{\"marker\":{\"colorbar\":{\"outlinewidth\":0,\"ticks\":\"\"}},\"type\":\"scatterternary\"}],\"surface\":[{\"colorbar\":{\"outlinewidth\":0,\"ticks\":\"\"},\"colorscale\":[[0.0,\"#0d0887\"],[0.1111111111111111,\"#46039f\"],[0.2222222222222222,\"#7201a8\"],[0.3333333333333333,\"#9c179e\"],[0.4444444444444444,\"#bd3786\"],[0.5555555555555556,\"#d8576b\"],[0.6666666666666666,\"#ed7953\"],[0.7777777777777778,\"#fb9f3a\"],[0.8888888888888888,\"#fdca26\"],[1.0,\"#f0f921\"]],\"type\":\"surface\"}],\"table\":[{\"cells\":{\"fill\":{\"color\":\"#EBF0F8\"},\"line\":{\"color\":\"white\"}},\"header\":{\"fill\":{\"color\":\"#C8D4E3\"},\"line\":{\"color\":\"white\"}},\"type\":\"table\"}]},\"layout\":{\"annotationdefaults\":{\"arrowcolor\":\"#2a3f5f\",\"arrowhead\":0,\"arrowwidth\":1},\"autotypenumbers\":\"strict\",\"coloraxis\":{\"colorbar\":{\"outlinewidth\":0,\"ticks\":\"\"}},\"colorscale\":{\"diverging\":[[0,\"#8e0152\"],[0.1,\"#c51b7d\"],[0.2,\"#de77ae\"],[0.3,\"#f1b6da\"],[0.4,\"#fde0ef\"],[0.5,\"#f7f7f7\"],[0.6,\"#e6f5d0\"],[0.7,\"#b8e186\"],[0.8,\"#7fbc41\"],[0.9,\"#4d9221\"],[1,\"#276419\"]],\"sequential\":[[0.0,\"#0d0887\"],[0.1111111111111111,\"#46039f\"],[0.2222222222222222,\"#7201a8\"],[0.3333333333333333,\"#9c179e\"],[0.4444444444444444,\"#bd3786\"],[0.5555555555555556,\"#d8576b\"],[0.6666666666666666,\"#ed7953\"],[0.7777777777777778,\"#fb9f3a\"],[0.8888888888888888,\"#fdca26\"],[1.0,\"#f0f921\"]],\"sequentialminus\":[[0.0,\"#0d0887\"],[0.1111111111111111,\"#46039f\"],[0.2222222222222222,\"#7201a8\"],[0.3333333333333333,\"#9c179e\"],[0.4444444444444444,\"#bd3786\"],[0.5555555555555556,\"#d8576b\"],[0.6666666666666666,\"#ed7953\"],[0.7777777777777778,\"#fb9f3a\"],[0.8888888888888888,\"#fdca26\"],[1.0,\"#f0f921\"]]},\"colorway\":[\"#636efa\",\"#EF553B\",\"#00cc96\",\"#ab63fa\",\"#FFA15A\",\"#19d3f3\",\"#FF6692\",\"#B6E880\",\"#FF97FF\",\"#FECB52\"],\"font\":{\"color\":\"#2a3f5f\"},\"geo\":{\"bgcolor\":\"white\",\"lakecolor\":\"white\",\"landcolor\":\"#E5ECF6\",\"showlakes\":true,\"showland\":true,\"subunitcolor\":\"white\"},\"hoverlabel\":{\"align\":\"left\"},\"hovermode\":\"closest\",\"mapbox\":{\"style\":\"light\"},\"paper_bgcolor\":\"white\",\"plot_bgcolor\":\"#E5ECF6\",\"polar\":{\"angularaxis\":{\"gridcolor\":\"white\",\"linecolor\":\"white\",\"ticks\":\"\"},\"bgcolor\":\"#E5ECF6\",\"radialaxis\":{\"gridcolor\":\"white\",\"linecolor\":\"white\",\"ticks\":\"\"}},\"scene\":{\"xaxis\":{\"backgroundcolor\":\"#E5ECF6\",\"gridcolor\":\"white\",\"gridwidth\":2,\"linecolor\":\"white\",\"showbackground\":true,\"ticks\":\"\",\"zerolinecolor\":\"white\"},\"yaxis\":{\"backgroundcolor\":\"#E5ECF6\",\"gridcolor\":\"white\",\"gridwidth\":2,\"linecolor\":\"white\",\"showbackground\":true,\"ticks\":\"\",\"zerolinecolor\":\"white\"},\"zaxis\":{\"backgroundcolor\":\"#E5ECF6\",\"gridcolor\":\"white\",\"gridwidth\":2,\"linecolor\":\"white\",\"showbackground\":true,\"ticks\":\"\",\"zerolinecolor\":\"white\"}},\"shapedefaults\":{\"line\":{\"color\":\"#2a3f5f\"}},\"ternary\":{\"aaxis\":{\"gridcolor\":\"white\",\"linecolor\":\"white\",\"ticks\":\"\"},\"baxis\":{\"gridcolor\":\"white\",\"linecolor\":\"white\",\"ticks\":\"\"},\"bgcolor\":\"#E5ECF6\",\"caxis\":{\"gridcolor\":\"white\",\"linecolor\":\"white\",\"ticks\":\"\"}},\"title\":{\"x\":0.05},\"xaxis\":{\"automargin\":true,\"gridcolor\":\"white\",\"linecolor\":\"white\",\"ticks\":\"\",\"title\":{\"standoff\":15},\"zerolinecolor\":\"white\",\"zerolinewidth\":2},\"yaxis\":{\"automargin\":true,\"gridcolor\":\"white\",\"linecolor\":\"white\",\"ticks\":\"\",\"title\":{\"standoff\":15},\"zerolinecolor\":\"white\",\"zerolinewidth\":2}}},\"title\":{\"text\":\"Most popular cuisines in Bangalore\"},\"xaxis\":{\"tickangle\":-45},\"yaxis\":{\"title\":{\"text\":\"Number of restaurants\"}}},                        {\"responsive\": true}                    ).then(function(){\n",
       "                            \n",
       "var gd = document.getElementById('d7f1d27b-bf7c-40dc-874b-82b6f0c3ab96');\n",
       "var x = new MutationObserver(function (mutations, observer) {{\n",
       "        var display = window.getComputedStyle(gd).display;\n",
       "        if (!display || display === 'none') {{\n",
       "            console.log([gd, 'removed!']);\n",
       "            Plotly.purge(gd);\n",
       "            observer.disconnect();\n",
       "        }}\n",
       "}});\n",
       "\n",
       "// Listen for the removal of the full notebook cells\n",
       "var notebookContainer = gd.closest('#notebook-container');\n",
       "if (notebookContainer) {{\n",
       "    x.observe(notebookContainer, {childList: true});\n",
       "}}\n",
       "\n",
       "// Listen for the clearing of the current output cell\n",
       "var outputEl = gd.closest('.output');\n",
       "if (outputEl) {{\n",
       "    x.observe(outputEl, {childList: true});\n",
       "}}\n",
       "\n",
       "                        })                };                });            </script>        </div>"
      ]
     },
     "metadata": {},
     "output_type": "display_data"
    }
   ],
   "source": [
    "def group_lower_ranking_values(pie_raw, column):\n",
    "    \"\"\"Converts pie_raw dataframe with multiple categories to a dataframe with fewer categories\n",
    "\n",
    "    Calculate the 85th quantile and group the lesser values together.\n",
    "    Lesser values will be labelled as 'Other'\n",
    "\n",
    "    Parameters\n",
    "    ----------\n",
    "    pie_raw : DataFrame\n",
    "        dataframe with the data to be aggregated\n",
    "    column : str\n",
    "        name of the column based on which dataframe values will be aggregated\n",
    "    \"\"\"\n",
    "    pie_counts = pie_raw.groupby(column).agg('count')\n",
    "    pct_value = pie_counts[lambda df: df.columns[0]].quantile(.85)\n",
    "    values_below_pct_value = pie_counts[lambda df: df.columns[0]].loc[lambda s: s < pct_value].index.values\n",
    "    def fix_values(row):\n",
    "        if row[column] in values_below_pct_value:\n",
    "            row[column] = 'Other'\n",
    "        return row\n",
    "    pie_grouped = pie_raw.apply(fix_values, axis=1).groupby(column).agg('count')\n",
    "    return pie_grouped\n",
    "\n",
    "temp = restaurants.groupby(['name','cuisines']).size().reset_index(name='Freq')\n",
    "s = temp[\"cuisines\"].str.split(',', expand=True).stack()\n",
    "i = s.index.get_level_values(0)\n",
    "temp = temp.loc[i].copy()\n",
    "temp[\"cuisines\"] = s.values\n",
    "temp['cuisines'] = temp['cuisines'].apply(lambda x: x.strip())\n",
    "temp = group_lower_ranking_values(temp, 'cuisines').sort_values('name', ascending=False)\n",
    "temp.drop('Other', inplace=True)\n",
    "\n",
    "trace = go.Bar(\n",
    "            y=temp['name'],\n",
    "            x=temp.index\n",
    "    )\n",
    "data = [trace]\n",
    "layout = go.Layout(xaxis=dict(tickangle=-45),\n",
    "                   yaxis = dict(title='Number of restaurants'),\n",
    "    title='Most popular cuisines in Bangalore',\n",
    ")\n",
    "fig = go.Figure(data=data, layout=layout)\n",
    "iplot(fig, filename='cuisine-bangalore')"
   ]
  },
  {
   "cell_type": "markdown",
   "metadata": {},
   "source": [
    "## 5. Multi-axis scatter with dropdown control\n",
    "Let's visualise top served cuisines of Bangalore. Using the above graph, it can be concluded that North India, Chinese, South Indian and Fast Food are top four cuisines that are served in Bangalore.\n",
    "Dropdown will give the ability to select the cuisine according to which the data in the graph will be displayed."
   ]
  },
  {
   "cell_type": "code",
   "execution_count": 36,
   "metadata": {
    "id": "jOwLJhd6cLEF"
   },
   "outputs": [],
   "source": [
    "def getCuisineTopRestaurants(data, cuisine, n=10):\n",
    "    temp = data[data['cuisines']==cuisine]\n",
    "    temp = temp.groupby(['name','cuisines']).agg({'ratings': np.mean, 'votes': np.mean}).reset_index()\n",
    "    temp = temp.sort_values('ratings', ascending=False)\n",
    "    temp = temp.sort_values('votes', ascending=False)\n",
    "    return temp.round({'votes':0}).head(n)\n",
    "\n",
    "temp = restaurants.groupby(['name','cuisines','ratings']).agg({'votes': np.mean}).reset_index()\n",
    "s = temp[\"cuisines\"].str.split(',', expand=True).stack()\n",
    "i = s.index.get_level_values(0)\n",
    "temp = temp.loc[i].copy()\n",
    "temp[\"cuisines\"] = s.values\n",
    "temp['cuisines'] = temp['cuisines'].apply(lambda x: x.strip())\n",
    "\n",
    "interestCuisines = ['North Indian', 'Chinese', 'South Indian', 'Fast Food']\n",
    "north_df = getCuisineTopRestaurants(temp, 'North Indian')\n",
    "chinese_df = getCuisineTopRestaurants(temp, 'Chinese')\n",
    "south_df = getCuisineTopRestaurants(temp, 'South Indian')\n",
    "fast_df = getCuisineTopRestaurants(temp, 'Fast Food')"
   ]
  },
  {
   "cell_type": "code",
   "execution_count": 37,
   "metadata": {
    "id": "VYm-NQtqcO0K"
   },
   "outputs": [
    {
     "data": {
      "application/vnd.plotly.v1+json": {
       "config": {
        "linkText": "Export to plot.ly",
        "plotlyServerURL": "https://plot.ly",
        "showLink": false
       },
       "data": [
        {
         "line": {
          "color": "#33CFA5"
         },
         "name": "votes",
         "type": "scatter",
         "x": [
          "Byg Brewski Brewing Company",
          "Big Pitcher",
          "The Black Pearl",
          "Prost Brew Pub",
          "Church Street Social",
          "Hoot",
          "Vapour Pub & Brewery",
          "TBC Sky Lounge",
          "Windmills Craftworks",
          "Brew and Barbeque - A Microbrewery Pub"
         ],
         "y": [
          16588,
          9164,
          8813,
          7861,
          7562,
          7257,
          6952,
          6745,
          5929,
          5822
         ]
        },
        {
         "line": {
          "color": "#33CFA5"
         },
         "name": "votes",
         "type": "scatter",
         "visible": false,
         "x": [
          "Church Street Social",
          "Vapour Pub & Brewery",
          "High Ultra Lounge",
          "Koramangala Social",
          "Barleyz",
          "Brooks and Bonds Brewery",
          "Tim Tai",
          "Chutney Chang",
          "Meghana Foods",
          "ECHOES Koramangala"
         ],
         "y": [
          7562,
          6952,
          4774,
          4689,
          4653,
          3932,
          3674,
          3544,
          3530,
          3213
         ]
        },
        {
         "line": {
          "color": "#33CFA5"
         },
         "name": "votes",
         "type": "scatter",
         "visible": false,
         "x": [
          "Byg Brewski Brewing Company",
          "Vidyarthi Bhavan",
          "CTR",
          "Ebony",
          "Veena Stores",
          "Brewklyn Microbrewery",
          "Koshy's",
          "Empire Restaurant",
          "Subz",
          "Red Rhino"
         ],
         "y": [
          16588,
          4460,
          4414,
          3142,
          2412,
          2329,
          2328,
          2179,
          2029,
          1980
         ]
        },
        {
         "line": {
          "color": "#33CFA5"
         },
         "name": "votes",
         "type": "scatter",
         "visible": false,
         "x": [
          "Dyu Art Cafe",
          "LOFT38",
          "Bundar",
          "The Humming Tree",
          "Fattoush",
          "Dice N Dine",
          "Maiyas",
          "Al Amanah Cafe",
          "The Ants Cafe & Store",
          "Peppa Zzing"
         ],
         "y": [
          3842,
          3658,
          2449,
          2422,
          1970,
          1806,
          1781,
          1436,
          1387,
          1134
         ]
        },
        {
         "line": {
          "color": "#ff7f0e"
         },
         "name": "rated",
         "type": "scatter",
         "x": [
          "Byg Brewski Brewing Company",
          "Big Pitcher",
          "The Black Pearl",
          "Prost Brew Pub",
          "Church Street Social",
          "Hoot",
          "Vapour Pub & Brewery",
          "TBC Sky Lounge",
          "Windmills Craftworks",
          "Brew and Barbeque - A Microbrewery Pub"
         ],
         "y": [
          4.9,
          4.65,
          4.75,
          4.5,
          4.3,
          4.2,
          4.2,
          4.7,
          4.6,
          4.65
         ],
         "yaxis": "y2"
        },
        {
         "line": {
          "color": "#ff7f0e"
         },
         "name": "rated",
         "type": "scatter",
         "visible": false,
         "x": [
          "Church Street Social",
          "Vapour Pub & Brewery",
          "High Ultra Lounge",
          "Koramangala Social",
          "Barleyz",
          "Brooks and Bonds Brewery",
          "Tim Tai",
          "Chutney Chang",
          "Meghana Foods",
          "ECHOES Koramangala"
         ],
         "y": [
          4.3,
          4.2,
          4.1,
          4.6,
          3.75,
          4.45,
          4.4,
          4.15,
          4.366666666666667,
          4.7
         ],
         "yaxis": "y2"
        },
        {
         "line": {
          "color": "#ff7f0e"
         },
         "name": "rated",
         "type": "scatter",
         "visible": false,
         "x": [
          "Byg Brewski Brewing Company",
          "Vidyarthi Bhavan",
          "CTR",
          "Ebony",
          "Veena Stores",
          "Brewklyn Microbrewery",
          "Koshy's",
          "Empire Restaurant",
          "Subz",
          "Red Rhino"
         ],
         "y": [
          4.9,
          4.4,
          4.75,
          4.3,
          4.5,
          4.4,
          3.8499999999999996,
          3.533333333333333,
          4.2,
          4.4
         ],
         "yaxis": "y2"
        },
        {
         "line": {
          "color": "#ff7f0e"
         },
         "name": "rated",
         "type": "scatter",
         "visible": false,
         "x": [
          "Dyu Art Cafe",
          "LOFT38",
          "Bundar",
          "The Humming Tree",
          "Fattoush",
          "Dice N Dine",
          "Maiyas",
          "Al Amanah Cafe",
          "The Ants Cafe & Store",
          "Peppa Zzing"
         ],
         "y": [
          4.5,
          4.3,
          4.1,
          4.05,
          4.2,
          4.3,
          4,
          4.4,
          3.9,
          4.3
         ],
         "yaxis": "y2"
        }
       ],
       "layout": {
        "showlegend": false,
        "template": {
         "data": {
          "bar": [
           {
            "error_x": {
             "color": "#2a3f5f"
            },
            "error_y": {
             "color": "#2a3f5f"
            },
            "marker": {
             "line": {
              "color": "#E5ECF6",
              "width": 0.5
             },
             "pattern": {
              "fillmode": "overlay",
              "size": 10,
              "solidity": 0.2
             }
            },
            "type": "bar"
           }
          ],
          "barpolar": [
           {
            "marker": {
             "line": {
              "color": "#E5ECF6",
              "width": 0.5
             },
             "pattern": {
              "fillmode": "overlay",
              "size": 10,
              "solidity": 0.2
             }
            },
            "type": "barpolar"
           }
          ],
          "carpet": [
           {
            "aaxis": {
             "endlinecolor": "#2a3f5f",
             "gridcolor": "white",
             "linecolor": "white",
             "minorgridcolor": "white",
             "startlinecolor": "#2a3f5f"
            },
            "baxis": {
             "endlinecolor": "#2a3f5f",
             "gridcolor": "white",
             "linecolor": "white",
             "minorgridcolor": "white",
             "startlinecolor": "#2a3f5f"
            },
            "type": "carpet"
           }
          ],
          "choropleth": [
           {
            "colorbar": {
             "outlinewidth": 0,
             "ticks": ""
            },
            "type": "choropleth"
           }
          ],
          "contour": [
           {
            "colorbar": {
             "outlinewidth": 0,
             "ticks": ""
            },
            "colorscale": [
             [
              0,
              "#0d0887"
             ],
             [
              0.1111111111111111,
              "#46039f"
             ],
             [
              0.2222222222222222,
              "#7201a8"
             ],
             [
              0.3333333333333333,
              "#9c179e"
             ],
             [
              0.4444444444444444,
              "#bd3786"
             ],
             [
              0.5555555555555556,
              "#d8576b"
             ],
             [
              0.6666666666666666,
              "#ed7953"
             ],
             [
              0.7777777777777778,
              "#fb9f3a"
             ],
             [
              0.8888888888888888,
              "#fdca26"
             ],
             [
              1,
              "#f0f921"
             ]
            ],
            "type": "contour"
           }
          ],
          "contourcarpet": [
           {
            "colorbar": {
             "outlinewidth": 0,
             "ticks": ""
            },
            "type": "contourcarpet"
           }
          ],
          "heatmap": [
           {
            "colorbar": {
             "outlinewidth": 0,
             "ticks": ""
            },
            "colorscale": [
             [
              0,
              "#0d0887"
             ],
             [
              0.1111111111111111,
              "#46039f"
             ],
             [
              0.2222222222222222,
              "#7201a8"
             ],
             [
              0.3333333333333333,
              "#9c179e"
             ],
             [
              0.4444444444444444,
              "#bd3786"
             ],
             [
              0.5555555555555556,
              "#d8576b"
             ],
             [
              0.6666666666666666,
              "#ed7953"
             ],
             [
              0.7777777777777778,
              "#fb9f3a"
             ],
             [
              0.8888888888888888,
              "#fdca26"
             ],
             [
              1,
              "#f0f921"
             ]
            ],
            "type": "heatmap"
           }
          ],
          "heatmapgl": [
           {
            "colorbar": {
             "outlinewidth": 0,
             "ticks": ""
            },
            "colorscale": [
             [
              0,
              "#0d0887"
             ],
             [
              0.1111111111111111,
              "#46039f"
             ],
             [
              0.2222222222222222,
              "#7201a8"
             ],
             [
              0.3333333333333333,
              "#9c179e"
             ],
             [
              0.4444444444444444,
              "#bd3786"
             ],
             [
              0.5555555555555556,
              "#d8576b"
             ],
             [
              0.6666666666666666,
              "#ed7953"
             ],
             [
              0.7777777777777778,
              "#fb9f3a"
             ],
             [
              0.8888888888888888,
              "#fdca26"
             ],
             [
              1,
              "#f0f921"
             ]
            ],
            "type": "heatmapgl"
           }
          ],
          "histogram": [
           {
            "marker": {
             "pattern": {
              "fillmode": "overlay",
              "size": 10,
              "solidity": 0.2
             }
            },
            "type": "histogram"
           }
          ],
          "histogram2d": [
           {
            "colorbar": {
             "outlinewidth": 0,
             "ticks": ""
            },
            "colorscale": [
             [
              0,
              "#0d0887"
             ],
             [
              0.1111111111111111,
              "#46039f"
             ],
             [
              0.2222222222222222,
              "#7201a8"
             ],
             [
              0.3333333333333333,
              "#9c179e"
             ],
             [
              0.4444444444444444,
              "#bd3786"
             ],
             [
              0.5555555555555556,
              "#d8576b"
             ],
             [
              0.6666666666666666,
              "#ed7953"
             ],
             [
              0.7777777777777778,
              "#fb9f3a"
             ],
             [
              0.8888888888888888,
              "#fdca26"
             ],
             [
              1,
              "#f0f921"
             ]
            ],
            "type": "histogram2d"
           }
          ],
          "histogram2dcontour": [
           {
            "colorbar": {
             "outlinewidth": 0,
             "ticks": ""
            },
            "colorscale": [
             [
              0,
              "#0d0887"
             ],
             [
              0.1111111111111111,
              "#46039f"
             ],
             [
              0.2222222222222222,
              "#7201a8"
             ],
             [
              0.3333333333333333,
              "#9c179e"
             ],
             [
              0.4444444444444444,
              "#bd3786"
             ],
             [
              0.5555555555555556,
              "#d8576b"
             ],
             [
              0.6666666666666666,
              "#ed7953"
             ],
             [
              0.7777777777777778,
              "#fb9f3a"
             ],
             [
              0.8888888888888888,
              "#fdca26"
             ],
             [
              1,
              "#f0f921"
             ]
            ],
            "type": "histogram2dcontour"
           }
          ],
          "mesh3d": [
           {
            "colorbar": {
             "outlinewidth": 0,
             "ticks": ""
            },
            "type": "mesh3d"
           }
          ],
          "parcoords": [
           {
            "line": {
             "colorbar": {
              "outlinewidth": 0,
              "ticks": ""
             }
            },
            "type": "parcoords"
           }
          ],
          "pie": [
           {
            "automargin": true,
            "type": "pie"
           }
          ],
          "scatter": [
           {
            "fillpattern": {
             "fillmode": "overlay",
             "size": 10,
             "solidity": 0.2
            },
            "type": "scatter"
           }
          ],
          "scatter3d": [
           {
            "line": {
             "colorbar": {
              "outlinewidth": 0,
              "ticks": ""
             }
            },
            "marker": {
             "colorbar": {
              "outlinewidth": 0,
              "ticks": ""
             }
            },
            "type": "scatter3d"
           }
          ],
          "scattercarpet": [
           {
            "marker": {
             "colorbar": {
              "outlinewidth": 0,
              "ticks": ""
             }
            },
            "type": "scattercarpet"
           }
          ],
          "scattergeo": [
           {
            "marker": {
             "colorbar": {
              "outlinewidth": 0,
              "ticks": ""
             }
            },
            "type": "scattergeo"
           }
          ],
          "scattergl": [
           {
            "marker": {
             "colorbar": {
              "outlinewidth": 0,
              "ticks": ""
             }
            },
            "type": "scattergl"
           }
          ],
          "scattermapbox": [
           {
            "marker": {
             "colorbar": {
              "outlinewidth": 0,
              "ticks": ""
             }
            },
            "type": "scattermapbox"
           }
          ],
          "scatterpolar": [
           {
            "marker": {
             "colorbar": {
              "outlinewidth": 0,
              "ticks": ""
             }
            },
            "type": "scatterpolar"
           }
          ],
          "scatterpolargl": [
           {
            "marker": {
             "colorbar": {
              "outlinewidth": 0,
              "ticks": ""
             }
            },
            "type": "scatterpolargl"
           }
          ],
          "scatterternary": [
           {
            "marker": {
             "colorbar": {
              "outlinewidth": 0,
              "ticks": ""
             }
            },
            "type": "scatterternary"
           }
          ],
          "surface": [
           {
            "colorbar": {
             "outlinewidth": 0,
             "ticks": ""
            },
            "colorscale": [
             [
              0,
              "#0d0887"
             ],
             [
              0.1111111111111111,
              "#46039f"
             ],
             [
              0.2222222222222222,
              "#7201a8"
             ],
             [
              0.3333333333333333,
              "#9c179e"
             ],
             [
              0.4444444444444444,
              "#bd3786"
             ],
             [
              0.5555555555555556,
              "#d8576b"
             ],
             [
              0.6666666666666666,
              "#ed7953"
             ],
             [
              0.7777777777777778,
              "#fb9f3a"
             ],
             [
              0.8888888888888888,
              "#fdca26"
             ],
             [
              1,
              "#f0f921"
             ]
            ],
            "type": "surface"
           }
          ],
          "table": [
           {
            "cells": {
             "fill": {
              "color": "#EBF0F8"
             },
             "line": {
              "color": "white"
             }
            },
            "header": {
             "fill": {
              "color": "#C8D4E3"
             },
             "line": {
              "color": "white"
             }
            },
            "type": "table"
           }
          ]
         },
         "layout": {
          "annotationdefaults": {
           "arrowcolor": "#2a3f5f",
           "arrowhead": 0,
           "arrowwidth": 1
          },
          "autotypenumbers": "strict",
          "coloraxis": {
           "colorbar": {
            "outlinewidth": 0,
            "ticks": ""
           }
          },
          "colorscale": {
           "diverging": [
            [
             0,
             "#8e0152"
            ],
            [
             0.1,
             "#c51b7d"
            ],
            [
             0.2,
             "#de77ae"
            ],
            [
             0.3,
             "#f1b6da"
            ],
            [
             0.4,
             "#fde0ef"
            ],
            [
             0.5,
             "#f7f7f7"
            ],
            [
             0.6,
             "#e6f5d0"
            ],
            [
             0.7,
             "#b8e186"
            ],
            [
             0.8,
             "#7fbc41"
            ],
            [
             0.9,
             "#4d9221"
            ],
            [
             1,
             "#276419"
            ]
           ],
           "sequential": [
            [
             0,
             "#0d0887"
            ],
            [
             0.1111111111111111,
             "#46039f"
            ],
            [
             0.2222222222222222,
             "#7201a8"
            ],
            [
             0.3333333333333333,
             "#9c179e"
            ],
            [
             0.4444444444444444,
             "#bd3786"
            ],
            [
             0.5555555555555556,
             "#d8576b"
            ],
            [
             0.6666666666666666,
             "#ed7953"
            ],
            [
             0.7777777777777778,
             "#fb9f3a"
            ],
            [
             0.8888888888888888,
             "#fdca26"
            ],
            [
             1,
             "#f0f921"
            ]
           ],
           "sequentialminus": [
            [
             0,
             "#0d0887"
            ],
            [
             0.1111111111111111,
             "#46039f"
            ],
            [
             0.2222222222222222,
             "#7201a8"
            ],
            [
             0.3333333333333333,
             "#9c179e"
            ],
            [
             0.4444444444444444,
             "#bd3786"
            ],
            [
             0.5555555555555556,
             "#d8576b"
            ],
            [
             0.6666666666666666,
             "#ed7953"
            ],
            [
             0.7777777777777778,
             "#fb9f3a"
            ],
            [
             0.8888888888888888,
             "#fdca26"
            ],
            [
             1,
             "#f0f921"
            ]
           ]
          },
          "colorway": [
           "#636efa",
           "#EF553B",
           "#00cc96",
           "#ab63fa",
           "#FFA15A",
           "#19d3f3",
           "#FF6692",
           "#B6E880",
           "#FF97FF",
           "#FECB52"
          ],
          "font": {
           "color": "#2a3f5f"
          },
          "geo": {
           "bgcolor": "white",
           "lakecolor": "white",
           "landcolor": "#E5ECF6",
           "showlakes": true,
           "showland": true,
           "subunitcolor": "white"
          },
          "hoverlabel": {
           "align": "left"
          },
          "hovermode": "closest",
          "mapbox": {
           "style": "light"
          },
          "paper_bgcolor": "white",
          "plot_bgcolor": "#E5ECF6",
          "polar": {
           "angularaxis": {
            "gridcolor": "white",
            "linecolor": "white",
            "ticks": ""
           },
           "bgcolor": "#E5ECF6",
           "radialaxis": {
            "gridcolor": "white",
            "linecolor": "white",
            "ticks": ""
           }
          },
          "scene": {
           "xaxis": {
            "backgroundcolor": "#E5ECF6",
            "gridcolor": "white",
            "gridwidth": 2,
            "linecolor": "white",
            "showbackground": true,
            "ticks": "",
            "zerolinecolor": "white"
           },
           "yaxis": {
            "backgroundcolor": "#E5ECF6",
            "gridcolor": "white",
            "gridwidth": 2,
            "linecolor": "white",
            "showbackground": true,
            "ticks": "",
            "zerolinecolor": "white"
           },
           "zaxis": {
            "backgroundcolor": "#E5ECF6",
            "gridcolor": "white",
            "gridwidth": 2,
            "linecolor": "white",
            "showbackground": true,
            "ticks": "",
            "zerolinecolor": "white"
           }
          },
          "shapedefaults": {
           "line": {
            "color": "#2a3f5f"
           }
          },
          "ternary": {
           "aaxis": {
            "gridcolor": "white",
            "linecolor": "white",
            "ticks": ""
           },
           "baxis": {
            "gridcolor": "white",
            "linecolor": "white",
            "ticks": ""
           },
           "bgcolor": "#E5ECF6",
           "caxis": {
            "gridcolor": "white",
            "linecolor": "white",
            "ticks": ""
           }
          },
          "title": {
           "x": 0.05
          },
          "xaxis": {
           "automargin": true,
           "gridcolor": "white",
           "linecolor": "white",
           "ticks": "",
           "title": {
            "standoff": 15
           },
           "zerolinecolor": "white",
           "zerolinewidth": 2
          },
          "yaxis": {
           "automargin": true,
           "gridcolor": "white",
           "linecolor": "white",
           "ticks": "",
           "title": {
            "standoff": 15
           },
           "zerolinecolor": "white",
           "zerolinewidth": 2
          }
         }
        },
        "title": {
         "text": "<b>Top cuisine serving restaurants.</b>"
        },
        "updatemenus": [
         {
          "active": 0,
          "buttons": [
           {
            "args": [
             {
              "visible": [
               true,
               false,
               false,
               false,
               true,
               false,
               false,
               false
              ]
             },
             {
              "title": "North Indian"
             }
            ],
            "label": "North Indian",
            "method": "update"
           },
           {
            "args": [
             {
              "visible": [
               false,
               true,
               false,
               false,
               false,
               true,
               false,
               false
              ]
             },
             {
              "title": "Chinese"
             }
            ],
            "label": "Chinese",
            "method": "update"
           },
           {
            "args": [
             {
              "visible": [
               false,
               false,
               true,
               false,
               false,
               false,
               true,
               false
              ]
             },
             {
              "title": "South Indian"
             }
            ],
            "label": "South Indian",
            "method": "update"
           },
           {
            "args": [
             {
              "visible": [
               false,
               false,
               false,
               true,
               false,
               false,
               false,
               true
              ]
             },
             {
              "title": "Fast Food"
             }
            ],
            "label": "Fast Food",
            "method": "update"
           }
          ]
         }
        ],
        "xaxis": {
         "title": {
          "text": "Restaurants"
         }
        },
        "yaxis": {
         "title": {
          "text": "Votes"
         }
        },
        "yaxis2": {
         "overlaying": "y",
         "side": "right",
         "title": {
          "text": "Ratings"
         }
        }
       }
      },
      "text/html": [
       "<div>                            <div id=\"6d701d62-37f5-48fd-9f3f-c26356b4ac11\" class=\"plotly-graph-div\" style=\"height:525px; width:100%;\"></div>            <script type=\"text/javascript\">                require([\"plotly\"], function(Plotly) {                    window.PLOTLYENV=window.PLOTLYENV || {};                                    if (document.getElementById(\"6d701d62-37f5-48fd-9f3f-c26356b4ac11\")) {                    Plotly.newPlot(                        \"6d701d62-37f5-48fd-9f3f-c26356b4ac11\",                        [{\"line\":{\"color\":\"#33CFA5\"},\"name\":\"votes\",\"x\":[\"Byg Brewski Brewing Company\",\"Big Pitcher\",\"The Black Pearl\",\"Prost Brew Pub\",\"Church Street Social\",\"Hoot\",\"Vapour Pub & Brewery\",\"TBC Sky Lounge\",\"Windmills Craftworks\",\"Brew and Barbeque - A Microbrewery Pub\"],\"y\":[16588.0,9164.0,8813.0,7861.0,7562.0,7257.0,6952.0,6745.0,5929.0,5822.0],\"type\":\"scatter\"},{\"line\":{\"color\":\"#33CFA5\"},\"name\":\"votes\",\"visible\":false,\"x\":[\"Church Street Social\",\"Vapour Pub & Brewery\",\"High Ultra Lounge\",\"Koramangala Social\",\"Barleyz\",\"Brooks and Bonds Brewery\",\"Tim Tai\",\"Chutney Chang\",\"Meghana Foods\",\"ECHOES Koramangala\"],\"y\":[7562.0,6952.0,4774.0,4689.0,4653.0,3932.0,3674.0,3544.0,3530.0,3213.0],\"type\":\"scatter\"},{\"line\":{\"color\":\"#33CFA5\"},\"name\":\"votes\",\"visible\":false,\"x\":[\"Byg Brewski Brewing Company\",\"Vidyarthi Bhavan\",\"CTR\",\"Ebony\",\"Veena Stores\",\"Brewklyn Microbrewery\",\"Koshy's\",\"Empire Restaurant\",\"Subz\",\"Red Rhino\"],\"y\":[16588.0,4460.0,4414.0,3142.0,2412.0,2329.0,2328.0,2179.0,2029.0,1980.0],\"type\":\"scatter\"},{\"line\":{\"color\":\"#33CFA5\"},\"name\":\"votes\",\"visible\":false,\"x\":[\"Dyu Art Cafe\",\"LOFT38\",\"Bundar\",\"The Humming Tree\",\"Fattoush\",\"Dice N Dine\",\"Maiyas\",\"Al Amanah Cafe\",\"The Ants Cafe & Store\",\"Peppa Zzing\"],\"y\":[3842.0,3658.0,2449.0,2422.0,1970.0,1806.0,1781.0,1436.0,1387.0,1134.0],\"type\":\"scatter\"},{\"line\":{\"color\":\"#ff7f0e\"},\"name\":\"rated\",\"x\":[\"Byg Brewski Brewing Company\",\"Big Pitcher\",\"The Black Pearl\",\"Prost Brew Pub\",\"Church Street Social\",\"Hoot\",\"Vapour Pub & Brewery\",\"TBC Sky Lounge\",\"Windmills Craftworks\",\"Brew and Barbeque - A Microbrewery Pub\"],\"y\":[4.9,4.65,4.75,4.5,4.3,4.2,4.2,4.7,4.6,4.65],\"yaxis\":\"y2\",\"type\":\"scatter\"},{\"line\":{\"color\":\"#ff7f0e\"},\"name\":\"rated\",\"visible\":false,\"x\":[\"Church Street Social\",\"Vapour Pub & Brewery\",\"High Ultra Lounge\",\"Koramangala Social\",\"Barleyz\",\"Brooks and Bonds Brewery\",\"Tim Tai\",\"Chutney Chang\",\"Meghana Foods\",\"ECHOES Koramangala\"],\"y\":[4.3,4.2,4.1,4.6,3.75,4.45,4.4,4.15,4.366666666666667,4.7],\"yaxis\":\"y2\",\"type\":\"scatter\"},{\"line\":{\"color\":\"#ff7f0e\"},\"name\":\"rated\",\"visible\":false,\"x\":[\"Byg Brewski Brewing Company\",\"Vidyarthi Bhavan\",\"CTR\",\"Ebony\",\"Veena Stores\",\"Brewklyn Microbrewery\",\"Koshy's\",\"Empire Restaurant\",\"Subz\",\"Red Rhino\"],\"y\":[4.9,4.4,4.75,4.3,4.5,4.4,3.8499999999999996,3.533333333333333,4.2,4.4],\"yaxis\":\"y2\",\"type\":\"scatter\"},{\"line\":{\"color\":\"#ff7f0e\"},\"name\":\"rated\",\"visible\":false,\"x\":[\"Dyu Art Cafe\",\"LOFT38\",\"Bundar\",\"The Humming Tree\",\"Fattoush\",\"Dice N Dine\",\"Maiyas\",\"Al Amanah Cafe\",\"The Ants Cafe & Store\",\"Peppa Zzing\"],\"y\":[4.5,4.3,4.1,4.05,4.2,4.3,4.0,4.4,3.9,4.3],\"yaxis\":\"y2\",\"type\":\"scatter\"}],                        {\"showlegend\":false,\"template\":{\"data\":{\"barpolar\":[{\"marker\":{\"line\":{\"color\":\"#E5ECF6\",\"width\":0.5},\"pattern\":{\"fillmode\":\"overlay\",\"size\":10,\"solidity\":0.2}},\"type\":\"barpolar\"}],\"bar\":[{\"error_x\":{\"color\":\"#2a3f5f\"},\"error_y\":{\"color\":\"#2a3f5f\"},\"marker\":{\"line\":{\"color\":\"#E5ECF6\",\"width\":0.5},\"pattern\":{\"fillmode\":\"overlay\",\"size\":10,\"solidity\":0.2}},\"type\":\"bar\"}],\"carpet\":[{\"aaxis\":{\"endlinecolor\":\"#2a3f5f\",\"gridcolor\":\"white\",\"linecolor\":\"white\",\"minorgridcolor\":\"white\",\"startlinecolor\":\"#2a3f5f\"},\"baxis\":{\"endlinecolor\":\"#2a3f5f\",\"gridcolor\":\"white\",\"linecolor\":\"white\",\"minorgridcolor\":\"white\",\"startlinecolor\":\"#2a3f5f\"},\"type\":\"carpet\"}],\"choropleth\":[{\"colorbar\":{\"outlinewidth\":0,\"ticks\":\"\"},\"type\":\"choropleth\"}],\"contourcarpet\":[{\"colorbar\":{\"outlinewidth\":0,\"ticks\":\"\"},\"type\":\"contourcarpet\"}],\"contour\":[{\"colorbar\":{\"outlinewidth\":0,\"ticks\":\"\"},\"colorscale\":[[0.0,\"#0d0887\"],[0.1111111111111111,\"#46039f\"],[0.2222222222222222,\"#7201a8\"],[0.3333333333333333,\"#9c179e\"],[0.4444444444444444,\"#bd3786\"],[0.5555555555555556,\"#d8576b\"],[0.6666666666666666,\"#ed7953\"],[0.7777777777777778,\"#fb9f3a\"],[0.8888888888888888,\"#fdca26\"],[1.0,\"#f0f921\"]],\"type\":\"contour\"}],\"heatmapgl\":[{\"colorbar\":{\"outlinewidth\":0,\"ticks\":\"\"},\"colorscale\":[[0.0,\"#0d0887\"],[0.1111111111111111,\"#46039f\"],[0.2222222222222222,\"#7201a8\"],[0.3333333333333333,\"#9c179e\"],[0.4444444444444444,\"#bd3786\"],[0.5555555555555556,\"#d8576b\"],[0.6666666666666666,\"#ed7953\"],[0.7777777777777778,\"#fb9f3a\"],[0.8888888888888888,\"#fdca26\"],[1.0,\"#f0f921\"]],\"type\":\"heatmapgl\"}],\"heatmap\":[{\"colorbar\":{\"outlinewidth\":0,\"ticks\":\"\"},\"colorscale\":[[0.0,\"#0d0887\"],[0.1111111111111111,\"#46039f\"],[0.2222222222222222,\"#7201a8\"],[0.3333333333333333,\"#9c179e\"],[0.4444444444444444,\"#bd3786\"],[0.5555555555555556,\"#d8576b\"],[0.6666666666666666,\"#ed7953\"],[0.7777777777777778,\"#fb9f3a\"],[0.8888888888888888,\"#fdca26\"],[1.0,\"#f0f921\"]],\"type\":\"heatmap\"}],\"histogram2dcontour\":[{\"colorbar\":{\"outlinewidth\":0,\"ticks\":\"\"},\"colorscale\":[[0.0,\"#0d0887\"],[0.1111111111111111,\"#46039f\"],[0.2222222222222222,\"#7201a8\"],[0.3333333333333333,\"#9c179e\"],[0.4444444444444444,\"#bd3786\"],[0.5555555555555556,\"#d8576b\"],[0.6666666666666666,\"#ed7953\"],[0.7777777777777778,\"#fb9f3a\"],[0.8888888888888888,\"#fdca26\"],[1.0,\"#f0f921\"]],\"type\":\"histogram2dcontour\"}],\"histogram2d\":[{\"colorbar\":{\"outlinewidth\":0,\"ticks\":\"\"},\"colorscale\":[[0.0,\"#0d0887\"],[0.1111111111111111,\"#46039f\"],[0.2222222222222222,\"#7201a8\"],[0.3333333333333333,\"#9c179e\"],[0.4444444444444444,\"#bd3786\"],[0.5555555555555556,\"#d8576b\"],[0.6666666666666666,\"#ed7953\"],[0.7777777777777778,\"#fb9f3a\"],[0.8888888888888888,\"#fdca26\"],[1.0,\"#f0f921\"]],\"type\":\"histogram2d\"}],\"histogram\":[{\"marker\":{\"pattern\":{\"fillmode\":\"overlay\",\"size\":10,\"solidity\":0.2}},\"type\":\"histogram\"}],\"mesh3d\":[{\"colorbar\":{\"outlinewidth\":0,\"ticks\":\"\"},\"type\":\"mesh3d\"}],\"parcoords\":[{\"line\":{\"colorbar\":{\"outlinewidth\":0,\"ticks\":\"\"}},\"type\":\"parcoords\"}],\"pie\":[{\"automargin\":true,\"type\":\"pie\"}],\"scatter3d\":[{\"line\":{\"colorbar\":{\"outlinewidth\":0,\"ticks\":\"\"}},\"marker\":{\"colorbar\":{\"outlinewidth\":0,\"ticks\":\"\"}},\"type\":\"scatter3d\"}],\"scattercarpet\":[{\"marker\":{\"colorbar\":{\"outlinewidth\":0,\"ticks\":\"\"}},\"type\":\"scattercarpet\"}],\"scattergeo\":[{\"marker\":{\"colorbar\":{\"outlinewidth\":0,\"ticks\":\"\"}},\"type\":\"scattergeo\"}],\"scattergl\":[{\"marker\":{\"colorbar\":{\"outlinewidth\":0,\"ticks\":\"\"}},\"type\":\"scattergl\"}],\"scattermapbox\":[{\"marker\":{\"colorbar\":{\"outlinewidth\":0,\"ticks\":\"\"}},\"type\":\"scattermapbox\"}],\"scatterpolargl\":[{\"marker\":{\"colorbar\":{\"outlinewidth\":0,\"ticks\":\"\"}},\"type\":\"scatterpolargl\"}],\"scatterpolar\":[{\"marker\":{\"colorbar\":{\"outlinewidth\":0,\"ticks\":\"\"}},\"type\":\"scatterpolar\"}],\"scatter\":[{\"fillpattern\":{\"fillmode\":\"overlay\",\"size\":10,\"solidity\":0.2},\"type\":\"scatter\"}],\"scatterternary\":[{\"marker\":{\"colorbar\":{\"outlinewidth\":0,\"ticks\":\"\"}},\"type\":\"scatterternary\"}],\"surface\":[{\"colorbar\":{\"outlinewidth\":0,\"ticks\":\"\"},\"colorscale\":[[0.0,\"#0d0887\"],[0.1111111111111111,\"#46039f\"],[0.2222222222222222,\"#7201a8\"],[0.3333333333333333,\"#9c179e\"],[0.4444444444444444,\"#bd3786\"],[0.5555555555555556,\"#d8576b\"],[0.6666666666666666,\"#ed7953\"],[0.7777777777777778,\"#fb9f3a\"],[0.8888888888888888,\"#fdca26\"],[1.0,\"#f0f921\"]],\"type\":\"surface\"}],\"table\":[{\"cells\":{\"fill\":{\"color\":\"#EBF0F8\"},\"line\":{\"color\":\"white\"}},\"header\":{\"fill\":{\"color\":\"#C8D4E3\"},\"line\":{\"color\":\"white\"}},\"type\":\"table\"}]},\"layout\":{\"annotationdefaults\":{\"arrowcolor\":\"#2a3f5f\",\"arrowhead\":0,\"arrowwidth\":1},\"autotypenumbers\":\"strict\",\"coloraxis\":{\"colorbar\":{\"outlinewidth\":0,\"ticks\":\"\"}},\"colorscale\":{\"diverging\":[[0,\"#8e0152\"],[0.1,\"#c51b7d\"],[0.2,\"#de77ae\"],[0.3,\"#f1b6da\"],[0.4,\"#fde0ef\"],[0.5,\"#f7f7f7\"],[0.6,\"#e6f5d0\"],[0.7,\"#b8e186\"],[0.8,\"#7fbc41\"],[0.9,\"#4d9221\"],[1,\"#276419\"]],\"sequential\":[[0.0,\"#0d0887\"],[0.1111111111111111,\"#46039f\"],[0.2222222222222222,\"#7201a8\"],[0.3333333333333333,\"#9c179e\"],[0.4444444444444444,\"#bd3786\"],[0.5555555555555556,\"#d8576b\"],[0.6666666666666666,\"#ed7953\"],[0.7777777777777778,\"#fb9f3a\"],[0.8888888888888888,\"#fdca26\"],[1.0,\"#f0f921\"]],\"sequentialminus\":[[0.0,\"#0d0887\"],[0.1111111111111111,\"#46039f\"],[0.2222222222222222,\"#7201a8\"],[0.3333333333333333,\"#9c179e\"],[0.4444444444444444,\"#bd3786\"],[0.5555555555555556,\"#d8576b\"],[0.6666666666666666,\"#ed7953\"],[0.7777777777777778,\"#fb9f3a\"],[0.8888888888888888,\"#fdca26\"],[1.0,\"#f0f921\"]]},\"colorway\":[\"#636efa\",\"#EF553B\",\"#00cc96\",\"#ab63fa\",\"#FFA15A\",\"#19d3f3\",\"#FF6692\",\"#B6E880\",\"#FF97FF\",\"#FECB52\"],\"font\":{\"color\":\"#2a3f5f\"},\"geo\":{\"bgcolor\":\"white\",\"lakecolor\":\"white\",\"landcolor\":\"#E5ECF6\",\"showlakes\":true,\"showland\":true,\"subunitcolor\":\"white\"},\"hoverlabel\":{\"align\":\"left\"},\"hovermode\":\"closest\",\"mapbox\":{\"style\":\"light\"},\"paper_bgcolor\":\"white\",\"plot_bgcolor\":\"#E5ECF6\",\"polar\":{\"angularaxis\":{\"gridcolor\":\"white\",\"linecolor\":\"white\",\"ticks\":\"\"},\"bgcolor\":\"#E5ECF6\",\"radialaxis\":{\"gridcolor\":\"white\",\"linecolor\":\"white\",\"ticks\":\"\"}},\"scene\":{\"xaxis\":{\"backgroundcolor\":\"#E5ECF6\",\"gridcolor\":\"white\",\"gridwidth\":2,\"linecolor\":\"white\",\"showbackground\":true,\"ticks\":\"\",\"zerolinecolor\":\"white\"},\"yaxis\":{\"backgroundcolor\":\"#E5ECF6\",\"gridcolor\":\"white\",\"gridwidth\":2,\"linecolor\":\"white\",\"showbackground\":true,\"ticks\":\"\",\"zerolinecolor\":\"white\"},\"zaxis\":{\"backgroundcolor\":\"#E5ECF6\",\"gridcolor\":\"white\",\"gridwidth\":2,\"linecolor\":\"white\",\"showbackground\":true,\"ticks\":\"\",\"zerolinecolor\":\"white\"}},\"shapedefaults\":{\"line\":{\"color\":\"#2a3f5f\"}},\"ternary\":{\"aaxis\":{\"gridcolor\":\"white\",\"linecolor\":\"white\",\"ticks\":\"\"},\"baxis\":{\"gridcolor\":\"white\",\"linecolor\":\"white\",\"ticks\":\"\"},\"bgcolor\":\"#E5ECF6\",\"caxis\":{\"gridcolor\":\"white\",\"linecolor\":\"white\",\"ticks\":\"\"}},\"title\":{\"x\":0.05},\"xaxis\":{\"automargin\":true,\"gridcolor\":\"white\",\"linecolor\":\"white\",\"ticks\":\"\",\"title\":{\"standoff\":15},\"zerolinecolor\":\"white\",\"zerolinewidth\":2},\"yaxis\":{\"automargin\":true,\"gridcolor\":\"white\",\"linecolor\":\"white\",\"ticks\":\"\",\"title\":{\"standoff\":15},\"zerolinecolor\":\"white\",\"zerolinewidth\":2}}},\"title\":{\"text\":\"<b>Top cuisine serving restaurants.</b>\"},\"updatemenus\":[{\"active\":0,\"buttons\":[{\"args\":[{\"visible\":[true,false,false,false,true,false,false,false]},{\"title\":\"North Indian\"}],\"label\":\"North Indian\",\"method\":\"update\"},{\"args\":[{\"visible\":[false,true,false,false,false,true,false,false]},{\"title\":\"Chinese\"}],\"label\":\"Chinese\",\"method\":\"update\"},{\"args\":[{\"visible\":[false,false,true,false,false,false,true,false]},{\"title\":\"South Indian\"}],\"label\":\"South Indian\",\"method\":\"update\"},{\"args\":[{\"visible\":[false,false,false,true,false,false,false,true]},{\"title\":\"Fast Food\"}],\"label\":\"Fast Food\",\"method\":\"update\"}]}],\"xaxis\":{\"title\":{\"text\":\"Restaurants\"}},\"yaxis\":{\"title\":{\"text\":\"Votes\"}},\"yaxis2\":{\"overlaying\":\"y\",\"side\":\"right\",\"title\":{\"text\":\"Ratings\"}}},                        {\"responsive\": true}                    ).then(function(){\n",
       "                            \n",
       "var gd = document.getElementById('6d701d62-37f5-48fd-9f3f-c26356b4ac11');\n",
       "var x = new MutationObserver(function (mutations, observer) {{\n",
       "        var display = window.getComputedStyle(gd).display;\n",
       "        if (!display || display === 'none') {{\n",
       "            console.log([gd, 'removed!']);\n",
       "            Plotly.purge(gd);\n",
       "            observer.disconnect();\n",
       "        }}\n",
       "}});\n",
       "\n",
       "// Listen for the removal of the full notebook cells\n",
       "var notebookContainer = gd.closest('#notebook-container');\n",
       "if (notebookContainer) {{\n",
       "    x.observe(notebookContainer, {childList: true});\n",
       "}}\n",
       "\n",
       "// Listen for the clearing of the current output cell\n",
       "var outputEl = gd.closest('.output');\n",
       "if (outputEl) {{\n",
       "    x.observe(outputEl, {childList: true});\n",
       "}}\n",
       "\n",
       "                        })                };                });            </script>        </div>"
      ]
     },
     "metadata": {},
     "output_type": "display_data"
    }
   ],
   "source": [
    "trace_north = go.Scatter(x=list(north_df['name']),\n",
    "                        y=list(north_df['votes']),\n",
    "                         name='votes',\n",
    "                        line=dict(color='#33CFA5'))\n",
    "\n",
    "trace_north_rate = go.Scatter(x=list(north_df['name']),\n",
    "                        y=list(north_df['ratings']),\n",
    "                        yaxis='y2',\n",
    "                        name='rated',\n",
    "                        line=dict(color='#ff7f0e'))\n",
    "\n",
    "trace_chinese = go.Scatter(x=list(chinese_df['name']),\n",
    "                            y=list(chinese_df['votes']),\n",
    "                           visible=False,\n",
    "                            name='votes',\n",
    "                            line=dict(color='#33CFA5'))\n",
    "\n",
    "trace_chinese_rate = go.Scatter(x=list(chinese_df['name']),\n",
    "                            y=list(chinese_df['ratings']),\n",
    "                            yaxis='y2',\n",
    "                           visible=False,\n",
    "                            name='rated',\n",
    "                            line=dict(color='#ff7f0e'))\n",
    "\n",
    "trace_south = go.Scatter(x=list(south_df['name']),\n",
    "                       y=list(south_df['votes']),\n",
    "                       name='votes',\n",
    "                         visible=False,\n",
    "                       line=dict(color='#33CFA5'))\n",
    "\n",
    "trace_south_rate = go.Scatter(x=list(south_df['name']),\n",
    "                       y=list(south_df['ratings']),\n",
    "                        yaxis='y2',\n",
    "                       name='rated',\n",
    "                         visible=False,\n",
    "                       line=dict(color='#ff7f0e'))\n",
    "\n",
    "trace_fast = go.Scatter(x=list(fast_df['name']),\n",
    "                           y=list(fast_df['votes']),\n",
    "                           name='votes',\n",
    "                        visible=False,\n",
    "                           line=dict(color='#33CFA5'))\n",
    "\n",
    "trace_fast_rate = go.Scatter(x=list(fast_df['name']),\n",
    "                           y=list(fast_df['ratings']),\n",
    "                            yaxis='y2',\n",
    "                           name='rated',\n",
    "                        visible=False,\n",
    "                           line=dict(color='#ff7f0e'))\n",
    "\n",
    "data = [trace_north, trace_chinese, trace_south, trace_fast, \n",
    "        trace_north_rate, trace_chinese_rate, trace_south_rate, trace_fast_rate]\n",
    "\n",
    "updatemenus = list([\n",
    "    dict(active=0,\n",
    "         buttons=list([   \n",
    "            dict(label = 'North Indian',\n",
    "                 method = 'update',\n",
    "                 args = [{'visible': [True, False, False, False, True, False, False, False]},\n",
    "                         {'title': 'North Indian'}]),\n",
    "            dict(label = 'Chinese',\n",
    "                 method = 'update',\n",
    "                 args = [{'visible': [False, True, False, False, False, True, False, False]},\n",
    "                         {'title': 'Chinese'}]),\n",
    "            dict(label = 'South Indian',\n",
    "                 method = 'update',\n",
    "                 args = [{'visible': [False, False, True, False, False, False, True, False]},\n",
    "                         {'title': 'South Indian'}]),\n",
    "            dict(label = 'Fast Food',\n",
    "                 method = 'update',\n",
    "                 args = [{'visible': [False, False, False, True, False, False, False, True]},\n",
    "                         {'title': 'Fast Food'}])\n",
    "        ]),\n",
    "    )\n",
    "])\n",
    "\n",
    "layout = dict(title='<b>Top cuisine serving restaurants.</b>', showlegend=False,\n",
    "              yaxis=dict(title='Votes'),\n",
    "              xaxis=dict(title='Restaurants'),\n",
    "              yaxis2=dict(title='Ratings',             \n",
    "                overlaying='y',\n",
    "                side='right'),\n",
    "              updatemenus=updatemenus)\n",
    "\n",
    "fig = dict(data=data, layout=layout)\n",
    "iplot(fig, filename='update_dropdown')"
   ]
  },
  {
   "cell_type": "code",
   "execution_count": null,
   "metadata": {},
   "outputs": [],
   "source": []
  }
 ],
 "metadata": {
  "colab": {
   "provenance": []
  },
  "kernelspec": {
   "display_name": "Python 3 (ipykernel)",
   "language": "python",
   "name": "python3"
  },
  "language_info": {
   "codemirror_mode": {
    "name": "ipython",
    "version": 3
   },
   "file_extension": ".py",
   "mimetype": "text/x-python",
   "name": "python",
   "nbconvert_exporter": "python",
   "pygments_lexer": "ipython3",
   "version": "3.11.4"
  }
 },
 "nbformat": 4,
 "nbformat_minor": 1
}
